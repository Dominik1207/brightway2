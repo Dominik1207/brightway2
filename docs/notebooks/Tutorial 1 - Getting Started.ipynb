{
 "metadata": {
  "name": "",
  "signature": "sha256:7f6080217f80f97b467a231bd376ae74a86de95938d674db066a574c9aeffa39"
 },
 "nbformat": 3,
 "nbformat_minor": 0,
 "worksheets": [
  {
   "cells": [
    {
     "cell_type": "markdown",
     "metadata": {},
     "source": [
      "# Tutorial 1 - Getting Started\n",
      "\n",
      "This is a tutorial for Brightway2, an open source framework for Life Cycle Assessment. This tutorial will cover the basics of setting the data directory, looking at LCI databases and LCIA methods, and importing some data. \n",
      "\n",
      "You will get the most from this tutorial as part of reading the [Brightway2 manual](https://brightway2.readthedocs.org/en/latest/).\n",
      "\n",
      "At the end of this tutorial, you will be able to:\n",
      "\n",
      "* Define your data directory\n",
      "* Import basic data like the biosphere database\n",
      "* Import databases in ecospold v1 XML format\n",
      "\n",
      "If you finish the tutorial, you get a kitten.\n",
      "\n",
      "You should **download this notebook** and run it cell by cell - don't just read it on the web!"
     ]
    },
    {
     "cell_type": "markdown",
     "metadata": {},
     "source": [
      "## Brightway 2 tutorials\n",
      "\n",
      "Please read the tutorials in order, as they build upon each other.\n",
      "\n",
      "* [1 - Getting Started](http://nbviewer.ipython.org/url/brightwaylca.org/tutorials/Tutorial 1 - Getting Started.ipynb)\n",
      "* [2 - Working with data](http://nbviewer.ipython.org/url/brightwaylca.org/tutorials/Tutorial 2 - Working with data.ipynb)\n",
      "* [2a - Using bw2simple to make life easier](http://nbviewer.ipython.org/url/brightwaylca.org/tutorials/Tutorial 2a - Using bw2simple to make life easier.ipynb)\n",
      "* [3 - Basic LCA Calculations](http://nbviewer.ipython.org/url/brightwaylca.org/tutorials/Tutorial%201%20-%20Getting%20Started.ipynb)\n",
      "* [4 - Meta-analysis](http://nbviewer.ipython.org/url/brightwaylca.org/tutorials/Tutorial 4 - Meta-analysis.ipynb)\n",
      "* [5 - Defining A New Matrix](http://nbviewer.ipython.org/url/brightwaylca.org/tutorials/Tutorial%205%20-%20Defining%20A%20New%20Matrix.ipynb)"
     ]
    },
    {
     "cell_type": "markdown",
     "metadata": {},
     "source": [
      "## IPython Notebook\n",
      "\n",
      "This tutorial is written in an IPython Notebook, an online scientific notebook which combines, text, data, images, and programming. It is amazing, and could be a fantastic way to do and communicate advanced LCA work. See the [documentation](http://ipython.org/ipython-doc/dev/interactive/htmlnotebook.html) and a list of [awesome examples](https://github.com/ipython/ipython/wiki/A-gallery-of-interesting-IPython-Notebooks)."
     ]
    },
    {
     "cell_type": "markdown",
     "metadata": {},
     "source": [
      "## Setting the data directory\n",
      "\n",
      "If you use start ``bw2-web`` from the command line, you can do everything in this section - \"Setting the data directory\" - within the web interface.\n",
      "\n",
      "If this is your first time running Brightway2, you will probably get an error that \"your changes will not be saved!\". At first, Brightway2 doesn't know where to save data, and so it creates a temporary directory that will be deleted. Let's create a directory, and tell Brightway2 where it is:"
     ]
    },
    {
     "cell_type": "code",
     "collapsed": false,
     "input": [
      "BRIGHTWAY2_DIR = \"/Users/cmutel/Projects/Brightway2/tutorials/bw2\""
     ],
     "language": "python",
     "metadata": {},
     "outputs": [],
     "prompt_number": 1
    },
    {
     "cell_type": "markdown",
     "metadata": {},
     "source": [
      "This directory should already exist, but we check just to make sure:"
     ]
    },
    {
     "cell_type": "code",
     "collapsed": false,
     "input": [
      "import os\n",
      "assert os.path.exists(BRIGHTWAY2_DIR), \"Oh noes!\""
     ],
     "language": "python",
     "metadata": {},
     "outputs": [],
     "prompt_number": 2
    },
    {
     "cell_type": "markdown",
     "metadata": {},
     "source": [
      "We now set the location of our data directory. This can be done in a number of different ways (through the web UI, using ``bw2-controller``), but as we are in the python shell we can set the data directory using ``set_data_dir``. The default behaviour of ``set_data_dir`` will create a file in your home directory that will tell Brightway2 where to find your data directory in the future. Because I have many  different projects, each with their own data directory, I will pass ``permanent=False``, meaning the data directory is only set for this notebook while it is active."
     ]
    },
    {
     "cell_type": "code",
     "collapsed": false,
     "input": [
      "from brightway2 import *\n",
      "set_data_dir(BRIGHTWAY2_DIR, permanent=False)"
     ],
     "language": "python",
     "metadata": {},
     "outputs": [],
     "prompt_number": 3
    },
    {
     "cell_type": "code",
     "collapsed": false,
     "input": [
      "print \"The basic data directory is ready for use:\", os.listdir(config.dir)"
     ],
     "language": "python",
     "metadata": {},
     "outputs": [
      {
       "output_type": "stream",
       "stream": "stdout",
       "text": [
        "The basic data directory is ready for use: ['backups', 'databases.json', 'downloads', 'export', 'geomapping.pickle', 'intermediate', 'logs', 'mapping.pickle', 'methods.json', 'normalizations.json', 'preferences.json', 'processed', 'us-lci', 'us-lci-container', 'weightings.json']\n"
       ]
      }
     ],
     "prompt_number": 4
    },
    {
     "cell_type": "markdown",
     "metadata": {},
     "source": [
      "Preferences (`config.p`) are used for things like the default number of Monte Carlo iterations, or what we want to call the biosphere database (the default is `biosphere` - LCA really is for the creative types!)"
     ]
    },
    {
     "cell_type": "code",
     "collapsed": false,
     "input": [
      "config.load_preferences()\n",
      "config.p"
     ],
     "language": "python",
     "metadata": {},
     "outputs": [
      {
       "metadata": {},
       "output_type": "pyout",
       "prompt_number": 5,
       "text": [
        "{u'updates': {u'0.10 units restandardization': True,\n",
        "  u'0.12 reprocess IA databases': True,\n",
        "  u'0.12 reprocess inventory databases': True,\n",
        "  u'0.14 update biosphere hashes': True,\n",
        "  u'0.16 decode inventory databases': True,\n",
        "  u'1.0 reprocess all objects': True},\n",
        " u'use_cache': True}"
       ]
      }
     ],
     "prompt_number": 5
    },
    {
     "cell_type": "markdown",
     "metadata": {},
     "source": [
      "``updates`` isn't really a user preference, just a list of the updates that have already been applied. Because you have a fresh installation, all updates are already applied.\n",
      "\n",
      "``use_cache`` means that LCI databases will only be loaded once into memory, and from then on the in-memory cache will be used.\n",
      "\n",
      "## Getting basic data\n",
      "\n",
      "Next, let's download copies of the biosphere database - the list of elementary flows - and a lot of LCIA methods.\n",
      "\n",
      "You should have read already about the [idea of databases in Brightway2](https://brightway2.readthedocs.org/en/latest/lci.html)."
     ]
    },
    {
     "cell_type": "code",
     "collapsed": false,
     "input": [
      "print \"Downloading some data...\"\n",
      "bw2setup()"
     ],
     "language": "python",
     "metadata": {},
     "outputs": [
      {
       "output_type": "stream",
       "stream": "stdout",
       "text": [
        "Downloading some data...\n"
       ]
      }
     ],
     "prompt_number": 6
    },
    {
     "cell_type": "markdown",
     "metadata": {},
     "source": [
      "The iPython notebook by default prints all logged messages. On your machine, there might be messages track how long it took to download and process the biosphere and methods packages.\n",
      "\n",
      "## A biosphere dataset\n",
      "\n",
      "The biosphere database is installed:"
     ]
    },
    {
     "cell_type": "code",
     "collapsed": false,
     "input": [
      "print \"Installed databases:\", databases.list\n",
      "print \"Biosphere metadata:\", databases[\"biosphere\"]\n",
      "biosphere = Database(\"biosphere\")\n",
      "random_flow = biosphere.random()\n",
      "print \"A random 'key':\", random_flow"
     ],
     "language": "python",
     "metadata": {},
     "outputs": [
      {
       "output_type": "stream",
       "stream": "stdout",
       "text": [
        "Installed databases: [u'biosphere']\n",
        "Biosphere metadata: {u'filename': u'biosphere.57b2c55dba95bfa2b6ba74418898df60.50', 'depends': [], u'version': 55, u'from format': [u'Handmade', -1], u'number': 5449}\n",
        "A random 'key': (u'biosphere', u'3b823bbef8bff7617be28e90592a0c56')\n"
       ]
      }
     ],
     "prompt_number": 7
    },
    {
     "cell_type": "markdown",
     "metadata": {},
     "source": [
      "OK, so what is going on here? First, we have one database installed: `biosphere`. In Brightway2, the biosphere flows, also called environmental interventions, or emissions and resources, are by default in a database called `biosphere`. This can be changed, of course - Brighway2 is all about flexibility - but you would need to make sure that the other inventory databases link correctly to the new name.\n",
      "\n",
      "Next, there is biosphere metadata, which will look something like this:\n",
      "\n",
      "\n",
      "    {\n",
      "        'depends': [], \n",
      "        'number': 3913, \n",
      "        'version': 2, \n",
      "        'format': [u'Handmade', -1],\n",
      "        'filename': 'biosphere.57b2c55dba95bfa2b6ba74418898df60.50'\n",
      "    }\n",
      "\n",
      "This metadata is stored in `databases`. `depends` list the other databases that `biosphere` would link to, and is empty, as biosphere flows don't have any inputs themselves. `number` is just the number of flows present, `version` is a primitive versioning system - this number is incremented each time new data is written. `filename` is the name of the file where the data is written. Finally `format` is a dsecription of what format the data was in when it was imported - in this case, it was built by hand.\n",
      "\n",
      "The only required key here is `depends`, as this is needed to load all the relevant data when making calculations.\n",
      "\n",
      "The method `Database.random()` loads a random key. In Python, dictionaries are a data structures with keys and values, e.g.:"
     ]
    },
    {
     "cell_type": "code",
     "collapsed": false,
     "input": [
      "my_dict = {\"a\": 1, \"b\": 2}\n",
      "my_dict[\"a\"]"
     ],
     "language": "python",
     "metadata": {},
     "outputs": [
      {
       "metadata": {},
       "output_type": "pyout",
       "prompt_number": 8,
       "text": [
        "1"
       ]
      }
     ],
     "prompt_number": 8
    },
    {
     "cell_type": "code",
     "collapsed": false,
     "input": [
      "\"b\" in my_dict"
     ],
     "language": "python",
     "metadata": {},
     "outputs": [
      {
       "metadata": {},
       "output_type": "pyout",
       "prompt_number": 9,
       "text": [
        "True"
       ]
      }
     ],
     "prompt_number": 9
    },
    {
     "cell_type": "markdown",
     "metadata": {},
     "source": [
      "Brightway2 uses keys to identify datasets. Each dataset is identified by a combination of its database and some unique code. The code can be anything - a number, a UUID, or just a name. All of the following would be valid keys:\n",
      "\n",
      "    (\"biosphere\", \"f66d00944691d54d6b072310b6f9de37\")\n",
      "    (\"my new database\", \"building my dream house\")\n",
      "    (\"skynet\", 14832)"
     ]
    },
    {
     "cell_type": "markdown",
     "metadata": {},
     "source": [
      "Now, let's look at the data stored for our random key. We have to manually load the data, as this takes a bit of time, so is not done automatically."
     ]
    },
    {
     "cell_type": "code",
     "collapsed": false,
     "input": [
      "biosphere.load()[random_flow]"
     ],
     "language": "python",
     "metadata": {},
     "outputs": [
      {
       "metadata": {},
       "output_type": "pyout",
       "prompt_number": 10,
       "text": [
        "{u'categories': [u'soil', u'agricultural'],\n",
        " u'code': 4002,\n",
        " u'exchanges': [],\n",
        " u'name': u'Dichlobenil',\n",
        " u'type': u'emission',\n",
        " u'unit': u'kilogram'}"
       ]
      }
     ],
     "prompt_number": 10
    },
    {
     "cell_type": "markdown",
     "metadata": {},
     "source": [
      "The specifics of the [Database data format](https://brightway2.readthedocs.org/en/latest/lci.html#lci-datasets-are-documents) are covered in the manual.\n",
      "\n",
      "Data is another Python dictionary. There are no `exchanges`, as elementary flows by definition don't have any inputs.\n",
      "\n",
      "## An LCIA method dataset\n",
      "\n",
      "We just downloaded a large number of LCIA methods installed:"
     ]
    },
    {
     "cell_type": "code",
     "collapsed": false,
     "input": [
      "len(methods)"
     ],
     "language": "python",
     "metadata": {},
     "outputs": [
      {
       "metadata": {},
       "output_type": "pyout",
       "prompt_number": 11,
       "text": [
        "677"
       ]
      }
     ],
     "prompt_number": 11
    },
    {
     "cell_type": "markdown",
     "metadata": {},
     "source": [
      "Because LCIA methods have many different impact categories, they are identified by a special kind of list called a `tuple`. Let's look at an example:"
     ]
    },
    {
     "cell_type": "code",
     "collapsed": false,
     "input": [
      "method_key = methods.random()\n",
      "method_key"
     ],
     "language": "python",
     "metadata": {},
     "outputs": [
      {
       "metadata": {},
       "output_type": "pyout",
       "prompt_number": 12,
       "text": [
        "(u'EDIP2003 w/o LT', u'ecotoxicity w/o LT', u'chronic, in water w/o LT')"
       ]
      }
     ],
     "prompt_number": 12
    },
    {
     "cell_type": "markdown",
     "metadata": {},
     "source": [
      "In this case, the LCIA method has three levels of specificity, from the general name (first level) to the specific impact category (last level). There is nothing magic about three levels - you could have one, or one thousand - but Brightway2 expects these nested LCIA method identifiers.\n",
      "\n",
      "A `tuple` is a special kind of list that uses `()` instead of `[]`, and can be used as keys in dictionaries (see [more on the difference](http://lmgtfy.com/?q=python+lists+versus+tuples)). To create a tuple with only one element, you need to add a comma, to distinguish it from a set of parentheses:"
     ]
    },
    {
     "cell_type": "code",
     "collapsed": false,
     "input": [
      "print (1 + 2)\n",
      "print (1,), type((1,))"
     ],
     "language": "python",
     "metadata": {},
     "outputs": [
      {
       "output_type": "stream",
       "stream": "stdout",
       "text": [
        "3\n",
        "(1,) <type 'tuple'>\n"
       ]
      }
     ],
     "prompt_number": 13
    },
    {
     "cell_type": "markdown",
     "metadata": {},
     "source": [
      "We can load the method data, which is just a list of characterization factors, and show some:"
     ]
    },
    {
     "cell_type": "code",
     "collapsed": false,
     "input": [
      "method_data = Method(method_key).load()\n",
      "print \"Number of CFs:\", len(method_data)\n",
      "method_data[:20]"
     ],
     "language": "python",
     "metadata": {},
     "outputs": [
      {
       "output_type": "stream",
       "stream": "stdout",
       "text": [
        "Number of CFs: 478\n"
       ]
      },
      {
       "metadata": {},
       "output_type": "pyout",
       "prompt_number": 14,
       "text": [
        "[[(u'biosphere', u'cb9d45068d73136f124ccec077400dd8'), 13.793, u'GLO'],\n",
        " [(u'biosphere', u'6ef8a10f97b7deb14f99d7441da871b2'), 13.793, u'GLO'],\n",
        " [(u'biosphere', u'9f5eaef27fbd7e56f1326c15c47cf0a4'), 13.793, u'GLO'],\n",
        " [(u'biosphere', u'172388ab74ccfbe913b796bc8b5c4bd9'), 13.793, u'GLO'],\n",
        " [(u'biosphere', u'd99f68dc24466d743cb365b7cea20bca'), 50.633, u'GLO'],\n",
        " [(u'biosphere', u'0db3cc36a9a1b331bce25b58982be4a4'), 50.633, u'GLO'],\n",
        " [(u'biosphere', u'9d6ff6b9e46b3234393d3f22c2e22e63'), 50.633, u'GLO'],\n",
        " [(u'biosphere', u'8ea85c7197007a3233ff15955cbea050'), 50.633, u'GLO'],\n",
        " [(u'biosphere', u'9a17342d354c08fccb1797c07c63756e'), 80, u'GLO'],\n",
        " [(u'biosphere', u'072276520b1de1054aff938dbf587291'), 80, u'GLO'],\n",
        " [(u'biosphere', u'184cb2883ed124a02d5a3603810dbea5'), 80, u'GLO'],\n",
        " [(u'biosphere', u'c31309836cb53c6c087372ddb14777ce'), 80, u'GLO'],\n",
        " [(u'biosphere', u'8a6bbdb2aaf2406dda11a511c6a38e1f'), 1212.1, u'GLO'],\n",
        " [(u'biosphere', u'2fe885840cebfcc7d56b607b0acd9359'), 1212.1, u'GLO'],\n",
        " [(u'biosphere', u'f7ed998b8e4e278b1f0028fb2db34617'), 1212.1, u'GLO'],\n",
        " [(u'biosphere', u'63a6601019b59985f5fe6590644d0577'), 1212.1, u'GLO'],\n",
        " [(u'biosphere', u'2da74c678c07735f7b6b0007aa4a7eca'), 29412, u'GLO'],\n",
        " [(u'biosphere', u'3f36d3703ebc05ea9ec5449f1853c4b7'), 29412, u'GLO'],\n",
        " [(u'biosphere', u'a6c0e21f00d8dafd4098dc2ced6c398e'), 29412, u'GLO'],\n",
        " [(u'biosphere', u'714a45b775f81e3c6f7690f9a24a20b1'), 29412, u'GLO']]"
       ]
      }
     ],
     "prompt_number": 14
    },
    {
     "cell_type": "markdown",
     "metadata": {},
     "source": [
      "The specifics of the [Method data format](https://brightway2.readthedocs.org/en/latest/ia.html#lcia-method-documents) are covered in the `bw2data` documentation, but the basic idea is a key for a biosphere flow, a numeric characterization factor, and a location. Actually, the method data format is pretty flexible, and the following are all acceptable:\n",
      "\n",
      "    [('biosphere', 'CO2'), 1.0],\n",
      "    [('biosphere', 'CO2'), 1.0, 'Australia, mate!'],\n",
      "    [('biosphere', 'CO2'), {'amount': 1.0, 'uncertainty type': 0}]\n",
      "   \n",
      "In other words, the location code is optional, and characterization factors can be specified as either static values or uncertainty dictionaries.\n",
      "\n",
      "If you are wondering why we need to identify biosphere flows like `('biosphere', '2fe885840cebfcc7d56b607b0acd9359')`, this is a good question! The short answer is that there is no single field that uniquely identifies biosphere flows or activities. The longer answer [is in the manual](http://brightway2.readthedocs.org/en/latest/lci.html#uniquely-identifying-datasets).\n",
      "\n",
      "## Importing LCI databases\n",
      "\n",
      "We will use the US LCI database in these tutorials, as it is freely available. Unfortunately, it can't be downloaded directly - you first have to register on the [LCA commons website](https://www.lcacommons.gov/nrel/). After registering, download all the files as shown before (you might have to check your mail to get the download link, and check even if you get a webpage error). You should also be able to download all the files by [clicking this link](https://www.lcacommons.gov/nrel/xml/download/archive/xml)."
     ]
    },
    {
     "cell_type": "code",
     "collapsed": false,
     "input": [
      "from IPython.display import Image\n",
      "Image(filename=\"us-lci-download.png\")"
     ],
     "language": "python",
     "metadata": {},
     "outputs": [
      {
       "metadata": {},
       "output_type": "pyout",
       "png": "[encoded data removed]",
       "prompt_number": 15,
       "text": [
        "<IPython.core.display.Image at 0x110c3a9d0>"
       ]
      }
     ],
     "prompt_number": 15
    },
    {
     "cell_type": "markdown",
     "metadata": {},
     "source": [
      "Next, change the following line and type in the absolute filepath to your downloaded file:"
     ]
    },
    {
     "cell_type": "code",
     "collapsed": false,
     "input": [
      "US_LCI_FILEPATH = \"/Users/cmutel/Downloads/NREL_USLCI_XML.zip\"\n",
      "assert os.path.exists(US_LCI_FILEPATH)"
     ],
     "language": "python",
     "metadata": {},
     "outputs": [],
     "prompt_number": 16
    },
    {
     "cell_type": "markdown",
     "metadata": {},
     "source": [
      "Extract the nested zip file:"
     ]
    },
    {
     "cell_type": "code",
     "collapsed": false,
     "input": [
      "import zipfile\n",
      "\n",
      "container_dir = config.request_dir(\"us-lci-container\")\n",
      "zipfile.ZipFile(US_LCI_FILEPATH).extractall(container_dir)\n",
      "\n",
      "# This might change at some point...\n",
      "SUBFILE = \"EcospoldXML_2011.10.25.zip\"\n",
      "\n",
      "if not SUBFILE in os.listdir(container_dir):\n",
      "    print \"Looked for file 'EcospoldXML_2011.10.25.zip' in US LCI download, but couldn't find it. Found these instead:\"\n",
      "    for filename in os.listdir(container_dir):\n",
      "        print filename\n",
      "    print \"You might need to change 'SUBFILE'\"\n",
      "    raise OSError(\"File not found\")\n",
      "else:\n",
      "    SUBFILE_PATH = os.path.join(container_dir, SUBFILE)\n",
      "    xml_dir = config.request_dir(\"us-lci\")\n",
      "    zipfile.ZipFile(SUBFILE_PATH).extractall(xml_dir)\n",
      "    print \"Extracted {} datasets\".format(len(os.listdir(xml_dir)))"
     ],
     "language": "python",
     "metadata": {},
     "outputs": [
      {
       "output_type": "stream",
       "stream": "stdout",
       "text": [
        "Extracted 593 datasets\n"
       ]
      }
     ],
     "prompt_number": 17
    },
    {
     "cell_type": "markdown",
     "metadata": {},
     "source": [
      "We now use the Ecospold 1 importer to import these files into a new \"US LCI\" database.\n",
      "\n",
      "We need to use some extra data to get the import to work cleanly - that is what the remapping is for. The US LCI database does annoying things like referring to `corn, decomposition` in some places, and `decomposition, corn` in others.\n",
      "\n",
      "This should produce a cool progressbar effect :)"
     ]
    },
    {
     "cell_type": "code",
     "collapsed": false,
     "input": [
      "from bw2data.io import Ecospold1Importer\n",
      "from bw2data.io.remapping import US_LCI\n",
      "\n",
      "Ecospold1Importer().importer(xml_dir, \"US LCI\", remapping=US_LCI)\n",
      "print \"US LCI\" in databases"
     ],
     "language": "python",
     "metadata": {},
     "outputs": [
      {
       "javascript": [
        "//3791e701-3528-4f46-ab43-4235cb7a6cdf\n",
        "$(\"head\").append(\"<style> td.pb_widget {     width: auto; } td.pb_widget_fill {     width: 100%; } table.pb {     font-family: monospace;     border: 0;     margin: 0; } table.pb tr { border: 0; } table.pb td {     white-space: nowrap;     border: 0; } div.pb {     border: 1px solid #ddd;     border-radius: 3px; } div.pb_bar {     height: 1.5em; } </style>\")"
       ],
       "metadata": {},
       "output_type": "display_data",
       "text": [
        "<IPython.core.display.Javascript at 0x110f399d0>"
       ]
      },
      {
       "javascript": [
        "\n",
        "                  // 3791e701-3528-4f46-ab43-4235cb7a6cdf -- used to remove this code blob in the end\n",
        "                  IPython.OutputArea.prototype.cleanProgressBar = function(uuids) {\n",
        "                      // filter by uuid-strings \n",
        "                      var myfilter = function(output) { \n",
        "                          var nuids = uuids.length;\n",
        "                          for (var i=0; i<nuids; i++) {\n",
        "                              if (output.hasOwnProperty('html')) {\n",
        "                                  if (output.html.indexOf(uuids[i]) != -1) {\n",
        "                                      return false;\n",
        "                                  }\n",
        "                              }\n",
        "                              if (output.hasOwnProperty('javascript')) {\n",
        "                                  if (output.javascript.indexOf(uuids[i]) != -1) {\n",
        "                                      return false;\n",
        "                                  }\n",
        "                              }\n",
        "                          }\n",
        "                          // keep all others\n",
        "                          return true;\n",
        "                      };\n",
        "\n",
        "                      // Filter the ouputs\n",
        "                      this.outputs = this.outputs.filter(myfilter);\n",
        "                };\n",
        "                "
       ],
       "metadata": {},
       "output_type": "display_data",
       "text": [
        "<IPython.core.display.Javascript at 0x110c3af50>"
       ]
      },
      {
       "html": [
        "<div class=\"pb\" id=\"3791e701-3528-4f46-ab43-4235cb7a6cdf\"><table class=\"pb ui-widget\"><tr>\n",
        "<td class=\"pb_widget\"><div id=\"9d37b887-fb70-4dc8-8e5c-1e76ab18de6d\">0/593</div></td>\n",
        "<td class=\"pb_widget\"> (</td>\n",
        "<td class=\"pb_widget\"><div id=\"ab5e3c02-b905-475b-a430-31b97942181f\">  0%</div></td>\n",
        "<td class=\"pb_widget\">) </td>\n",
        "<td class=\"pb_widget_fill\">\n",
        "        <div class=\"pb_bar\" id=\"603dd5d6-0527-48ce-991c-b87add1ee92f\"></div>\n",
        "        <script type=\"text/javascript\">\n",
        "            $(\"div#603dd5d6-0527-48ce-991c-b87add1ee92f\").progressbar({value: 0, max: 593});\n",
        "        </script>\n",
        "        </td>\n",
        "<td class=\"pb_widget\"> </td>\n",
        "<td class=\"pb_widget\"><div id=\"cd03291e-3af7-4959-b151-add232c9b082\">ETA:  --:--:--</div></td>\n",
        "</tr></table><div>"
       ],
       "metadata": {},
       "output_type": "display_data",
       "text": [
        "<IPython.core.display.HTML at 0x109c46a10>"
       ]
      },
      {
       "javascript": [
        "$('div#9d37b887-fb70-4dc8-8e5c-1e76ab18de6d').text('6/593');"
       ],
       "metadata": {},
       "output_type": "display_data",
       "text": [
        "<IPython.core.display.Javascript at 0x1115f7650>"
       ]
      },
      {
       "javascript": [
        "$('div#ab5e3c02-b905-475b-a430-31b97942181f').text('  1%');"
       ],
       "metadata": {},
       "output_type": "display_data",
       "text": [
        "<IPython.core.display.Javascript at 0x1115f7790>"
       ]
      },
      {
       "javascript": [
        "\n",
        "        var $myPB = $(\"div#603dd5d6-0527-48ce-991c-b87add1ee92f\")\n",
        "        if ($myPB.hasClass('ui-progressbar')) {\n",
        "            $myPB.progressbar('value', 6);\n",
        "        } else {\n",
        "            $myPB.progressbar({value: 0, max: 593});\n",
        "        }\n",
        "        "
       ],
       "metadata": {},
       "output_type": "display_data",
       "text": [
        "<IPython.core.display.Javascript at 0x1115f7810>"
       ]
      },
      {
       "javascript": [
        "$('div#cd03291e-3af7-4959-b151-add232c9b082').text('ETA:  0:00:24');"
       ],
       "metadata": {},
       "output_type": "display_data",
       "text": [
        "<IPython.core.display.Javascript at 0x1115f7950>"
       ]
      },
      {
       "javascript": [
        "$('div#9d37b887-fb70-4dc8-8e5c-1e76ab18de6d').text('12/593');"
       ],
       "metadata": {},
       "output_type": "display_data",
       "text": [
        "<IPython.core.display.Javascript at 0x111365290>"
       ]
      },
      {
       "javascript": [
        "$('div#ab5e3c02-b905-475b-a430-31b97942181f').text('  2%');"
       ],
       "metadata": {},
       "output_type": "display_data",
       "text": [
        "<IPython.core.display.Javascript at 0x111365310>"
       ]
      },
      {
       "javascript": [
        "\n",
        "        var $myPB = $(\"div#603dd5d6-0527-48ce-991c-b87add1ee92f\")\n",
        "        if ($myPB.hasClass('ui-progressbar')) {\n",
        "            $myPB.progressbar('value', 12);\n",
        "        } else {\n",
        "            $myPB.progressbar({value: 0, max: 593});\n",
        "        }\n",
        "        "
       ],
       "metadata": {},
       "output_type": "display_data",
       "text": [
        "<IPython.core.display.Javascript at 0x111365390>"
       ]
      },
      {
       "javascript": [
        "$('div#cd03291e-3af7-4959-b151-add232c9b082').text('ETA:  0:00:12');"
       ],
       "metadata": {},
       "output_type": "display_data",
       "text": [
        "<IPython.core.display.Javascript at 0x111365550>"
       ]
      },
      {
       "javascript": [
        "$('div#9d37b887-fb70-4dc8-8e5c-1e76ab18de6d').text('18/593');"
       ],
       "metadata": {},
       "output_type": "display_data",
       "text": [
        "<IPython.core.display.Javascript at 0x112ac0ad0>"
       ]
      },
      {
       "javascript": [
        "$('div#ab5e3c02-b905-475b-a430-31b97942181f').text('  3%');"
       ],
       "metadata": {},
       "output_type": "display_data",
       "text": [
        "<IPython.core.display.Javascript at 0x112ac0b50>"
       ]
      },
      {
       "javascript": [
        "\n",
        "        var $myPB = $(\"div#603dd5d6-0527-48ce-991c-b87add1ee92f\")\n",
        "        if ($myPB.hasClass('ui-progressbar')) {\n",
        "            $myPB.progressbar('value', 18);\n",
        "        } else {\n",
        "            $myPB.progressbar({value: 0, max: 593});\n",
        "        }\n",
        "        "
       ],
       "metadata": {},
       "output_type": "display_data",
       "text": [
        "<IPython.core.display.Javascript at 0x112ac0b90>"
       ]
      },
      {
       "javascript": [
        "$('div#cd03291e-3af7-4959-b151-add232c9b082').text('ETA:  0:00:08');"
       ],
       "metadata": {},
       "output_type": "display_data",
       "text": [
        "<IPython.core.display.Javascript at 0x112ac0d90>"
       ]
      },
      {
       "javascript": [
        "$('div#9d37b887-fb70-4dc8-8e5c-1e76ab18de6d').text('24/593');"
       ],
       "metadata": {},
       "output_type": "display_data",
       "text": [
        "<IPython.core.display.Javascript at 0x115e320d0>"
       ]
      },
      {
       "javascript": [
        "$('div#ab5e3c02-b905-475b-a430-31b97942181f').text('  4%');"
       ],
       "metadata": {},
       "output_type": "display_data",
       "text": [
        "<IPython.core.display.Javascript at 0x115e32150>"
       ]
      },
      {
       "javascript": [
        "\n",
        "        var $myPB = $(\"div#603dd5d6-0527-48ce-991c-b87add1ee92f\")\n",
        "        if ($myPB.hasClass('ui-progressbar')) {\n",
        "            $myPB.progressbar('value', 24);\n",
        "        } else {\n",
        "            $myPB.progressbar({value: 0, max: 593});\n",
        "        }\n",
        "        "
       ],
       "metadata": {},
       "output_type": "display_data",
       "text": [
        "<IPython.core.display.Javascript at 0x115e32190>"
       ]
      },
      {
       "javascript": [
        "$('div#cd03291e-3af7-4959-b151-add232c9b082').text('ETA:  0:00:07');"
       ],
       "metadata": {},
       "output_type": "display_data",
       "text": [
        "<IPython.core.display.Javascript at 0x115e322d0>"
       ]
      },
      {
       "javascript": [
        "$('div#9d37b887-fb70-4dc8-8e5c-1e76ab18de6d').text('30/593');"
       ],
       "metadata": {},
       "output_type": "display_data",
       "text": [
        "<IPython.core.display.Javascript at 0x115e36c10>"
       ]
      },
      {
       "javascript": [
        "$('div#ab5e3c02-b905-475b-a430-31b97942181f').text('  5%');"
       ],
       "metadata": {},
       "output_type": "display_data",
       "text": [
        "<IPython.core.display.Javascript at 0x115e36c90>"
       ]
      },
      {
       "javascript": [
        "\n",
        "        var $myPB = $(\"div#603dd5d6-0527-48ce-991c-b87add1ee92f\")\n",
        "        if ($myPB.hasClass('ui-progressbar')) {\n",
        "            $myPB.progressbar('value', 30);\n",
        "        } else {\n",
        "            $myPB.progressbar({value: 0, max: 593});\n",
        "        }\n",
        "        "
       ],
       "metadata": {},
       "output_type": "display_data",
       "text": [
        "<IPython.core.display.Javascript at 0x115e36cd0>"
       ]
      },
      {
       "javascript": [
        "$('div#cd03291e-3af7-4959-b151-add232c9b082').text('ETA:  0:00:05');"
       ],
       "metadata": {},
       "output_type": "display_data",
       "text": [
        "<IPython.core.display.Javascript at 0x115e36e10>"
       ]
      },
      {
       "javascript": [
        "$('div#9d37b887-fb70-4dc8-8e5c-1e76ab18de6d').text('36/593');"
       ],
       "metadata": {},
       "output_type": "display_data",
       "text": [
        "<IPython.core.display.Javascript at 0x115dfb990>"
       ]
      },
      {
       "javascript": [
        "$('div#ab5e3c02-b905-475b-a430-31b97942181f').text('  6%');"
       ],
       "metadata": {},
       "output_type": "display_data",
       "text": [
        "<IPython.core.display.Javascript at 0x115dfb9d0>"
       ]
      },
      {
       "javascript": [
        "\n",
        "        var $myPB = $(\"div#603dd5d6-0527-48ce-991c-b87add1ee92f\")\n",
        "        if ($myPB.hasClass('ui-progressbar')) {\n",
        "            $myPB.progressbar('value', 36);\n",
        "        } else {\n",
        "            $myPB.progressbar({value: 0, max: 593});\n",
        "        }\n",
        "        "
       ],
       "metadata": {},
       "output_type": "display_data",
       "text": [
        "<IPython.core.display.Javascript at 0x115dfba10>"
       ]
      },
      {
       "javascript": [
        "$('div#cd03291e-3af7-4959-b151-add232c9b082').text('ETA:  0:00:05');"
       ],
       "metadata": {},
       "output_type": "display_data",
       "text": [
        "<IPython.core.display.Javascript at 0x115dfbb10>"
       ]
      },
      {
       "javascript": [
        "$('div#9d37b887-fb70-4dc8-8e5c-1e76ab18de6d').text('42/593');"
       ],
       "metadata": {},
       "output_type": "display_data",
       "text": [
        "<IPython.core.display.Javascript at 0x10e515a10>"
       ]
      },
      {
       "javascript": [
        "$('div#ab5e3c02-b905-475b-a430-31b97942181f').text('  7%');"
       ],
       "metadata": {},
       "output_type": "display_data",
       "text": [
        "<IPython.core.display.Javascript at 0x10e515a10>"
       ]
      },
      {
       "javascript": [
        "\n",
        "        var $myPB = $(\"div#603dd5d6-0527-48ce-991c-b87add1ee92f\")\n",
        "        if ($myPB.hasClass('ui-progressbar')) {\n",
        "            $myPB.progressbar('value', 42);\n",
        "        } else {\n",
        "            $myPB.progressbar({value: 0, max: 593});\n",
        "        }\n",
        "        "
       ],
       "metadata": {},
       "output_type": "display_data",
       "text": [
        "<IPython.core.display.Javascript at 0x10e515a90>"
       ]
      },
      {
       "javascript": [
        "$('div#cd03291e-3af7-4959-b151-add232c9b082').text('ETA:  0:00:04');"
       ],
       "metadata": {},
       "output_type": "display_data",
       "text": [
        "<IPython.core.display.Javascript at 0x10e515ad0>"
       ]
      },
      {
       "javascript": [
        "$('div#9d37b887-fb70-4dc8-8e5c-1e76ab18de6d').text('48/593');"
       ],
       "metadata": {},
       "output_type": "display_data",
       "text": [
        "<IPython.core.display.Javascript at 0x10e50f050>"
       ]
      },
      {
       "javascript": [
        "$('div#ab5e3c02-b905-475b-a430-31b97942181f').text('  8%');"
       ],
       "metadata": {},
       "output_type": "display_data",
       "text": [
        "<IPython.core.display.Javascript at 0x10e50f090>"
       ]
      },
      {
       "javascript": [
        "\n",
        "        var $myPB = $(\"div#603dd5d6-0527-48ce-991c-b87add1ee92f\")\n",
        "        if ($myPB.hasClass('ui-progressbar')) {\n",
        "            $myPB.progressbar('value', 48);\n",
        "        } else {\n",
        "            $myPB.progressbar({value: 0, max: 593});\n",
        "        }\n",
        "        "
       ],
       "metadata": {},
       "output_type": "display_data",
       "text": [
        "<IPython.core.display.Javascript at 0x10e50f0d0>"
       ]
      },
      {
       "javascript": [
        "$('div#cd03291e-3af7-4959-b151-add232c9b082').text('ETA:  0:00:04');"
       ],
       "metadata": {},
       "output_type": "display_data",
       "text": [
        "<IPython.core.display.Javascript at 0x10e50f210>"
       ]
      },
      {
       "javascript": [
        "$('div#9d37b887-fb70-4dc8-8e5c-1e76ab18de6d').text('54/593');"
       ],
       "metadata": {},
       "output_type": "display_data",
       "text": [
        "<IPython.core.display.Javascript at 0x10e500510>"
       ]
      },
      {
       "javascript": [
        "$('div#ab5e3c02-b905-475b-a430-31b97942181f').text('  9%');"
       ],
       "metadata": {},
       "output_type": "display_data",
       "text": [
        "<IPython.core.display.Javascript at 0x10e500590>"
       ]
      },
      {
       "javascript": [
        "\n",
        "        var $myPB = $(\"div#603dd5d6-0527-48ce-991c-b87add1ee92f\")\n",
        "        if ($myPB.hasClass('ui-progressbar')) {\n",
        "            $myPB.progressbar('value', 54);\n",
        "        } else {\n",
        "            $myPB.progressbar({value: 0, max: 593});\n",
        "        }\n",
        "        "
       ],
       "metadata": {},
       "output_type": "display_data",
       "text": [
        "<IPython.core.display.Javascript at 0x10e5005d0>"
       ]
      },
      {
       "javascript": [
        "$('div#cd03291e-3af7-4959-b151-add232c9b082').text('ETA:  0:00:03');"
       ],
       "metadata": {},
       "output_type": "display_data",
       "text": [
        "<IPython.core.display.Javascript at 0x10e500710>"
       ]
      },
      {
       "javascript": [
        "$('div#9d37b887-fb70-4dc8-8e5c-1e76ab18de6d').text('60/593');"
       ],
       "metadata": {},
       "output_type": "display_data",
       "text": [
        "<IPython.core.display.Javascript at 0x10e4fc090>"
       ]
      },
      {
       "javascript": [
        "$('div#ab5e3c02-b905-475b-a430-31b97942181f').text(' 10%');"
       ],
       "metadata": {},
       "output_type": "display_data",
       "text": [
        "<IPython.core.display.Javascript at 0x10e4fc0d0>"
       ]
      },
      {
       "javascript": [
        "\n",
        "        var $myPB = $(\"div#603dd5d6-0527-48ce-991c-b87add1ee92f\")\n",
        "        if ($myPB.hasClass('ui-progressbar')) {\n",
        "            $myPB.progressbar('value', 60);\n",
        "        } else {\n",
        "            $myPB.progressbar({value: 0, max: 593});\n",
        "        }\n",
        "        "
       ],
       "metadata": {},
       "output_type": "display_data",
       "text": [
        "<IPython.core.display.Javascript at 0x10e4fc110>"
       ]
      },
      {
       "javascript": [
        "$('div#cd03291e-3af7-4959-b151-add232c9b082').text('ETA:  0:00:03');"
       ],
       "metadata": {},
       "output_type": "display_data",
       "text": [
        "<IPython.core.display.Javascript at 0x10e4fc210>"
       ]
      },
      {
       "javascript": [
        "$('div#9d37b887-fb70-4dc8-8e5c-1e76ab18de6d').text('66/593');"
       ],
       "metadata": {},
       "output_type": "display_data",
       "text": [
        "<IPython.core.display.Javascript at 0x10e4fc110>"
       ]
      },
      {
       "javascript": [
        "$('div#ab5e3c02-b905-475b-a430-31b97942181f').text(' 11%');"
       ],
       "metadata": {},
       "output_type": "display_data",
       "text": [
        "<IPython.core.display.Javascript at 0x10e4fc090>"
       ]
      },
      {
       "javascript": [
        "\n",
        "        var $myPB = $(\"div#603dd5d6-0527-48ce-991c-b87add1ee92f\")\n",
        "        if ($myPB.hasClass('ui-progressbar')) {\n",
        "            $myPB.progressbar('value', 66);\n",
        "        } else {\n",
        "            $myPB.progressbar({value: 0, max: 593});\n",
        "        }\n",
        "        "
       ],
       "metadata": {},
       "output_type": "display_data",
       "text": [
        "<IPython.core.display.Javascript at 0x10e500710>"
       ]
      },
      {
       "javascript": [
        "$('div#cd03291e-3af7-4959-b151-add232c9b082').text('ETA:  0:00:03');"
       ],
       "metadata": {},
       "output_type": "display_data",
       "text": [
        "<IPython.core.display.Javascript at 0x10e4f9490>"
       ]
      },
      {
       "javascript": [
        "$('div#9d37b887-fb70-4dc8-8e5c-1e76ab18de6d').text('72/593');"
       ],
       "metadata": {},
       "output_type": "display_data",
       "text": [
        "<IPython.core.display.Javascript at 0x10e4f6110>"
       ]
      },
      {
       "javascript": [
        "$('div#ab5e3c02-b905-475b-a430-31b97942181f').text(' 12%');"
       ],
       "metadata": {},
       "output_type": "display_data",
       "text": [
        "<IPython.core.display.Javascript at 0x10e4f6150>"
       ]
      },
      {
       "javascript": [
        "\n",
        "        var $myPB = $(\"div#603dd5d6-0527-48ce-991c-b87add1ee92f\")\n",
        "        if ($myPB.hasClass('ui-progressbar')) {\n",
        "            $myPB.progressbar('value', 72);\n",
        "        } else {\n",
        "            $myPB.progressbar({value: 0, max: 593});\n",
        "        }\n",
        "        "
       ],
       "metadata": {},
       "output_type": "display_data",
       "text": [
        "<IPython.core.display.Javascript at 0x10e4f6190>"
       ]
      },
      {
       "javascript": [
        "$('div#cd03291e-3af7-4959-b151-add232c9b082').text('ETA:  0:00:03');"
       ],
       "metadata": {},
       "output_type": "display_data",
       "text": [
        "<IPython.core.display.Javascript at 0x10e4f6290>"
       ]
      },
      {
       "javascript": [
        "$('div#9d37b887-fb70-4dc8-8e5c-1e76ab18de6d').text('78/593');"
       ],
       "metadata": {},
       "output_type": "display_data",
       "text": [
        "<IPython.core.display.Javascript at 0x10e4f63d0>"
       ]
      },
      {
       "javascript": [
        "$('div#ab5e3c02-b905-475b-a430-31b97942181f').text(' 13%');"
       ],
       "metadata": {},
       "output_type": "display_data",
       "text": [
        "<IPython.core.display.Javascript at 0x10e4f62d0>"
       ]
      },
      {
       "javascript": [
        "\n",
        "        var $myPB = $(\"div#603dd5d6-0527-48ce-991c-b87add1ee92f\")\n",
        "        if ($myPB.hasClass('ui-progressbar')) {\n",
        "            $myPB.progressbar('value', 78);\n",
        "        } else {\n",
        "            $myPB.progressbar({value: 0, max: 593});\n",
        "        }\n",
        "        "
       ],
       "metadata": {},
       "output_type": "display_data",
       "text": [
        "<IPython.core.display.Javascript at 0x10e4f6410>"
       ]
      },
      {
       "javascript": [
        "$('div#cd03291e-3af7-4959-b151-add232c9b082').text('ETA:  0:00:02');"
       ],
       "metadata": {},
       "output_type": "display_data",
       "text": [
        "<IPython.core.display.Javascript at 0x10e4f6450>"
       ]
      },
      {
       "javascript": [
        "$('div#9d37b887-fb70-4dc8-8e5c-1e76ab18de6d').text('84/593');"
       ],
       "metadata": {},
       "output_type": "display_data",
       "text": [
        "<IPython.core.display.Javascript at 0x10e500710>"
       ]
      },
      {
       "javascript": [
        "$('div#ab5e3c02-b905-475b-a430-31b97942181f').text(' 14%');"
       ],
       "metadata": {},
       "output_type": "display_data",
       "text": [
        "<IPython.core.display.Javascript at 0x10e4fc090>"
       ]
      },
      {
       "javascript": [
        "\n",
        "        var $myPB = $(\"div#603dd5d6-0527-48ce-991c-b87add1ee92f\")\n",
        "        if ($myPB.hasClass('ui-progressbar')) {\n",
        "            $myPB.progressbar('value', 84);\n",
        "        } else {\n",
        "            $myPB.progressbar({value: 0, max: 593});\n",
        "        }\n",
        "        "
       ],
       "metadata": {},
       "output_type": "display_data",
       "text": [
        "<IPython.core.display.Javascript at 0x10e4fc110>"
       ]
      },
      {
       "javascript": [
        "$('div#cd03291e-3af7-4959-b151-add232c9b082').text('ETA:  0:00:02');"
       ],
       "metadata": {},
       "output_type": "display_data",
       "text": [
        "<IPython.core.display.Javascript at 0x10e4f6450>"
       ]
      },
      {
       "javascript": [
        "$('div#9d37b887-fb70-4dc8-8e5c-1e76ab18de6d').text('90/593');"
       ],
       "metadata": {},
       "output_type": "display_data",
       "text": [
        "<IPython.core.display.Javascript at 0x10e4f63d0>"
       ]
      },
      {
       "javascript": [
        "$('div#ab5e3c02-b905-475b-a430-31b97942181f').text(' 15%');"
       ],
       "metadata": {},
       "output_type": "display_data",
       "text": [
        "<IPython.core.display.Javascript at 0x10e4f6290>"
       ]
      },
      {
       "javascript": [
        "\n",
        "        var $myPB = $(\"div#603dd5d6-0527-48ce-991c-b87add1ee92f\")\n",
        "        if ($myPB.hasClass('ui-progressbar')) {\n",
        "            $myPB.progressbar('value', 90);\n",
        "        } else {\n",
        "            $myPB.progressbar({value: 0, max: 593});\n",
        "        }\n",
        "        "
       ],
       "metadata": {},
       "output_type": "display_data",
       "text": [
        "<IPython.core.display.Javascript at 0x10e4f6190>"
       ]
      },
      {
       "javascript": [
        "$('div#cd03291e-3af7-4959-b151-add232c9b082').text('ETA:  0:00:02');"
       ],
       "metadata": {},
       "output_type": "display_data",
       "text": [
        "<IPython.core.display.Javascript at 0x10e4f6410>"
       ]
      },
      {
       "javascript": [
        "$('div#9d37b887-fb70-4dc8-8e5c-1e76ab18de6d').text('96/593');"
       ],
       "metadata": {},
       "output_type": "display_data",
       "text": [
        "<IPython.core.display.Javascript at 0x10e4f6510>"
       ]
      },
      {
       "javascript": [
        "$('div#ab5e3c02-b905-475b-a430-31b97942181f').text(' 16%');"
       ],
       "metadata": {},
       "output_type": "display_data",
       "text": [
        "<IPython.core.display.Javascript at 0x10e4f6150>"
       ]
      },
      {
       "javascript": [
        "\n",
        "        var $myPB = $(\"div#603dd5d6-0527-48ce-991c-b87add1ee92f\")\n",
        "        if ($myPB.hasClass('ui-progressbar')) {\n",
        "            $myPB.progressbar('value', 96);\n",
        "        } else {\n",
        "            $myPB.progressbar({value: 0, max: 593});\n",
        "        }\n",
        "        "
       ],
       "metadata": {},
       "output_type": "display_data",
       "text": [
        "<IPython.core.display.Javascript at 0x10e4f6550>"
       ]
      },
      {
       "javascript": [
        "$('div#cd03291e-3af7-4959-b151-add232c9b082').text('ETA:  0:00:02');"
       ],
       "metadata": {},
       "output_type": "display_data",
       "text": [
        "<IPython.core.display.Javascript at 0x10e4fc110>"
       ]
      },
      {
       "javascript": [
        "$('div#9d37b887-fb70-4dc8-8e5c-1e76ab18de6d').text('102/593');"
       ],
       "metadata": {},
       "output_type": "display_data",
       "text": [
        "<IPython.core.display.Javascript at 0x10e500710>"
       ]
      },
      {
       "javascript": [
        "$('div#ab5e3c02-b905-475b-a430-31b97942181f').text(' 17%');"
       ],
       "metadata": {},
       "output_type": "display_data",
       "text": [
        "<IPython.core.display.Javascript at 0x10e4f64d0>"
       ]
      },
      {
       "javascript": [
        "\n",
        "        var $myPB = $(\"div#603dd5d6-0527-48ce-991c-b87add1ee92f\")\n",
        "        if ($myPB.hasClass('ui-progressbar')) {\n",
        "            $myPB.progressbar('value', 102);\n",
        "        } else {\n",
        "            $myPB.progressbar({value: 0, max: 593});\n",
        "        }\n",
        "        "
       ],
       "metadata": {},
       "output_type": "display_data",
       "text": [
        "<IPython.core.display.Javascript at 0x10e4f6550>"
       ]
      },
      {
       "javascript": [
        "$('div#cd03291e-3af7-4959-b151-add232c9b082').text('ETA:  0:00:02');"
       ],
       "metadata": {},
       "output_type": "display_data",
       "text": [
        "<IPython.core.display.Javascript at 0x10e4f65d0>"
       ]
      },
      {
       "javascript": [
        "$('div#9d37b887-fb70-4dc8-8e5c-1e76ab18de6d').text('108/593');"
       ],
       "metadata": {},
       "output_type": "display_data",
       "text": [
        "<IPython.core.display.Javascript at 0x10e4f6710>"
       ]
      },
      {
       "javascript": [
        "$('div#ab5e3c02-b905-475b-a430-31b97942181f').text(' 18%');"
       ],
       "metadata": {},
       "output_type": "display_data",
       "text": [
        "<IPython.core.display.Javascript at 0x10e4f6150>"
       ]
      },
      {
       "javascript": [
        "\n",
        "        var $myPB = $(\"div#603dd5d6-0527-48ce-991c-b87add1ee92f\")\n",
        "        if ($myPB.hasClass('ui-progressbar')) {\n",
        "            $myPB.progressbar('value', 108);\n",
        "        } else {\n",
        "            $myPB.progressbar({value: 0, max: 593});\n",
        "        }\n",
        "        "
       ],
       "metadata": {},
       "output_type": "display_data",
       "text": [
        "<IPython.core.display.Javascript at 0x10e4f6510>"
       ]
      },
      {
       "javascript": [
        "$('div#cd03291e-3af7-4959-b151-add232c9b082').text('ETA:  0:00:02');"
       ],
       "metadata": {},
       "output_type": "display_data",
       "text": [
        "<IPython.core.display.Javascript at 0x10e4f6410>"
       ]
      },
      {
       "javascript": [
        "$('div#9d37b887-fb70-4dc8-8e5c-1e76ab18de6d').text('114/593');"
       ],
       "metadata": {},
       "output_type": "display_data",
       "text": [
        "<IPython.core.display.Javascript at 0x11089fa10>"
       ]
      },
      {
       "javascript": [
        "$('div#ab5e3c02-b905-475b-a430-31b97942181f').text(' 19%');"
       ],
       "metadata": {},
       "output_type": "display_data",
       "text": [
        "<IPython.core.display.Javascript at 0x11089fa90>"
       ]
      },
      {
       "javascript": [
        "\n",
        "        var $myPB = $(\"div#603dd5d6-0527-48ce-991c-b87add1ee92f\")\n",
        "        if ($myPB.hasClass('ui-progressbar')) {\n",
        "            $myPB.progressbar('value', 114);\n",
        "        } else {\n",
        "            $myPB.progressbar({value: 0, max: 593});\n",
        "        }\n",
        "        "
       ],
       "metadata": {},
       "output_type": "display_data",
       "text": [
        "<IPython.core.display.Javascript at 0x11089fad0>"
       ]
      },
      {
       "javascript": [
        "$('div#cd03291e-3af7-4959-b151-add232c9b082').text('ETA:  0:00:02');"
       ],
       "metadata": {},
       "output_type": "display_data",
       "text": [
        "<IPython.core.display.Javascript at 0x11089fc10>"
       ]
      },
      {
       "javascript": [
        "$('div#9d37b887-fb70-4dc8-8e5c-1e76ab18de6d').text('120/593');"
       ],
       "metadata": {},
       "output_type": "display_data",
       "text": [
        "<IPython.core.display.Javascript at 0x11143a6d0>"
       ]
      },
      {
       "javascript": [
        "$('div#ab5e3c02-b905-475b-a430-31b97942181f').text(' 20%');"
       ],
       "metadata": {},
       "output_type": "display_data",
       "text": [
        "<IPython.core.display.Javascript at 0x11143a750>"
       ]
      },
      {
       "javascript": [
        "\n",
        "        var $myPB = $(\"div#603dd5d6-0527-48ce-991c-b87add1ee92f\")\n",
        "        if ($myPB.hasClass('ui-progressbar')) {\n",
        "            $myPB.progressbar('value', 120);\n",
        "        } else {\n",
        "            $myPB.progressbar({value: 0, max: 593});\n",
        "        }\n",
        "        "
       ],
       "metadata": {},
       "output_type": "display_data",
       "text": [
        "<IPython.core.display.Javascript at 0x11143a790>"
       ]
      },
      {
       "javascript": [
        "$('div#cd03291e-3af7-4959-b151-add232c9b082').text('ETA:  0:00:02');"
       ],
       "metadata": {},
       "output_type": "display_data",
       "text": [
        "<IPython.core.display.Javascript at 0x11143a8d0>"
       ]
      },
      {
       "javascript": [
        "$('div#9d37b887-fb70-4dc8-8e5c-1e76ab18de6d').text('126/593');"
       ],
       "metadata": {},
       "output_type": "display_data",
       "text": [
        "<IPython.core.display.Javascript at 0x11144ce10>"
       ]
      },
      {
       "javascript": [
        "$('div#ab5e3c02-b905-475b-a430-31b97942181f').text(' 21%');"
       ],
       "metadata": {},
       "output_type": "display_data",
       "text": [
        "<IPython.core.display.Javascript at 0x11144ce90>"
       ]
      },
      {
       "javascript": [
        "\n",
        "        var $myPB = $(\"div#603dd5d6-0527-48ce-991c-b87add1ee92f\")\n",
        "        if ($myPB.hasClass('ui-progressbar')) {\n",
        "            $myPB.progressbar('value', 126);\n",
        "        } else {\n",
        "            $myPB.progressbar({value: 0, max: 593});\n",
        "        }\n",
        "        "
       ],
       "metadata": {},
       "output_type": "display_data",
       "text": [
        "<IPython.core.display.Javascript at 0x11144ced0>"
       ]
      },
      {
       "javascript": [
        "$('div#cd03291e-3af7-4959-b151-add232c9b082').text('ETA:  0:00:02');"
       ],
       "metadata": {},
       "output_type": "display_data",
       "text": [
        "<IPython.core.display.Javascript at 0x11144d050>"
       ]
      },
      {
       "javascript": [
        "$('div#9d37b887-fb70-4dc8-8e5c-1e76ab18de6d').text('132/593');"
       ],
       "metadata": {},
       "output_type": "display_data",
       "text": [
        "<IPython.core.display.Javascript at 0x11145a990>"
       ]
      },
      {
       "javascript": [
        "$('div#ab5e3c02-b905-475b-a430-31b97942181f').text(' 22%');"
       ],
       "metadata": {},
       "output_type": "display_data",
       "text": [
        "<IPython.core.display.Javascript at 0x11145a9d0>"
       ]
      },
      {
       "javascript": [
        "\n",
        "        var $myPB = $(\"div#603dd5d6-0527-48ce-991c-b87add1ee92f\")\n",
        "        if ($myPB.hasClass('ui-progressbar')) {\n",
        "            $myPB.progressbar('value', 132);\n",
        "        } else {\n",
        "            $myPB.progressbar({value: 0, max: 593});\n",
        "        }\n",
        "        "
       ],
       "metadata": {},
       "output_type": "display_data",
       "text": [
        "<IPython.core.display.Javascript at 0x11145aa10>"
       ]
      },
      {
       "javascript": [
        "$('div#cd03291e-3af7-4959-b151-add232c9b082').text('ETA:  0:00:02');"
       ],
       "metadata": {},
       "output_type": "display_data",
       "text": [
        "<IPython.core.display.Javascript at 0x11145ab10>"
       ]
      },
      {
       "javascript": [
        "$('div#9d37b887-fb70-4dc8-8e5c-1e76ab18de6d').text('138/593');"
       ],
       "metadata": {},
       "output_type": "display_data",
       "text": [
        "<IPython.core.display.Javascript at 0x11146f150>"
       ]
      },
      {
       "javascript": [
        "$('div#ab5e3c02-b905-475b-a430-31b97942181f').text(' 23%');"
       ],
       "metadata": {},
       "output_type": "display_data",
       "text": [
        "<IPython.core.display.Javascript at 0x11146f150>"
       ]
      },
      {
       "javascript": [
        "\n",
        "        var $myPB = $(\"div#603dd5d6-0527-48ce-991c-b87add1ee92f\")\n",
        "        if ($myPB.hasClass('ui-progressbar')) {\n",
        "            $myPB.progressbar('value', 138);\n",
        "        } else {\n",
        "            $myPB.progressbar({value: 0, max: 593});\n",
        "        }\n",
        "        "
       ],
       "metadata": {},
       "output_type": "display_data",
       "text": [
        "<IPython.core.display.Javascript at 0x11146f1d0>"
       ]
      },
      {
       "javascript": [
        "$('div#cd03291e-3af7-4959-b151-add232c9b082').text('ETA:  0:00:01');"
       ],
       "metadata": {},
       "output_type": "display_data",
       "text": [
        "<IPython.core.display.Javascript at 0x11146f210>"
       ]
      },
      {
       "javascript": [
        "$('div#9d37b887-fb70-4dc8-8e5c-1e76ab18de6d').text('144/593');"
       ],
       "metadata": {},
       "output_type": "display_data",
       "text": [
        "<IPython.core.display.Javascript at 0x11387de10>"
       ]
      },
      {
       "javascript": [
        "$('div#ab5e3c02-b905-475b-a430-31b97942181f').text(' 24%');"
       ],
       "metadata": {},
       "output_type": "display_data",
       "text": [
        "<IPython.core.display.Javascript at 0x11387de90>"
       ]
      },
      {
       "javascript": [
        "\n",
        "        var $myPB = $(\"div#603dd5d6-0527-48ce-991c-b87add1ee92f\")\n",
        "        if ($myPB.hasClass('ui-progressbar')) {\n",
        "            $myPB.progressbar('value', 144);\n",
        "        } else {\n",
        "            $myPB.progressbar({value: 0, max: 593});\n",
        "        }\n",
        "        "
       ],
       "metadata": {},
       "output_type": "display_data",
       "text": [
        "<IPython.core.display.Javascript at 0x11387ded0>"
       ]
      },
      {
       "javascript": [
        "$('div#cd03291e-3af7-4959-b151-add232c9b082').text('ETA:  0:00:01');"
       ],
       "metadata": {},
       "output_type": "display_data",
       "text": [
        "<IPython.core.display.Javascript at 0x11387f050>"
       ]
      },
      {
       "javascript": [
        "$('div#9d37b887-fb70-4dc8-8e5c-1e76ab18de6d').text('150/593');"
       ],
       "metadata": {},
       "output_type": "display_data",
       "text": [
        "<IPython.core.display.Javascript at 0x11388d750>"
       ]
      },
      {
       "javascript": [
        "$('div#ab5e3c02-b905-475b-a430-31b97942181f').text(' 25%');"
       ],
       "metadata": {},
       "output_type": "display_data",
       "text": [
        "<IPython.core.display.Javascript at 0x11388d7d0>"
       ]
      },
      {
       "javascript": [
        "\n",
        "        var $myPB = $(\"div#603dd5d6-0527-48ce-991c-b87add1ee92f\")\n",
        "        if ($myPB.hasClass('ui-progressbar')) {\n",
        "            $myPB.progressbar('value', 150);\n",
        "        } else {\n",
        "            $myPB.progressbar({value: 0, max: 593});\n",
        "        }\n",
        "        "
       ],
       "metadata": {},
       "output_type": "display_data",
       "text": [
        "<IPython.core.display.Javascript at 0x11388d810>"
       ]
      },
      {
       "javascript": [
        "$('div#cd03291e-3af7-4959-b151-add232c9b082').text('ETA:  0:00:01');"
       ],
       "metadata": {},
       "output_type": "display_data",
       "text": [
        "<IPython.core.display.Javascript at 0x11388d950>"
       ]
      },
      {
       "javascript": [
        "$('div#9d37b887-fb70-4dc8-8e5c-1e76ab18de6d').text('156/593');"
       ],
       "metadata": {},
       "output_type": "display_data",
       "text": [
        "<IPython.core.display.Javascript at 0x11389df10>"
       ]
      },
      {
       "javascript": [
        "$('div#ab5e3c02-b905-475b-a430-31b97942181f').text(' 26%');"
       ],
       "metadata": {},
       "output_type": "display_data",
       "text": [
        "<IPython.core.display.Javascript at 0x11389df90>"
       ]
      },
      {
       "javascript": [
        "\n",
        "        var $myPB = $(\"div#603dd5d6-0527-48ce-991c-b87add1ee92f\")\n",
        "        if ($myPB.hasClass('ui-progressbar')) {\n",
        "            $myPB.progressbar('value', 156);\n",
        "        } else {\n",
        "            $myPB.progressbar({value: 0, max: 593});\n",
        "        }\n",
        "        "
       ],
       "metadata": {},
       "output_type": "display_data",
       "text": [
        "<IPython.core.display.Javascript at 0x11389dfd0>"
       ]
      },
      {
       "javascript": [
        "$('div#cd03291e-3af7-4959-b151-add232c9b082').text('ETA:  0:00:01');"
       ],
       "metadata": {},
       "output_type": "display_data",
       "text": [
        "<IPython.core.display.Javascript at 0x1138a0150>"
       ]
      },
      {
       "javascript": [
        "$('div#9d37b887-fb70-4dc8-8e5c-1e76ab18de6d').text('162/593');"
       ],
       "metadata": {},
       "output_type": "display_data",
       "text": [
        "<IPython.core.display.Javascript at 0x1138ac390>"
       ]
      },
      {
       "javascript": [
        "$('div#ab5e3c02-b905-475b-a430-31b97942181f').text(' 27%');"
       ],
       "metadata": {},
       "output_type": "display_data",
       "text": [
        "<IPython.core.display.Javascript at 0x1138ac410>"
       ]
      },
      {
       "javascript": [
        "\n",
        "        var $myPB = $(\"div#603dd5d6-0527-48ce-991c-b87add1ee92f\")\n",
        "        if ($myPB.hasClass('ui-progressbar')) {\n",
        "            $myPB.progressbar('value', 162);\n",
        "        } else {\n",
        "            $myPB.progressbar({value: 0, max: 593});\n",
        "        }\n",
        "        "
       ],
       "metadata": {},
       "output_type": "display_data",
       "text": [
        "<IPython.core.display.Javascript at 0x1138ac450>"
       ]
      },
      {
       "javascript": [
        "$('div#cd03291e-3af7-4959-b151-add232c9b082').text('ETA:  0:00:01');"
       ],
       "metadata": {},
       "output_type": "display_data",
       "text": [
        "<IPython.core.display.Javascript at 0x1138ac590>"
       ]
      },
      {
       "javascript": [
        "$('div#9d37b887-fb70-4dc8-8e5c-1e76ab18de6d').text('168/593');"
       ],
       "metadata": {},
       "output_type": "display_data",
       "text": [
        "<IPython.core.display.Javascript at 0x1138b1a90>"
       ]
      },
      {
       "javascript": [
        "$('div#ab5e3c02-b905-475b-a430-31b97942181f').text(' 28%');"
       ],
       "metadata": {},
       "output_type": "display_data",
       "text": [
        "<IPython.core.display.Javascript at 0x1138b1b10>"
       ]
      },
      {
       "javascript": [
        "\n",
        "        var $myPB = $(\"div#603dd5d6-0527-48ce-991c-b87add1ee92f\")\n",
        "        if ($myPB.hasClass('ui-progressbar')) {\n",
        "            $myPB.progressbar('value', 168);\n",
        "        } else {\n",
        "            $myPB.progressbar({value: 0, max: 593});\n",
        "        }\n",
        "        "
       ],
       "metadata": {},
       "output_type": "display_data",
       "text": [
        "<IPython.core.display.Javascript at 0x1138b1b50>"
       ]
      },
      {
       "javascript": [
        "$('div#cd03291e-3af7-4959-b151-add232c9b082').text('ETA:  0:00:01');"
       ],
       "metadata": {},
       "output_type": "display_data",
       "text": [
        "<IPython.core.display.Javascript at 0x1138b1c90>"
       ]
      },
      {
       "javascript": [
        "$('div#9d37b887-fb70-4dc8-8e5c-1e76ab18de6d').text('174/593');"
       ],
       "metadata": {},
       "output_type": "display_data",
       "text": [
        "<IPython.core.display.Javascript at 0x110cb7150>"
       ]
      },
      {
       "javascript": [
        "$('div#ab5e3c02-b905-475b-a430-31b97942181f').text(' 29%');"
       ],
       "metadata": {},
       "output_type": "display_data",
       "text": [
        "<IPython.core.display.Javascript at 0x110cb71d0>"
       ]
      },
      {
       "javascript": [
        "\n",
        "        var $myPB = $(\"div#603dd5d6-0527-48ce-991c-b87add1ee92f\")\n",
        "        if ($myPB.hasClass('ui-progressbar')) {\n",
        "            $myPB.progressbar('value', 174);\n",
        "        } else {\n",
        "            $myPB.progressbar({value: 0, max: 593});\n",
        "        }\n",
        "        "
       ],
       "metadata": {},
       "output_type": "display_data",
       "text": [
        "<IPython.core.display.Javascript at 0x110cb7210>"
       ]
      },
      {
       "javascript": [
        "$('div#cd03291e-3af7-4959-b151-add232c9b082').text('ETA:  0:00:01');"
       ],
       "metadata": {},
       "output_type": "display_data",
       "text": [
        "<IPython.core.display.Javascript at 0x110cb7350>"
       ]
      },
      {
       "javascript": [
        "$('div#9d37b887-fb70-4dc8-8e5c-1e76ab18de6d').text('180/593');"
       ],
       "metadata": {},
       "output_type": "display_data",
       "text": [
        "<IPython.core.display.Javascript at 0x110cca590>"
       ]
      },
      {
       "javascript": [
        "$('div#ab5e3c02-b905-475b-a430-31b97942181f').text(' 30%');"
       ],
       "metadata": {},
       "output_type": "display_data",
       "text": [
        "<IPython.core.display.Javascript at 0x110cca610>"
       ]
      },
      {
       "javascript": [
        "\n",
        "        var $myPB = $(\"div#603dd5d6-0527-48ce-991c-b87add1ee92f\")\n",
        "        if ($myPB.hasClass('ui-progressbar')) {\n",
        "            $myPB.progressbar('value', 180);\n",
        "        } else {\n",
        "            $myPB.progressbar({value: 0, max: 593});\n",
        "        }\n",
        "        "
       ],
       "metadata": {},
       "output_type": "display_data",
       "text": [
        "<IPython.core.display.Javascript at 0x110cca650>"
       ]
      },
      {
       "javascript": [
        "$('div#cd03291e-3af7-4959-b151-add232c9b082').text('ETA:  0:00:01');"
       ],
       "metadata": {},
       "output_type": "display_data",
       "text": [
        "<IPython.core.display.Javascript at 0x110cca790>"
       ]
      },
      {
       "javascript": [
        "$('div#9d37b887-fb70-4dc8-8e5c-1e76ab18de6d').text('186/593');"
       ],
       "metadata": {},
       "output_type": "display_data",
       "text": [
        "<IPython.core.display.Javascript at 0x110cce1d0>"
       ]
      },
      {
       "javascript": [
        "$('div#ab5e3c02-b905-475b-a430-31b97942181f').text(' 31%');"
       ],
       "metadata": {},
       "output_type": "display_data",
       "text": [
        "<IPython.core.display.Javascript at 0x110cce210>"
       ]
      },
      {
       "javascript": [
        "\n",
        "        var $myPB = $(\"div#603dd5d6-0527-48ce-991c-b87add1ee92f\")\n",
        "        if ($myPB.hasClass('ui-progressbar')) {\n",
        "            $myPB.progressbar('value', 186);\n",
        "        } else {\n",
        "            $myPB.progressbar({value: 0, max: 593});\n",
        "        }\n",
        "        "
       ],
       "metadata": {},
       "output_type": "display_data",
       "text": [
        "<IPython.core.display.Javascript at 0x110cce250>"
       ]
      },
      {
       "javascript": [
        "$('div#cd03291e-3af7-4959-b151-add232c9b082').text('ETA:  0:00:01');"
       ],
       "metadata": {},
       "output_type": "display_data",
       "text": [
        "<IPython.core.display.Javascript at 0x110cce350>"
       ]
      },
      {
       "javascript": [
        "$('div#9d37b887-fb70-4dc8-8e5c-1e76ab18de6d').text('192/593');"
       ],
       "metadata": {},
       "output_type": "display_data",
       "text": [
        "<IPython.core.display.Javascript at 0x110cd40d0>"
       ]
      },
      {
       "javascript": [
        "$('div#ab5e3c02-b905-475b-a430-31b97942181f').text(' 32%');"
       ],
       "metadata": {},
       "output_type": "display_data",
       "text": [
        "<IPython.core.display.Javascript at 0x110cd4150>"
       ]
      },
      {
       "javascript": [
        "\n",
        "        var $myPB = $(\"div#603dd5d6-0527-48ce-991c-b87add1ee92f\")\n",
        "        if ($myPB.hasClass('ui-progressbar')) {\n",
        "            $myPB.progressbar('value', 192);\n",
        "        } else {\n",
        "            $myPB.progressbar({value: 0, max: 593});\n",
        "        }\n",
        "        "
       ],
       "metadata": {},
       "output_type": "display_data",
       "text": [
        "<IPython.core.display.Javascript at 0x110cd4190>"
       ]
      },
      {
       "javascript": [
        "$('div#cd03291e-3af7-4959-b151-add232c9b082').text('ETA:  0:00:01');"
       ],
       "metadata": {},
       "output_type": "display_data",
       "text": [
        "<IPython.core.display.Javascript at 0x110cd42d0>"
       ]
      },
      {
       "javascript": [
        "$('div#9d37b887-fb70-4dc8-8e5c-1e76ab18de6d').text('198/593');"
       ],
       "metadata": {},
       "output_type": "display_data",
       "text": [
        "<IPython.core.display.Javascript at 0x110ce6a90>"
       ]
      },
      {
       "javascript": [
        "$('div#ab5e3c02-b905-475b-a430-31b97942181f').text(' 33%');"
       ],
       "metadata": {},
       "output_type": "display_data",
       "text": [
        "<IPython.core.display.Javascript at 0x110ce6ad0>"
       ]
      },
      {
       "javascript": [
        "\n",
        "        var $myPB = $(\"div#603dd5d6-0527-48ce-991c-b87add1ee92f\")\n",
        "        if ($myPB.hasClass('ui-progressbar')) {\n",
        "            $myPB.progressbar('value', 198);\n",
        "        } else {\n",
        "            $myPB.progressbar({value: 0, max: 593});\n",
        "        }\n",
        "        "
       ],
       "metadata": {},
       "output_type": "display_data",
       "text": [
        "<IPython.core.display.Javascript at 0x110ce6b10>"
       ]
      },
      {
       "javascript": [
        "$('div#cd03291e-3af7-4959-b151-add232c9b082').text('ETA:  0:00:01');"
       ],
       "metadata": {},
       "output_type": "display_data",
       "text": [
        "<IPython.core.display.Javascript at 0x110ce6c10>"
       ]
      },
      {
       "javascript": [
        "$('div#9d37b887-fb70-4dc8-8e5c-1e76ab18de6d').text('204/593');"
       ],
       "metadata": {},
       "output_type": "display_data",
       "text": [
        "<IPython.core.display.Javascript at 0x110cef350>"
       ]
      },
      {
       "javascript": [
        "$('div#ab5e3c02-b905-475b-a430-31b97942181f').text(' 34%');"
       ],
       "metadata": {},
       "output_type": "display_data",
       "text": [
        "<IPython.core.display.Javascript at 0x110cef3d0>"
       ]
      },
      {
       "javascript": [
        "\n",
        "        var $myPB = $(\"div#603dd5d6-0527-48ce-991c-b87add1ee92f\")\n",
        "        if ($myPB.hasClass('ui-progressbar')) {\n",
        "            $myPB.progressbar('value', 204);\n",
        "        } else {\n",
        "            $myPB.progressbar({value: 0, max: 593});\n",
        "        }\n",
        "        "
       ],
       "metadata": {},
       "output_type": "display_data",
       "text": [
        "<IPython.core.display.Javascript at 0x110cef410>"
       ]
      },
      {
       "javascript": [
        "$('div#cd03291e-3af7-4959-b151-add232c9b082').text('ETA:  0:00:01');"
       ],
       "metadata": {},
       "output_type": "display_data",
       "text": [
        "<IPython.core.display.Javascript at 0x110cef550>"
       ]
      },
      {
       "javascript": [
        "$('div#9d37b887-fb70-4dc8-8e5c-1e76ab18de6d').text('210/593');"
       ],
       "metadata": {},
       "output_type": "display_data",
       "text": [
        "<IPython.core.display.Javascript at 0x113b3c650>"
       ]
      },
      {
       "javascript": [
        "$('div#ab5e3c02-b905-475b-a430-31b97942181f').text(' 35%');"
       ],
       "metadata": {},
       "output_type": "display_data",
       "text": [
        "<IPython.core.display.Javascript at 0x113b3c6d0>"
       ]
      },
      {
       "javascript": [
        "\n",
        "        var $myPB = $(\"div#603dd5d6-0527-48ce-991c-b87add1ee92f\")\n",
        "        if ($myPB.hasClass('ui-progressbar')) {\n",
        "            $myPB.progressbar('value', 210);\n",
        "        } else {\n",
        "            $myPB.progressbar({value: 0, max: 593});\n",
        "        }\n",
        "        "
       ],
       "metadata": {},
       "output_type": "display_data",
       "text": [
        "<IPython.core.display.Javascript at 0x113b3c710>"
       ]
      },
      {
       "javascript": [
        "$('div#cd03291e-3af7-4959-b151-add232c9b082').text('ETA:  0:00:01');"
       ],
       "metadata": {},
       "output_type": "display_data",
       "text": [
        "<IPython.core.display.Javascript at 0x113b3c850>"
       ]
      },
      {
       "javascript": [
        "$('div#9d37b887-fb70-4dc8-8e5c-1e76ab18de6d').text('216/593');"
       ],
       "metadata": {},
       "output_type": "display_data",
       "text": [
        "<IPython.core.display.Javascript at 0x113b4be50>"
       ]
      },
      {
       "javascript": [
        "$('div#ab5e3c02-b905-475b-a430-31b97942181f').text(' 36%');"
       ],
       "metadata": {},
       "output_type": "display_data",
       "text": [
        "<IPython.core.display.Javascript at 0x113b4bed0>"
       ]
      },
      {
       "javascript": [
        "\n",
        "        var $myPB = $(\"div#603dd5d6-0527-48ce-991c-b87add1ee92f\")\n",
        "        if ($myPB.hasClass('ui-progressbar')) {\n",
        "            $myPB.progressbar('value', 216);\n",
        "        } else {\n",
        "            $myPB.progressbar({value: 0, max: 593});\n",
        "        }\n",
        "        "
       ],
       "metadata": {},
       "output_type": "display_data",
       "text": [
        "<IPython.core.display.Javascript at 0x113b4bf10>"
       ]
      },
      {
       "javascript": [
        "$('div#cd03291e-3af7-4959-b151-add232c9b082').text('ETA:  0:00:01');"
       ],
       "metadata": {},
       "output_type": "display_data",
       "text": [
        "<IPython.core.display.Javascript at 0x113b4d090>"
       ]
      },
      {
       "javascript": [
        "$('div#9d37b887-fb70-4dc8-8e5c-1e76ab18de6d').text('222/593');"
       ],
       "metadata": {},
       "output_type": "display_data",
       "text": [
        "<IPython.core.display.Javascript at 0x113b4d410>"
       ]
      },
      {
       "javascript": [
        "$('div#ab5e3c02-b905-475b-a430-31b97942181f').text(' 37%');"
       ],
       "metadata": {},
       "output_type": "display_data",
       "text": [
        "<IPython.core.display.Javascript at 0x113b4d450>"
       ]
      },
      {
       "javascript": [
        "\n",
        "        var $myPB = $(\"div#603dd5d6-0527-48ce-991c-b87add1ee92f\")\n",
        "        if ($myPB.hasClass('ui-progressbar')) {\n",
        "            $myPB.progressbar('value', 222);\n",
        "        } else {\n",
        "            $myPB.progressbar({value: 0, max: 593});\n",
        "        }\n",
        "        "
       ],
       "metadata": {},
       "output_type": "display_data",
       "text": [
        "<IPython.core.display.Javascript at 0x113b4d490>"
       ]
      },
      {
       "javascript": [
        "$('div#cd03291e-3af7-4959-b151-add232c9b082').text('ETA:  0:00:01');"
       ],
       "metadata": {},
       "output_type": "display_data",
       "text": [
        "<IPython.core.display.Javascript at 0x113b4d590>"
       ]
      },
      {
       "javascript": [
        "$('div#9d37b887-fb70-4dc8-8e5c-1e76ab18de6d').text('228/593');"
       ],
       "metadata": {},
       "output_type": "display_data",
       "text": [
        "<IPython.core.display.Javascript at 0x113b4dcd0>"
       ]
      },
      {
       "javascript": [
        "$('div#ab5e3c02-b905-475b-a430-31b97942181f').text(' 38%');"
       ],
       "metadata": {},
       "output_type": "display_data",
       "text": [
        "<IPython.core.display.Javascript at 0x113b4dd10>"
       ]
      },
      {
       "javascript": [
        "\n",
        "        var $myPB = $(\"div#603dd5d6-0527-48ce-991c-b87add1ee92f\")\n",
        "        if ($myPB.hasClass('ui-progressbar')) {\n",
        "            $myPB.progressbar('value', 228);\n",
        "        } else {\n",
        "            $myPB.progressbar({value: 0, max: 593});\n",
        "        }\n",
        "        "
       ],
       "metadata": {},
       "output_type": "display_data",
       "text": [
        "<IPython.core.display.Javascript at 0x113b4dd50>"
       ]
      },
      {
       "javascript": [
        "$('div#cd03291e-3af7-4959-b151-add232c9b082').text('ETA:  0:00:01');"
       ],
       "metadata": {},
       "output_type": "display_data",
       "text": [
        "<IPython.core.display.Javascript at 0x113b4dd90>"
       ]
      },
      {
       "javascript": [
        "$('div#9d37b887-fb70-4dc8-8e5c-1e76ab18de6d').text('234/593');"
       ],
       "metadata": {},
       "output_type": "display_data",
       "text": [
        "<IPython.core.display.Javascript at 0x113b4d490>"
       ]
      },
      {
       "javascript": [
        "$('div#ab5e3c02-b905-475b-a430-31b97942181f').text(' 39%');"
       ],
       "metadata": {},
       "output_type": "display_data",
       "text": [
        "<IPython.core.display.Javascript at 0x113b4d450>"
       ]
      },
      {
       "javascript": [
        "\n",
        "        var $myPB = $(\"div#603dd5d6-0527-48ce-991c-b87add1ee92f\")\n",
        "        if ($myPB.hasClass('ui-progressbar')) {\n",
        "            $myPB.progressbar('value', 234);\n",
        "        } else {\n",
        "            $myPB.progressbar({value: 0, max: 593});\n",
        "        }\n",
        "        "
       ],
       "metadata": {},
       "output_type": "display_data",
       "text": [
        "<IPython.core.display.Javascript at 0x113b4d410>"
       ]
      },
      {
       "javascript": [
        "$('div#cd03291e-3af7-4959-b151-add232c9b082').text('ETA:  0:00:01');"
       ],
       "metadata": {},
       "output_type": "display_data",
       "text": [
        "<IPython.core.display.Javascript at 0x113b4d090>"
       ]
      },
      {
       "javascript": [
        "$('div#9d37b887-fb70-4dc8-8e5c-1e76ab18de6d').text('240/593');"
       ],
       "metadata": {},
       "output_type": "display_data",
       "text": [
        "<IPython.core.display.Javascript at 0x113b5a490>"
       ]
      },
      {
       "javascript": [
        "$('div#ab5e3c02-b905-475b-a430-31b97942181f').text(' 40%');"
       ],
       "metadata": {},
       "output_type": "display_data",
       "text": [
        "<IPython.core.display.Javascript at 0x113b5a4d0>"
       ]
      },
      {
       "javascript": [
        "\n",
        "        var $myPB = $(\"div#603dd5d6-0527-48ce-991c-b87add1ee92f\")\n",
        "        if ($myPB.hasClass('ui-progressbar')) {\n",
        "            $myPB.progressbar('value', 240);\n",
        "        } else {\n",
        "            $myPB.progressbar({value: 0, max: 593});\n",
        "        }\n",
        "        "
       ],
       "metadata": {},
       "output_type": "display_data",
       "text": [
        "<IPython.core.display.Javascript at 0x113b5a510>"
       ]
      },
      {
       "javascript": [
        "$('div#cd03291e-3af7-4959-b151-add232c9b082').text('ETA:  0:00:01');"
       ],
       "metadata": {},
       "output_type": "display_data",
       "text": [
        "<IPython.core.display.Javascript at 0x113b5a590>"
       ]
      },
      {
       "javascript": [
        "$('div#9d37b887-fb70-4dc8-8e5c-1e76ab18de6d').text('246/593');"
       ],
       "metadata": {},
       "output_type": "display_data",
       "text": [
        "<IPython.core.display.Javascript at 0x113b5a890>"
       ]
      },
      {
       "javascript": [
        "$('div#ab5e3c02-b905-475b-a430-31b97942181f').text(' 41%');"
       ],
       "metadata": {},
       "output_type": "display_data",
       "text": [
        "<IPython.core.display.Javascript at 0x113b5a8d0>"
       ]
      },
      {
       "javascript": [
        "\n",
        "        var $myPB = $(\"div#603dd5d6-0527-48ce-991c-b87add1ee92f\")\n",
        "        if ($myPB.hasClass('ui-progressbar')) {\n",
        "            $myPB.progressbar('value', 246);\n",
        "        } else {\n",
        "            $myPB.progressbar({value: 0, max: 593});\n",
        "        }\n",
        "        "
       ],
       "metadata": {},
       "output_type": "display_data",
       "text": [
        "<IPython.core.display.Javascript at 0x113b5a910>"
       ]
      },
      {
       "javascript": [
        "$('div#cd03291e-3af7-4959-b151-add232c9b082').text('ETA:  0:00:01');"
       ],
       "metadata": {},
       "output_type": "display_data",
       "text": [
        "<IPython.core.display.Javascript at 0x113b5a990>"
       ]
      },
      {
       "javascript": [
        "$('div#9d37b887-fb70-4dc8-8e5c-1e76ab18de6d').text('252/593');"
       ],
       "metadata": {},
       "output_type": "display_data",
       "text": [
        "<IPython.core.display.Javascript at 0x113b5a590>"
       ]
      },
      {
       "javascript": [
        "$('div#ab5e3c02-b905-475b-a430-31b97942181f').text(' 42%');"
       ],
       "metadata": {},
       "output_type": "display_data",
       "text": [
        "<IPython.core.display.Javascript at 0x113b5a4d0>"
       ]
      },
      {
       "javascript": [
        "\n",
        "        var $myPB = $(\"div#603dd5d6-0527-48ce-991c-b87add1ee92f\")\n",
        "        if ($myPB.hasClass('ui-progressbar')) {\n",
        "            $myPB.progressbar('value', 252);\n",
        "        } else {\n",
        "            $myPB.progressbar({value: 0, max: 593});\n",
        "        }\n",
        "        "
       ],
       "metadata": {},
       "output_type": "display_data",
       "text": [
        "<IPython.core.display.Javascript at 0x113b5a490>"
       ]
      },
      {
       "javascript": [
        "$('div#cd03291e-3af7-4959-b151-add232c9b082').text('ETA:  0:00:01');"
       ],
       "metadata": {},
       "output_type": "display_data",
       "text": [
        "<IPython.core.display.Javascript at 0x113b66950>"
       ]
      },
      {
       "javascript": [
        "$('div#9d37b887-fb70-4dc8-8e5c-1e76ab18de6d').text('258/593');"
       ],
       "metadata": {},
       "output_type": "display_data",
       "text": [
        "<IPython.core.display.Javascript at 0x115db7ed0>"
       ]
      },
      {
       "javascript": [
        "$('div#ab5e3c02-b905-475b-a430-31b97942181f').text(' 43%');"
       ],
       "metadata": {},
       "output_type": "display_data",
       "text": [
        "<IPython.core.display.Javascript at 0x115db7f50>"
       ]
      },
      {
       "javascript": [
        "\n",
        "        var $myPB = $(\"div#603dd5d6-0527-48ce-991c-b87add1ee92f\")\n",
        "        if ($myPB.hasClass('ui-progressbar')) {\n",
        "            $myPB.progressbar('value', 258);\n",
        "        } else {\n",
        "            $myPB.progressbar({value: 0, max: 593});\n",
        "        }\n",
        "        "
       ],
       "metadata": {},
       "output_type": "display_data",
       "text": [
        "<IPython.core.display.Javascript at 0x115db7f90>"
       ]
      },
      {
       "javascript": [
        "$('div#cd03291e-3af7-4959-b151-add232c9b082').text('ETA:  0:00:01');"
       ],
       "metadata": {},
       "output_type": "display_data",
       "text": [
        "<IPython.core.display.Javascript at 0x115db8110>"
       ]
      },
      {
       "javascript": [
        "$('div#9d37b887-fb70-4dc8-8e5c-1e76ab18de6d').text('264/593');"
       ],
       "metadata": {},
       "output_type": "display_data",
       "text": [
        "<IPython.core.display.Javascript at 0x115dca7d0>"
       ]
      },
      {
       "javascript": [
        "$('div#ab5e3c02-b905-475b-a430-31b97942181f').text(' 44%');"
       ],
       "metadata": {},
       "output_type": "display_data",
       "text": [
        "<IPython.core.display.Javascript at 0x115dca850>"
       ]
      },
      {
       "javascript": [
        "\n",
        "        var $myPB = $(\"div#603dd5d6-0527-48ce-991c-b87add1ee92f\")\n",
        "        if ($myPB.hasClass('ui-progressbar')) {\n",
        "            $myPB.progressbar('value', 264);\n",
        "        } else {\n",
        "            $myPB.progressbar({value: 0, max: 593});\n",
        "        }\n",
        "        "
       ],
       "metadata": {},
       "output_type": "display_data",
       "text": [
        "<IPython.core.display.Javascript at 0x115dca890>"
       ]
      },
      {
       "javascript": [
        "$('div#cd03291e-3af7-4959-b151-add232c9b082').text('ETA:  0:00:01');"
       ],
       "metadata": {},
       "output_type": "display_data",
       "text": [
        "<IPython.core.display.Javascript at 0x115dca9d0>"
       ]
      },
      {
       "javascript": [
        "$('div#9d37b887-fb70-4dc8-8e5c-1e76ab18de6d').text('270/593');"
       ],
       "metadata": {},
       "output_type": "display_data",
       "text": [
        "<IPython.core.display.Javascript at 0x115dd2110>"
       ]
      },
      {
       "javascript": [
        "$('div#ab5e3c02-b905-475b-a430-31b97942181f').text(' 45%');"
       ],
       "metadata": {},
       "output_type": "display_data",
       "text": [
        "<IPython.core.display.Javascript at 0x115dd2190>"
       ]
      },
      {
       "javascript": [
        "\n",
        "        var $myPB = $(\"div#603dd5d6-0527-48ce-991c-b87add1ee92f\")\n",
        "        if ($myPB.hasClass('ui-progressbar')) {\n",
        "            $myPB.progressbar('value', 270);\n",
        "        } else {\n",
        "            $myPB.progressbar({value: 0, max: 593});\n",
        "        }\n",
        "        "
       ],
       "metadata": {},
       "output_type": "display_data",
       "text": [
        "<IPython.core.display.Javascript at 0x115dd21d0>"
       ]
      },
      {
       "javascript": [
        "$('div#cd03291e-3af7-4959-b151-add232c9b082').text('ETA:  0:00:01');"
       ],
       "metadata": {},
       "output_type": "display_data",
       "text": [
        "<IPython.core.display.Javascript at 0x115dd2310>"
       ]
      },
      {
       "javascript": [
        "$('div#9d37b887-fb70-4dc8-8e5c-1e76ab18de6d').text('276/593');"
       ],
       "metadata": {},
       "output_type": "display_data",
       "text": [
        "<IPython.core.display.Javascript at 0x115dd6d90>"
       ]
      },
      {
       "javascript": [
        "$('div#ab5e3c02-b905-475b-a430-31b97942181f').text(' 46%');"
       ],
       "metadata": {},
       "output_type": "display_data",
       "text": [
        "<IPython.core.display.Javascript at 0x115dd6e10>"
       ]
      },
      {
       "javascript": [
        "\n",
        "        var $myPB = $(\"div#603dd5d6-0527-48ce-991c-b87add1ee92f\")\n",
        "        if ($myPB.hasClass('ui-progressbar')) {\n",
        "            $myPB.progressbar('value', 276);\n",
        "        } else {\n",
        "            $myPB.progressbar({value: 0, max: 593});\n",
        "        }\n",
        "        "
       ],
       "metadata": {},
       "output_type": "display_data",
       "text": [
        "<IPython.core.display.Javascript at 0x115dd6e50>"
       ]
      },
      {
       "javascript": [
        "$('div#cd03291e-3af7-4959-b151-add232c9b082').text('ETA:  0:00:01');"
       ],
       "metadata": {},
       "output_type": "display_data",
       "text": [
        "<IPython.core.display.Javascript at 0x115dd6f90>"
       ]
      },
      {
       "javascript": [
        "$('div#9d37b887-fb70-4dc8-8e5c-1e76ab18de6d').text('282/593');"
       ],
       "metadata": {},
       "output_type": "display_data",
       "text": [
        "<IPython.core.display.Javascript at 0x115ddec50>"
       ]
      },
      {
       "javascript": [
        "$('div#ab5e3c02-b905-475b-a430-31b97942181f').text(' 47%');"
       ],
       "metadata": {},
       "output_type": "display_data",
       "text": [
        "<IPython.core.display.Javascript at 0x115ddecd0>"
       ]
      },
      {
       "javascript": [
        "\n",
        "        var $myPB = $(\"div#603dd5d6-0527-48ce-991c-b87add1ee92f\")\n",
        "        if ($myPB.hasClass('ui-progressbar')) {\n",
        "            $myPB.progressbar('value', 282);\n",
        "        } else {\n",
        "            $myPB.progressbar({value: 0, max: 593});\n",
        "        }\n",
        "        "
       ],
       "metadata": {},
       "output_type": "display_data",
       "text": [
        "<IPython.core.display.Javascript at 0x115dd6f90>"
       ]
      },
      {
       "javascript": [
        "$('div#cd03291e-3af7-4959-b151-add232c9b082').text('ETA:  0:00:01');"
       ],
       "metadata": {},
       "output_type": "display_data",
       "text": [
        "<IPython.core.display.Javascript at 0x115dd6e50>"
       ]
      },
      {
       "javascript": [
        "$('div#9d37b887-fb70-4dc8-8e5c-1e76ab18de6d').text('288/593');"
       ],
       "metadata": {},
       "output_type": "display_data",
       "text": [
        "<IPython.core.display.Javascript at 0x115deb990>"
       ]
      },
      {
       "javascript": [
        "$('div#ab5e3c02-b905-475b-a430-31b97942181f').text(' 48%');"
       ],
       "metadata": {},
       "output_type": "display_data",
       "text": [
        "<IPython.core.display.Javascript at 0x115deba10>"
       ]
      },
      {
       "javascript": [
        "\n",
        "        var $myPB = $(\"div#603dd5d6-0527-48ce-991c-b87add1ee92f\")\n",
        "        if ($myPB.hasClass('ui-progressbar')) {\n",
        "            $myPB.progressbar('value', 288);\n",
        "        } else {\n",
        "            $myPB.progressbar({value: 0, max: 593});\n",
        "        }\n",
        "        "
       ],
       "metadata": {},
       "output_type": "display_data",
       "text": [
        "<IPython.core.display.Javascript at 0x115deba50>"
       ]
      },
      {
       "javascript": [
        "$('div#cd03291e-3af7-4959-b151-add232c9b082').text('ETA:  0:00:01');"
       ],
       "metadata": {},
       "output_type": "display_data",
       "text": [
        "<IPython.core.display.Javascript at 0x115debb90>"
       ]
      },
      {
       "javascript": [
        "$('div#9d37b887-fb70-4dc8-8e5c-1e76ab18de6d').text('294/593');"
       ],
       "metadata": {},
       "output_type": "display_data",
       "text": [
        "<IPython.core.display.Javascript at 0x115df5510>"
       ]
      },
      {
       "javascript": [
        "$('div#ab5e3c02-b905-475b-a430-31b97942181f').text(' 49%');"
       ],
       "metadata": {},
       "output_type": "display_data",
       "text": [
        "<IPython.core.display.Javascript at 0x115df5590>"
       ]
      },
      {
       "javascript": [
        "\n",
        "        var $myPB = $(\"div#603dd5d6-0527-48ce-991c-b87add1ee92f\")\n",
        "        if ($myPB.hasClass('ui-progressbar')) {\n",
        "            $myPB.progressbar('value', 294);\n",
        "        } else {\n",
        "            $myPB.progressbar({value: 0, max: 593});\n",
        "        }\n",
        "        "
       ],
       "metadata": {},
       "output_type": "display_data",
       "text": [
        "<IPython.core.display.Javascript at 0x115df55d0>"
       ]
      },
      {
       "javascript": [
        "$('div#cd03291e-3af7-4959-b151-add232c9b082').text('ETA:  0:00:01');"
       ],
       "metadata": {},
       "output_type": "display_data",
       "text": [
        "<IPython.core.display.Javascript at 0x115df5710>"
       ]
      },
      {
       "javascript": [
        "$('div#9d37b887-fb70-4dc8-8e5c-1e76ab18de6d').text('300/593');"
       ],
       "metadata": {},
       "output_type": "display_data",
       "text": [
        "<IPython.core.display.Javascript at 0x112d7d0d0>"
       ]
      },
      {
       "javascript": [
        "$('div#ab5e3c02-b905-475b-a430-31b97942181f').text(' 50%');"
       ],
       "metadata": {},
       "output_type": "display_data",
       "text": [
        "<IPython.core.display.Javascript at 0x112d7d150>"
       ]
      },
      {
       "javascript": [
        "\n",
        "        var $myPB = $(\"div#603dd5d6-0527-48ce-991c-b87add1ee92f\")\n",
        "        if ($myPB.hasClass('ui-progressbar')) {\n",
        "            $myPB.progressbar('value', 300);\n",
        "        } else {\n",
        "            $myPB.progressbar({value: 0, max: 593});\n",
        "        }\n",
        "        "
       ],
       "metadata": {},
       "output_type": "display_data",
       "text": [
        "<IPython.core.display.Javascript at 0x112d7d190>"
       ]
      },
      {
       "javascript": [
        "$('div#cd03291e-3af7-4959-b151-add232c9b082').text('ETA:  0:00:01');"
       ],
       "metadata": {},
       "output_type": "display_data",
       "text": [
        "<IPython.core.display.Javascript at 0x112d7d2d0>"
       ]
      },
      {
       "javascript": [
        "$('div#9d37b887-fb70-4dc8-8e5c-1e76ab18de6d').text('306/593');"
       ],
       "metadata": {},
       "output_type": "display_data",
       "text": [
        "<IPython.core.display.Javascript at 0x112d80c50>"
       ]
      },
      {
       "javascript": [
        "$('div#ab5e3c02-b905-475b-a430-31b97942181f').text(' 51%');"
       ],
       "metadata": {},
       "output_type": "display_data",
       "text": [
        "<IPython.core.display.Javascript at 0x112d80cd0>"
       ]
      },
      {
       "javascript": [
        "\n",
        "        var $myPB = $(\"div#603dd5d6-0527-48ce-991c-b87add1ee92f\")\n",
        "        if ($myPB.hasClass('ui-progressbar')) {\n",
        "            $myPB.progressbar('value', 306);\n",
        "        } else {\n",
        "            $myPB.progressbar({value: 0, max: 593});\n",
        "        }\n",
        "        "
       ],
       "metadata": {},
       "output_type": "display_data",
       "text": [
        "<IPython.core.display.Javascript at 0x112d80d10>"
       ]
      },
      {
       "javascript": [
        "$('div#cd03291e-3af7-4959-b151-add232c9b082').text('ETA:  0:00:00');"
       ],
       "metadata": {},
       "output_type": "display_data",
       "text": [
        "<IPython.core.display.Javascript at 0x112d80e50>"
       ]
      },
      {
       "javascript": [
        "$('div#9d37b887-fb70-4dc8-8e5c-1e76ab18de6d').text('312/593');"
       ],
       "metadata": {},
       "output_type": "display_data",
       "text": [
        "<IPython.core.display.Javascript at 0x112d80cd0>"
       ]
      },
      {
       "javascript": [
        "$('div#ab5e3c02-b905-475b-a430-31b97942181f').text(' 52%');"
       ],
       "metadata": {},
       "output_type": "display_data",
       "text": [
        "<IPython.core.display.Javascript at 0x112d89a90>"
       ]
      },
      {
       "javascript": [
        "\n",
        "        var $myPB = $(\"div#603dd5d6-0527-48ce-991c-b87add1ee92f\")\n",
        "        if ($myPB.hasClass('ui-progressbar')) {\n",
        "            $myPB.progressbar('value', 312);\n",
        "        } else {\n",
        "            $myPB.progressbar({value: 0, max: 593});\n",
        "        }\n",
        "        "
       ],
       "metadata": {},
       "output_type": "display_data",
       "text": [
        "<IPython.core.display.Javascript at 0x112d89ad0>"
       ]
      },
      {
       "javascript": [
        "$('div#cd03291e-3af7-4959-b151-add232c9b082').text('ETA:  0:00:00');"
       ],
       "metadata": {},
       "output_type": "display_data",
       "text": [
        "<IPython.core.display.Javascript at 0x112d89c10>"
       ]
      },
      {
       "javascript": [
        "$('div#9d37b887-fb70-4dc8-8e5c-1e76ab18de6d').text('318/593');"
       ],
       "metadata": {},
       "output_type": "display_data",
       "text": [
        "<IPython.core.display.Javascript at 0x112d8e9d0>"
       ]
      },
      {
       "javascript": [
        "$('div#ab5e3c02-b905-475b-a430-31b97942181f').text(' 53%');"
       ],
       "metadata": {},
       "output_type": "display_data",
       "text": [
        "<IPython.core.display.Javascript at 0x112d8ea50>"
       ]
      },
      {
       "javascript": [
        "\n",
        "        var $myPB = $(\"div#603dd5d6-0527-48ce-991c-b87add1ee92f\")\n",
        "        if ($myPB.hasClass('ui-progressbar')) {\n",
        "            $myPB.progressbar('value', 318);\n",
        "        } else {\n",
        "            $myPB.progressbar({value: 0, max: 593});\n",
        "        }\n",
        "        "
       ],
       "metadata": {},
       "output_type": "display_data",
       "text": [
        "<IPython.core.display.Javascript at 0x112d8ea90>"
       ]
      },
      {
       "javascript": [
        "$('div#cd03291e-3af7-4959-b151-add232c9b082').text('ETA:  0:00:00');"
       ],
       "metadata": {},
       "output_type": "display_data",
       "text": [
        "<IPython.core.display.Javascript at 0x112d8ebd0>"
       ]
      },
      {
       "javascript": [
        "$('div#9d37b887-fb70-4dc8-8e5c-1e76ab18de6d').text('324/593');"
       ],
       "metadata": {},
       "output_type": "display_data",
       "text": [
        "<IPython.core.display.Javascript at 0x112d96810>"
       ]
      },
      {
       "javascript": [
        "$('div#ab5e3c02-b905-475b-a430-31b97942181f').text(' 54%');"
       ],
       "metadata": {},
       "output_type": "display_data",
       "text": [
        "<IPython.core.display.Javascript at 0x112d96890>"
       ]
      },
      {
       "javascript": [
        "\n",
        "        var $myPB = $(\"div#603dd5d6-0527-48ce-991c-b87add1ee92f\")\n",
        "        if ($myPB.hasClass('ui-progressbar')) {\n",
        "            $myPB.progressbar('value', 324);\n",
        "        } else {\n",
        "            $myPB.progressbar({value: 0, max: 593});\n",
        "        }\n",
        "        "
       ],
       "metadata": {},
       "output_type": "display_data",
       "text": [
        "<IPython.core.display.Javascript at 0x112d968d0>"
       ]
      },
      {
       "javascript": [
        "$('div#cd03291e-3af7-4959-b151-add232c9b082').text('ETA:  0:00:00');"
       ],
       "metadata": {},
       "output_type": "display_data",
       "text": [
        "<IPython.core.display.Javascript at 0x112d96a10>"
       ]
      },
      {
       "javascript": [
        "$('div#9d37b887-fb70-4dc8-8e5c-1e76ab18de6d').text('330/593');"
       ],
       "metadata": {},
       "output_type": "display_data",
       "text": [
        "<IPython.core.display.Javascript at 0x112da65d0>"
       ]
      },
      {
       "javascript": [
        "$('div#ab5e3c02-b905-475b-a430-31b97942181f').text(' 55%');"
       ],
       "metadata": {},
       "output_type": "display_data",
       "text": [
        "<IPython.core.display.Javascript at 0x112da6650>"
       ]
      },
      {
       "javascript": [
        "\n",
        "        var $myPB = $(\"div#603dd5d6-0527-48ce-991c-b87add1ee92f\")\n",
        "        if ($myPB.hasClass('ui-progressbar')) {\n",
        "            $myPB.progressbar('value', 330);\n",
        "        } else {\n",
        "            $myPB.progressbar({value: 0, max: 593});\n",
        "        }\n",
        "        "
       ],
       "metadata": {},
       "output_type": "display_data",
       "text": [
        "<IPython.core.display.Javascript at 0x112da6690>"
       ]
      },
      {
       "javascript": [
        "$('div#cd03291e-3af7-4959-b151-add232c9b082').text('ETA:  0:00:00');"
       ],
       "metadata": {},
       "output_type": "display_data",
       "text": [
        "<IPython.core.display.Javascript at 0x112da67d0>"
       ]
      },
      {
       "javascript": [
        "$('div#9d37b887-fb70-4dc8-8e5c-1e76ab18de6d').text('336/593');"
       ],
       "metadata": {},
       "output_type": "display_data",
       "text": [
        "<IPython.core.display.Javascript at 0x112daefd0>"
       ]
      },
      {
       "javascript": [
        "$('div#ab5e3c02-b905-475b-a430-31b97942181f').text(' 56%');"
       ],
       "metadata": {},
       "output_type": "display_data",
       "text": [
        "<IPython.core.display.Javascript at 0x112db0090>"
       ]
      },
      {
       "javascript": [
        "\n",
        "        var $myPB = $(\"div#603dd5d6-0527-48ce-991c-b87add1ee92f\")\n",
        "        if ($myPB.hasClass('ui-progressbar')) {\n",
        "            $myPB.progressbar('value', 336);\n",
        "        } else {\n",
        "            $myPB.progressbar({value: 0, max: 593});\n",
        "        }\n",
        "        "
       ],
       "metadata": {},
       "output_type": "display_data",
       "text": [
        "<IPython.core.display.Javascript at 0x112db00d0>"
       ]
      },
      {
       "javascript": [
        "$('div#cd03291e-3af7-4959-b151-add232c9b082').text('ETA:  0:00:00');"
       ],
       "metadata": {},
       "output_type": "display_data",
       "text": [
        "<IPython.core.display.Javascript at 0x112db0210>"
       ]
      },
      {
       "javascript": [
        "$('div#9d37b887-fb70-4dc8-8e5c-1e76ab18de6d').text('342/593');"
       ],
       "metadata": {},
       "output_type": "display_data",
       "text": [
        "<IPython.core.display.Javascript at 0x112db5a90>"
       ]
      },
      {
       "javascript": [
        "$('div#ab5e3c02-b905-475b-a430-31b97942181f').text(' 57%');"
       ],
       "metadata": {},
       "output_type": "display_data",
       "text": [
        "<IPython.core.display.Javascript at 0x112db5b10>"
       ]
      },
      {
       "javascript": [
        "\n",
        "        var $myPB = $(\"div#603dd5d6-0527-48ce-991c-b87add1ee92f\")\n",
        "        if ($myPB.hasClass('ui-progressbar')) {\n",
        "            $myPB.progressbar('value', 342);\n",
        "        } else {\n",
        "            $myPB.progressbar({value: 0, max: 593});\n",
        "        }\n",
        "        "
       ],
       "metadata": {},
       "output_type": "display_data",
       "text": [
        "<IPython.core.display.Javascript at 0x112db5b50>"
       ]
      },
      {
       "javascript": [
        "$('div#cd03291e-3af7-4959-b151-add232c9b082').text('ETA:  0:00:00');"
       ],
       "metadata": {},
       "output_type": "display_data",
       "text": [
        "<IPython.core.display.Javascript at 0x112db5c90>"
       ]
      },
      {
       "javascript": [
        "$('div#9d37b887-fb70-4dc8-8e5c-1e76ab18de6d').text('348/593');"
       ],
       "metadata": {},
       "output_type": "display_data",
       "text": [
        "<IPython.core.display.Javascript at 0x11333c690>"
       ]
      },
      {
       "javascript": [
        "$('div#ab5e3c02-b905-475b-a430-31b97942181f').text(' 58%');"
       ],
       "metadata": {},
       "output_type": "display_data",
       "text": [
        "<IPython.core.display.Javascript at 0x11333c710>"
       ]
      },
      {
       "javascript": [
        "\n",
        "        var $myPB = $(\"div#603dd5d6-0527-48ce-991c-b87add1ee92f\")\n",
        "        if ($myPB.hasClass('ui-progressbar')) {\n",
        "            $myPB.progressbar('value', 348);\n",
        "        } else {\n",
        "            $myPB.progressbar({value: 0, max: 593});\n",
        "        }\n",
        "        "
       ],
       "metadata": {},
       "output_type": "display_data",
       "text": [
        "<IPython.core.display.Javascript at 0x11333c750>"
       ]
      },
      {
       "javascript": [
        "$('div#cd03291e-3af7-4959-b151-add232c9b082').text('ETA:  0:00:00');"
       ],
       "metadata": {},
       "output_type": "display_data",
       "text": [
        "<IPython.core.display.Javascript at 0x11333c890>"
       ]
      },
      {
       "javascript": [
        "$('div#9d37b887-fb70-4dc8-8e5c-1e76ab18de6d').text('354/593');"
       ],
       "metadata": {},
       "output_type": "display_data",
       "text": [
        "<IPython.core.display.Javascript at 0x113347050>"
       ]
      },
      {
       "javascript": [
        "$('div#ab5e3c02-b905-475b-a430-31b97942181f').text(' 59%');"
       ],
       "metadata": {},
       "output_type": "display_data",
       "text": [
        "<IPython.core.display.Javascript at 0x1133470d0>"
       ]
      },
      {
       "javascript": [
        "\n",
        "        var $myPB = $(\"div#603dd5d6-0527-48ce-991c-b87add1ee92f\")\n",
        "        if ($myPB.hasClass('ui-progressbar')) {\n",
        "            $myPB.progressbar('value', 354);\n",
        "        } else {\n",
        "            $myPB.progressbar({value: 0, max: 593});\n",
        "        }\n",
        "        "
       ],
       "metadata": {},
       "output_type": "display_data",
       "text": [
        "<IPython.core.display.Javascript at 0x113347110>"
       ]
      },
      {
       "javascript": [
        "$('div#cd03291e-3af7-4959-b151-add232c9b082').text('ETA:  0:00:00');"
       ],
       "metadata": {},
       "output_type": "display_data",
       "text": [
        "<IPython.core.display.Javascript at 0x113347250>"
       ]
      },
      {
       "javascript": [
        "$('div#9d37b887-fb70-4dc8-8e5c-1e76ab18de6d').text('360/593');"
       ],
       "metadata": {},
       "output_type": "display_data",
       "text": [
        "<IPython.core.display.Javascript at 0x11334cc90>"
       ]
      },
      {
       "javascript": [
        "$('div#ab5e3c02-b905-475b-a430-31b97942181f').text(' 60%');"
       ],
       "metadata": {},
       "output_type": "display_data",
       "text": [
        "<IPython.core.display.Javascript at 0x11334cd10>"
       ]
      },
      {
       "javascript": [
        "\n",
        "        var $myPB = $(\"div#603dd5d6-0527-48ce-991c-b87add1ee92f\")\n",
        "        if ($myPB.hasClass('ui-progressbar')) {\n",
        "            $myPB.progressbar('value', 360);\n",
        "        } else {\n",
        "            $myPB.progressbar({value: 0, max: 593});\n",
        "        }\n",
        "        "
       ],
       "metadata": {},
       "output_type": "display_data",
       "text": [
        "<IPython.core.display.Javascript at 0x11334cd50>"
       ]
      },
      {
       "javascript": [
        "$('div#cd03291e-3af7-4959-b151-add232c9b082').text('ETA:  0:00:00');"
       ],
       "metadata": {},
       "output_type": "display_data",
       "text": [
        "<IPython.core.display.Javascript at 0x11334cd50>"
       ]
      },
      {
       "javascript": [
        "$('div#9d37b887-fb70-4dc8-8e5c-1e76ab18de6d').text('366/593');"
       ],
       "metadata": {},
       "output_type": "display_data",
       "text": [
        "<IPython.core.display.Javascript at 0x113353990>"
       ]
      },
      {
       "javascript": [
        "$('div#ab5e3c02-b905-475b-a430-31b97942181f').text(' 61%');"
       ],
       "metadata": {},
       "output_type": "display_data",
       "text": [
        "<IPython.core.display.Javascript at 0x113353a10>"
       ]
      },
      {
       "javascript": [
        "\n",
        "        var $myPB = $(\"div#603dd5d6-0527-48ce-991c-b87add1ee92f\")\n",
        "        if ($myPB.hasClass('ui-progressbar')) {\n",
        "            $myPB.progressbar('value', 366);\n",
        "        } else {\n",
        "            $myPB.progressbar({value: 0, max: 593});\n",
        "        }\n",
        "        "
       ],
       "metadata": {},
       "output_type": "display_data",
       "text": [
        "<IPython.core.display.Javascript at 0x113353a50>"
       ]
      },
      {
       "javascript": [
        "$('div#cd03291e-3af7-4959-b151-add232c9b082').text('ETA:  0:00:00');"
       ],
       "metadata": {},
       "output_type": "display_data",
       "text": [
        "<IPython.core.display.Javascript at 0x113353b90>"
       ]
      },
      {
       "javascript": [
        "$('div#9d37b887-fb70-4dc8-8e5c-1e76ab18de6d').text('372/593');"
       ],
       "metadata": {},
       "output_type": "display_data",
       "text": [
        "<IPython.core.display.Javascript at 0x11335b710>"
       ]
      },
      {
       "javascript": [
        "$('div#ab5e3c02-b905-475b-a430-31b97942181f').text(' 62%');"
       ],
       "metadata": {},
       "output_type": "display_data",
       "text": [
        "<IPython.core.display.Javascript at 0x11335b790>"
       ]
      },
      {
       "javascript": [
        "\n",
        "        var $myPB = $(\"div#603dd5d6-0527-48ce-991c-b87add1ee92f\")\n",
        "        if ($myPB.hasClass('ui-progressbar')) {\n",
        "            $myPB.progressbar('value', 372);\n",
        "        } else {\n",
        "            $myPB.progressbar({value: 0, max: 593});\n",
        "        }\n",
        "        "
       ],
       "metadata": {},
       "output_type": "display_data",
       "text": [
        "<IPython.core.display.Javascript at 0x11335b7d0>"
       ]
      },
      {
       "javascript": [
        "$('div#cd03291e-3af7-4959-b151-add232c9b082').text('ETA:  0:00:00');"
       ],
       "metadata": {},
       "output_type": "display_data",
       "text": [
        "<IPython.core.display.Javascript at 0x11335b910>"
       ]
      },
      {
       "javascript": [
        "$('div#9d37b887-fb70-4dc8-8e5c-1e76ab18de6d').text('378/593');"
       ],
       "metadata": {},
       "output_type": "display_data",
       "text": [
        "<IPython.core.display.Javascript at 0x1133625d0>"
       ]
      },
      {
       "javascript": [
        "$('div#ab5e3c02-b905-475b-a430-31b97942181f').text(' 63%');"
       ],
       "metadata": {},
       "output_type": "display_data",
       "text": [
        "<IPython.core.display.Javascript at 0x113362650>"
       ]
      },
      {
       "javascript": [
        "\n",
        "        var $myPB = $(\"div#603dd5d6-0527-48ce-991c-b87add1ee92f\")\n",
        "        if ($myPB.hasClass('ui-progressbar')) {\n",
        "            $myPB.progressbar('value', 378);\n",
        "        } else {\n",
        "            $myPB.progressbar({value: 0, max: 593});\n",
        "        }\n",
        "        "
       ],
       "metadata": {},
       "output_type": "display_data",
       "text": [
        "<IPython.core.display.Javascript at 0x113362690>"
       ]
      },
      {
       "javascript": [
        "$('div#cd03291e-3af7-4959-b151-add232c9b082').text('ETA:  0:00:00');"
       ],
       "metadata": {},
       "output_type": "display_data",
       "text": [
        "<IPython.core.display.Javascript at 0x1133627d0>"
       ]
      },
      {
       "javascript": [
        "$('div#9d37b887-fb70-4dc8-8e5c-1e76ab18de6d').text('384/593');"
       ],
       "metadata": {},
       "output_type": "display_data",
       "text": [
        "<IPython.core.display.Javascript at 0x11336d2d0>"
       ]
      },
      {
       "javascript": [
        "$('div#ab5e3c02-b905-475b-a430-31b97942181f').text(' 64%');"
       ],
       "metadata": {},
       "output_type": "display_data",
       "text": [
        "<IPython.core.display.Javascript at 0x11336d350>"
       ]
      },
      {
       "javascript": [
        "\n",
        "        var $myPB = $(\"div#603dd5d6-0527-48ce-991c-b87add1ee92f\")\n",
        "        if ($myPB.hasClass('ui-progressbar')) {\n",
        "            $myPB.progressbar('value', 384);\n",
        "        } else {\n",
        "            $myPB.progressbar({value: 0, max: 593});\n",
        "        }\n",
        "        "
       ],
       "metadata": {},
       "output_type": "display_data",
       "text": [
        "<IPython.core.display.Javascript at 0x11336d390>"
       ]
      },
      {
       "javascript": [
        "$('div#cd03291e-3af7-4959-b151-add232c9b082').text('ETA:  0:00:00');"
       ],
       "metadata": {},
       "output_type": "display_data",
       "text": [
        "<IPython.core.display.Javascript at 0x11336d4d0>"
       ]
      },
      {
       "javascript": [
        "$('div#9d37b887-fb70-4dc8-8e5c-1e76ab18de6d').text('390/593');"
       ],
       "metadata": {},
       "output_type": "display_data",
       "text": [
        "<IPython.core.display.Javascript at 0x113374310>"
       ]
      },
      {
       "javascript": [
        "$('div#ab5e3c02-b905-475b-a430-31b97942181f').text(' 65%');"
       ],
       "metadata": {},
       "output_type": "display_data",
       "text": [
        "<IPython.core.display.Javascript at 0x11336d350>"
       ]
      },
      {
       "javascript": [
        "\n",
        "        var $myPB = $(\"div#603dd5d6-0527-48ce-991c-b87add1ee92f\")\n",
        "        if ($myPB.hasClass('ui-progressbar')) {\n",
        "            $myPB.progressbar('value', 390);\n",
        "        } else {\n",
        "            $myPB.progressbar({value: 0, max: 593});\n",
        "        }\n",
        "        "
       ],
       "metadata": {},
       "output_type": "display_data",
       "text": [
        "<IPython.core.display.Javascript at 0x11336d2d0>"
       ]
      },
      {
       "javascript": [
        "$('div#cd03291e-3af7-4959-b151-add232c9b082').text('ETA:  0:00:00');"
       ],
       "metadata": {},
       "output_type": "display_data",
       "text": [
        "<IPython.core.display.Javascript at 0x113374390>"
       ]
      },
      {
       "javascript": [
        "$('div#9d37b887-fb70-4dc8-8e5c-1e76ab18de6d').text('396/593');"
       ],
       "metadata": {},
       "output_type": "display_data",
       "text": [
        "<IPython.core.display.Javascript at 0x11477b250>"
       ]
      },
      {
       "javascript": [
        "$('div#ab5e3c02-b905-475b-a430-31b97942181f').text(' 66%');"
       ],
       "metadata": {},
       "output_type": "display_data",
       "text": [
        "<IPython.core.display.Javascript at 0x11477b2d0>"
       ]
      },
      {
       "javascript": [
        "\n",
        "        var $myPB = $(\"div#603dd5d6-0527-48ce-991c-b87add1ee92f\")\n",
        "        if ($myPB.hasClass('ui-progressbar')) {\n",
        "            $myPB.progressbar('value', 396);\n",
        "        } else {\n",
        "            $myPB.progressbar({value: 0, max: 593});\n",
        "        }\n",
        "        "
       ],
       "metadata": {},
       "output_type": "display_data",
       "text": [
        "<IPython.core.display.Javascript at 0x11477b310>"
       ]
      },
      {
       "javascript": [
        "$('div#cd03291e-3af7-4959-b151-add232c9b082').text('ETA:  0:00:00');"
       ],
       "metadata": {},
       "output_type": "display_data",
       "text": [
        "<IPython.core.display.Javascript at 0x11477b450>"
       ]
      },
      {
       "javascript": [
        "$('div#9d37b887-fb70-4dc8-8e5c-1e76ab18de6d').text('402/593');"
       ],
       "metadata": {},
       "output_type": "display_data",
       "text": [
        "<IPython.core.display.Javascript at 0x114780090>"
       ]
      },
      {
       "javascript": [
        "$('div#ab5e3c02-b905-475b-a430-31b97942181f').text(' 67%');"
       ],
       "metadata": {},
       "output_type": "display_data",
       "text": [
        "<IPython.core.display.Javascript at 0x114780110>"
       ]
      },
      {
       "javascript": [
        "\n",
        "        var $myPB = $(\"div#603dd5d6-0527-48ce-991c-b87add1ee92f\")\n",
        "        if ($myPB.hasClass('ui-progressbar')) {\n",
        "            $myPB.progressbar('value', 402);\n",
        "        } else {\n",
        "            $myPB.progressbar({value: 0, max: 593});\n",
        "        }\n",
        "        "
       ],
       "metadata": {},
       "output_type": "display_data",
       "text": [
        "<IPython.core.display.Javascript at 0x114780150>"
       ]
      },
      {
       "javascript": [
        "$('div#cd03291e-3af7-4959-b151-add232c9b082').text('ETA:  0:00:00');"
       ],
       "metadata": {},
       "output_type": "display_data",
       "text": [
        "<IPython.core.display.Javascript at 0x114780290>"
       ]
      },
      {
       "javascript": [
        "$('div#9d37b887-fb70-4dc8-8e5c-1e76ab18de6d').text('408/593');"
       ],
       "metadata": {},
       "output_type": "display_data",
       "text": [
        "<IPython.core.display.Javascript at 0x114785e90>"
       ]
      },
      {
       "javascript": [
        "$('div#ab5e3c02-b905-475b-a430-31b97942181f').text(' 68%');"
       ],
       "metadata": {},
       "output_type": "display_data",
       "text": [
        "<IPython.core.display.Javascript at 0x114785f10>"
       ]
      },
      {
       "javascript": [
        "\n",
        "        var $myPB = $(\"div#603dd5d6-0527-48ce-991c-b87add1ee92f\")\n",
        "        if ($myPB.hasClass('ui-progressbar')) {\n",
        "            $myPB.progressbar('value', 408);\n",
        "        } else {\n",
        "            $myPB.progressbar({value: 0, max: 593});\n",
        "        }\n",
        "        "
       ],
       "metadata": {},
       "output_type": "display_data",
       "text": [
        "<IPython.core.display.Javascript at 0x114785f50>"
       ]
      },
      {
       "javascript": [
        "$('div#cd03291e-3af7-4959-b151-add232c9b082').text('ETA:  0:00:00');"
       ],
       "metadata": {},
       "output_type": "display_data",
       "text": [
        "<IPython.core.display.Javascript at 0x11478b0d0>"
       ]
      },
      {
       "javascript": [
        "$('div#9d37b887-fb70-4dc8-8e5c-1e76ab18de6d').text('414/593');"
       ],
       "metadata": {},
       "output_type": "display_data",
       "text": [
        "<IPython.core.display.Javascript at 0x11478f9d0>"
       ]
      },
      {
       "javascript": [
        "$('div#ab5e3c02-b905-475b-a430-31b97942181f').text(' 69%');"
       ],
       "metadata": {},
       "output_type": "display_data",
       "text": [
        "<IPython.core.display.Javascript at 0x11478fa50>"
       ]
      },
      {
       "javascript": [
        "\n",
        "        var $myPB = $(\"div#603dd5d6-0527-48ce-991c-b87add1ee92f\")\n",
        "        if ($myPB.hasClass('ui-progressbar')) {\n",
        "            $myPB.progressbar('value', 414);\n",
        "        } else {\n",
        "            $myPB.progressbar({value: 0, max: 593});\n",
        "        }\n",
        "        "
       ],
       "metadata": {},
       "output_type": "display_data",
       "text": [
        "<IPython.core.display.Javascript at 0x11478fa90>"
       ]
      },
      {
       "javascript": [
        "$('div#cd03291e-3af7-4959-b151-add232c9b082').text('ETA:  0:00:00');"
       ],
       "metadata": {},
       "output_type": "display_data",
       "text": [
        "<IPython.core.display.Javascript at 0x11478fbd0>"
       ]
      },
      {
       "javascript": [
        "$('div#9d37b887-fb70-4dc8-8e5c-1e76ab18de6d').text('420/593');"
       ],
       "metadata": {},
       "output_type": "display_data",
       "text": [
        "<IPython.core.display.Javascript at 0x114797610>"
       ]
      },
      {
       "javascript": [
        "$('div#ab5e3c02-b905-475b-a430-31b97942181f').text(' 70%');"
       ],
       "metadata": {},
       "output_type": "display_data",
       "text": [
        "<IPython.core.display.Javascript at 0x114797690>"
       ]
      },
      {
       "javascript": [
        "\n",
        "        var $myPB = $(\"div#603dd5d6-0527-48ce-991c-b87add1ee92f\")\n",
        "        if ($myPB.hasClass('ui-progressbar')) {\n",
        "            $myPB.progressbar('value', 420);\n",
        "        } else {\n",
        "            $myPB.progressbar({value: 0, max: 593});\n",
        "        }\n",
        "        "
       ],
       "metadata": {},
       "output_type": "display_data",
       "text": [
        "<IPython.core.display.Javascript at 0x1147976d0>"
       ]
      },
      {
       "javascript": [
        "$('div#cd03291e-3af7-4959-b151-add232c9b082').text('ETA:  0:00:00');"
       ],
       "metadata": {},
       "output_type": "display_data",
       "text": [
        "<IPython.core.display.Javascript at 0x114797810>"
       ]
      },
      {
       "javascript": [
        "$('div#9d37b887-fb70-4dc8-8e5c-1e76ab18de6d').text('426/593');"
       ],
       "metadata": {},
       "output_type": "display_data",
       "text": [
        "<IPython.core.display.Javascript at 0x114799790>"
       ]
      },
      {
       "javascript": [
        "$('div#ab5e3c02-b905-475b-a430-31b97942181f').text(' 71%');"
       ],
       "metadata": {},
       "output_type": "display_data",
       "text": [
        "<IPython.core.display.Javascript at 0x1147997d0>"
       ]
      },
      {
       "javascript": [
        "\n",
        "        var $myPB = $(\"div#603dd5d6-0527-48ce-991c-b87add1ee92f\")\n",
        "        if ($myPB.hasClass('ui-progressbar')) {\n",
        "            $myPB.progressbar('value', 426);\n",
        "        } else {\n",
        "            $myPB.progressbar({value: 0, max: 593});\n",
        "        }\n",
        "        "
       ],
       "metadata": {},
       "output_type": "display_data",
       "text": [
        "<IPython.core.display.Javascript at 0x114799810>"
       ]
      },
      {
       "javascript": [
        "$('div#cd03291e-3af7-4959-b151-add232c9b082').text('ETA:  0:00:00');"
       ],
       "metadata": {},
       "output_type": "display_data",
       "text": [
        "<IPython.core.display.Javascript at 0x114799910>"
       ]
      },
      {
       "javascript": [
        "$('div#9d37b887-fb70-4dc8-8e5c-1e76ab18de6d').text('432/593');"
       ],
       "metadata": {},
       "output_type": "display_data",
       "text": [
        "<IPython.core.display.Javascript at 0x1147a5710>"
       ]
      },
      {
       "javascript": [
        "$('div#ab5e3c02-b905-475b-a430-31b97942181f').text(' 72%');"
       ],
       "metadata": {},
       "output_type": "display_data",
       "text": [
        "<IPython.core.display.Javascript at 0x1147a5790>"
       ]
      },
      {
       "javascript": [
        "\n",
        "        var $myPB = $(\"div#603dd5d6-0527-48ce-991c-b87add1ee92f\")\n",
        "        if ($myPB.hasClass('ui-progressbar')) {\n",
        "            $myPB.progressbar('value', 432);\n",
        "        } else {\n",
        "            $myPB.progressbar({value: 0, max: 593});\n",
        "        }\n",
        "        "
       ],
       "metadata": {},
       "output_type": "display_data",
       "text": [
        "<IPython.core.display.Javascript at 0x1147a57d0>"
       ]
      },
      {
       "javascript": [
        "$('div#cd03291e-3af7-4959-b151-add232c9b082').text('ETA:  0:00:00');"
       ],
       "metadata": {},
       "output_type": "display_data",
       "text": [
        "<IPython.core.display.Javascript at 0x1147a5910>"
       ]
      },
      {
       "javascript": [
        "$('div#9d37b887-fb70-4dc8-8e5c-1e76ab18de6d').text('438/593');"
       ],
       "metadata": {},
       "output_type": "display_data",
       "text": [
        "<IPython.core.display.Javascript at 0x1147ace90>"
       ]
      },
      {
       "javascript": [
        "$('div#ab5e3c02-b905-475b-a430-31b97942181f').text(' 73%');"
       ],
       "metadata": {},
       "output_type": "display_data",
       "text": [
        "<IPython.core.display.Javascript at 0x1147acf10>"
       ]
      },
      {
       "javascript": [
        "\n",
        "        var $myPB = $(\"div#603dd5d6-0527-48ce-991c-b87add1ee92f\")\n",
        "        if ($myPB.hasClass('ui-progressbar')) {\n",
        "            $myPB.progressbar('value', 438);\n",
        "        } else {\n",
        "            $myPB.progressbar({value: 0, max: 593});\n",
        "        }\n",
        "        "
       ],
       "metadata": {},
       "output_type": "display_data",
       "text": [
        "<IPython.core.display.Javascript at 0x1147acf50>"
       ]
      },
      {
       "javascript": [
        "$('div#cd03291e-3af7-4959-b151-add232c9b082').text('ETA:  0:00:00');"
       ],
       "metadata": {},
       "output_type": "display_data",
       "text": [
        "<IPython.core.display.Javascript at 0x1147b10d0>"
       ]
      },
      {
       "javascript": [
        "$('div#9d37b887-fb70-4dc8-8e5c-1e76ab18de6d').text('444/593');"
       ],
       "metadata": {},
       "output_type": "display_data",
       "text": [
        "<IPython.core.display.Javascript at 0x1147b2910>"
       ]
      },
      {
       "javascript": [
        "$('div#ab5e3c02-b905-475b-a430-31b97942181f').text(' 74%');"
       ],
       "metadata": {},
       "output_type": "display_data",
       "text": [
        "<IPython.core.display.Javascript at 0x1147b2950>"
       ]
      },
      {
       "javascript": [
        "\n",
        "        var $myPB = $(\"div#603dd5d6-0527-48ce-991c-b87add1ee92f\")\n",
        "        if ($myPB.hasClass('ui-progressbar')) {\n",
        "            $myPB.progressbar('value', 444);\n",
        "        } else {\n",
        "            $myPB.progressbar({value: 0, max: 593});\n",
        "        }\n",
        "        "
       ],
       "metadata": {},
       "output_type": "display_data",
       "text": [
        "<IPython.core.display.Javascript at 0x1147b2990>"
       ]
      },
      {
       "javascript": [
        "$('div#cd03291e-3af7-4959-b151-add232c9b082').text('ETA:  0:00:00');"
       ],
       "metadata": {},
       "output_type": "display_data",
       "text": [
        "<IPython.core.display.Javascript at 0x1147b2a90>"
       ]
      },
      {
       "javascript": [
        "$('div#9d37b887-fb70-4dc8-8e5c-1e76ab18de6d').text('450/593');"
       ],
       "metadata": {},
       "output_type": "display_data",
       "text": [
        "<IPython.core.display.Javascript at 0x115cc3d90>"
       ]
      },
      {
       "javascript": [
        "$('div#ab5e3c02-b905-475b-a430-31b97942181f').text(' 75%');"
       ],
       "metadata": {},
       "output_type": "display_data",
       "text": [
        "<IPython.core.display.Javascript at 0x115cc3e10>"
       ]
      },
      {
       "javascript": [
        "\n",
        "        var $myPB = $(\"div#603dd5d6-0527-48ce-991c-b87add1ee92f\")\n",
        "        if ($myPB.hasClass('ui-progressbar')) {\n",
        "            $myPB.progressbar('value', 450);\n",
        "        } else {\n",
        "            $myPB.progressbar({value: 0, max: 593});\n",
        "        }\n",
        "        "
       ],
       "metadata": {},
       "output_type": "display_data",
       "text": [
        "<IPython.core.display.Javascript at 0x115cc3e50>"
       ]
      },
      {
       "javascript": [
        "$('div#cd03291e-3af7-4959-b151-add232c9b082').text('ETA:  0:00:00');"
       ],
       "metadata": {},
       "output_type": "display_data",
       "text": [
        "<IPython.core.display.Javascript at 0x115cc3f90>"
       ]
      },
      {
       "javascript": [
        "$('div#9d37b887-fb70-4dc8-8e5c-1e76ab18de6d').text('456/593');"
       ],
       "metadata": {},
       "output_type": "display_data",
       "text": [
        "<IPython.core.display.Javascript at 0x115cd20d0>"
       ]
      },
      {
       "javascript": [
        "$('div#ab5e3c02-b905-475b-a430-31b97942181f').text(' 76%');"
       ],
       "metadata": {},
       "output_type": "display_data",
       "text": [
        "<IPython.core.display.Javascript at 0x115cd2150>"
       ]
      },
      {
       "javascript": [
        "\n",
        "        var $myPB = $(\"div#603dd5d6-0527-48ce-991c-b87add1ee92f\")\n",
        "        if ($myPB.hasClass('ui-progressbar')) {\n",
        "            $myPB.progressbar('value', 456);\n",
        "        } else {\n",
        "            $myPB.progressbar({value: 0, max: 593});\n",
        "        }\n",
        "        "
       ],
       "metadata": {},
       "output_type": "display_data",
       "text": [
        "<IPython.core.display.Javascript at 0x115cd2190>"
       ]
      },
      {
       "javascript": [
        "$('div#cd03291e-3af7-4959-b151-add232c9b082').text('ETA:  0:00:00');"
       ],
       "metadata": {},
       "output_type": "display_data",
       "text": [
        "<IPython.core.display.Javascript at 0x115cd22d0>"
       ]
      },
      {
       "javascript": [
        "$('div#9d37b887-fb70-4dc8-8e5c-1e76ab18de6d').text('462/593');"
       ],
       "metadata": {},
       "output_type": "display_data",
       "text": [
        "<IPython.core.display.Javascript at 0x115cd70d0>"
       ]
      },
      {
       "javascript": [
        "$('div#ab5e3c02-b905-475b-a430-31b97942181f').text(' 77%');"
       ],
       "metadata": {},
       "output_type": "display_data",
       "text": [
        "<IPython.core.display.Javascript at 0x115cd7150>"
       ]
      },
      {
       "javascript": [
        "\n",
        "        var $myPB = $(\"div#603dd5d6-0527-48ce-991c-b87add1ee92f\")\n",
        "        if ($myPB.hasClass('ui-progressbar')) {\n",
        "            $myPB.progressbar('value', 462);\n",
        "        } else {\n",
        "            $myPB.progressbar({value: 0, max: 593});\n",
        "        }\n",
        "        "
       ],
       "metadata": {},
       "output_type": "display_data",
       "text": [
        "<IPython.core.display.Javascript at 0x115cd7190>"
       ]
      },
      {
       "javascript": [
        "$('div#cd03291e-3af7-4959-b151-add232c9b082').text('ETA:  0:00:00');"
       ],
       "metadata": {},
       "output_type": "display_data",
       "text": [
        "<IPython.core.display.Javascript at 0x115cd72d0>"
       ]
      },
      {
       "javascript": [
        "$('div#9d37b887-fb70-4dc8-8e5c-1e76ab18de6d').text('468/593');"
       ],
       "metadata": {},
       "output_type": "display_data",
       "text": [
        "<IPython.core.display.Javascript at 0x115cd7510>"
       ]
      },
      {
       "javascript": [
        "$('div#ab5e3c02-b905-475b-a430-31b97942181f').text(' 78%');"
       ],
       "metadata": {},
       "output_type": "display_data",
       "text": [
        "<IPython.core.display.Javascript at 0x115cd7550>"
       ]
      },
      {
       "javascript": [
        "\n",
        "        var $myPB = $(\"div#603dd5d6-0527-48ce-991c-b87add1ee92f\")\n",
        "        if ($myPB.hasClass('ui-progressbar')) {\n",
        "            $myPB.progressbar('value', 468);\n",
        "        } else {\n",
        "            $myPB.progressbar({value: 0, max: 593});\n",
        "        }\n",
        "        "
       ],
       "metadata": {},
       "output_type": "display_data",
       "text": [
        "<IPython.core.display.Javascript at 0x115cd7590>"
       ]
      },
      {
       "javascript": [
        "$('div#cd03291e-3af7-4959-b151-add232c9b082').text('ETA:  0:00:00');"
       ],
       "metadata": {},
       "output_type": "display_data",
       "text": [
        "<IPython.core.display.Javascript at 0x115cd75d0>"
       ]
      },
      {
       "javascript": [
        "$('div#9d37b887-fb70-4dc8-8e5c-1e76ab18de6d').text('474/593');"
       ],
       "metadata": {},
       "output_type": "display_data",
       "text": [
        "<IPython.core.display.Javascript at 0x115cdaf90>"
       ]
      },
      {
       "javascript": [
        "$('div#ab5e3c02-b905-475b-a430-31b97942181f').text(' 79%');"
       ],
       "metadata": {},
       "output_type": "display_data",
       "text": [
        "<IPython.core.display.Javascript at 0x115cdafd0>"
       ]
      },
      {
       "javascript": [
        "\n",
        "        var $myPB = $(\"div#603dd5d6-0527-48ce-991c-b87add1ee92f\")\n",
        "        if ($myPB.hasClass('ui-progressbar')) {\n",
        "            $myPB.progressbar('value', 474);\n",
        "        } else {\n",
        "            $myPB.progressbar({value: 0, max: 593});\n",
        "        }\n",
        "        "
       ],
       "metadata": {},
       "output_type": "display_data",
       "text": [
        "<IPython.core.display.Javascript at 0x115cdc050>"
       ]
      },
      {
       "javascript": [
        "$('div#cd03291e-3af7-4959-b151-add232c9b082').text('ETA:  0:00:00');"
       ],
       "metadata": {},
       "output_type": "display_data",
       "text": [
        "<IPython.core.display.Javascript at 0x115cdc150>"
       ]
      },
      {
       "javascript": [
        "$('div#9d37b887-fb70-4dc8-8e5c-1e76ab18de6d').text('480/593');"
       ],
       "metadata": {},
       "output_type": "display_data",
       "text": [
        "<IPython.core.display.Javascript at 0x115ce6050>"
       ]
      },
      {
       "javascript": [
        "$('div#ab5e3c02-b905-475b-a430-31b97942181f').text(' 80%');"
       ],
       "metadata": {},
       "output_type": "display_data",
       "text": [
        "<IPython.core.display.Javascript at 0x115ce60d0>"
       ]
      },
      {
       "javascript": [
        "\n",
        "        var $myPB = $(\"div#603dd5d6-0527-48ce-991c-b87add1ee92f\")\n",
        "        if ($myPB.hasClass('ui-progressbar')) {\n",
        "            $myPB.progressbar('value', 480);\n",
        "        } else {\n",
        "            $myPB.progressbar({value: 0, max: 593});\n",
        "        }\n",
        "        "
       ],
       "metadata": {},
       "output_type": "display_data",
       "text": [
        "<IPython.core.display.Javascript at 0x115ce6110>"
       ]
      },
      {
       "javascript": [
        "$('div#cd03291e-3af7-4959-b151-add232c9b082').text('ETA:  0:00:00');"
       ],
       "metadata": {},
       "output_type": "display_data",
       "text": [
        "<IPython.core.display.Javascript at 0x115ce6250>"
       ]
      },
      {
       "javascript": [
        "$('div#9d37b887-fb70-4dc8-8e5c-1e76ab18de6d').text('486/593');"
       ],
       "metadata": {},
       "output_type": "display_data",
       "text": [
        "<IPython.core.display.Javascript at 0x115cee3d0>"
       ]
      },
      {
       "javascript": [
        "$('div#ab5e3c02-b905-475b-a430-31b97942181f').text(' 81%');"
       ],
       "metadata": {},
       "output_type": "display_data",
       "text": [
        "<IPython.core.display.Javascript at 0x115cee450>"
       ]
      },
      {
       "javascript": [
        "\n",
        "        var $myPB = $(\"div#603dd5d6-0527-48ce-991c-b87add1ee92f\")\n",
        "        if ($myPB.hasClass('ui-progressbar')) {\n",
        "            $myPB.progressbar('value', 486);\n",
        "        } else {\n",
        "            $myPB.progressbar({value: 0, max: 593});\n",
        "        }\n",
        "        "
       ],
       "metadata": {},
       "output_type": "display_data",
       "text": [
        "<IPython.core.display.Javascript at 0x115cee490>"
       ]
      },
      {
       "javascript": [
        "$('div#cd03291e-3af7-4959-b151-add232c9b082').text('ETA:  0:00:00');"
       ],
       "metadata": {},
       "output_type": "display_data",
       "text": [
        "<IPython.core.display.Javascript at 0x115cee5d0>"
       ]
      },
      {
       "javascript": [
        "$('div#9d37b887-fb70-4dc8-8e5c-1e76ab18de6d').text('492/593');"
       ],
       "metadata": {},
       "output_type": "display_data",
       "text": [
        "<IPython.core.display.Javascript at 0x115cef310>"
       ]
      },
      {
       "javascript": [
        "$('div#ab5e3c02-b905-475b-a430-31b97942181f').text(' 82%');"
       ],
       "metadata": {},
       "output_type": "display_data",
       "text": [
        "<IPython.core.display.Javascript at 0x115cef390>"
       ]
      },
      {
       "javascript": [
        "\n",
        "        var $myPB = $(\"div#603dd5d6-0527-48ce-991c-b87add1ee92f\")\n",
        "        if ($myPB.hasClass('ui-progressbar')) {\n",
        "            $myPB.progressbar('value', 492);\n",
        "        } else {\n",
        "            $myPB.progressbar({value: 0, max: 593});\n",
        "        }\n",
        "        "
       ],
       "metadata": {},
       "output_type": "display_data",
       "text": [
        "<IPython.core.display.Javascript at 0x115cef3d0>"
       ]
      },
      {
       "javascript": [
        "$('div#cd03291e-3af7-4959-b151-add232c9b082').text('ETA:  0:00:00');"
       ],
       "metadata": {},
       "output_type": "display_data",
       "text": [
        "<IPython.core.display.Javascript at 0x115cef510>"
       ]
      },
      {
       "javascript": [
        "$('div#9d37b887-fb70-4dc8-8e5c-1e76ab18de6d').text('498/593');"
       ],
       "metadata": {},
       "output_type": "display_data",
       "text": [
        "<IPython.core.display.Javascript at 0x115cf5a10>"
       ]
      },
      {
       "javascript": [
        "$('div#ab5e3c02-b905-475b-a430-31b97942181f').text(' 83%');"
       ],
       "metadata": {},
       "output_type": "display_data",
       "text": [
        "<IPython.core.display.Javascript at 0x115cf5a50>"
       ]
      },
      {
       "javascript": [
        "\n",
        "        var $myPB = $(\"div#603dd5d6-0527-48ce-991c-b87add1ee92f\")\n",
        "        if ($myPB.hasClass('ui-progressbar')) {\n",
        "            $myPB.progressbar('value', 498);\n",
        "        } else {\n",
        "            $myPB.progressbar({value: 0, max: 593});\n",
        "        }\n",
        "        "
       ],
       "metadata": {},
       "output_type": "display_data",
       "text": [
        "<IPython.core.display.Javascript at 0x115cf5a90>"
       ]
      },
      {
       "javascript": [
        "$('div#cd03291e-3af7-4959-b151-add232c9b082').text('ETA:  0:00:00');"
       ],
       "metadata": {},
       "output_type": "display_data",
       "text": [
        "<IPython.core.display.Javascript at 0x115cf5b90>"
       ]
      },
      {
       "javascript": [
        "$('div#9d37b887-fb70-4dc8-8e5c-1e76ab18de6d').text('504/593');"
       ],
       "metadata": {},
       "output_type": "display_data",
       "text": [
        "<IPython.core.display.Javascript at 0x11153c290>"
       ]
      },
      {
       "javascript": [
        "$('div#ab5e3c02-b905-475b-a430-31b97942181f').text(' 84%');"
       ],
       "metadata": {},
       "output_type": "display_data",
       "text": [
        "<IPython.core.display.Javascript at 0x11153c2d0>"
       ]
      },
      {
       "javascript": [
        "\n",
        "        var $myPB = $(\"div#603dd5d6-0527-48ce-991c-b87add1ee92f\")\n",
        "        if ($myPB.hasClass('ui-progressbar')) {\n",
        "            $myPB.progressbar('value', 504);\n",
        "        } else {\n",
        "            $myPB.progressbar({value: 0, max: 593});\n",
        "        }\n",
        "        "
       ],
       "metadata": {},
       "output_type": "display_data",
       "text": [
        "<IPython.core.display.Javascript at 0x11153c310>"
       ]
      },
      {
       "javascript": [
        "$('div#cd03291e-3af7-4959-b151-add232c9b082').text('ETA:  0:00:00');"
       ],
       "metadata": {},
       "output_type": "display_data",
       "text": [
        "<IPython.core.display.Javascript at 0x11153c410>"
       ]
      },
      {
       "javascript": [
        "$('div#9d37b887-fb70-4dc8-8e5c-1e76ab18de6d').text('510/593');"
       ],
       "metadata": {},
       "output_type": "display_data",
       "text": [
        "<IPython.core.display.Javascript at 0x11153c6d0>"
       ]
      },
      {
       "javascript": [
        "$('div#ab5e3c02-b905-475b-a430-31b97942181f').text(' 86%');"
       ],
       "metadata": {},
       "output_type": "display_data",
       "text": [
        "<IPython.core.display.Javascript at 0x11153c710>"
       ]
      },
      {
       "javascript": [
        "\n",
        "        var $myPB = $(\"div#603dd5d6-0527-48ce-991c-b87add1ee92f\")\n",
        "        if ($myPB.hasClass('ui-progressbar')) {\n",
        "            $myPB.progressbar('value', 510);\n",
        "        } else {\n",
        "            $myPB.progressbar({value: 0, max: 593});\n",
        "        }\n",
        "        "
       ],
       "metadata": {},
       "output_type": "display_data",
       "text": [
        "<IPython.core.display.Javascript at 0x11153c750>"
       ]
      },
      {
       "javascript": [
        "$('div#cd03291e-3af7-4959-b151-add232c9b082').text('ETA:  0:00:00');"
       ],
       "metadata": {},
       "output_type": "display_data",
       "text": [
        "<IPython.core.display.Javascript at 0x11153c790>"
       ]
      },
      {
       "javascript": [
        "$('div#9d37b887-fb70-4dc8-8e5c-1e76ab18de6d').text('516/593');"
       ],
       "metadata": {},
       "output_type": "display_data",
       "text": [
        "<IPython.core.display.Javascript at 0x1115425d0>"
       ]
      },
      {
       "javascript": [
        "$('div#ab5e3c02-b905-475b-a430-31b97942181f').text(' 87%');"
       ],
       "metadata": {},
       "output_type": "display_data",
       "text": [
        "<IPython.core.display.Javascript at 0x111542610>"
       ]
      },
      {
       "javascript": [
        "\n",
        "        var $myPB = $(\"div#603dd5d6-0527-48ce-991c-b87add1ee92f\")\n",
        "        if ($myPB.hasClass('ui-progressbar')) {\n",
        "            $myPB.progressbar('value', 516);\n",
        "        } else {\n",
        "            $myPB.progressbar({value: 0, max: 593});\n",
        "        }\n",
        "        "
       ],
       "metadata": {},
       "output_type": "display_data",
       "text": [
        "<IPython.core.display.Javascript at 0x111542650>"
       ]
      },
      {
       "javascript": [
        "$('div#cd03291e-3af7-4959-b151-add232c9b082').text('ETA:  0:00:00');"
       ],
       "metadata": {},
       "output_type": "display_data",
       "text": [
        "<IPython.core.display.Javascript at 0x111542750>"
       ]
      },
      {
       "javascript": [
        "$('div#9d37b887-fb70-4dc8-8e5c-1e76ab18de6d').text('522/593');"
       ],
       "metadata": {},
       "output_type": "display_data",
       "text": [
        "<IPython.core.display.Javascript at 0x111542cd0>"
       ]
      },
      {
       "javascript": [
        "$('div#ab5e3c02-b905-475b-a430-31b97942181f').text(' 88%');"
       ],
       "metadata": {},
       "output_type": "display_data",
       "text": [
        "<IPython.core.display.Javascript at 0x111542d10>"
       ]
      },
      {
       "javascript": [
        "\n",
        "        var $myPB = $(\"div#603dd5d6-0527-48ce-991c-b87add1ee92f\")\n",
        "        if ($myPB.hasClass('ui-progressbar')) {\n",
        "            $myPB.progressbar('value', 522);\n",
        "        } else {\n",
        "            $myPB.progressbar({value: 0, max: 593});\n",
        "        }\n",
        "        "
       ],
       "metadata": {},
       "output_type": "display_data",
       "text": [
        "<IPython.core.display.Javascript at 0x111542d50>"
       ]
      },
      {
       "javascript": [
        "$('div#cd03291e-3af7-4959-b151-add232c9b082').text('ETA:  0:00:00');"
       ],
       "metadata": {},
       "output_type": "display_data",
       "text": [
        "<IPython.core.display.Javascript at 0x111542d90>"
       ]
      },
      {
       "javascript": [
        "$('div#9d37b887-fb70-4dc8-8e5c-1e76ab18de6d').text('528/593');"
       ],
       "metadata": {},
       "output_type": "display_data",
       "text": [
        "<IPython.core.display.Javascript at 0x11154d150>"
       ]
      },
      {
       "javascript": [
        "$('div#ab5e3c02-b905-475b-a430-31b97942181f').text(' 89%');"
       ],
       "metadata": {},
       "output_type": "display_data",
       "text": [
        "<IPython.core.display.Javascript at 0x11154d190>"
       ]
      },
      {
       "javascript": [
        "\n",
        "        var $myPB = $(\"div#603dd5d6-0527-48ce-991c-b87add1ee92f\")\n",
        "        if ($myPB.hasClass('ui-progressbar')) {\n",
        "            $myPB.progressbar('value', 528);\n",
        "        } else {\n",
        "            $myPB.progressbar({value: 0, max: 593});\n",
        "        }\n",
        "        "
       ],
       "metadata": {},
       "output_type": "display_data",
       "text": [
        "<IPython.core.display.Javascript at 0x11154d1d0>"
       ]
      },
      {
       "javascript": [
        "$('div#cd03291e-3af7-4959-b151-add232c9b082').text('ETA:  0:00:00');"
       ],
       "metadata": {},
       "output_type": "display_data",
       "text": [
        "<IPython.core.display.Javascript at 0x11154d210>"
       ]
      },
      {
       "javascript": [
        "$('div#9d37b887-fb70-4dc8-8e5c-1e76ab18de6d').text('534/593');"
       ],
       "metadata": {},
       "output_type": "display_data",
       "text": [
        "<IPython.core.display.Javascript at 0x11154d510>"
       ]
      },
      {
       "javascript": [
        "$('div#ab5e3c02-b905-475b-a430-31b97942181f').text(' 90%');"
       ],
       "metadata": {},
       "output_type": "display_data",
       "text": [
        "<IPython.core.display.Javascript at 0x11154d550>"
       ]
      },
      {
       "javascript": [
        "\n",
        "        var $myPB = $(\"div#603dd5d6-0527-48ce-991c-b87add1ee92f\")\n",
        "        if ($myPB.hasClass('ui-progressbar')) {\n",
        "            $myPB.progressbar('value', 534);\n",
        "        } else {\n",
        "            $myPB.progressbar({value: 0, max: 593});\n",
        "        }\n",
        "        "
       ],
       "metadata": {},
       "output_type": "display_data",
       "text": [
        "<IPython.core.display.Javascript at 0x11154d590>"
       ]
      },
      {
       "javascript": [
        "$('div#cd03291e-3af7-4959-b151-add232c9b082').text('ETA:  0:00:00');"
       ],
       "metadata": {},
       "output_type": "display_data",
       "text": [
        "<IPython.core.display.Javascript at 0x11154d5d0>"
       ]
      },
      {
       "javascript": [
        "$('div#9d37b887-fb70-4dc8-8e5c-1e76ab18de6d').text('540/593');"
       ],
       "metadata": {},
       "output_type": "display_data",
       "text": [
        "<IPython.core.display.Javascript at 0x11154d790>"
       ]
      },
      {
       "javascript": [
        "$('div#ab5e3c02-b905-475b-a430-31b97942181f').text(' 91%');"
       ],
       "metadata": {},
       "output_type": "display_data",
       "text": [
        "<IPython.core.display.Javascript at 0x11154d7d0>"
       ]
      },
      {
       "javascript": [
        "\n",
        "        var $myPB = $(\"div#603dd5d6-0527-48ce-991c-b87add1ee92f\")\n",
        "        if ($myPB.hasClass('ui-progressbar')) {\n",
        "            $myPB.progressbar('value', 540);\n",
        "        } else {\n",
        "            $myPB.progressbar({value: 0, max: 593});\n",
        "        }\n",
        "        "
       ],
       "metadata": {},
       "output_type": "display_data",
       "text": [
        "<IPython.core.display.Javascript at 0x11154d810>"
       ]
      },
      {
       "javascript": [
        "$('div#cd03291e-3af7-4959-b151-add232c9b082').text('ETA:  0:00:00');"
       ],
       "metadata": {},
       "output_type": "display_data",
       "text": [
        "<IPython.core.display.Javascript at 0x11154d850>"
       ]
      },
      {
       "javascript": [
        "$('div#9d37b887-fb70-4dc8-8e5c-1e76ab18de6d').text('546/593');"
       ],
       "metadata": {},
       "output_type": "display_data",
       "text": [
        "<IPython.core.display.Javascript at 0x111558810>"
       ]
      },
      {
       "javascript": [
        "$('div#ab5e3c02-b905-475b-a430-31b97942181f').text(' 92%');"
       ],
       "metadata": {},
       "output_type": "display_data",
       "text": [
        "<IPython.core.display.Javascript at 0x111558850>"
       ]
      },
      {
       "javascript": [
        "\n",
        "        var $myPB = $(\"div#603dd5d6-0527-48ce-991c-b87add1ee92f\")\n",
        "        if ($myPB.hasClass('ui-progressbar')) {\n",
        "            $myPB.progressbar('value', 546);\n",
        "        } else {\n",
        "            $myPB.progressbar({value: 0, max: 593});\n",
        "        }\n",
        "        "
       ],
       "metadata": {},
       "output_type": "display_data",
       "text": [
        "<IPython.core.display.Javascript at 0x111558890>"
       ]
      },
      {
       "javascript": [
        "$('div#cd03291e-3af7-4959-b151-add232c9b082').text('ETA:  0:00:00');"
       ],
       "metadata": {},
       "output_type": "display_data",
       "text": [
        "<IPython.core.display.Javascript at 0x111558990>"
       ]
      },
      {
       "javascript": [
        "$('div#9d37b887-fb70-4dc8-8e5c-1e76ab18de6d').text('552/593');"
       ],
       "metadata": {},
       "output_type": "display_data",
       "text": [
        "<IPython.core.display.Javascript at 0x11155b590>"
       ]
      },
      {
       "javascript": [
        "$('div#ab5e3c02-b905-475b-a430-31b97942181f').text(' 93%');"
       ],
       "metadata": {},
       "output_type": "display_data",
       "text": [
        "<IPython.core.display.Javascript at 0x11155b5d0>"
       ]
      },
      {
       "javascript": [
        "\n",
        "        var $myPB = $(\"div#603dd5d6-0527-48ce-991c-b87add1ee92f\")\n",
        "        if ($myPB.hasClass('ui-progressbar')) {\n",
        "            $myPB.progressbar('value', 552);\n",
        "        } else {\n",
        "            $myPB.progressbar({value: 0, max: 593});\n",
        "        }\n",
        "        "
       ],
       "metadata": {},
       "output_type": "display_data",
       "text": [
        "<IPython.core.display.Javascript at 0x11155b610>"
       ]
      },
      {
       "javascript": [
        "$('div#cd03291e-3af7-4959-b151-add232c9b082').text('ETA:  0:00:00');"
       ],
       "metadata": {},
       "output_type": "display_data",
       "text": [
        "<IPython.core.display.Javascript at 0x11155b710>"
       ]
      },
      {
       "javascript": [
        "$('div#9d37b887-fb70-4dc8-8e5c-1e76ab18de6d').text('558/593');"
       ],
       "metadata": {},
       "output_type": "display_data",
       "text": [
        "<IPython.core.display.Javascript at 0x111562150>"
       ]
      },
      {
       "javascript": [
        "$('div#ab5e3c02-b905-475b-a430-31b97942181f').text(' 94%');"
       ],
       "metadata": {},
       "output_type": "display_data",
       "text": [
        "<IPython.core.display.Javascript at 0x1115621d0>"
       ]
      },
      {
       "javascript": [
        "\n",
        "        var $myPB = $(\"div#603dd5d6-0527-48ce-991c-b87add1ee92f\")\n",
        "        if ($myPB.hasClass('ui-progressbar')) {\n",
        "            $myPB.progressbar('value', 558);\n",
        "        } else {\n",
        "            $myPB.progressbar({value: 0, max: 593});\n",
        "        }\n",
        "        "
       ],
       "metadata": {},
       "output_type": "display_data",
       "text": [
        "<IPython.core.display.Javascript at 0x111562210>"
       ]
      },
      {
       "javascript": [
        "$('div#cd03291e-3af7-4959-b151-add232c9b082').text('ETA:  0:00:00');"
       ],
       "metadata": {},
       "output_type": "display_data",
       "text": [
        "<IPython.core.display.Javascript at 0x111562350>"
       ]
      },
      {
       "javascript": [
        "$('div#9d37b887-fb70-4dc8-8e5c-1e76ab18de6d').text('564/593');"
       ],
       "metadata": {},
       "output_type": "display_data",
       "text": [
        "<IPython.core.display.Javascript at 0x110cfcdd0>"
       ]
      },
      {
       "javascript": [
        "$('div#ab5e3c02-b905-475b-a430-31b97942181f').text(' 95%');"
       ],
       "metadata": {},
       "output_type": "display_data",
       "text": [
        "<IPython.core.display.Javascript at 0x110cfce50>"
       ]
      },
      {
       "javascript": [
        "\n",
        "        var $myPB = $(\"div#603dd5d6-0527-48ce-991c-b87add1ee92f\")\n",
        "        if ($myPB.hasClass('ui-progressbar')) {\n",
        "            $myPB.progressbar('value', 564);\n",
        "        } else {\n",
        "            $myPB.progressbar({value: 0, max: 593});\n",
        "        }\n",
        "        "
       ],
       "metadata": {},
       "output_type": "display_data",
       "text": [
        "<IPython.core.display.Javascript at 0x110cfce90>"
       ]
      },
      {
       "javascript": [
        "$('div#cd03291e-3af7-4959-b151-add232c9b082').text('ETA:  0:00:00');"
       ],
       "metadata": {},
       "output_type": "display_data",
       "text": [
        "<IPython.core.display.Javascript at 0x110cfcfd0>"
       ]
      },
      {
       "javascript": [
        "$('div#9d37b887-fb70-4dc8-8e5c-1e76ab18de6d').text('570/593');"
       ],
       "metadata": {},
       "output_type": "display_data",
       "text": [
        "<IPython.core.display.Javascript at 0x110d1d5d0>"
       ]
      },
      {
       "javascript": [
        "$('div#ab5e3c02-b905-475b-a430-31b97942181f').text(' 96%');"
       ],
       "metadata": {},
       "output_type": "display_data",
       "text": [
        "<IPython.core.display.Javascript at 0x110d1d610>"
       ]
      },
      {
       "javascript": [
        "\n",
        "        var $myPB = $(\"div#603dd5d6-0527-48ce-991c-b87add1ee92f\")\n",
        "        if ($myPB.hasClass('ui-progressbar')) {\n",
        "            $myPB.progressbar('value', 570);\n",
        "        } else {\n",
        "            $myPB.progressbar({value: 0, max: 593});\n",
        "        }\n",
        "        "
       ],
       "metadata": {},
       "output_type": "display_data",
       "text": [
        "<IPython.core.display.Javascript at 0x110d1d650>"
       ]
      },
      {
       "javascript": [
        "$('div#cd03291e-3af7-4959-b151-add232c9b082').text('ETA:  0:00:00');"
       ],
       "metadata": {},
       "output_type": "display_data",
       "text": [
        "<IPython.core.display.Javascript at 0x110d1d750>"
       ]
      },
      {
       "javascript": [
        "$('div#9d37b887-fb70-4dc8-8e5c-1e76ab18de6d').text('576/593');"
       ],
       "metadata": {},
       "output_type": "display_data",
       "text": [
        "<IPython.core.display.Javascript at 0x110d1da10>"
       ]
      },
      {
       "javascript": [
        "$('div#ab5e3c02-b905-475b-a430-31b97942181f').text(' 97%');"
       ],
       "metadata": {},
       "output_type": "display_data",
       "text": [
        "<IPython.core.display.Javascript at 0x110d1da50>"
       ]
      },
      {
       "javascript": [
        "\n",
        "        var $myPB = $(\"div#603dd5d6-0527-48ce-991c-b87add1ee92f\")\n",
        "        if ($myPB.hasClass('ui-progressbar')) {\n",
        "            $myPB.progressbar('value', 576);\n",
        "        } else {\n",
        "            $myPB.progressbar({value: 0, max: 593});\n",
        "        }\n",
        "        "
       ],
       "metadata": {},
       "output_type": "display_data",
       "text": [
        "<IPython.core.display.Javascript at 0x110d1da90>"
       ]
      },
      {
       "javascript": [
        "$('div#cd03291e-3af7-4959-b151-add232c9b082').text('ETA:  0:00:00');"
       ],
       "metadata": {},
       "output_type": "display_data",
       "text": [
        "<IPython.core.display.Javascript at 0x110d1db50>"
       ]
      },
      {
       "javascript": [
        "$('div#9d37b887-fb70-4dc8-8e5c-1e76ab18de6d').text('582/593');"
       ],
       "metadata": {},
       "output_type": "display_data",
       "text": [
        "<IPython.core.display.Javascript at 0x110d1ddd0>"
       ]
      },
      {
       "javascript": [
        "$('div#ab5e3c02-b905-475b-a430-31b97942181f').text(' 98%');"
       ],
       "metadata": {},
       "output_type": "display_data",
       "text": [
        "<IPython.core.display.Javascript at 0x110d1de10>"
       ]
      },
      {
       "javascript": [
        "\n",
        "        var $myPB = $(\"div#603dd5d6-0527-48ce-991c-b87add1ee92f\")\n",
        "        if ($myPB.hasClass('ui-progressbar')) {\n",
        "            $myPB.progressbar('value', 582);\n",
        "        } else {\n",
        "            $myPB.progressbar({value: 0, max: 593});\n",
        "        }\n",
        "        "
       ],
       "metadata": {},
       "output_type": "display_data",
       "text": [
        "<IPython.core.display.Javascript at 0x110d1de50>"
       ]
      },
      {
       "javascript": [
        "$('div#cd03291e-3af7-4959-b151-add232c9b082').text('ETA:  0:00:00');"
       ],
       "metadata": {},
       "output_type": "display_data",
       "text": [
        "<IPython.core.display.Javascript at 0x110d1df90>"
       ]
      },
      {
       "javascript": [
        "$('div#9d37b887-fb70-4dc8-8e5c-1e76ab18de6d').text('588/593');"
       ],
       "metadata": {},
       "output_type": "display_data",
       "text": [
        "<IPython.core.display.Javascript at 0x110d29310>"
       ]
      },
      {
       "javascript": [
        "$('div#ab5e3c02-b905-475b-a430-31b97942181f').text(' 99%');"
       ],
       "metadata": {},
       "output_type": "display_data",
       "text": [
        "<IPython.core.display.Javascript at 0x110d29350>"
       ]
      },
      {
       "javascript": [
        "\n",
        "        var $myPB = $(\"div#603dd5d6-0527-48ce-991c-b87add1ee92f\")\n",
        "        if ($myPB.hasClass('ui-progressbar')) {\n",
        "            $myPB.progressbar('value', 588);\n",
        "        } else {\n",
        "            $myPB.progressbar({value: 0, max: 593});\n",
        "        }\n",
        "        "
       ],
       "metadata": {},
       "output_type": "display_data",
       "text": [
        "<IPython.core.display.Javascript at 0x110d29390>"
       ]
      },
      {
       "javascript": [
        "$('div#cd03291e-3af7-4959-b151-add232c9b082').text('ETA:  0:00:00');"
       ],
       "metadata": {},
       "output_type": "display_data",
       "text": [
        "<IPython.core.display.Javascript at 0x110d29490>"
       ]
      },
      {
       "javascript": [
        "$('div#9d37b887-fb70-4dc8-8e5c-1e76ab18de6d').text('593/593');"
       ],
       "metadata": {},
       "output_type": "display_data",
       "text": [
        "<IPython.core.display.Javascript at 0x110d296d0>"
       ]
      },
      {
       "javascript": [
        "$('div#ab5e3c02-b905-475b-a430-31b97942181f').text('100%');"
       ],
       "metadata": {},
       "output_type": "display_data",
       "text": [
        "<IPython.core.display.Javascript at 0x110d29710>"
       ]
      },
      {
       "javascript": [
        "\n",
        "        var $myPB = $(\"div#603dd5d6-0527-48ce-991c-b87add1ee92f\")\n",
        "        if ($myPB.hasClass('ui-progressbar')) {\n",
        "            $myPB.progressbar('value', 593);\n",
        "        } else {\n",
        "            $myPB.progressbar({value: 0, max: 593});\n",
        "        }\n",
        "        "
       ],
       "metadata": {},
       "output_type": "display_data",
       "text": [
        "<IPython.core.display.Javascript at 0x110d29750>"
       ]
      },
      {
       "javascript": [
        "$('div#cd03291e-3af7-4959-b151-add232c9b082').text('Time: 0:00:01');"
       ],
       "metadata": {},
       "output_type": "display_data",
       "text": [
        "<IPython.core.display.Javascript at 0x110d297d0>"
       ]
      },
      {
       "javascript": [
        "var element = document.getElementById('3791e701-3528-4f46-ab43-4235cb7a6cdf');\n",
        "                    var parent = element.parentNode\n",
        "                    parent.removeChild(element);\n",
        "                    parent.parentElement.remove();"
       ],
       "metadata": {},
       "output_type": "display_data",
       "text": [
        "<IPython.core.display.Javascript at 0x110f39c50>"
       ]
      },
      {
       "javascript": [
        "this.cleanProgressBar(['3791e701-3528-4f46-ab43-4235cb7a6cdf', '9d37b887-fb70-4dc8-8e5c-1e76ab18de6d', 'ab5e3c02-b905-475b-a430-31b97942181f', '603dd5d6-0527-48ce-991c-b87add1ee92f', 'cd03291e-3af7-4959-b151-add232c9b082'])"
       ],
       "metadata": {},
       "output_type": "display_data",
       "text": [
        "<IPython.core.display.Javascript at 0x110d29850>"
       ]
      },
      {
       "javascript": [
        "//a119e2d1-0b65-40f9-816e-ef392630a29c\n",
        "$(\"head\").append(\"<style> td.pb_widget {     width: auto; } td.pb_widget_fill {     width: 100%; } table.pb {     font-family: monospace;     border: 0;     margin: 0; } table.pb tr { border: 0; } table.pb td {     white-space: nowrap;     border: 0; } div.pb {     border: 1px solid #ddd;     border-radius: 3px; } div.pb_bar {     height: 1.5em; } </style>\")"
       ],
       "metadata": {},
       "output_type": "display_data",
       "text": [
        "<IPython.core.display.Javascript at 0x11316d510>"
       ]
      },
      {
       "javascript": [
        "\n",
        "                  // a119e2d1-0b65-40f9-816e-ef392630a29c -- used to remove this code blob in the end\n",
        "                  IPython.OutputArea.prototype.cleanProgressBar = function(uuids) {\n",
        "                      // filter by uuid-strings \n",
        "                      var myfilter = function(output) { \n",
        "                          var nuids = uuids.length;\n",
        "                          for (var i=0; i<nuids; i++) {\n",
        "                              if (output.hasOwnProperty('html')) {\n",
        "                                  if (output.html.indexOf(uuids[i]) != -1) {\n",
        "                                      return false;\n",
        "                                  }\n",
        "                              }\n",
        "                              if (output.hasOwnProperty('javascript')) {\n",
        "                                  if (output.javascript.indexOf(uuids[i]) != -1) {\n",
        "                                      return false;\n",
        "                                  }\n",
        "                              }\n",
        "                          }\n",
        "                          // keep all others\n",
        "                          return true;\n",
        "                      };\n",
        "\n",
        "                      // Filter the ouputs\n",
        "                      this.outputs = this.outputs.filter(myfilter);\n",
        "                };\n",
        "                "
       ],
       "metadata": {},
       "output_type": "display_data",
       "text": [
        "<IPython.core.display.Javascript at 0x11316ffd0>"
       ]
      },
      {
       "html": [
        "<div class=\"pb\" id=\"a119e2d1-0b65-40f9-816e-ef392630a29c\"><table class=\"pb ui-widget\"><tr>\n",
        "<td class=\"pb_widget\"><div id=\"9d37b887-fb70-4dc8-8e5c-1e76ab18de6d\">0/767</div></td>\n",
        "<td class=\"pb_widget\"> (</td>\n",
        "<td class=\"pb_widget\"><div id=\"ab5e3c02-b905-475b-a430-31b97942181f\">  0%</div></td>\n",
        "<td class=\"pb_widget\">) </td>\n",
        "<td class=\"pb_widget_fill\">\n",
        "        <div class=\"pb_bar\" id=\"603dd5d6-0527-48ce-991c-b87add1ee92f\"></div>\n",
        "        <script type=\"text/javascript\">\n",
        "            $(\"div#603dd5d6-0527-48ce-991c-b87add1ee92f\").progressbar({value: 0, max: 767});\n",
        "        </script>\n",
        "        </td>\n",
        "<td class=\"pb_widget\"> </td>\n",
        "<td class=\"pb_widget\"><div id=\"cd03291e-3af7-4959-b151-add232c9b082\">ETA:  --:--:--</div></td>\n",
        "</tr></table><div>"
       ],
       "metadata": {},
       "output_type": "display_data",
       "text": [
        "<IPython.core.display.HTML at 0x11316fed0>"
       ]
      },
      {
       "javascript": [
        "$('div#9d37b887-fb70-4dc8-8e5c-1e76ab18de6d').text('8/767');"
       ],
       "metadata": {},
       "output_type": "display_data",
       "text": [
        "<IPython.core.display.Javascript at 0x1131741d0>"
       ]
      },
      {
       "javascript": [
        "$('div#ab5e3c02-b905-475b-a430-31b97942181f').text('  1%');"
       ],
       "metadata": {},
       "output_type": "display_data",
       "text": [
        "<IPython.core.display.Javascript at 0x113174150>"
       ]
      },
      {
       "javascript": [
        "\n",
        "        var $myPB = $(\"div#603dd5d6-0527-48ce-991c-b87add1ee92f\")\n",
        "        if ($myPB.hasClass('ui-progressbar')) {\n",
        "            $myPB.progressbar('value', 8);\n",
        "        } else {\n",
        "            $myPB.progressbar({value: 0, max: 767});\n",
        "        }\n",
        "        "
       ],
       "metadata": {},
       "output_type": "display_data",
       "text": [
        "<IPython.core.display.Javascript at 0x113174190>"
       ]
      },
      {
       "javascript": [
        "$('div#cd03291e-3af7-4959-b151-add232c9b082').text('ETA:  0:00:03');"
       ],
       "metadata": {},
       "output_type": "display_data",
       "text": [
        "<IPython.core.display.Javascript at 0x113174090>"
       ]
      },
      {
       "javascript": [
        "$('div#9d37b887-fb70-4dc8-8e5c-1e76ab18de6d').text('16/767');"
       ],
       "metadata": {},
       "output_type": "display_data",
       "text": [
        "<IPython.core.display.Javascript at 0x113174290>"
       ]
      },
      {
       "javascript": [
        "$('div#ab5e3c02-b905-475b-a430-31b97942181f').text('  2%');"
       ],
       "metadata": {},
       "output_type": "display_data",
       "text": [
        "<IPython.core.display.Javascript at 0x1131742d0>"
       ]
      },
      {
       "javascript": [
        "\n",
        "        var $myPB = $(\"div#603dd5d6-0527-48ce-991c-b87add1ee92f\")\n",
        "        if ($myPB.hasClass('ui-progressbar')) {\n",
        "            $myPB.progressbar('value', 16);\n",
        "        } else {\n",
        "            $myPB.progressbar({value: 0, max: 767});\n",
        "        }\n",
        "        "
       ],
       "metadata": {},
       "output_type": "display_data",
       "text": [
        "<IPython.core.display.Javascript at 0x113174210>"
       ]
      },
      {
       "javascript": [
        "$('div#cd03291e-3af7-4959-b151-add232c9b082').text('ETA:  0:00:02');"
       ],
       "metadata": {},
       "output_type": "display_data",
       "text": [
        "<IPython.core.display.Javascript at 0x113157e10>"
       ]
      },
      {
       "javascript": [
        "$('div#9d37b887-fb70-4dc8-8e5c-1e76ab18de6d').text('24/767');"
       ],
       "metadata": {},
       "output_type": "display_data",
       "text": [
        "<IPython.core.display.Javascript at 0x111e5bd50>"
       ]
      },
      {
       "javascript": [
        "$('div#ab5e3c02-b905-475b-a430-31b97942181f').text('  3%');"
       ],
       "metadata": {},
       "output_type": "display_data",
       "text": [
        "<IPython.core.display.Javascript at 0x110a0ddd0>"
       ]
      },
      {
       "javascript": [
        "\n",
        "        var $myPB = $(\"div#603dd5d6-0527-48ce-991c-b87add1ee92f\")\n",
        "        if ($myPB.hasClass('ui-progressbar')) {\n",
        "            $myPB.progressbar('value', 24);\n",
        "        } else {\n",
        "            $myPB.progressbar({value: 0, max: 767});\n",
        "        }\n",
        "        "
       ],
       "metadata": {},
       "output_type": "display_data",
       "text": [
        "<IPython.core.display.Javascript at 0x110a0dd90>"
       ]
      },
      {
       "javascript": [
        "$('div#cd03291e-3af7-4959-b151-add232c9b082').text('ETA:  0:00:03');"
       ],
       "metadata": {},
       "output_type": "display_data",
       "text": [
        "<IPython.core.display.Javascript at 0x110a0de10>"
       ]
      },
      {
       "javascript": [
        "$('div#9d37b887-fb70-4dc8-8e5c-1e76ab18de6d').text('32/767');"
       ],
       "metadata": {},
       "output_type": "display_data",
       "text": [
        "<IPython.core.display.Javascript at 0x10e5a9050>"
       ]
      },
      {
       "javascript": [
        "$('div#ab5e3c02-b905-475b-a430-31b97942181f').text('  4%');"
       ],
       "metadata": {},
       "output_type": "display_data",
       "text": [
        "<IPython.core.display.Javascript at 0x112a486d0>"
       ]
      },
      {
       "javascript": [
        "\n",
        "        var $myPB = $(\"div#603dd5d6-0527-48ce-991c-b87add1ee92f\")\n",
        "        if ($myPB.hasClass('ui-progressbar')) {\n",
        "            $myPB.progressbar('value', 32);\n",
        "        } else {\n",
        "            $myPB.progressbar({value: 0, max: 767});\n",
        "        }\n",
        "        "
       ],
       "metadata": {},
       "output_type": "display_data",
       "text": [
        "<IPython.core.display.Javascript at 0x112a48c90>"
       ]
      },
      {
       "javascript": [
        "$('div#cd03291e-3af7-4959-b151-add232c9b082').text('ETA:  0:00:04');"
       ],
       "metadata": {},
       "output_type": "display_data",
       "text": [
        "<IPython.core.display.Javascript at 0x109c50b90>"
       ]
      },
      {
       "javascript": [
        "$('div#9d37b887-fb70-4dc8-8e5c-1e76ab18de6d').text('40/767');"
       ],
       "metadata": {},
       "output_type": "display_data",
       "text": [
        "<IPython.core.display.Javascript at 0x1112095d0>"
       ]
      },
      {
       "javascript": [
        "$('div#ab5e3c02-b905-475b-a430-31b97942181f').text('  5%');"
       ],
       "metadata": {},
       "output_type": "display_data",
       "text": [
        "<IPython.core.display.Javascript at 0x111209710>"
       ]
      },
      {
       "javascript": [
        "\n",
        "        var $myPB = $(\"div#603dd5d6-0527-48ce-991c-b87add1ee92f\")\n",
        "        if ($myPB.hasClass('ui-progressbar')) {\n",
        "            $myPB.progressbar('value', 40);\n",
        "        } else {\n",
        "            $myPB.progressbar({value: 0, max: 767});\n",
        "        }\n",
        "        "
       ],
       "metadata": {},
       "output_type": "display_data",
       "text": [
        "<IPython.core.display.Javascript at 0x111209750>"
       ]
      },
      {
       "javascript": [
        "$('div#cd03291e-3af7-4959-b151-add232c9b082').text('ETA:  0:00:05');"
       ],
       "metadata": {},
       "output_type": "display_data",
       "text": [
        "<IPython.core.display.Javascript at 0x111209610>"
       ]
      },
      {
       "javascript": [
        "$('div#9d37b887-fb70-4dc8-8e5c-1e76ab18de6d').text('48/767');"
       ],
       "metadata": {},
       "output_type": "display_data",
       "text": [
        "<IPython.core.display.Javascript at 0x111203850>"
       ]
      },
      {
       "javascript": [
        "$('div#ab5e3c02-b905-475b-a430-31b97942181f').text('  6%');"
       ],
       "metadata": {},
       "output_type": "display_data",
       "text": [
        "<IPython.core.display.Javascript at 0x111209690>"
       ]
      },
      {
       "javascript": [
        "\n",
        "        var $myPB = $(\"div#603dd5d6-0527-48ce-991c-b87add1ee92f\")\n",
        "        if ($myPB.hasClass('ui-progressbar')) {\n",
        "            $myPB.progressbar('value', 48);\n",
        "        } else {\n",
        "            $myPB.progressbar({value: 0, max: 767});\n",
        "        }\n",
        "        "
       ],
       "metadata": {},
       "output_type": "display_data",
       "text": [
        "<IPython.core.display.Javascript at 0x111209550>"
       ]
      },
      {
       "javascript": [
        "$('div#cd03291e-3af7-4959-b151-add232c9b082').text('ETA:  0:00:04');"
       ],
       "metadata": {},
       "output_type": "display_data",
       "text": [
        "<IPython.core.display.Javascript at 0x111209350>"
       ]
      },
      {
       "javascript": [
        "$('div#9d37b887-fb70-4dc8-8e5c-1e76ab18de6d').text('56/767');"
       ],
       "metadata": {},
       "output_type": "display_data",
       "text": [
        "<IPython.core.display.Javascript at 0x111209650>"
       ]
      },
      {
       "javascript": [
        "$('div#ab5e3c02-b905-475b-a430-31b97942181f').text('  7%');"
       ],
       "metadata": {},
       "output_type": "display_data",
       "text": [
        "<IPython.core.display.Javascript at 0x109c50b50>"
       ]
      },
      {
       "javascript": [
        "\n",
        "        var $myPB = $(\"div#603dd5d6-0527-48ce-991c-b87add1ee92f\")\n",
        "        if ($myPB.hasClass('ui-progressbar')) {\n",
        "            $myPB.progressbar('value', 56);\n",
        "        } else {\n",
        "            $myPB.progressbar({value: 0, max: 767});\n",
        "        }\n",
        "        "
       ],
       "metadata": {},
       "output_type": "display_data",
       "text": [
        "<IPython.core.display.Javascript at 0x109c50050>"
       ]
      },
      {
       "javascript": [
        "$('div#cd03291e-3af7-4959-b151-add232c9b082').text('ETA:  0:00:04');"
       ],
       "metadata": {},
       "output_type": "display_data",
       "text": [
        "<IPython.core.display.Javascript at 0x109c50d10>"
       ]
      },
      {
       "javascript": [
        "$('div#9d37b887-fb70-4dc8-8e5c-1e76ab18de6d').text('64/767');"
       ],
       "metadata": {},
       "output_type": "display_data",
       "text": [
        "<IPython.core.display.Javascript at 0x109c480d0>"
       ]
      },
      {
       "javascript": [
        "$('div#ab5e3c02-b905-475b-a430-31b97942181f').text('  8%');"
       ],
       "metadata": {},
       "output_type": "display_data",
       "text": [
        "<IPython.core.display.Javascript at 0x109c48450>"
       ]
      },
      {
       "javascript": [
        "\n",
        "        var $myPB = $(\"div#603dd5d6-0527-48ce-991c-b87add1ee92f\")\n",
        "        if ($myPB.hasClass('ui-progressbar')) {\n",
        "            $myPB.progressbar('value', 64);\n",
        "        } else {\n",
        "            $myPB.progressbar({value: 0, max: 767});\n",
        "        }\n",
        "        "
       ],
       "metadata": {},
       "output_type": "display_data",
       "text": [
        "<IPython.core.display.Javascript at 0x109c48610>"
       ]
      },
      {
       "javascript": [
        "$('div#cd03291e-3af7-4959-b151-add232c9b082').text('ETA:  0:00:04');"
       ],
       "metadata": {},
       "output_type": "display_data",
       "text": [
        "<IPython.core.display.Javascript at 0x111203850>"
       ]
      },
      {
       "javascript": [
        "$('div#9d37b887-fb70-4dc8-8e5c-1e76ab18de6d').text('72/767');"
       ],
       "metadata": {},
       "output_type": "display_data",
       "text": [
        "<IPython.core.display.Javascript at 0x111209650>"
       ]
      },
      {
       "javascript": [
        "$('div#ab5e3c02-b905-475b-a430-31b97942181f').text('  9%');"
       ],
       "metadata": {},
       "output_type": "display_data",
       "text": [
        "<IPython.core.display.Javascript at 0x111209550>"
       ]
      },
      {
       "javascript": [
        "\n",
        "        var $myPB = $(\"div#603dd5d6-0527-48ce-991c-b87add1ee92f\")\n",
        "        if ($myPB.hasClass('ui-progressbar')) {\n",
        "            $myPB.progressbar('value', 72);\n",
        "        } else {\n",
        "            $myPB.progressbar({value: 0, max: 767});\n",
        "        }\n",
        "        "
       ],
       "metadata": {},
       "output_type": "display_data",
       "text": [
        "<IPython.core.display.Javascript at 0x111209690>"
       ]
      },
      {
       "javascript": [
        "$('div#cd03291e-3af7-4959-b151-add232c9b082').text('ETA:  0:00:04');"
       ],
       "metadata": {},
       "output_type": "display_data",
       "text": [
        "<IPython.core.display.Javascript at 0x111209610>"
       ]
      },
      {
       "javascript": [
        "$('div#9d37b887-fb70-4dc8-8e5c-1e76ab18de6d').text('80/767');"
       ],
       "metadata": {},
       "output_type": "display_data",
       "text": [
        "<IPython.core.display.Javascript at 0x111209750>"
       ]
      },
      {
       "javascript": [
        "$('div#ab5e3c02-b905-475b-a430-31b97942181f').text(' 10%');"
       ],
       "metadata": {},
       "output_type": "display_data",
       "text": [
        "<IPython.core.display.Javascript at 0x111209710>"
       ]
      },
      {
       "javascript": [
        "\n",
        "        var $myPB = $(\"div#603dd5d6-0527-48ce-991c-b87add1ee92f\")\n",
        "        if ($myPB.hasClass('ui-progressbar')) {\n",
        "            $myPB.progressbar('value', 80);\n",
        "        } else {\n",
        "            $myPB.progressbar({value: 0, max: 767});\n",
        "        }\n",
        "        "
       ],
       "metadata": {},
       "output_type": "display_data",
       "text": [
        "<IPython.core.display.Javascript at 0x1112095d0>"
       ]
      },
      {
       "javascript": [
        "$('div#cd03291e-3af7-4959-b151-add232c9b082').text('ETA:  0:00:04');"
       ],
       "metadata": {},
       "output_type": "display_data",
       "text": [
        "<IPython.core.display.Javascript at 0x109c50050>"
       ]
      },
      {
       "javascript": [
        "$('div#9d37b887-fb70-4dc8-8e5c-1e76ab18de6d').text('88/767');"
       ],
       "metadata": {},
       "output_type": "display_data",
       "text": [
        "<IPython.core.display.Javascript at 0x109c50b90>"
       ]
      },
      {
       "javascript": [
        "$('div#ab5e3c02-b905-475b-a430-31b97942181f').text(' 11%');"
       ],
       "metadata": {},
       "output_type": "display_data",
       "text": [
        "<IPython.core.display.Javascript at 0x109c50b50>"
       ]
      },
      {
       "javascript": [
        "\n",
        "        var $myPB = $(\"div#603dd5d6-0527-48ce-991c-b87add1ee92f\")\n",
        "        if ($myPB.hasClass('ui-progressbar')) {\n",
        "            $myPB.progressbar('value', 88);\n",
        "        } else {\n",
        "            $myPB.progressbar({value: 0, max: 767});\n",
        "        }\n",
        "        "
       ],
       "metadata": {},
       "output_type": "display_data",
       "text": [
        "<IPython.core.display.Javascript at 0x109c50d10>"
       ]
      },
      {
       "javascript": [
        "$('div#cd03291e-3af7-4959-b151-add232c9b082').text('ETA:  0:00:03');"
       ],
       "metadata": {},
       "output_type": "display_data",
       "text": [
        "<IPython.core.display.Javascript at 0x10e5a9050>"
       ]
      },
      {
       "javascript": [
        "$('div#9d37b887-fb70-4dc8-8e5c-1e76ab18de6d').text('96/767');"
       ],
       "metadata": {},
       "output_type": "display_data",
       "text": [
        "<IPython.core.display.Javascript at 0x112a486d0>"
       ]
      },
      {
       "javascript": [
        "$('div#ab5e3c02-b905-475b-a430-31b97942181f').text(' 12%');"
       ],
       "metadata": {},
       "output_type": "display_data",
       "text": [
        "<IPython.core.display.Javascript at 0x112a48c90>"
       ]
      },
      {
       "javascript": [
        "\n",
        "        var $myPB = $(\"div#603dd5d6-0527-48ce-991c-b87add1ee92f\")\n",
        "        if ($myPB.hasClass('ui-progressbar')) {\n",
        "            $myPB.progressbar('value', 96);\n",
        "        } else {\n",
        "            $myPB.progressbar({value: 0, max: 767});\n",
        "        }\n",
        "        "
       ],
       "metadata": {},
       "output_type": "display_data",
       "text": [
        "<IPython.core.display.Javascript at 0x109c50b50>"
       ]
      },
      {
       "javascript": [
        "$('div#cd03291e-3af7-4959-b151-add232c9b082').text('ETA:  0:00:04');"
       ],
       "metadata": {},
       "output_type": "display_data",
       "text": [
        "<IPython.core.display.Javascript at 0x109c50b90>"
       ]
      },
      {
       "javascript": [
        "$('div#9d37b887-fb70-4dc8-8e5c-1e76ab18de6d').text('104/767');"
       ],
       "metadata": {},
       "output_type": "display_data",
       "text": [
        "<IPython.core.display.Javascript at 0x109c50050>"
       ]
      },
      {
       "javascript": [
        "$('div#ab5e3c02-b905-475b-a430-31b97942181f').text(' 13%');"
       ],
       "metadata": {},
       "output_type": "display_data",
       "text": [
        "<IPython.core.display.Javascript at 0x109c50d10>"
       ]
      },
      {
       "javascript": [
        "\n",
        "        var $myPB = $(\"div#603dd5d6-0527-48ce-991c-b87add1ee92f\")\n",
        "        if ($myPB.hasClass('ui-progressbar')) {\n",
        "            $myPB.progressbar('value', 104);\n",
        "        } else {\n",
        "            $myPB.progressbar({value: 0, max: 767});\n",
        "        }\n",
        "        "
       ],
       "metadata": {},
       "output_type": "display_data",
       "text": [
        "<IPython.core.display.Javascript at 0x111209350>"
       ]
      },
      {
       "javascript": [
        "$('div#cd03291e-3af7-4959-b151-add232c9b082').text('ETA:  0:00:04');"
       ],
       "metadata": {},
       "output_type": "display_data",
       "text": [
        "<IPython.core.display.Javascript at 0x1112095d0>"
       ]
      },
      {
       "javascript": [
        "$('div#9d37b887-fb70-4dc8-8e5c-1e76ab18de6d').text('112/767');"
       ],
       "metadata": {},
       "output_type": "display_data",
       "text": [
        "<IPython.core.display.Javascript at 0x109c50b50>"
       ]
      },
      {
       "javascript": [
        "$('div#ab5e3c02-b905-475b-a430-31b97942181f').text(' 14%');"
       ],
       "metadata": {},
       "output_type": "display_data",
       "text": [
        "<IPython.core.display.Javascript at 0x109c50b90>"
       ]
      },
      {
       "javascript": [
        "\n",
        "        var $myPB = $(\"div#603dd5d6-0527-48ce-991c-b87add1ee92f\")\n",
        "        if ($myPB.hasClass('ui-progressbar')) {\n",
        "            $myPB.progressbar('value', 112);\n",
        "        } else {\n",
        "            $myPB.progressbar({value: 0, max: 767});\n",
        "        }\n",
        "        "
       ],
       "metadata": {},
       "output_type": "display_data",
       "text": [
        "<IPython.core.display.Javascript at 0x109c50d10>"
       ]
      },
      {
       "javascript": [
        "$('div#cd03291e-3af7-4959-b151-add232c9b082').text('ETA:  0:00:05');"
       ],
       "metadata": {},
       "output_type": "display_data",
       "text": [
        "<IPython.core.display.Javascript at 0x109c50050>"
       ]
      },
      {
       "javascript": [
        "$('div#9d37b887-fb70-4dc8-8e5c-1e76ab18de6d').text('120/767');"
       ],
       "metadata": {},
       "output_type": "display_data",
       "text": [
        "<IPython.core.display.Javascript at 0x112a48c90>"
       ]
      },
      {
       "javascript": [
        "$('div#ab5e3c02-b905-475b-a430-31b97942181f').text(' 15%');"
       ],
       "metadata": {},
       "output_type": "display_data",
       "text": [
        "<IPython.core.display.Javascript at 0x112a486d0>"
       ]
      },
      {
       "javascript": [
        "\n",
        "        var $myPB = $(\"div#603dd5d6-0527-48ce-991c-b87add1ee92f\")\n",
        "        if ($myPB.hasClass('ui-progressbar')) {\n",
        "            $myPB.progressbar('value', 120);\n",
        "        } else {\n",
        "            $myPB.progressbar({value: 0, max: 767});\n",
        "        }\n",
        "        "
       ],
       "metadata": {},
       "output_type": "display_data",
       "text": [
        "<IPython.core.display.Javascript at 0x111209750>"
       ]
      },
      {
       "javascript": [
        "$('div#cd03291e-3af7-4959-b151-add232c9b082').text('ETA:  0:00:05');"
       ],
       "metadata": {},
       "output_type": "display_data",
       "text": [
        "<IPython.core.display.Javascript at 0x1112095d0>"
       ]
      },
      {
       "javascript": [
        "$('div#9d37b887-fb70-4dc8-8e5c-1e76ab18de6d').text('128/767');"
       ],
       "metadata": {},
       "output_type": "display_data",
       "text": [
        "<IPython.core.display.Javascript at 0x112a48c90>"
       ]
      },
      {
       "javascript": [
        "$('div#ab5e3c02-b905-475b-a430-31b97942181f').text(' 16%');"
       ],
       "metadata": {},
       "output_type": "display_data",
       "text": [
        "<IPython.core.display.Javascript at 0x112a486d0>"
       ]
      },
      {
       "javascript": [
        "\n",
        "        var $myPB = $(\"div#603dd5d6-0527-48ce-991c-b87add1ee92f\")\n",
        "        if ($myPB.hasClass('ui-progressbar')) {\n",
        "            $myPB.progressbar('value', 128);\n",
        "        } else {\n",
        "            $myPB.progressbar({value: 0, max: 767});\n",
        "        }\n",
        "        "
       ],
       "metadata": {},
       "output_type": "display_data",
       "text": [
        "<IPython.core.display.Javascript at 0x109c50d10>"
       ]
      },
      {
       "javascript": [
        "$('div#cd03291e-3af7-4959-b151-add232c9b082').text('ETA:  0:00:05');"
       ],
       "metadata": {},
       "output_type": "display_data",
       "text": [
        "<IPython.core.display.Javascript at 0x109c50b90>"
       ]
      },
      {
       "javascript": [
        "$('div#9d37b887-fb70-4dc8-8e5c-1e76ab18de6d').text('136/767');"
       ],
       "metadata": {},
       "output_type": "display_data",
       "text": [
        "<IPython.core.display.Javascript at 0x109c50050>"
       ]
      },
      {
       "javascript": [
        "$('div#ab5e3c02-b905-475b-a430-31b97942181f').text(' 17%');"
       ],
       "metadata": {},
       "output_type": "display_data",
       "text": [
        "<IPython.core.display.Javascript at 0x109c50b50>"
       ]
      },
      {
       "javascript": [
        "\n",
        "        var $myPB = $(\"div#603dd5d6-0527-48ce-991c-b87add1ee92f\")\n",
        "        if ($myPB.hasClass('ui-progressbar')) {\n",
        "            $myPB.progressbar('value', 136);\n",
        "        } else {\n",
        "            $myPB.progressbar({value: 0, max: 767});\n",
        "        }\n",
        "        "
       ],
       "metadata": {},
       "output_type": "display_data",
       "text": [
        "<IPython.core.display.Javascript at 0x111209550>"
       ]
      },
      {
       "javascript": [
        "$('div#cd03291e-3af7-4959-b151-add232c9b082').text('ETA:  0:00:05');"
       ],
       "metadata": {},
       "output_type": "display_data",
       "text": [
        "<IPython.core.display.Javascript at 0x111209690>"
       ]
      },
      {
       "javascript": [
        "$('div#9d37b887-fb70-4dc8-8e5c-1e76ab18de6d').text('144/767');"
       ],
       "metadata": {},
       "output_type": "display_data",
       "text": [
        "<IPython.core.display.Javascript at 0x109c50b50>"
       ]
      },
      {
       "javascript": [
        "$('div#ab5e3c02-b905-475b-a430-31b97942181f').text(' 18%');"
       ],
       "metadata": {},
       "output_type": "display_data",
       "text": [
        "<IPython.core.display.Javascript at 0x109c50b90>"
       ]
      },
      {
       "javascript": [
        "\n",
        "        var $myPB = $(\"div#603dd5d6-0527-48ce-991c-b87add1ee92f\")\n",
        "        if ($myPB.hasClass('ui-progressbar')) {\n",
        "            $myPB.progressbar('value', 144);\n",
        "        } else {\n",
        "            $myPB.progressbar({value: 0, max: 767});\n",
        "        }\n",
        "        "
       ],
       "metadata": {},
       "output_type": "display_data",
       "text": [
        "<IPython.core.display.Javascript at 0x109c50050>"
       ]
      },
      {
       "javascript": [
        "$('div#cd03291e-3af7-4959-b151-add232c9b082').text('ETA:  0:00:05');"
       ],
       "metadata": {},
       "output_type": "display_data",
       "text": [
        "<IPython.core.display.Javascript at 0x109c50d10>"
       ]
      },
      {
       "javascript": [
        "$('div#9d37b887-fb70-4dc8-8e5c-1e76ab18de6d').text('152/767');"
       ],
       "metadata": {},
       "output_type": "display_data",
       "text": [
        "<IPython.core.display.Javascript at 0x109c50d10>"
       ]
      },
      {
       "javascript": [
        "$('div#ab5e3c02-b905-475b-a430-31b97942181f').text(' 19%');"
       ],
       "metadata": {},
       "output_type": "display_data",
       "text": [
        "<IPython.core.display.Javascript at 0x109c50050>"
       ]
      },
      {
       "javascript": [
        "\n",
        "        var $myPB = $(\"div#603dd5d6-0527-48ce-991c-b87add1ee92f\")\n",
        "        if ($myPB.hasClass('ui-progressbar')) {\n",
        "            $myPB.progressbar('value', 152);\n",
        "        } else {\n",
        "            $myPB.progressbar({value: 0, max: 767});\n",
        "        }\n",
        "        "
       ],
       "metadata": {},
       "output_type": "display_data",
       "text": [
        "<IPython.core.display.Javascript at 0x109c50b90>"
       ]
      },
      {
       "javascript": [
        "$('div#cd03291e-3af7-4959-b151-add232c9b082').text('ETA:  0:00:05');"
       ],
       "metadata": {},
       "output_type": "display_data",
       "text": [
        "<IPython.core.display.Javascript at 0x109c50b50>"
       ]
      },
      {
       "javascript": [
        "$('div#9d37b887-fb70-4dc8-8e5c-1e76ab18de6d').text('160/767');"
       ],
       "metadata": {},
       "output_type": "display_data",
       "text": [
        "<IPython.core.display.Javascript at 0x112a48c90>"
       ]
      },
      {
       "javascript": [
        "$('div#ab5e3c02-b905-475b-a430-31b97942181f').text(' 20%');"
       ],
       "metadata": {},
       "output_type": "display_data",
       "text": [
        "<IPython.core.display.Javascript at 0x112a486d0>"
       ]
      },
      {
       "javascript": [
        "\n",
        "        var $myPB = $(\"div#603dd5d6-0527-48ce-991c-b87add1ee92f\")\n",
        "        if ($myPB.hasClass('ui-progressbar')) {\n",
        "            $myPB.progressbar('value', 160);\n",
        "        } else {\n",
        "            $myPB.progressbar({value: 0, max: 767});\n",
        "        }\n",
        "        "
       ],
       "metadata": {},
       "output_type": "display_data",
       "text": [
        "<IPython.core.display.Javascript at 0x111209550>"
       ]
      },
      {
       "javascript": [
        "$('div#cd03291e-3af7-4959-b151-add232c9b082').text('ETA:  0:00:04');"
       ],
       "metadata": {},
       "output_type": "display_data",
       "text": [
        "<IPython.core.display.Javascript at 0x111209750>"
       ]
      },
      {
       "javascript": [
        "$('div#9d37b887-fb70-4dc8-8e5c-1e76ab18de6d').text('168/767');"
       ],
       "metadata": {},
       "output_type": "display_data",
       "text": [
        "<IPython.core.display.Javascript at 0x1112095d0>"
       ]
      },
      {
       "javascript": [
        "$('div#ab5e3c02-b905-475b-a430-31b97942181f').text(' 21%');"
       ],
       "metadata": {},
       "output_type": "display_data",
       "text": [
        "<IPython.core.display.Javascript at 0x111209710>"
       ]
      },
      {
       "javascript": [
        "\n",
        "        var $myPB = $(\"div#603dd5d6-0527-48ce-991c-b87add1ee92f\")\n",
        "        if ($myPB.hasClass('ui-progressbar')) {\n",
        "            $myPB.progressbar('value', 168);\n",
        "        } else {\n",
        "            $myPB.progressbar({value: 0, max: 767});\n",
        "        }\n",
        "        "
       ],
       "metadata": {},
       "output_type": "display_data",
       "text": [
        "<IPython.core.display.Javascript at 0x111203850>"
       ]
      },
      {
       "javascript": [
        "$('div#cd03291e-3af7-4959-b151-add232c9b082').text('ETA:  0:00:04');"
       ],
       "metadata": {},
       "output_type": "display_data",
       "text": [
        "<IPython.core.display.Javascript at 0x111209610>"
       ]
      },
      {
       "javascript": [
        "$('div#9d37b887-fb70-4dc8-8e5c-1e76ab18de6d').text('176/767');"
       ],
       "metadata": {},
       "output_type": "display_data",
       "text": [
        "<IPython.core.display.Javascript at 0x111203850>"
       ]
      },
      {
       "javascript": [
        "$('div#ab5e3c02-b905-475b-a430-31b97942181f').text(' 22%');"
       ],
       "metadata": {},
       "output_type": "display_data",
       "text": [
        "<IPython.core.display.Javascript at 0x112a48c90>"
       ]
      },
      {
       "javascript": [
        "\n",
        "        var $myPB = $(\"div#603dd5d6-0527-48ce-991c-b87add1ee92f\")\n",
        "        if ($myPB.hasClass('ui-progressbar')) {\n",
        "            $myPB.progressbar('value', 176);\n",
        "        } else {\n",
        "            $myPB.progressbar({value: 0, max: 767});\n",
        "        }\n",
        "        "
       ],
       "metadata": {},
       "output_type": "display_data",
       "text": [
        "<IPython.core.display.Javascript at 0x112a486d0>"
       ]
      },
      {
       "javascript": [
        "$('div#cd03291e-3af7-4959-b151-add232c9b082').text('ETA:  0:00:04');"
       ],
       "metadata": {},
       "output_type": "display_data",
       "text": [
        "<IPython.core.display.Javascript at 0x109c50b50>"
       ]
      },
      {
       "javascript": [
        "$('div#9d37b887-fb70-4dc8-8e5c-1e76ab18de6d').text('184/767');"
       ],
       "metadata": {},
       "output_type": "display_data",
       "text": [
        "<IPython.core.display.Javascript at 0x111203850>"
       ]
      },
      {
       "javascript": [
        "$('div#ab5e3c02-b905-475b-a430-31b97942181f').text(' 23%');"
       ],
       "metadata": {},
       "output_type": "display_data",
       "text": [
        "<IPython.core.display.Javascript at 0x112a48c90>"
       ]
      },
      {
       "javascript": [
        "\n",
        "        var $myPB = $(\"div#603dd5d6-0527-48ce-991c-b87add1ee92f\")\n",
        "        if ($myPB.hasClass('ui-progressbar')) {\n",
        "            $myPB.progressbar('value', 184);\n",
        "        } else {\n",
        "            $myPB.progressbar({value: 0, max: 767});\n",
        "        }\n",
        "        "
       ],
       "metadata": {},
       "output_type": "display_data",
       "text": [
        "<IPython.core.display.Javascript at 0x112a486d0>"
       ]
      },
      {
       "javascript": [
        "$('div#cd03291e-3af7-4959-b151-add232c9b082').text('ETA:  0:00:04');"
       ],
       "metadata": {},
       "output_type": "display_data",
       "text": [
        "<IPython.core.display.Javascript at 0x109c50050>"
       ]
      },
      {
       "javascript": [
        "$('div#9d37b887-fb70-4dc8-8e5c-1e76ab18de6d').text('192/767');"
       ],
       "metadata": {},
       "output_type": "display_data",
       "text": [
        "<IPython.core.display.Javascript at 0x111203850>"
       ]
      },
      {
       "javascript": [
        "$('div#ab5e3c02-b905-475b-a430-31b97942181f').text(' 25%');"
       ],
       "metadata": {},
       "output_type": "display_data",
       "text": [
        "<IPython.core.display.Javascript at 0x112a48c90>"
       ]
      },
      {
       "javascript": [
        "\n",
        "        var $myPB = $(\"div#603dd5d6-0527-48ce-991c-b87add1ee92f\")\n",
        "        if ($myPB.hasClass('ui-progressbar')) {\n",
        "            $myPB.progressbar('value', 192);\n",
        "        } else {\n",
        "            $myPB.progressbar({value: 0, max: 767});\n",
        "        }\n",
        "        "
       ],
       "metadata": {},
       "output_type": "display_data",
       "text": [
        "<IPython.core.display.Javascript at 0x112a486d0>"
       ]
      },
      {
       "javascript": [
        "$('div#cd03291e-3af7-4959-b151-add232c9b082').text('ETA:  0:00:04');"
       ],
       "metadata": {},
       "output_type": "display_data",
       "text": [
        "<IPython.core.display.Javascript at 0x109c50d10>"
       ]
      },
      {
       "javascript": [
        "$('div#9d37b887-fb70-4dc8-8e5c-1e76ab18de6d').text('200/767');"
       ],
       "metadata": {},
       "output_type": "display_data",
       "text": [
        "<IPython.core.display.Javascript at 0x109c50050>"
       ]
      },
      {
       "javascript": [
        "$('div#ab5e3c02-b905-475b-a430-31b97942181f').text(' 26%');"
       ],
       "metadata": {},
       "output_type": "display_data",
       "text": [
        "<IPython.core.display.Javascript at 0x109c50b90>"
       ]
      },
      {
       "javascript": [
        "\n",
        "        var $myPB = $(\"div#603dd5d6-0527-48ce-991c-b87add1ee92f\")\n",
        "        if ($myPB.hasClass('ui-progressbar')) {\n",
        "            $myPB.progressbar('value', 200);\n",
        "        } else {\n",
        "            $myPB.progressbar({value: 0, max: 767});\n",
        "        }\n",
        "        "
       ],
       "metadata": {},
       "output_type": "display_data",
       "text": [
        "<IPython.core.display.Javascript at 0x109c50b50>"
       ]
      },
      {
       "javascript": [
        "$('div#cd03291e-3af7-4959-b151-add232c9b082').text('ETA:  0:00:04');"
       ],
       "metadata": {},
       "output_type": "display_data",
       "text": [
        "<IPython.core.display.Javascript at 0x111209710>"
       ]
      },
      {
       "javascript": [
        "$('div#9d37b887-fb70-4dc8-8e5c-1e76ab18de6d').text('208/767');"
       ],
       "metadata": {},
       "output_type": "display_data",
       "text": [
        "<IPython.core.display.Javascript at 0x111209750>"
       ]
      },
      {
       "javascript": [
        "$('div#ab5e3c02-b905-475b-a430-31b97942181f').text(' 27%');"
       ],
       "metadata": {},
       "output_type": "display_data",
       "text": [
        "<IPython.core.display.Javascript at 0x111209690>"
       ]
      },
      {
       "javascript": [
        "\n",
        "        var $myPB = $(\"div#603dd5d6-0527-48ce-991c-b87add1ee92f\")\n",
        "        if ($myPB.hasClass('ui-progressbar')) {\n",
        "            $myPB.progressbar('value', 208);\n",
        "        } else {\n",
        "            $myPB.progressbar({value: 0, max: 767});\n",
        "        }\n",
        "        "
       ],
       "metadata": {},
       "output_type": "display_data",
       "text": [
        "<IPython.core.display.Javascript at 0x1112095d0>"
       ]
      },
      {
       "javascript": [
        "$('div#cd03291e-3af7-4959-b151-add232c9b082').text('ETA:  0:00:04');"
       ],
       "metadata": {},
       "output_type": "display_data",
       "text": [
        "<IPython.core.display.Javascript at 0x111209550>"
       ]
      },
      {
       "javascript": [
        "$('div#9d37b887-fb70-4dc8-8e5c-1e76ab18de6d').text('216/767');"
       ],
       "metadata": {},
       "output_type": "display_data",
       "text": [
        "<IPython.core.display.Javascript at 0x109c50050>"
       ]
      },
      {
       "javascript": [
        "$('div#ab5e3c02-b905-475b-a430-31b97942181f').text(' 28%');"
       ],
       "metadata": {},
       "output_type": "display_data",
       "text": [
        "<IPython.core.display.Javascript at 0x109c50b50>"
       ]
      },
      {
       "javascript": [
        "\n",
        "        var $myPB = $(\"div#603dd5d6-0527-48ce-991c-b87add1ee92f\")\n",
        "        if ($myPB.hasClass('ui-progressbar')) {\n",
        "            $myPB.progressbar('value', 216);\n",
        "        } else {\n",
        "            $myPB.progressbar({value: 0, max: 767});\n",
        "        }\n",
        "        "
       ],
       "metadata": {},
       "output_type": "display_data",
       "text": [
        "<IPython.core.display.Javascript at 0x109c50b90>"
       ]
      },
      {
       "javascript": [
        "$('div#cd03291e-3af7-4959-b151-add232c9b082').text('ETA:  0:00:04');"
       ],
       "metadata": {},
       "output_type": "display_data",
       "text": [
        "<IPython.core.display.Javascript at 0x109c50d10>"
       ]
      },
      {
       "javascript": [
        "$('div#9d37b887-fb70-4dc8-8e5c-1e76ab18de6d').text('224/767');"
       ],
       "metadata": {},
       "output_type": "display_data",
       "text": [
        "<IPython.core.display.Javascript at 0x111203850>"
       ]
      },
      {
       "javascript": [
        "$('div#ab5e3c02-b905-475b-a430-31b97942181f').text(' 29%');"
       ],
       "metadata": {},
       "output_type": "display_data",
       "text": [
        "<IPython.core.display.Javascript at 0x112a48c90>"
       ]
      },
      {
       "javascript": [
        "\n",
        "        var $myPB = $(\"div#603dd5d6-0527-48ce-991c-b87add1ee92f\")\n",
        "        if ($myPB.hasClass('ui-progressbar')) {\n",
        "            $myPB.progressbar('value', 224);\n",
        "        } else {\n",
        "            $myPB.progressbar({value: 0, max: 767});\n",
        "        }\n",
        "        "
       ],
       "metadata": {},
       "output_type": "display_data",
       "text": [
        "<IPython.core.display.Javascript at 0x112a486d0>"
       ]
      },
      {
       "javascript": [
        "$('div#cd03291e-3af7-4959-b151-add232c9b082').text('ETA:  0:00:04');"
       ],
       "metadata": {},
       "output_type": "display_data",
       "text": [
        "<IPython.core.display.Javascript at 0x111209550>"
       ]
      },
      {
       "javascript": [
        "$('div#9d37b887-fb70-4dc8-8e5c-1e76ab18de6d').text('232/767');"
       ],
       "metadata": {},
       "output_type": "display_data",
       "text": [
        "<IPython.core.display.Javascript at 0x111203850>"
       ]
      },
      {
       "javascript": [
        "$('div#ab5e3c02-b905-475b-a430-31b97942181f').text(' 30%');"
       ],
       "metadata": {},
       "output_type": "display_data",
       "text": [
        "<IPython.core.display.Javascript at 0x112a48c90>"
       ]
      },
      {
       "javascript": [
        "\n",
        "        var $myPB = $(\"div#603dd5d6-0527-48ce-991c-b87add1ee92f\")\n",
        "        if ($myPB.hasClass('ui-progressbar')) {\n",
        "            $myPB.progressbar('value', 232);\n",
        "        } else {\n",
        "            $myPB.progressbar({value: 0, max: 767});\n",
        "        }\n",
        "        "
       ],
       "metadata": {},
       "output_type": "display_data",
       "text": [
        "<IPython.core.display.Javascript at 0x112a486d0>"
       ]
      },
      {
       "javascript": [
        "$('div#cd03291e-3af7-4959-b151-add232c9b082').text('ETA:  0:00:04');"
       ],
       "metadata": {},
       "output_type": "display_data",
       "text": [
        "<IPython.core.display.Javascript at 0x109c50d10>"
       ]
      },
      {
       "javascript": [
        "$('div#9d37b887-fb70-4dc8-8e5c-1e76ab18de6d').text('240/767');"
       ],
       "metadata": {},
       "output_type": "display_data",
       "text": [
        "<IPython.core.display.Javascript at 0x109c50b50>"
       ]
      },
      {
       "javascript": [
        "$('div#ab5e3c02-b905-475b-a430-31b97942181f').text(' 31%');"
       ],
       "metadata": {},
       "output_type": "display_data",
       "text": [
        "<IPython.core.display.Javascript at 0x109c50b90>"
       ]
      },
      {
       "javascript": [
        "\n",
        "        var $myPB = $(\"div#603dd5d6-0527-48ce-991c-b87add1ee92f\")\n",
        "        if ($myPB.hasClass('ui-progressbar')) {\n",
        "            $myPB.progressbar('value', 240);\n",
        "        } else {\n",
        "            $myPB.progressbar({value: 0, max: 767});\n",
        "        }\n",
        "        "
       ],
       "metadata": {},
       "output_type": "display_data",
       "text": [
        "<IPython.core.display.Javascript at 0x109c50050>"
       ]
      },
      {
       "javascript": [
        "$('div#cd03291e-3af7-4959-b151-add232c9b082').text('ETA:  0:00:04');"
       ],
       "metadata": {},
       "output_type": "display_data",
       "text": [
        "<IPython.core.display.Javascript at 0x111209550>"
       ]
      },
      {
       "javascript": [
        "$('div#9d37b887-fb70-4dc8-8e5c-1e76ab18de6d').text('248/767');"
       ],
       "metadata": {},
       "output_type": "display_data",
       "text": [
        "<IPython.core.display.Javascript at 0x109c50b90>"
       ]
      },
      {
       "javascript": [
        "$('div#ab5e3c02-b905-475b-a430-31b97942181f').text(' 32%');"
       ],
       "metadata": {},
       "output_type": "display_data",
       "text": [
        "<IPython.core.display.Javascript at 0x109c50b50>"
       ]
      },
      {
       "javascript": [
        "\n",
        "        var $myPB = $(\"div#603dd5d6-0527-48ce-991c-b87add1ee92f\")\n",
        "        if ($myPB.hasClass('ui-progressbar')) {\n",
        "            $myPB.progressbar('value', 248);\n",
        "        } else {\n",
        "            $myPB.progressbar({value: 0, max: 767});\n",
        "        }\n",
        "        "
       ],
       "metadata": {},
       "output_type": "display_data",
       "text": [
        "<IPython.core.display.Javascript at 0x109c50050>"
       ]
      },
      {
       "javascript": [
        "$('div#cd03291e-3af7-4959-b151-add232c9b082').text('ETA:  0:00:03');"
       ],
       "metadata": {},
       "output_type": "display_data",
       "text": [
        "<IPython.core.display.Javascript at 0x109c50d10>"
       ]
      },
      {
       "javascript": [
        "$('div#9d37b887-fb70-4dc8-8e5c-1e76ab18de6d').text('256/767');"
       ],
       "metadata": {},
       "output_type": "display_data",
       "text": [
        "<IPython.core.display.Javascript at 0x111203850>"
       ]
      },
      {
       "javascript": [
        "$('div#ab5e3c02-b905-475b-a430-31b97942181f').text(' 33%');"
       ],
       "metadata": {},
       "output_type": "display_data",
       "text": [
        "<IPython.core.display.Javascript at 0x112a48c90>"
       ]
      },
      {
       "javascript": [
        "\n",
        "        var $myPB = $(\"div#603dd5d6-0527-48ce-991c-b87add1ee92f\")\n",
        "        if ($myPB.hasClass('ui-progressbar')) {\n",
        "            $myPB.progressbar('value', 256);\n",
        "        } else {\n",
        "            $myPB.progressbar({value: 0, max: 767});\n",
        "        }\n",
        "        "
       ],
       "metadata": {},
       "output_type": "display_data",
       "text": [
        "<IPython.core.display.Javascript at 0x112a486d0>"
       ]
      },
      {
       "javascript": [
        "$('div#cd03291e-3af7-4959-b151-add232c9b082').text('ETA:  0:00:03');"
       ],
       "metadata": {},
       "output_type": "display_data",
       "text": [
        "<IPython.core.display.Javascript at 0x111209690>"
       ]
      },
      {
       "javascript": [
        "$('div#9d37b887-fb70-4dc8-8e5c-1e76ab18de6d').text('264/767');"
       ],
       "metadata": {},
       "output_type": "display_data",
       "text": [
        "<IPython.core.display.Javascript at 0x110a34290>"
       ]
      },
      {
       "javascript": [
        "$('div#ab5e3c02-b905-475b-a430-31b97942181f').text(' 34%');"
       ],
       "metadata": {},
       "output_type": "display_data",
       "text": [
        "<IPython.core.display.Javascript at 0x112a486d0>"
       ]
      },
      {
       "javascript": [
        "\n",
        "        var $myPB = $(\"div#603dd5d6-0527-48ce-991c-b87add1ee92f\")\n",
        "        if ($myPB.hasClass('ui-progressbar')) {\n",
        "            $myPB.progressbar('value', 264);\n",
        "        } else {\n",
        "            $myPB.progressbar({value: 0, max: 767});\n",
        "        }\n",
        "        "
       ],
       "metadata": {},
       "output_type": "display_data",
       "text": [
        "<IPython.core.display.Javascript at 0x112a48c90>"
       ]
      },
      {
       "javascript": [
        "$('div#cd03291e-3af7-4959-b151-add232c9b082').text('ETA:  0:00:03');"
       ],
       "metadata": {},
       "output_type": "display_data",
       "text": [
        "<IPython.core.display.Javascript at 0x111203850>"
       ]
      },
      {
       "javascript": [
        "$('div#9d37b887-fb70-4dc8-8e5c-1e76ab18de6d').text('272/767');"
       ],
       "metadata": {},
       "output_type": "display_data",
       "text": [
        "<IPython.core.display.Javascript at 0x109c50b50>"
       ]
      },
      {
       "javascript": [
        "$('div#ab5e3c02-b905-475b-a430-31b97942181f').text(' 35%');"
       ],
       "metadata": {},
       "output_type": "display_data",
       "text": [
        "<IPython.core.display.Javascript at 0x109c50050>"
       ]
      },
      {
       "javascript": [
        "\n",
        "        var $myPB = $(\"div#603dd5d6-0527-48ce-991c-b87add1ee92f\")\n",
        "        if ($myPB.hasClass('ui-progressbar')) {\n",
        "            $myPB.progressbar('value', 272);\n",
        "        } else {\n",
        "            $myPB.progressbar({value: 0, max: 767});\n",
        "        }\n",
        "        "
       ],
       "metadata": {},
       "output_type": "display_data",
       "text": [
        "<IPython.core.display.Javascript at 0x109c50d10>"
       ]
      },
      {
       "javascript": [
        "$('div#cd03291e-3af7-4959-b151-add232c9b082').text('ETA:  0:00:03');"
       ],
       "metadata": {},
       "output_type": "display_data",
       "text": [
        "<IPython.core.display.Javascript at 0x109c50b90>"
       ]
      },
      {
       "javascript": [
        "$('div#9d37b887-fb70-4dc8-8e5c-1e76ab18de6d').text('280/767');"
       ],
       "metadata": {},
       "output_type": "display_data",
       "text": [
        "<IPython.core.display.Javascript at 0x111203850>"
       ]
      },
      {
       "javascript": [
        "$('div#ab5e3c02-b905-475b-a430-31b97942181f').text(' 36%');"
       ],
       "metadata": {},
       "output_type": "display_data",
       "text": [
        "<IPython.core.display.Javascript at 0x109c50b90>"
       ]
      },
      {
       "javascript": [
        "\n",
        "        var $myPB = $(\"div#603dd5d6-0527-48ce-991c-b87add1ee92f\")\n",
        "        if ($myPB.hasClass('ui-progressbar')) {\n",
        "            $myPB.progressbar('value', 280);\n",
        "        } else {\n",
        "            $myPB.progressbar({value: 0, max: 767});\n",
        "        }\n",
        "        "
       ],
       "metadata": {},
       "output_type": "display_data",
       "text": [
        "<IPython.core.display.Javascript at 0x109c50d10>"
       ]
      },
      {
       "javascript": [
        "$('div#cd03291e-3af7-4959-b151-add232c9b082').text('ETA:  0:00:03');"
       ],
       "metadata": {},
       "output_type": "display_data",
       "text": [
        "<IPython.core.display.Javascript at 0x109c50050>"
       ]
      },
      {
       "javascript": [
        "$('div#9d37b887-fb70-4dc8-8e5c-1e76ab18de6d').text('288/767');"
       ],
       "metadata": {},
       "output_type": "display_data",
       "text": [
        "<IPython.core.display.Javascript at 0x109c50b50>"
       ]
      },
      {
       "javascript": [
        "$('div#ab5e3c02-b905-475b-a430-31b97942181f').text(' 37%');"
       ],
       "metadata": {},
       "output_type": "display_data",
       "text": [
        "<IPython.core.display.Javascript at 0x110a34290>"
       ]
      },
      {
       "javascript": [
        "\n",
        "        var $myPB = $(\"div#603dd5d6-0527-48ce-991c-b87add1ee92f\")\n",
        "        if ($myPB.hasClass('ui-progressbar')) {\n",
        "            $myPB.progressbar('value', 288);\n",
        "        } else {\n",
        "            $myPB.progressbar({value: 0, max: 767});\n",
        "        }\n",
        "        "
       ],
       "metadata": {},
       "output_type": "display_data",
       "text": [
        "<IPython.core.display.Javascript at 0x112a486d0>"
       ]
      },
      {
       "javascript": [
        "$('div#cd03291e-3af7-4959-b151-add232c9b082').text('ETA:  0:00:03');"
       ],
       "metadata": {},
       "output_type": "display_data",
       "text": [
        "<IPython.core.display.Javascript at 0x112a48c90>"
       ]
      },
      {
       "javascript": [
        "$('div#9d37b887-fb70-4dc8-8e5c-1e76ab18de6d').text('296/767');"
       ],
       "metadata": {},
       "output_type": "display_data",
       "text": [
        "<IPython.core.display.Javascript at 0x1112095d0>"
       ]
      },
      {
       "javascript": [
        "$('div#ab5e3c02-b905-475b-a430-31b97942181f').text(' 38%');"
       ],
       "metadata": {},
       "output_type": "display_data",
       "text": [
        "<IPython.core.display.Javascript at 0x111209750>"
       ]
      },
      {
       "javascript": [
        "\n",
        "        var $myPB = $(\"div#603dd5d6-0527-48ce-991c-b87add1ee92f\")\n",
        "        if ($myPB.hasClass('ui-progressbar')) {\n",
        "            $myPB.progressbar('value', 296);\n",
        "        } else {\n",
        "            $myPB.progressbar({value: 0, max: 767});\n",
        "        }\n",
        "        "
       ],
       "metadata": {},
       "output_type": "display_data",
       "text": [
        "<IPython.core.display.Javascript at 0x111209710>"
       ]
      },
      {
       "javascript": [
        "$('div#cd03291e-3af7-4959-b151-add232c9b082').text('ETA:  0:00:03');"
       ],
       "metadata": {},
       "output_type": "display_data",
       "text": [
        "<IPython.core.display.Javascript at 0x111209690>"
       ]
      },
      {
       "javascript": [
        "$('div#9d37b887-fb70-4dc8-8e5c-1e76ab18de6d').text('304/767');"
       ],
       "metadata": {},
       "output_type": "display_data",
       "text": [
        "<IPython.core.display.Javascript at 0x112a48c90>"
       ]
      },
      {
       "javascript": [
        "$('div#ab5e3c02-b905-475b-a430-31b97942181f').text(' 39%');"
       ],
       "metadata": {},
       "output_type": "display_data",
       "text": [
        "<IPython.core.display.Javascript at 0x112a486d0>"
       ]
      },
      {
       "javascript": [
        "\n",
        "        var $myPB = $(\"div#603dd5d6-0527-48ce-991c-b87add1ee92f\")\n",
        "        if ($myPB.hasClass('ui-progressbar')) {\n",
        "            $myPB.progressbar('value', 304);\n",
        "        } else {\n",
        "            $myPB.progressbar({value: 0, max: 767});\n",
        "        }\n",
        "        "
       ],
       "metadata": {},
       "output_type": "display_data",
       "text": [
        "<IPython.core.display.Javascript at 0x110a34290>"
       ]
      },
      {
       "javascript": [
        "$('div#cd03291e-3af7-4959-b151-add232c9b082').text('ETA:  0:00:03');"
       ],
       "metadata": {},
       "output_type": "display_data",
       "text": [
        "<IPython.core.display.Javascript at 0x111203850>"
       ]
      },
      {
       "javascript": [
        "$('div#9d37b887-fb70-4dc8-8e5c-1e76ab18de6d').text('312/767');"
       ],
       "metadata": {},
       "output_type": "display_data",
       "text": [
        "<IPython.core.display.Javascript at 0x109c50b50>"
       ]
      },
      {
       "javascript": [
        "$('div#ab5e3c02-b905-475b-a430-31b97942181f').text(' 40%');"
       ],
       "metadata": {},
       "output_type": "display_data",
       "text": [
        "<IPython.core.display.Javascript at 0x109c50d10>"
       ]
      },
      {
       "javascript": [
        "\n",
        "        var $myPB = $(\"div#603dd5d6-0527-48ce-991c-b87add1ee92f\")\n",
        "        if ($myPB.hasClass('ui-progressbar')) {\n",
        "            $myPB.progressbar('value', 312);\n",
        "        } else {\n",
        "            $myPB.progressbar({value: 0, max: 767});\n",
        "        }\n",
        "        "
       ],
       "metadata": {},
       "output_type": "display_data",
       "text": [
        "<IPython.core.display.Javascript at 0x109c50b90>"
       ]
      },
      {
       "javascript": [
        "$('div#cd03291e-3af7-4959-b151-add232c9b082').text('ETA:  0:00:03');"
       ],
       "metadata": {},
       "output_type": "display_data",
       "text": [
        "<IPython.core.display.Javascript at 0x109c50050>"
       ]
      },
      {
       "javascript": [
        "$('div#9d37b887-fb70-4dc8-8e5c-1e76ab18de6d').text('320/767');"
       ],
       "metadata": {},
       "output_type": "display_data",
       "text": [
        "<IPython.core.display.Javascript at 0x111209750>"
       ]
      },
      {
       "javascript": [
        "$('div#ab5e3c02-b905-475b-a430-31b97942181f').text(' 41%');"
       ],
       "metadata": {},
       "output_type": "display_data",
       "text": [
        "<IPython.core.display.Javascript at 0x1112095d0>"
       ]
      },
      {
       "javascript": [
        "\n",
        "        var $myPB = $(\"div#603dd5d6-0527-48ce-991c-b87add1ee92f\")\n",
        "        if ($myPB.hasClass('ui-progressbar')) {\n",
        "            $myPB.progressbar('value', 320);\n",
        "        } else {\n",
        "            $myPB.progressbar({value: 0, max: 767});\n",
        "        }\n",
        "        "
       ],
       "metadata": {},
       "output_type": "display_data",
       "text": [
        "<IPython.core.display.Javascript at 0x111209690>"
       ]
      },
      {
       "javascript": [
        "$('div#cd03291e-3af7-4959-b151-add232c9b082').text('ETA:  0:00:03');"
       ],
       "metadata": {},
       "output_type": "display_data",
       "text": [
        "<IPython.core.display.Javascript at 0x111209710>"
       ]
      },
      {
       "javascript": [
        "$('div#9d37b887-fb70-4dc8-8e5c-1e76ab18de6d').text('328/767');"
       ],
       "metadata": {},
       "output_type": "display_data",
       "text": [
        "<IPython.core.display.Javascript at 0x111209350>"
       ]
      },
      {
       "javascript": [
        "$('div#ab5e3c02-b905-475b-a430-31b97942181f').text(' 42%');"
       ],
       "metadata": {},
       "output_type": "display_data",
       "text": [
        "<IPython.core.display.Javascript at 0x111209550>"
       ]
      },
      {
       "javascript": [
        "\n",
        "        var $myPB = $(\"div#603dd5d6-0527-48ce-991c-b87add1ee92f\")\n",
        "        if ($myPB.hasClass('ui-progressbar')) {\n",
        "            $myPB.progressbar('value', 328);\n",
        "        } else {\n",
        "            $myPB.progressbar({value: 0, max: 767});\n",
        "        }\n",
        "        "
       ],
       "metadata": {},
       "output_type": "display_data",
       "text": [
        "<IPython.core.display.Javascript at 0x111209650>"
       ]
      },
      {
       "javascript": [
        "$('div#cd03291e-3af7-4959-b151-add232c9b082').text('ETA:  0:00:03');"
       ],
       "metadata": {},
       "output_type": "display_data",
       "text": [
        "<IPython.core.display.Javascript at 0x111209610>"
       ]
      },
      {
       "javascript": [
        "$('div#9d37b887-fb70-4dc8-8e5c-1e76ab18de6d').text('336/767');"
       ],
       "metadata": {},
       "output_type": "display_data",
       "text": [
        "<IPython.core.display.Javascript at 0x109c48450>"
       ]
      },
      {
       "javascript": [
        "$('div#ab5e3c02-b905-475b-a430-31b97942181f').text(' 43%');"
       ],
       "metadata": {},
       "output_type": "display_data",
       "text": [
        "<IPython.core.display.Javascript at 0x109c480d0>"
       ]
      },
      {
       "javascript": [
        "\n",
        "        var $myPB = $(\"div#603dd5d6-0527-48ce-991c-b87add1ee92f\")\n",
        "        if ($myPB.hasClass('ui-progressbar')) {\n",
        "            $myPB.progressbar('value', 336);\n",
        "        } else {\n",
        "            $myPB.progressbar({value: 0, max: 767});\n",
        "        }\n",
        "        "
       ],
       "metadata": {},
       "output_type": "display_data",
       "text": [
        "<IPython.core.display.Javascript at 0x109c48610>"
       ]
      },
      {
       "javascript": [
        "$('div#cd03291e-3af7-4959-b151-add232c9b082').text('ETA:  0:00:02');"
       ],
       "metadata": {},
       "output_type": "display_data",
       "text": [
        "<IPython.core.display.Javascript at 0x111e5bd50>"
       ]
      },
      {
       "javascript": [
        "$('div#9d37b887-fb70-4dc8-8e5c-1e76ab18de6d').text('344/767');"
       ],
       "metadata": {},
       "output_type": "display_data",
       "text": [
        "<IPython.core.display.Javascript at 0x113157e10>"
       ]
      },
      {
       "javascript": [
        "$('div#ab5e3c02-b905-475b-a430-31b97942181f').text(' 44%');"
       ],
       "metadata": {},
       "output_type": "display_data",
       "text": [
        "<IPython.core.display.Javascript at 0x110a0dd90>"
       ]
      },
      {
       "javascript": [
        "\n",
        "        var $myPB = $(\"div#603dd5d6-0527-48ce-991c-b87add1ee92f\")\n",
        "        if ($myPB.hasClass('ui-progressbar')) {\n",
        "            $myPB.progressbar('value', 344);\n",
        "        } else {\n",
        "            $myPB.progressbar({value: 0, max: 767});\n",
        "        }\n",
        "        "
       ],
       "metadata": {},
       "output_type": "display_data",
       "text": [
        "<IPython.core.display.Javascript at 0x110a0de10>"
       ]
      },
      {
       "javascript": [
        "$('div#cd03291e-3af7-4959-b151-add232c9b082').text('ETA:  0:00:02');"
       ],
       "metadata": {},
       "output_type": "display_data",
       "text": [
        "<IPython.core.display.Javascript at 0x110a0ddd0>"
       ]
      },
      {
       "javascript": [
        "$('div#9d37b887-fb70-4dc8-8e5c-1e76ab18de6d').text('352/767');"
       ],
       "metadata": {},
       "output_type": "display_data",
       "text": [
        "<IPython.core.display.Javascript at 0x113174210>"
       ]
      },
      {
       "javascript": [
        "$('div#ab5e3c02-b905-475b-a430-31b97942181f').text(' 45%');"
       ],
       "metadata": {},
       "output_type": "display_data",
       "text": [
        "<IPython.core.display.Javascript at 0x1131742d0>"
       ]
      },
      {
       "javascript": [
        "\n",
        "        var $myPB = $(\"div#603dd5d6-0527-48ce-991c-b87add1ee92f\")\n",
        "        if ($myPB.hasClass('ui-progressbar')) {\n",
        "            $myPB.progressbar('value', 352);\n",
        "        } else {\n",
        "            $myPB.progressbar({value: 0, max: 767});\n",
        "        }\n",
        "        "
       ],
       "metadata": {},
       "output_type": "display_data",
       "text": [
        "<IPython.core.display.Javascript at 0x113174290>"
       ]
      },
      {
       "javascript": [
        "$('div#cd03291e-3af7-4959-b151-add232c9b082').text('ETA:  0:00:02');"
       ],
       "metadata": {},
       "output_type": "display_data",
       "text": [
        "<IPython.core.display.Javascript at 0x113174090>"
       ]
      },
      {
       "javascript": [
        "$('div#9d37b887-fb70-4dc8-8e5c-1e76ab18de6d').text('360/767');"
       ],
       "metadata": {},
       "output_type": "display_data",
       "text": [
        "<IPython.core.display.Javascript at 0x110a0ddd0>"
       ]
      },
      {
       "javascript": [
        "$('div#ab5e3c02-b905-475b-a430-31b97942181f').text(' 46%');"
       ],
       "metadata": {},
       "output_type": "display_data",
       "text": [
        "<IPython.core.display.Javascript at 0x110a0de10>"
       ]
      },
      {
       "javascript": [
        "\n",
        "        var $myPB = $(\"div#603dd5d6-0527-48ce-991c-b87add1ee92f\")\n",
        "        if ($myPB.hasClass('ui-progressbar')) {\n",
        "            $myPB.progressbar('value', 360);\n",
        "        } else {\n",
        "            $myPB.progressbar({value: 0, max: 767});\n",
        "        }\n",
        "        "
       ],
       "metadata": {},
       "output_type": "display_data",
       "text": [
        "<IPython.core.display.Javascript at 0x110a0dd90>"
       ]
      },
      {
       "javascript": [
        "$('div#cd03291e-3af7-4959-b151-add232c9b082').text('ETA:  0:00:02');"
       ],
       "metadata": {},
       "output_type": "display_data",
       "text": [
        "<IPython.core.display.Javascript at 0x113157e10>"
       ]
      },
      {
       "javascript": [
        "$('div#9d37b887-fb70-4dc8-8e5c-1e76ab18de6d').text('368/767');"
       ],
       "metadata": {},
       "output_type": "display_data",
       "text": [
        "<IPython.core.display.Javascript at 0x111e5bd50>"
       ]
      },
      {
       "javascript": [
        "$('div#ab5e3c02-b905-475b-a430-31b97942181f').text(' 47%');"
       ],
       "metadata": {},
       "output_type": "display_data",
       "text": [
        "<IPython.core.display.Javascript at 0x109c480d0>"
       ]
      },
      {
       "javascript": [
        "\n",
        "        var $myPB = $(\"div#603dd5d6-0527-48ce-991c-b87add1ee92f\")\n",
        "        if ($myPB.hasClass('ui-progressbar')) {\n",
        "            $myPB.progressbar('value', 368);\n",
        "        } else {\n",
        "            $myPB.progressbar({value: 0, max: 767});\n",
        "        }\n",
        "        "
       ],
       "metadata": {},
       "output_type": "display_data",
       "text": [
        "<IPython.core.display.Javascript at 0x109c48450>"
       ]
      },
      {
       "javascript": [
        "$('div#cd03291e-3af7-4959-b151-add232c9b082').text('ETA:  0:00:02');"
       ],
       "metadata": {},
       "output_type": "display_data",
       "text": [
        "<IPython.core.display.Javascript at 0x109c48610>"
       ]
      },
      {
       "javascript": [
        "$('div#9d37b887-fb70-4dc8-8e5c-1e76ab18de6d').text('376/767');"
       ],
       "metadata": {},
       "output_type": "display_data",
       "text": [
        "<IPython.core.display.Javascript at 0x111209650>"
       ]
      },
      {
       "javascript": [
        "$('div#ab5e3c02-b905-475b-a430-31b97942181f').text(' 49%');"
       ],
       "metadata": {},
       "output_type": "display_data",
       "text": [
        "<IPython.core.display.Javascript at 0x111209550>"
       ]
      },
      {
       "javascript": [
        "\n",
        "        var $myPB = $(\"div#603dd5d6-0527-48ce-991c-b87add1ee92f\")\n",
        "        if ($myPB.hasClass('ui-progressbar')) {\n",
        "            $myPB.progressbar('value', 376);\n",
        "        } else {\n",
        "            $myPB.progressbar({value: 0, max: 767});\n",
        "        }\n",
        "        "
       ],
       "metadata": {},
       "output_type": "display_data",
       "text": [
        "<IPython.core.display.Javascript at 0x111209350>"
       ]
      },
      {
       "javascript": [
        "$('div#cd03291e-3af7-4959-b151-add232c9b082').text('ETA:  0:00:02');"
       ],
       "metadata": {},
       "output_type": "display_data",
       "text": [
        "<IPython.core.display.Javascript at 0x111209710>"
       ]
      },
      {
       "javascript": [
        "$('div#9d37b887-fb70-4dc8-8e5c-1e76ab18de6d').text('384/767');"
       ],
       "metadata": {},
       "output_type": "display_data",
       "text": [
        "<IPython.core.display.Javascript at 0x1112095d0>"
       ]
      },
      {
       "javascript": [
        "$('div#ab5e3c02-b905-475b-a430-31b97942181f').text(' 50%');"
       ],
       "metadata": {},
       "output_type": "display_data",
       "text": [
        "<IPython.core.display.Javascript at 0x111209750>"
       ]
      },
      {
       "javascript": [
        "\n",
        "        var $myPB = $(\"div#603dd5d6-0527-48ce-991c-b87add1ee92f\")\n",
        "        if ($myPB.hasClass('ui-progressbar')) {\n",
        "            $myPB.progressbar('value', 384);\n",
        "        } else {\n",
        "            $myPB.progressbar({value: 0, max: 767});\n",
        "        }\n",
        "        "
       ],
       "metadata": {},
       "output_type": "display_data",
       "text": [
        "<IPython.core.display.Javascript at 0x111209690>"
       ]
      },
      {
       "javascript": [
        "$('div#cd03291e-3af7-4959-b151-add232c9b082').text('ETA:  0:00:02');"
       ],
       "metadata": {},
       "output_type": "display_data",
       "text": [
        "<IPython.core.display.Javascript at 0x111209610>"
       ]
      },
      {
       "javascript": [
        "$('div#9d37b887-fb70-4dc8-8e5c-1e76ab18de6d').text('392/767');"
       ],
       "metadata": {},
       "output_type": "display_data",
       "text": [
        "<IPython.core.display.Javascript at 0x111209610>"
       ]
      },
      {
       "javascript": [
        "$('div#ab5e3c02-b905-475b-a430-31b97942181f').text(' 51%');"
       ],
       "metadata": {},
       "output_type": "display_data",
       "text": [
        "<IPython.core.display.Javascript at 0x111209690>"
       ]
      },
      {
       "javascript": [
        "\n",
        "        var $myPB = $(\"div#603dd5d6-0527-48ce-991c-b87add1ee92f\")\n",
        "        if ($myPB.hasClass('ui-progressbar')) {\n",
        "            $myPB.progressbar('value', 392);\n",
        "        } else {\n",
        "            $myPB.progressbar({value: 0, max: 767});\n",
        "        }\n",
        "        "
       ],
       "metadata": {},
       "output_type": "display_data",
       "text": [
        "<IPython.core.display.Javascript at 0x111209750>"
       ]
      },
      {
       "javascript": [
        "$('div#cd03291e-3af7-4959-b151-add232c9b082').text('ETA:  0:00:02');"
       ],
       "metadata": {},
       "output_type": "display_data",
       "text": [
        "<IPython.core.display.Javascript at 0x1112095d0>"
       ]
      },
      {
       "javascript": [
        "$('div#9d37b887-fb70-4dc8-8e5c-1e76ab18de6d').text('400/767');"
       ],
       "metadata": {},
       "output_type": "display_data",
       "text": [
        "<IPython.core.display.Javascript at 0x111209710>"
       ]
      },
      {
       "javascript": [
        "$('div#ab5e3c02-b905-475b-a430-31b97942181f').text(' 52%');"
       ],
       "metadata": {},
       "output_type": "display_data",
       "text": [
        "<IPython.core.display.Javascript at 0x111209550>"
       ]
      },
      {
       "javascript": [
        "\n",
        "        var $myPB = $(\"div#603dd5d6-0527-48ce-991c-b87add1ee92f\")\n",
        "        if ($myPB.hasClass('ui-progressbar')) {\n",
        "            $myPB.progressbar('value', 400);\n",
        "        } else {\n",
        "            $myPB.progressbar({value: 0, max: 767});\n",
        "        }\n",
        "        "
       ],
       "metadata": {},
       "output_type": "display_data",
       "text": [
        "<IPython.core.display.Javascript at 0x111209650>"
       ]
      },
      {
       "javascript": [
        "$('div#cd03291e-3af7-4959-b151-add232c9b082').text('ETA:  0:00:02');"
       ],
       "metadata": {},
       "output_type": "display_data",
       "text": [
        "<IPython.core.display.Javascript at 0x111209350>"
       ]
      },
      {
       "javascript": [
        "$('div#9d37b887-fb70-4dc8-8e5c-1e76ab18de6d').text('408/767');"
       ],
       "metadata": {},
       "output_type": "display_data",
       "text": [
        "<IPython.core.display.Javascript at 0x111e5bd50>"
       ]
      },
      {
       "javascript": [
        "$('div#ab5e3c02-b905-475b-a430-31b97942181f').text(' 53%');"
       ],
       "metadata": {},
       "output_type": "display_data",
       "text": [
        "<IPython.core.display.Javascript at 0x111209350>"
       ]
      },
      {
       "javascript": [
        "\n",
        "        var $myPB = $(\"div#603dd5d6-0527-48ce-991c-b87add1ee92f\")\n",
        "        if ($myPB.hasClass('ui-progressbar')) {\n",
        "            $myPB.progressbar('value', 408);\n",
        "        } else {\n",
        "            $myPB.progressbar({value: 0, max: 767});\n",
        "        }\n",
        "        "
       ],
       "metadata": {},
       "output_type": "display_data",
       "text": [
        "<IPython.core.display.Javascript at 0x111209650>"
       ]
      },
      {
       "javascript": [
        "$('div#cd03291e-3af7-4959-b151-add232c9b082').text('ETA:  0:00:02');"
       ],
       "metadata": {},
       "output_type": "display_data",
       "text": [
        "<IPython.core.display.Javascript at 0x111209550>"
       ]
      },
      {
       "javascript": [
        "$('div#9d37b887-fb70-4dc8-8e5c-1e76ab18de6d').text('416/767');"
       ],
       "metadata": {},
       "output_type": "display_data",
       "text": [
        "<IPython.core.display.Javascript at 0x1112095d0>"
       ]
      },
      {
       "javascript": [
        "$('div#ab5e3c02-b905-475b-a430-31b97942181f').text(' 54%');"
       ],
       "metadata": {},
       "output_type": "display_data",
       "text": [
        "<IPython.core.display.Javascript at 0x113157e10>"
       ]
      },
      {
       "javascript": [
        "\n",
        "        var $myPB = $(\"div#603dd5d6-0527-48ce-991c-b87add1ee92f\")\n",
        "        if ($myPB.hasClass('ui-progressbar')) {\n",
        "            $myPB.progressbar('value', 416);\n",
        "        } else {\n",
        "            $myPB.progressbar({value: 0, max: 767});\n",
        "        }\n",
        "        "
       ],
       "metadata": {},
       "output_type": "display_data",
       "text": [
        "<IPython.core.display.Javascript at 0x111209750>"
       ]
      },
      {
       "javascript": [
        "$('div#cd03291e-3af7-4959-b151-add232c9b082').text('ETA:  0:00:02');"
       ],
       "metadata": {},
       "output_type": "display_data",
       "text": [
        "<IPython.core.display.Javascript at 0x111209690>"
       ]
      },
      {
       "javascript": [
        "$('div#9d37b887-fb70-4dc8-8e5c-1e76ab18de6d').text('424/767');"
       ],
       "metadata": {},
       "output_type": "display_data",
       "text": [
        "<IPython.core.display.Javascript at 0x111209610>"
       ]
      },
      {
       "javascript": [
        "$('div#ab5e3c02-b905-475b-a430-31b97942181f').text(' 55%');"
       ],
       "metadata": {},
       "output_type": "display_data",
       "text": [
        "<IPython.core.display.Javascript at 0x111209710>"
       ]
      },
      {
       "javascript": [
        "\n",
        "        var $myPB = $(\"div#603dd5d6-0527-48ce-991c-b87add1ee92f\")\n",
        "        if ($myPB.hasClass('ui-progressbar')) {\n",
        "            $myPB.progressbar('value', 424);\n",
        "        } else {\n",
        "            $myPB.progressbar({value: 0, max: 767});\n",
        "        }\n",
        "        "
       ],
       "metadata": {},
       "output_type": "display_data",
       "text": [
        "<IPython.core.display.Javascript at 0x109c480d0>"
       ]
      },
      {
       "javascript": [
        "$('div#cd03291e-3af7-4959-b151-add232c9b082').text('ETA:  0:00:02');"
       ],
       "metadata": {},
       "output_type": "display_data",
       "text": [
        "<IPython.core.display.Javascript at 0x109c48610>"
       ]
      },
      {
       "javascript": [
        "$('div#9d37b887-fb70-4dc8-8e5c-1e76ab18de6d').text('432/767');"
       ],
       "metadata": {},
       "output_type": "display_data",
       "text": [
        "<IPython.core.display.Javascript at 0x109c48450>"
       ]
      },
      {
       "javascript": [
        "$('div#ab5e3c02-b905-475b-a430-31b97942181f').text(' 56%');"
       ],
       "metadata": {},
       "output_type": "display_data",
       "text": [
        "<IPython.core.display.Javascript at 0x111203850>"
       ]
      },
      {
       "javascript": [
        "\n",
        "        var $myPB = $(\"div#603dd5d6-0527-48ce-991c-b87add1ee92f\")\n",
        "        if ($myPB.hasClass('ui-progressbar')) {\n",
        "            $myPB.progressbar('value', 432);\n",
        "        } else {\n",
        "            $myPB.progressbar({value: 0, max: 767});\n",
        "        }\n",
        "        "
       ],
       "metadata": {},
       "output_type": "display_data",
       "text": [
        "<IPython.core.display.Javascript at 0x113157e10>"
       ]
      },
      {
       "javascript": [
        "$('div#cd03291e-3af7-4959-b151-add232c9b082').text('ETA:  0:00:02');"
       ],
       "metadata": {},
       "output_type": "display_data",
       "text": [
        "<IPython.core.display.Javascript at 0x109c48610>"
       ]
      },
      {
       "javascript": [
        "$('div#9d37b887-fb70-4dc8-8e5c-1e76ab18de6d').text('440/767');"
       ],
       "metadata": {},
       "output_type": "display_data",
       "text": [
        "<IPython.core.display.Javascript at 0x109c480d0>"
       ]
      },
      {
       "javascript": [
        "$('div#ab5e3c02-b905-475b-a430-31b97942181f').text(' 57%');"
       ],
       "metadata": {},
       "output_type": "display_data",
       "text": [
        "<IPython.core.display.Javascript at 0x111209610>"
       ]
      },
      {
       "javascript": [
        "\n",
        "        var $myPB = $(\"div#603dd5d6-0527-48ce-991c-b87add1ee92f\")\n",
        "        if ($myPB.hasClass('ui-progressbar')) {\n",
        "            $myPB.progressbar('value', 440);\n",
        "        } else {\n",
        "            $myPB.progressbar({value: 0, max: 767});\n",
        "        }\n",
        "        "
       ],
       "metadata": {},
       "output_type": "display_data",
       "text": [
        "<IPython.core.display.Javascript at 0x111209690>"
       ]
      },
      {
       "javascript": [
        "$('div#cd03291e-3af7-4959-b151-add232c9b082').text('ETA:  0:00:02');"
       ],
       "metadata": {},
       "output_type": "display_data",
       "text": [
        "<IPython.core.display.Javascript at 0x111209750>"
       ]
      },
      {
       "javascript": [
        "$('div#9d37b887-fb70-4dc8-8e5c-1e76ab18de6d').text('448/767');"
       ],
       "metadata": {},
       "output_type": "display_data",
       "text": [
        "<IPython.core.display.Javascript at 0x1112095d0>"
       ]
      },
      {
       "javascript": [
        "$('div#ab5e3c02-b905-475b-a430-31b97942181f').text(' 58%');"
       ],
       "metadata": {},
       "output_type": "display_data",
       "text": [
        "<IPython.core.display.Javascript at 0x111e5bd50>"
       ]
      },
      {
       "javascript": [
        "\n",
        "        var $myPB = $(\"div#603dd5d6-0527-48ce-991c-b87add1ee92f\")\n",
        "        if ($myPB.hasClass('ui-progressbar')) {\n",
        "            $myPB.progressbar('value', 448);\n",
        "        } else {\n",
        "            $myPB.progressbar({value: 0, max: 767});\n",
        "        }\n",
        "        "
       ],
       "metadata": {},
       "output_type": "display_data",
       "text": [
        "<IPython.core.display.Javascript at 0x111209550>"
       ]
      },
      {
       "javascript": [
        "$('div#cd03291e-3af7-4959-b151-add232c9b082').text('ETA:  0:00:01');"
       ],
       "metadata": {},
       "output_type": "display_data",
       "text": [
        "<IPython.core.display.Javascript at 0x111209650>"
       ]
      },
      {
       "javascript": [
        "$('div#9d37b887-fb70-4dc8-8e5c-1e76ab18de6d').text('456/767');"
       ],
       "metadata": {},
       "output_type": "display_data",
       "text": [
        "<IPython.core.display.Javascript at 0x111209350>"
       ]
      },
      {
       "javascript": [
        "$('div#ab5e3c02-b905-475b-a430-31b97942181f').text(' 59%');"
       ],
       "metadata": {},
       "output_type": "display_data",
       "text": [
        "<IPython.core.display.Javascript at 0x111209710>"
       ]
      },
      {
       "javascript": [
        "\n",
        "        var $myPB = $(\"div#603dd5d6-0527-48ce-991c-b87add1ee92f\")\n",
        "        if ($myPB.hasClass('ui-progressbar')) {\n",
        "            $myPB.progressbar('value', 456);\n",
        "        } else {\n",
        "            $myPB.progressbar({value: 0, max: 767});\n",
        "        }\n",
        "        "
       ],
       "metadata": {},
       "output_type": "display_data",
       "text": [
        "<IPython.core.display.Javascript at 0x110a0ddd0>"
       ]
      },
      {
       "javascript": [
        "$('div#cd03291e-3af7-4959-b151-add232c9b082').text('ETA:  0:00:01');"
       ],
       "metadata": {},
       "output_type": "display_data",
       "text": [
        "<IPython.core.display.Javascript at 0x110a0dd90>"
       ]
      },
      {
       "javascript": [
        "$('div#9d37b887-fb70-4dc8-8e5c-1e76ab18de6d').text('464/767');"
       ],
       "metadata": {},
       "output_type": "display_data",
       "text": [
        "<IPython.core.display.Javascript at 0x110a0de10>"
       ]
      },
      {
       "javascript": [
        "$('div#ab5e3c02-b905-475b-a430-31b97942181f').text(' 60%');"
       ],
       "metadata": {},
       "output_type": "display_data",
       "text": [
        "<IPython.core.display.Javascript at 0x110a0dd90>"
       ]
      },
      {
       "javascript": [
        "\n",
        "        var $myPB = $(\"div#603dd5d6-0527-48ce-991c-b87add1ee92f\")\n",
        "        if ($myPB.hasClass('ui-progressbar')) {\n",
        "            $myPB.progressbar('value', 464);\n",
        "        } else {\n",
        "            $myPB.progressbar({value: 0, max: 767});\n",
        "        }\n",
        "        "
       ],
       "metadata": {},
       "output_type": "display_data",
       "text": [
        "<IPython.core.display.Javascript at 0x110a0ddd0>"
       ]
      },
      {
       "javascript": [
        "$('div#cd03291e-3af7-4959-b151-add232c9b082').text('ETA:  0:00:01');"
       ],
       "metadata": {},
       "output_type": "display_data",
       "text": [
        "<IPython.core.display.Javascript at 0x111e5bd50>"
       ]
      },
      {
       "javascript": [
        "$('div#9d37b887-fb70-4dc8-8e5c-1e76ab18de6d').text('472/767');"
       ],
       "metadata": {},
       "output_type": "display_data",
       "text": [
        "<IPython.core.display.Javascript at 0x111209350>"
       ]
      },
      {
       "javascript": [
        "$('div#ab5e3c02-b905-475b-a430-31b97942181f').text(' 61%');"
       ],
       "metadata": {},
       "output_type": "display_data",
       "text": [
        "<IPython.core.display.Javascript at 0x111209650>"
       ]
      },
      {
       "javascript": [
        "\n",
        "        var $myPB = $(\"div#603dd5d6-0527-48ce-991c-b87add1ee92f\")\n",
        "        if ($myPB.hasClass('ui-progressbar')) {\n",
        "            $myPB.progressbar('value', 472);\n",
        "        } else {\n",
        "            $myPB.progressbar({value: 0, max: 767});\n",
        "        }\n",
        "        "
       ],
       "metadata": {},
       "output_type": "display_data",
       "text": [
        "<IPython.core.display.Javascript at 0x111209550>"
       ]
      },
      {
       "javascript": [
        "$('div#cd03291e-3af7-4959-b151-add232c9b082').text('ETA:  0:00:01');"
       ],
       "metadata": {},
       "output_type": "display_data",
       "text": [
        "<IPython.core.display.Javascript at 0x1112095d0>"
       ]
      },
      {
       "javascript": [
        "$('div#9d37b887-fb70-4dc8-8e5c-1e76ab18de6d').text('480/767');"
       ],
       "metadata": {},
       "output_type": "display_data",
       "text": [
        "<IPython.core.display.Javascript at 0x111209750>"
       ]
      },
      {
       "javascript": [
        "$('div#ab5e3c02-b905-475b-a430-31b97942181f').text(' 62%');"
       ],
       "metadata": {},
       "output_type": "display_data",
       "text": [
        "<IPython.core.display.Javascript at 0x111209690>"
       ]
      },
      {
       "javascript": [
        "\n",
        "        var $myPB = $(\"div#603dd5d6-0527-48ce-991c-b87add1ee92f\")\n",
        "        if ($myPB.hasClass('ui-progressbar')) {\n",
        "            $myPB.progressbar('value', 480);\n",
        "        } else {\n",
        "            $myPB.progressbar({value: 0, max: 767});\n",
        "        }\n",
        "        "
       ],
       "metadata": {},
       "output_type": "display_data",
       "text": [
        "<IPython.core.display.Javascript at 0x111209610>"
       ]
      },
      {
       "javascript": [
        "$('div#cd03291e-3af7-4959-b151-add232c9b082').text('ETA:  0:00:01');"
       ],
       "metadata": {},
       "output_type": "display_data",
       "text": [
        "<IPython.core.display.Javascript at 0x111209710>"
       ]
      },
      {
       "javascript": [
        "$('div#9d37b887-fb70-4dc8-8e5c-1e76ab18de6d').text('488/767');"
       ],
       "metadata": {},
       "output_type": "display_data",
       "text": [
        "<IPython.core.display.Javascript at 0x113157e10>"
       ]
      },
      {
       "javascript": [
        "$('div#ab5e3c02-b905-475b-a430-31b97942181f').text(' 63%');"
       ],
       "metadata": {},
       "output_type": "display_data",
       "text": [
        "<IPython.core.display.Javascript at 0x111209710>"
       ]
      },
      {
       "javascript": [
        "\n",
        "        var $myPB = $(\"div#603dd5d6-0527-48ce-991c-b87add1ee92f\")\n",
        "        if ($myPB.hasClass('ui-progressbar')) {\n",
        "            $myPB.progressbar('value', 488);\n",
        "        } else {\n",
        "            $myPB.progressbar({value: 0, max: 767});\n",
        "        }\n",
        "        "
       ],
       "metadata": {},
       "output_type": "display_data",
       "text": [
        "<IPython.core.display.Javascript at 0x111209610>"
       ]
      },
      {
       "javascript": [
        "$('div#cd03291e-3af7-4959-b151-add232c9b082').text('ETA:  0:00:01');"
       ],
       "metadata": {},
       "output_type": "display_data",
       "text": [
        "<IPython.core.display.Javascript at 0x111209690>"
       ]
      },
      {
       "javascript": [
        "$('div#9d37b887-fb70-4dc8-8e5c-1e76ab18de6d').text('496/767');"
       ],
       "metadata": {},
       "output_type": "display_data",
       "text": [
        "<IPython.core.display.Javascript at 0x1112095d0>"
       ]
      },
      {
       "javascript": [
        "$('div#ab5e3c02-b905-475b-a430-31b97942181f').text(' 64%');"
       ],
       "metadata": {},
       "output_type": "display_data",
       "text": [
        "<IPython.core.display.Javascript at 0x111e5bd50>"
       ]
      },
      {
       "javascript": [
        "\n",
        "        var $myPB = $(\"div#603dd5d6-0527-48ce-991c-b87add1ee92f\")\n",
        "        if ($myPB.hasClass('ui-progressbar')) {\n",
        "            $myPB.progressbar('value', 496);\n",
        "        } else {\n",
        "            $myPB.progressbar({value: 0, max: 767});\n",
        "        }\n",
        "        "
       ],
       "metadata": {},
       "output_type": "display_data",
       "text": [
        "<IPython.core.display.Javascript at 0x111209550>"
       ]
      },
      {
       "javascript": [
        "$('div#cd03291e-3af7-4959-b151-add232c9b082').text('ETA:  0:00:01');"
       ],
       "metadata": {},
       "output_type": "display_data",
       "text": [
        "<IPython.core.display.Javascript at 0x111209650>"
       ]
      },
      {
       "javascript": [
        "$('div#9d37b887-fb70-4dc8-8e5c-1e76ab18de6d').text('504/767');"
       ],
       "metadata": {},
       "output_type": "display_data",
       "text": [
        "<IPython.core.display.Javascript at 0x111209350>"
       ]
      },
      {
       "javascript": [
        "$('div#ab5e3c02-b905-475b-a430-31b97942181f').text(' 65%');"
       ],
       "metadata": {},
       "output_type": "display_data",
       "text": [
        "<IPython.core.display.Javascript at 0x111209750>"
       ]
      },
      {
       "javascript": [
        "\n",
        "        var $myPB = $(\"div#603dd5d6-0527-48ce-991c-b87add1ee92f\")\n",
        "        if ($myPB.hasClass('ui-progressbar')) {\n",
        "            $myPB.progressbar('value', 504);\n",
        "        } else {\n",
        "            $myPB.progressbar({value: 0, max: 767});\n",
        "        }\n",
        "        "
       ],
       "metadata": {},
       "output_type": "display_data",
       "text": [
        "<IPython.core.display.Javascript at 0x111203850>"
       ]
      },
      {
       "javascript": [
        "$('div#cd03291e-3af7-4959-b151-add232c9b082').text('ETA:  0:00:01');"
       ],
       "metadata": {},
       "output_type": "display_data",
       "text": [
        "<IPython.core.display.Javascript at 0x110a0dd90>"
       ]
      },
      {
       "javascript": [
        "$('div#9d37b887-fb70-4dc8-8e5c-1e76ab18de6d').text('512/767');"
       ],
       "metadata": {},
       "output_type": "display_data",
       "text": [
        "<IPython.core.display.Javascript at 0x111203850>"
       ]
      },
      {
       "javascript": [
        "$('div#ab5e3c02-b905-475b-a430-31b97942181f').text(' 66%');"
       ],
       "metadata": {},
       "output_type": "display_data",
       "text": [
        "<IPython.core.display.Javascript at 0x111e5bd50>"
       ]
      },
      {
       "javascript": [
        "\n",
        "        var $myPB = $(\"div#603dd5d6-0527-48ce-991c-b87add1ee92f\")\n",
        "        if ($myPB.hasClass('ui-progressbar')) {\n",
        "            $myPB.progressbar('value', 512);\n",
        "        } else {\n",
        "            $myPB.progressbar({value: 0, max: 767});\n",
        "        }\n",
        "        "
       ],
       "metadata": {},
       "output_type": "display_data",
       "text": [
        "<IPython.core.display.Javascript at 0x111209750>"
       ]
      },
      {
       "javascript": [
        "$('div#cd03291e-3af7-4959-b151-add232c9b082').text('ETA:  0:00:01');"
       ],
       "metadata": {},
       "output_type": "display_data",
       "text": [
        "<IPython.core.display.Javascript at 0x111209350>"
       ]
      },
      {
       "javascript": [
        "$('div#9d37b887-fb70-4dc8-8e5c-1e76ab18de6d').text('520/767');"
       ],
       "metadata": {},
       "output_type": "display_data",
       "text": [
        "<IPython.core.display.Javascript at 0x111209550>"
       ]
      },
      {
       "javascript": [
        "$('div#ab5e3c02-b905-475b-a430-31b97942181f').text(' 67%');"
       ],
       "metadata": {},
       "output_type": "display_data",
       "text": [
        "<IPython.core.display.Javascript at 0x1112095d0>"
       ]
      },
      {
       "javascript": [
        "\n",
        "        var $myPB = $(\"div#603dd5d6-0527-48ce-991c-b87add1ee92f\")\n",
        "        if ($myPB.hasClass('ui-progressbar')) {\n",
        "            $myPB.progressbar('value', 520);\n",
        "        } else {\n",
        "            $myPB.progressbar({value: 0, max: 767});\n",
        "        }\n",
        "        "
       ],
       "metadata": {},
       "output_type": "display_data",
       "text": [
        "<IPython.core.display.Javascript at 0x113157e10>"
       ]
      },
      {
       "javascript": [
        "$('div#cd03291e-3af7-4959-b151-add232c9b082').text('ETA:  0:00:01');"
       ],
       "metadata": {},
       "output_type": "display_data",
       "text": [
        "<IPython.core.display.Javascript at 0x111209690>"
       ]
      },
      {
       "javascript": [
        "$('div#9d37b887-fb70-4dc8-8e5c-1e76ab18de6d').text('528/767');"
       ],
       "metadata": {},
       "output_type": "display_data",
       "text": [
        "<IPython.core.display.Javascript at 0x111209610>"
       ]
      },
      {
       "javascript": [
        "$('div#ab5e3c02-b905-475b-a430-31b97942181f').text(' 68%');"
       ],
       "metadata": {},
       "output_type": "display_data",
       "text": [
        "<IPython.core.display.Javascript at 0x111209710>"
       ]
      },
      {
       "javascript": [
        "\n",
        "        var $myPB = $(\"div#603dd5d6-0527-48ce-991c-b87add1ee92f\")\n",
        "        if ($myPB.hasClass('ui-progressbar')) {\n",
        "            $myPB.progressbar('value', 528);\n",
        "        } else {\n",
        "            $myPB.progressbar({value: 0, max: 767});\n",
        "        }\n",
        "        "
       ],
       "metadata": {},
       "output_type": "display_data",
       "text": [
        "<IPython.core.display.Javascript at 0x111209650>"
       ]
      },
      {
       "javascript": [
        "$('div#cd03291e-3af7-4959-b151-add232c9b082').text('ETA:  0:00:01');"
       ],
       "metadata": {},
       "output_type": "display_data",
       "text": [
        "<IPython.core.display.Javascript at 0x110a0dd90>"
       ]
      },
      {
       "javascript": [
        "$('div#9d37b887-fb70-4dc8-8e5c-1e76ab18de6d').text('536/767');"
       ],
       "metadata": {},
       "output_type": "display_data",
       "text": [
        "<IPython.core.display.Javascript at 0x110a0ddd0>"
       ]
      },
      {
       "javascript": [
        "$('div#ab5e3c02-b905-475b-a430-31b97942181f').text(' 69%');"
       ],
       "metadata": {},
       "output_type": "display_data",
       "text": [
        "<IPython.core.display.Javascript at 0x110a0de10>"
       ]
      },
      {
       "javascript": [
        "\n",
        "        var $myPB = $(\"div#603dd5d6-0527-48ce-991c-b87add1ee92f\")\n",
        "        if ($myPB.hasClass('ui-progressbar')) {\n",
        "            $myPB.progressbar('value', 536);\n",
        "        } else {\n",
        "            $myPB.progressbar({value: 0, max: 767});\n",
        "        }\n",
        "        "
       ],
       "metadata": {},
       "output_type": "display_data",
       "text": [
        "<IPython.core.display.Javascript at 0x110a0dd90>"
       ]
      },
      {
       "javascript": [
        "$('div#cd03291e-3af7-4959-b151-add232c9b082').text('ETA:  0:00:01');"
       ],
       "metadata": {},
       "output_type": "display_data",
       "text": [
        "<IPython.core.display.Javascript at 0x113157e10>"
       ]
      },
      {
       "javascript": [
        "$('div#9d37b887-fb70-4dc8-8e5c-1e76ab18de6d').text('544/767');"
       ],
       "metadata": {},
       "output_type": "display_data",
       "text": [
        "<IPython.core.display.Javascript at 0x111209710>"
       ]
      },
      {
       "javascript": [
        "$('div#ab5e3c02-b905-475b-a430-31b97942181f').text(' 70%');"
       ],
       "metadata": {},
       "output_type": "display_data",
       "text": [
        "<IPython.core.display.Javascript at 0x111209610>"
       ]
      },
      {
       "javascript": [
        "\n",
        "        var $myPB = $(\"div#603dd5d6-0527-48ce-991c-b87add1ee92f\")\n",
        "        if ($myPB.hasClass('ui-progressbar')) {\n",
        "            $myPB.progressbar('value', 544);\n",
        "        } else {\n",
        "            $myPB.progressbar({value: 0, max: 767});\n",
        "        }\n",
        "        "
       ],
       "metadata": {},
       "output_type": "display_data",
       "text": [
        "<IPython.core.display.Javascript at 0x111209690>"
       ]
      },
      {
       "javascript": [
        "$('div#cd03291e-3af7-4959-b151-add232c9b082').text('ETA:  0:00:01');"
       ],
       "metadata": {},
       "output_type": "display_data",
       "text": [
        "<IPython.core.display.Javascript at 0x1112095d0>"
       ]
      },
      {
       "javascript": [
        "$('div#9d37b887-fb70-4dc8-8e5c-1e76ab18de6d').text('552/767');"
       ],
       "metadata": {},
       "output_type": "display_data",
       "text": [
        "<IPython.core.display.Javascript at 0x111e5bd50>"
       ]
      },
      {
       "javascript": [
        "$('div#ab5e3c02-b905-475b-a430-31b97942181f').text(' 71%');"
       ],
       "metadata": {},
       "output_type": "display_data",
       "text": [
        "<IPython.core.display.Javascript at 0x111203850>"
       ]
      },
      {
       "javascript": [
        "\n",
        "        var $myPB = $(\"div#603dd5d6-0527-48ce-991c-b87add1ee92f\")\n",
        "        if ($myPB.hasClass('ui-progressbar')) {\n",
        "            $myPB.progressbar('value', 552);\n",
        "        } else {\n",
        "            $myPB.progressbar({value: 0, max: 767});\n",
        "        }\n",
        "        "
       ],
       "metadata": {},
       "output_type": "display_data",
       "text": [
        "<IPython.core.display.Javascript at 0x111209550>"
       ]
      },
      {
       "javascript": [
        "$('div#cd03291e-3af7-4959-b151-add232c9b082').text('ETA:  0:00:01');"
       ],
       "metadata": {},
       "output_type": "display_data",
       "text": [
        "<IPython.core.display.Javascript at 0x111209350>"
       ]
      },
      {
       "javascript": [
        "$('div#9d37b887-fb70-4dc8-8e5c-1e76ab18de6d').text('560/767');"
       ],
       "metadata": {},
       "output_type": "display_data",
       "text": [
        "<IPython.core.display.Javascript at 0x111209750>"
       ]
      },
      {
       "javascript": [
        "$('div#ab5e3c02-b905-475b-a430-31b97942181f').text(' 73%');"
       ],
       "metadata": {},
       "output_type": "display_data",
       "text": [
        "<IPython.core.display.Javascript at 0x111209650>"
       ]
      },
      {
       "javascript": [
        "\n",
        "        var $myPB = $(\"div#603dd5d6-0527-48ce-991c-b87add1ee92f\")\n",
        "        if ($myPB.hasClass('ui-progressbar')) {\n",
        "            $myPB.progressbar('value', 560);\n",
        "        } else {\n",
        "            $myPB.progressbar({value: 0, max: 767});\n",
        "        }\n",
        "        "
       ],
       "metadata": {},
       "output_type": "display_data",
       "text": [
        "<IPython.core.display.Javascript at 0x109c48610>"
       ]
      },
      {
       "javascript": [
        "$('div#cd03291e-3af7-4959-b151-add232c9b082').text('ETA:  0:00:01');"
       ],
       "metadata": {},
       "output_type": "display_data",
       "text": [
        "<IPython.core.display.Javascript at 0x109c48450>"
       ]
      },
      {
       "javascript": [
        "$('div#9d37b887-fb70-4dc8-8e5c-1e76ab18de6d').text('568/767');"
       ],
       "metadata": {},
       "output_type": "display_data",
       "text": [
        "<IPython.core.display.Javascript at 0x109c480d0>"
       ]
      },
      {
       "javascript": [
        "$('div#ab5e3c02-b905-475b-a430-31b97942181f').text(' 74%');"
       ],
       "metadata": {},
       "output_type": "display_data",
       "text": [
        "<IPython.core.display.Javascript at 0x111203850>"
       ]
      },
      {
       "javascript": [
        "\n",
        "        var $myPB = $(\"div#603dd5d6-0527-48ce-991c-b87add1ee92f\")\n",
        "        if ($myPB.hasClass('ui-progressbar')) {\n",
        "            $myPB.progressbar('value', 568);\n",
        "        } else {\n",
        "            $myPB.progressbar({value: 0, max: 767});\n",
        "        }\n",
        "        "
       ],
       "metadata": {},
       "output_type": "display_data",
       "text": [
        "<IPython.core.display.Javascript at 0x109c48450>"
       ]
      },
      {
       "javascript": [
        "$('div#cd03291e-3af7-4959-b151-add232c9b082').text('ETA:  0:00:01');"
       ],
       "metadata": {},
       "output_type": "display_data",
       "text": [
        "<IPython.core.display.Javascript at 0x109c48610>"
       ]
      },
      {
       "javascript": [
        "$('div#9d37b887-fb70-4dc8-8e5c-1e76ab18de6d').text('576/767');"
       ],
       "metadata": {},
       "output_type": "display_data",
       "text": [
        "<IPython.core.display.Javascript at 0x111e5bd50>"
       ]
      },
      {
       "javascript": [
        "$('div#ab5e3c02-b905-475b-a430-31b97942181f').text(' 75%');"
       ],
       "metadata": {},
       "output_type": "display_data",
       "text": [
        "<IPython.core.display.Javascript at 0x111209350>"
       ]
      },
      {
       "javascript": [
        "\n",
        "        var $myPB = $(\"div#603dd5d6-0527-48ce-991c-b87add1ee92f\")\n",
        "        if ($myPB.hasClass('ui-progressbar')) {\n",
        "            $myPB.progressbar('value', 576);\n",
        "        } else {\n",
        "            $myPB.progressbar({value: 0, max: 767});\n",
        "        }\n",
        "        "
       ],
       "metadata": {},
       "output_type": "display_data",
       "text": [
        "<IPython.core.display.Javascript at 0x111209750>"
       ]
      },
      {
       "javascript": [
        "$('div#cd03291e-3af7-4959-b151-add232c9b082').text('ETA:  0:00:01');"
       ],
       "metadata": {},
       "output_type": "display_data",
       "text": [
        "<IPython.core.display.Javascript at 0x111209550>"
       ]
      },
      {
       "javascript": [
        "$('div#9d37b887-fb70-4dc8-8e5c-1e76ab18de6d').text('584/767');"
       ],
       "metadata": {},
       "output_type": "display_data",
       "text": [
        "<IPython.core.display.Javascript at 0x1112095d0>"
       ]
      },
      {
       "javascript": [
        "$('div#ab5e3c02-b905-475b-a430-31b97942181f').text(' 76%');"
       ],
       "metadata": {},
       "output_type": "display_data",
       "text": [
        "<IPython.core.display.Javascript at 0x113157e10>"
       ]
      },
      {
       "javascript": [
        "\n",
        "        var $myPB = $(\"div#603dd5d6-0527-48ce-991c-b87add1ee92f\")\n",
        "        if ($myPB.hasClass('ui-progressbar')) {\n",
        "            $myPB.progressbar('value', 584);\n",
        "        } else {\n",
        "            $myPB.progressbar({value: 0, max: 767});\n",
        "        }\n",
        "        "
       ],
       "metadata": {},
       "output_type": "display_data",
       "text": [
        "<IPython.core.display.Javascript at 0x111209690>"
       ]
      },
      {
       "javascript": [
        "$('div#cd03291e-3af7-4959-b151-add232c9b082').text('ETA:  0:00:01');"
       ],
       "metadata": {},
       "output_type": "display_data",
       "text": [
        "<IPython.core.display.Javascript at 0x111209610>"
       ]
      },
      {
       "javascript": [
        "$('div#9d37b887-fb70-4dc8-8e5c-1e76ab18de6d').text('592/767');"
       ],
       "metadata": {},
       "output_type": "display_data",
       "text": [
        "<IPython.core.display.Javascript at 0x111209650>"
       ]
      },
      {
       "javascript": [
        "$('div#ab5e3c02-b905-475b-a430-31b97942181f').text(' 77%');"
       ],
       "metadata": {},
       "output_type": "display_data",
       "text": [
        "<IPython.core.display.Javascript at 0x110a0ddd0>"
       ]
      },
      {
       "javascript": [
        "\n",
        "        var $myPB = $(\"div#603dd5d6-0527-48ce-991c-b87add1ee92f\")\n",
        "        if ($myPB.hasClass('ui-progressbar')) {\n",
        "            $myPB.progressbar('value', 592);\n",
        "        } else {\n",
        "            $myPB.progressbar({value: 0, max: 767});\n",
        "        }\n",
        "        "
       ],
       "metadata": {},
       "output_type": "display_data",
       "text": [
        "<IPython.core.display.Javascript at 0x110a0de10>"
       ]
      },
      {
       "javascript": [
        "$('div#cd03291e-3af7-4959-b151-add232c9b082').text('ETA:  0:00:00');"
       ],
       "metadata": {},
       "output_type": "display_data",
       "text": [
        "<IPython.core.display.Javascript at 0x110a0dd90>"
       ]
      },
      {
       "javascript": [
        "$('div#9d37b887-fb70-4dc8-8e5c-1e76ab18de6d').text('600/767');"
       ],
       "metadata": {},
       "output_type": "display_data",
       "text": [
        "<IPython.core.display.Javascript at 0x113157e10>"
       ]
      },
      {
       "javascript": [
        "$('div#ab5e3c02-b905-475b-a430-31b97942181f').text(' 78%');"
       ],
       "metadata": {},
       "output_type": "display_data",
       "text": [
        "<IPython.core.display.Javascript at 0x109c50050>"
       ]
      },
      {
       "javascript": [
        "\n",
        "        var $myPB = $(\"div#603dd5d6-0527-48ce-991c-b87add1ee92f\")\n",
        "        if ($myPB.hasClass('ui-progressbar')) {\n",
        "            $myPB.progressbar('value', 600);\n",
        "        } else {\n",
        "            $myPB.progressbar({value: 0, max: 767});\n",
        "        }\n",
        "        "
       ],
       "metadata": {},
       "output_type": "display_data",
       "text": [
        "<IPython.core.display.Javascript at 0x109c50d10>"
       ]
      },
      {
       "javascript": [
        "$('div#cd03291e-3af7-4959-b151-add232c9b082').text('ETA:  0:00:00');"
       ],
       "metadata": {},
       "output_type": "display_data",
       "text": [
        "<IPython.core.display.Javascript at 0x109c50b90>"
       ]
      },
      {
       "javascript": [
        "$('div#9d37b887-fb70-4dc8-8e5c-1e76ab18de6d').text('608/767');"
       ],
       "metadata": {},
       "output_type": "display_data",
       "text": [
        "<IPython.core.display.Javascript at 0x109c50b50>"
       ]
      },
      {
       "javascript": [
        "$('div#ab5e3c02-b905-475b-a430-31b97942181f').text(' 79%');"
       ],
       "metadata": {},
       "output_type": "display_data",
       "text": [
        "<IPython.core.display.Javascript at 0x111209710>"
       ]
      },
      {
       "javascript": [
        "\n",
        "        var $myPB = $(\"div#603dd5d6-0527-48ce-991c-b87add1ee92f\")\n",
        "        if ($myPB.hasClass('ui-progressbar')) {\n",
        "            $myPB.progressbar('value', 608);\n",
        "        } else {\n",
        "            $myPB.progressbar({value: 0, max: 767});\n",
        "        }\n",
        "        "
       ],
       "metadata": {},
       "output_type": "display_data",
       "text": [
        "<IPython.core.display.Javascript at 0x111209610>"
       ]
      },
      {
       "javascript": [
        "$('div#cd03291e-3af7-4959-b151-add232c9b082').text('ETA:  0:00:00');"
       ],
       "metadata": {},
       "output_type": "display_data",
       "text": [
        "<IPython.core.display.Javascript at 0x111209690>"
       ]
      },
      {
       "javascript": [
        "$('div#9d37b887-fb70-4dc8-8e5c-1e76ab18de6d').text('616/767');"
       ],
       "metadata": {},
       "output_type": "display_data",
       "text": [
        "<IPython.core.display.Javascript at 0x111209550>"
       ]
      },
      {
       "javascript": [
        "$('div#ab5e3c02-b905-475b-a430-31b97942181f').text(' 80%');"
       ],
       "metadata": {},
       "output_type": "display_data",
       "text": [
        "<IPython.core.display.Javascript at 0x111e5bd50>"
       ]
      },
      {
       "javascript": [
        "\n",
        "        var $myPB = $(\"div#603dd5d6-0527-48ce-991c-b87add1ee92f\")\n",
        "        if ($myPB.hasClass('ui-progressbar')) {\n",
        "            $myPB.progressbar('value', 616);\n",
        "        } else {\n",
        "            $myPB.progressbar({value: 0, max: 767});\n",
        "        }\n",
        "        "
       ],
       "metadata": {},
       "output_type": "display_data",
       "text": [
        "<IPython.core.display.Javascript at 0x1112095d0>"
       ]
      },
      {
       "javascript": [
        "$('div#cd03291e-3af7-4959-b151-add232c9b082').text('ETA:  0:00:00');"
       ],
       "metadata": {},
       "output_type": "display_data",
       "text": [
        "<IPython.core.display.Javascript at 0x111209350>"
       ]
      },
      {
       "javascript": [
        "$('div#9d37b887-fb70-4dc8-8e5c-1e76ab18de6d').text('624/767');"
       ],
       "metadata": {},
       "output_type": "display_data",
       "text": [
        "<IPython.core.display.Javascript at 0x111203850>"
       ]
      },
      {
       "javascript": [
        "$('div#ab5e3c02-b905-475b-a430-31b97942181f').text(' 81%');"
       ],
       "metadata": {},
       "output_type": "display_data",
       "text": [
        "<IPython.core.display.Javascript at 0x111203850>"
       ]
      },
      {
       "javascript": [
        "\n",
        "        var $myPB = $(\"div#603dd5d6-0527-48ce-991c-b87add1ee92f\")\n",
        "        if ($myPB.hasClass('ui-progressbar')) {\n",
        "            $myPB.progressbar('value', 624);\n",
        "        } else {\n",
        "            $myPB.progressbar({value: 0, max: 767});\n",
        "        }\n",
        "        "
       ],
       "metadata": {},
       "output_type": "display_data",
       "text": [
        "<IPython.core.display.Javascript at 0x110a34290>"
       ]
      },
      {
       "javascript": [
        "$('div#cd03291e-3af7-4959-b151-add232c9b082').text('ETA:  0:00:00');"
       ],
       "metadata": {},
       "output_type": "display_data",
       "text": [
        "<IPython.core.display.Javascript at 0x109c48610>"
       ]
      },
      {
       "javascript": [
        "$('div#9d37b887-fb70-4dc8-8e5c-1e76ab18de6d').text('632/767');"
       ],
       "metadata": {},
       "output_type": "display_data",
       "text": [
        "<IPython.core.display.Javascript at 0x109c48450>"
       ]
      },
      {
       "javascript": [
        "$('div#ab5e3c02-b905-475b-a430-31b97942181f').text(' 82%');"
       ],
       "metadata": {},
       "output_type": "display_data",
       "text": [
        "<IPython.core.display.Javascript at 0x111e5bd50>"
       ]
      },
      {
       "javascript": [
        "\n",
        "        var $myPB = $(\"div#603dd5d6-0527-48ce-991c-b87add1ee92f\")\n",
        "        if ($myPB.hasClass('ui-progressbar')) {\n",
        "            $myPB.progressbar('value', 632);\n",
        "        } else {\n",
        "            $myPB.progressbar({value: 0, max: 767});\n",
        "        }\n",
        "        "
       ],
       "metadata": {},
       "output_type": "display_data",
       "text": [
        "<IPython.core.display.Javascript at 0x111209650>"
       ]
      },
      {
       "javascript": [
        "$('div#cd03291e-3af7-4959-b151-add232c9b082').text('ETA:  0:00:00');"
       ],
       "metadata": {},
       "output_type": "display_data",
       "text": [
        "<IPython.core.display.Javascript at 0x111209350>"
       ]
      },
      {
       "javascript": [
        "$('div#9d37b887-fb70-4dc8-8e5c-1e76ab18de6d').text('640/767');"
       ],
       "metadata": {},
       "output_type": "display_data",
       "text": [
        "<IPython.core.display.Javascript at 0x111209690>"
       ]
      },
      {
       "javascript": [
        "$('div#ab5e3c02-b905-475b-a430-31b97942181f').text(' 83%');"
       ],
       "metadata": {},
       "output_type": "display_data",
       "text": [
        "<IPython.core.display.Javascript at 0x111209550>"
       ]
      },
      {
       "javascript": [
        "\n",
        "        var $myPB = $(\"div#603dd5d6-0527-48ce-991c-b87add1ee92f\")\n",
        "        if ($myPB.hasClass('ui-progressbar')) {\n",
        "            $myPB.progressbar('value', 640);\n",
        "        } else {\n",
        "            $myPB.progressbar({value: 0, max: 767});\n",
        "        }\n",
        "        "
       ],
       "metadata": {},
       "output_type": "display_data",
       "text": [
        "<IPython.core.display.Javascript at 0x1112095d0>"
       ]
      },
      {
       "javascript": [
        "$('div#cd03291e-3af7-4959-b151-add232c9b082').text('ETA:  0:00:00');"
       ],
       "metadata": {},
       "output_type": "display_data",
       "text": [
        "<IPython.core.display.Javascript at 0x111209610>"
       ]
      },
      {
       "javascript": [
        "$('div#9d37b887-fb70-4dc8-8e5c-1e76ab18de6d').text('648/767');"
       ],
       "metadata": {},
       "output_type": "display_data",
       "text": [
        "<IPython.core.display.Javascript at 0x111209710>"
       ]
      },
      {
       "javascript": [
        "$('div#ab5e3c02-b905-475b-a430-31b97942181f').text(' 84%');"
       ],
       "metadata": {},
       "output_type": "display_data",
       "text": [
        "<IPython.core.display.Javascript at 0x111209750>"
       ]
      },
      {
       "javascript": [
        "\n",
        "        var $myPB = $(\"div#603dd5d6-0527-48ce-991c-b87add1ee92f\")\n",
        "        if ($myPB.hasClass('ui-progressbar')) {\n",
        "            $myPB.progressbar('value', 648);\n",
        "        } else {\n",
        "            $myPB.progressbar({value: 0, max: 767});\n",
        "        }\n",
        "        "
       ],
       "metadata": {},
       "output_type": "display_data",
       "text": [
        "<IPython.core.display.Javascript at 0x111209610>"
       ]
      },
      {
       "javascript": [
        "$('div#cd03291e-3af7-4959-b151-add232c9b082').text('ETA:  0:00:00');"
       ],
       "metadata": {},
       "output_type": "display_data",
       "text": [
        "<IPython.core.display.Javascript at 0x1112095d0>"
       ]
      },
      {
       "javascript": [
        "$('div#9d37b887-fb70-4dc8-8e5c-1e76ab18de6d').text('656/767');"
       ],
       "metadata": {},
       "output_type": "display_data",
       "text": [
        "<IPython.core.display.Javascript at 0x111e5bd50>"
       ]
      },
      {
       "javascript": [
        "$('div#ab5e3c02-b905-475b-a430-31b97942181f').text(' 85%');"
       ],
       "metadata": {},
       "output_type": "display_data",
       "text": [
        "<IPython.core.display.Javascript at 0x111209690>"
       ]
      },
      {
       "javascript": [
        "\n",
        "        var $myPB = $(\"div#603dd5d6-0527-48ce-991c-b87add1ee92f\")\n",
        "        if ($myPB.hasClass('ui-progressbar')) {\n",
        "            $myPB.progressbar('value', 656);\n",
        "        } else {\n",
        "            $myPB.progressbar({value: 0, max: 767});\n",
        "        }\n",
        "        "
       ],
       "metadata": {},
       "output_type": "display_data",
       "text": [
        "<IPython.core.display.Javascript at 0x111209350>"
       ]
      },
      {
       "javascript": [
        "$('div#cd03291e-3af7-4959-b151-add232c9b082').text('ETA:  0:00:00');"
       ],
       "metadata": {},
       "output_type": "display_data",
       "text": [
        "<IPython.core.display.Javascript at 0x111209650>"
       ]
      },
      {
       "javascript": [
        "$('div#9d37b887-fb70-4dc8-8e5c-1e76ab18de6d').text('664/767');"
       ],
       "metadata": {},
       "output_type": "display_data",
       "text": [
        "<IPython.core.display.Javascript at 0x111203850>"
       ]
      },
      {
       "javascript": [
        "$('div#ab5e3c02-b905-475b-a430-31b97942181f').text(' 86%');"
       ],
       "metadata": {},
       "output_type": "display_data",
       "text": [
        "<IPython.core.display.Javascript at 0x111209550>"
       ]
      },
      {
       "javascript": [
        "\n",
        "        var $myPB = $(\"div#603dd5d6-0527-48ce-991c-b87add1ee92f\")\n",
        "        if ($myPB.hasClass('ui-progressbar')) {\n",
        "            $myPB.progressbar('value', 664);\n",
        "        } else {\n",
        "            $myPB.progressbar({value: 0, max: 767});\n",
        "        }\n",
        "        "
       ],
       "metadata": {},
       "output_type": "display_data",
       "text": [
        "<IPython.core.display.Javascript at 0x110a34290>"
       ]
      },
      {
       "javascript": [
        "$('div#cd03291e-3af7-4959-b151-add232c9b082').text('ETA:  0:00:00');"
       ],
       "metadata": {},
       "output_type": "display_data",
       "text": [
        "<IPython.core.display.Javascript at 0x109c48610>"
       ]
      },
      {
       "javascript": [
        "$('div#9d37b887-fb70-4dc8-8e5c-1e76ab18de6d').text('672/767');"
       ],
       "metadata": {},
       "output_type": "display_data",
       "text": [
        "<IPython.core.display.Javascript at 0x109c48450>"
       ]
      },
      {
       "javascript": [
        "$('div#ab5e3c02-b905-475b-a430-31b97942181f').text(' 87%');"
       ],
       "metadata": {},
       "output_type": "display_data",
       "text": [
        "<IPython.core.display.Javascript at 0x113157e10>"
       ]
      },
      {
       "javascript": [
        "\n",
        "        var $myPB = $(\"div#603dd5d6-0527-48ce-991c-b87add1ee92f\")\n",
        "        if ($myPB.hasClass('ui-progressbar')) {\n",
        "            $myPB.progressbar('value', 672);\n",
        "        } else {\n",
        "            $myPB.progressbar({value: 0, max: 767});\n",
        "        }\n",
        "        "
       ],
       "metadata": {},
       "output_type": "display_data",
       "text": [
        "<IPython.core.display.Javascript at 0x109c50050>"
       ]
      },
      {
       "javascript": [
        "$('div#cd03291e-3af7-4959-b151-add232c9b082').text('ETA:  0:00:00');"
       ],
       "metadata": {},
       "output_type": "display_data",
       "text": [
        "<IPython.core.display.Javascript at 0x109c50b50>"
       ]
      },
      {
       "javascript": [
        "$('div#9d37b887-fb70-4dc8-8e5c-1e76ab18de6d').text('680/767');"
       ],
       "metadata": {},
       "output_type": "display_data",
       "text": [
        "<IPython.core.display.Javascript at 0x109c50d10>"
       ]
      },
      {
       "javascript": [
        "$('div#ab5e3c02-b905-475b-a430-31b97942181f').text(' 88%');"
       ],
       "metadata": {},
       "output_type": "display_data",
       "text": [
        "<IPython.core.display.Javascript at 0x109c50b90>"
       ]
      },
      {
       "javascript": [
        "\n",
        "        var $myPB = $(\"div#603dd5d6-0527-48ce-991c-b87add1ee92f\")\n",
        "        if ($myPB.hasClass('ui-progressbar')) {\n",
        "            $myPB.progressbar('value', 680);\n",
        "        } else {\n",
        "            $myPB.progressbar({value: 0, max: 767});\n",
        "        }\n",
        "        "
       ],
       "metadata": {},
       "output_type": "display_data",
       "text": [
        "<IPython.core.display.Javascript at 0x110a0de10>"
       ]
      },
      {
       "javascript": [
        "$('div#cd03291e-3af7-4959-b151-add232c9b082').text('ETA:  0:00:00');"
       ],
       "metadata": {},
       "output_type": "display_data",
       "text": [
        "<IPython.core.display.Javascript at 0x110a0ddd0>"
       ]
      },
      {
       "javascript": [
        "$('div#9d37b887-fb70-4dc8-8e5c-1e76ab18de6d').text('688/767');"
       ],
       "metadata": {},
       "output_type": "display_data",
       "text": [
        "<IPython.core.display.Javascript at 0x110a0dd90>"
       ]
      },
      {
       "javascript": [
        "$('div#ab5e3c02-b905-475b-a430-31b97942181f').text(' 89%');"
       ],
       "metadata": {},
       "output_type": "display_data",
       "text": [
        "<IPython.core.display.Javascript at 0x112a486d0>"
       ]
      },
      {
       "javascript": [
        "\n",
        "        var $myPB = $(\"div#603dd5d6-0527-48ce-991c-b87add1ee92f\")\n",
        "        if ($myPB.hasClass('ui-progressbar')) {\n",
        "            $myPB.progressbar('value', 688);\n",
        "        } else {\n",
        "            $myPB.progressbar({value: 0, max: 767});\n",
        "        }\n",
        "        "
       ],
       "metadata": {},
       "output_type": "display_data",
       "text": [
        "<IPython.core.display.Javascript at 0x112a48c90>"
       ]
      },
      {
       "javascript": [
        "$('div#cd03291e-3af7-4959-b151-add232c9b082').text('ETA:  0:00:00');"
       ],
       "metadata": {},
       "output_type": "display_data",
       "text": [
        "<IPython.core.display.Javascript at 0x113174090>"
       ]
      },
      {
       "javascript": [
        "$('div#9d37b887-fb70-4dc8-8e5c-1e76ab18de6d').text('696/767');"
       ],
       "metadata": {},
       "output_type": "display_data",
       "text": [
        "<IPython.core.display.Javascript at 0x112a486d0>"
       ]
      },
      {
       "javascript": [
        "$('div#ab5e3c02-b905-475b-a430-31b97942181f').text(' 90%');"
       ],
       "metadata": {},
       "output_type": "display_data",
       "text": [
        "<IPython.core.display.Javascript at 0x112a48c90>"
       ]
      },
      {
       "javascript": [
        "\n",
        "        var $myPB = $(\"div#603dd5d6-0527-48ce-991c-b87add1ee92f\")\n",
        "        if ($myPB.hasClass('ui-progressbar')) {\n",
        "            $myPB.progressbar('value', 696);\n",
        "        } else {\n",
        "            $myPB.progressbar({value: 0, max: 767});\n",
        "        }\n",
        "        "
       ],
       "metadata": {},
       "output_type": "display_data",
       "text": [
        "<IPython.core.display.Javascript at 0x110a0dd90>"
       ]
      },
      {
       "javascript": [
        "$('div#cd03291e-3af7-4959-b151-add232c9b082').text('ETA:  0:00:00');"
       ],
       "metadata": {},
       "output_type": "display_data",
       "text": [
        "<IPython.core.display.Javascript at 0x110a0ddd0>"
       ]
      },
      {
       "javascript": [
        "$('div#9d37b887-fb70-4dc8-8e5c-1e76ab18de6d').text('704/767');"
       ],
       "metadata": {},
       "output_type": "display_data",
       "text": [
        "<IPython.core.display.Javascript at 0x110a0de10>"
       ]
      },
      {
       "javascript": [
        "$('div#ab5e3c02-b905-475b-a430-31b97942181f').text(' 91%');"
       ],
       "metadata": {},
       "output_type": "display_data",
       "text": [
        "<IPython.core.display.Javascript at 0x113157e10>"
       ]
      },
      {
       "javascript": [
        "\n",
        "        var $myPB = $(\"div#603dd5d6-0527-48ce-991c-b87add1ee92f\")\n",
        "        if ($myPB.hasClass('ui-progressbar')) {\n",
        "            $myPB.progressbar('value', 704);\n",
        "        } else {\n",
        "            $myPB.progressbar({value: 0, max: 767});\n",
        "        }\n",
        "        "
       ],
       "metadata": {},
       "output_type": "display_data",
       "text": [
        "<IPython.core.display.Javascript at 0x109c50d10>"
       ]
      },
      {
       "javascript": [
        "$('div#cd03291e-3af7-4959-b151-add232c9b082').text('ETA:  0:00:00');"
       ],
       "metadata": {},
       "output_type": "display_data",
       "text": [
        "<IPython.core.display.Javascript at 0x109c50b50>"
       ]
      },
      {
       "javascript": [
        "$('div#9d37b887-fb70-4dc8-8e5c-1e76ab18de6d').text('712/767');"
       ],
       "metadata": {},
       "output_type": "display_data",
       "text": [
        "<IPython.core.display.Javascript at 0x110a34290>"
       ]
      },
      {
       "javascript": [
        "$('div#ab5e3c02-b905-475b-a430-31b97942181f').text(' 92%');"
       ],
       "metadata": {},
       "output_type": "display_data",
       "text": [
        "<IPython.core.display.Javascript at 0x109c50050>"
       ]
      },
      {
       "javascript": [
        "\n",
        "        var $myPB = $(\"div#603dd5d6-0527-48ce-991c-b87add1ee92f\")\n",
        "        if ($myPB.hasClass('ui-progressbar')) {\n",
        "            $myPB.progressbar('value', 712);\n",
        "        } else {\n",
        "            $myPB.progressbar({value: 0, max: 767});\n",
        "        }\n",
        "        "
       ],
       "metadata": {},
       "output_type": "display_data",
       "text": [
        "<IPython.core.display.Javascript at 0x109c50b90>"
       ]
      },
      {
       "javascript": [
        "$('div#cd03291e-3af7-4959-b151-add232c9b082').text('ETA:  0:00:00');"
       ],
       "metadata": {},
       "output_type": "display_data",
       "text": [
        "<IPython.core.display.Javascript at 0x111203850>"
       ]
      },
      {
       "javascript": [
        "$('div#9d37b887-fb70-4dc8-8e5c-1e76ab18de6d').text('720/767');"
       ],
       "metadata": {},
       "output_type": "display_data",
       "text": [
        "<IPython.core.display.Javascript at 0x111e5bd50>"
       ]
      },
      {
       "javascript": [
        "$('div#ab5e3c02-b905-475b-a430-31b97942181f').text(' 93%');"
       ],
       "metadata": {},
       "output_type": "display_data",
       "text": [
        "<IPython.core.display.Javascript at 0x109c48610>"
       ]
      },
      {
       "javascript": [
        "\n",
        "        var $myPB = $(\"div#603dd5d6-0527-48ce-991c-b87add1ee92f\")\n",
        "        if ($myPB.hasClass('ui-progressbar')) {\n",
        "            $myPB.progressbar('value', 720);\n",
        "        } else {\n",
        "            $myPB.progressbar({value: 0, max: 767});\n",
        "        }\n",
        "        "
       ],
       "metadata": {},
       "output_type": "display_data",
       "text": [
        "<IPython.core.display.Javascript at 0x109c48450>"
       ]
      },
      {
       "javascript": [
        "$('div#cd03291e-3af7-4959-b151-add232c9b082').text('ETA:  0:00:00');"
       ],
       "metadata": {},
       "output_type": "display_data",
       "text": [
        "<IPython.core.display.Javascript at 0x111209650>"
       ]
      },
      {
       "javascript": [
        "$('div#9d37b887-fb70-4dc8-8e5c-1e76ab18de6d').text('728/767');"
       ],
       "metadata": {},
       "output_type": "display_data",
       "text": [
        "<IPython.core.display.Javascript at 0x111209350>"
       ]
      },
      {
       "javascript": [
        "$('div#ab5e3c02-b905-475b-a430-31b97942181f').text(' 94%');"
       ],
       "metadata": {},
       "output_type": "display_data",
       "text": [
        "<IPython.core.display.Javascript at 0x111209690>"
       ]
      },
      {
       "javascript": [
        "\n",
        "        var $myPB = $(\"div#603dd5d6-0527-48ce-991c-b87add1ee92f\")\n",
        "        if ($myPB.hasClass('ui-progressbar')) {\n",
        "            $myPB.progressbar('value', 728);\n",
        "        } else {\n",
        "            $myPB.progressbar({value: 0, max: 767});\n",
        "        }\n",
        "        "
       ],
       "metadata": {},
       "output_type": "display_data",
       "text": [
        "<IPython.core.display.Javascript at 0x1112095d0>"
       ]
      },
      {
       "javascript": [
        "$('div#cd03291e-3af7-4959-b151-add232c9b082').text('ETA:  0:00:00');"
       ],
       "metadata": {},
       "output_type": "display_data",
       "text": [
        "<IPython.core.display.Javascript at 0x111209610>"
       ]
      },
      {
       "javascript": [
        "$('div#9d37b887-fb70-4dc8-8e5c-1e76ab18de6d').text('736/767');"
       ],
       "metadata": {},
       "output_type": "display_data",
       "text": [
        "<IPython.core.display.Javascript at 0x111203850>"
       ]
      },
      {
       "javascript": [
        "$('div#ab5e3c02-b905-475b-a430-31b97942181f').text(' 95%');"
       ],
       "metadata": {},
       "output_type": "display_data",
       "text": [
        "<IPython.core.display.Javascript at 0x111e5bd50>"
       ]
      },
      {
       "javascript": [
        "\n",
        "        var $myPB = $(\"div#603dd5d6-0527-48ce-991c-b87add1ee92f\")\n",
        "        if ($myPB.hasClass('ui-progressbar')) {\n",
        "            $myPB.progressbar('value', 736);\n",
        "        } else {\n",
        "            $myPB.progressbar({value: 0, max: 767});\n",
        "        }\n",
        "        "
       ],
       "metadata": {},
       "output_type": "display_data",
       "text": [
        "<IPython.core.display.Javascript at 0x110a34290>"
       ]
      },
      {
       "javascript": [
        "$('div#cd03291e-3af7-4959-b151-add232c9b082').text('ETA:  0:00:00');"
       ],
       "metadata": {},
       "output_type": "display_data",
       "text": [
        "<IPython.core.display.Javascript at 0x109c48610>"
       ]
      },
      {
       "javascript": [
        "$('div#9d37b887-fb70-4dc8-8e5c-1e76ab18de6d').text('744/767');"
       ],
       "metadata": {},
       "output_type": "display_data",
       "text": [
        "<IPython.core.display.Javascript at 0x111e5bd50>"
       ]
      },
      {
       "javascript": [
        "$('div#ab5e3c02-b905-475b-a430-31b97942181f').text(' 97%');"
       ],
       "metadata": {},
       "output_type": "display_data",
       "text": [
        "<IPython.core.display.Javascript at 0x110a34290>"
       ]
      },
      {
       "javascript": [
        "\n",
        "        var $myPB = $(\"div#603dd5d6-0527-48ce-991c-b87add1ee92f\")\n",
        "        if ($myPB.hasClass('ui-progressbar')) {\n",
        "            $myPB.progressbar('value', 744);\n",
        "        } else {\n",
        "            $myPB.progressbar({value: 0, max: 767});\n",
        "        }\n",
        "        "
       ],
       "metadata": {},
       "output_type": "display_data",
       "text": [
        "<IPython.core.display.Javascript at 0x109c48450>"
       ]
      },
      {
       "javascript": [
        "$('div#cd03291e-3af7-4959-b151-add232c9b082').text('ETA:  0:00:00');"
       ],
       "metadata": {},
       "output_type": "display_data",
       "text": [
        "<IPython.core.display.Javascript at 0x109c48610>"
       ]
      },
      {
       "javascript": [
        "$('div#9d37b887-fb70-4dc8-8e5c-1e76ab18de6d').text('752/767');"
       ],
       "metadata": {},
       "output_type": "display_data",
       "text": [
        "<IPython.core.display.Javascript at 0x111203850>"
       ]
      },
      {
       "javascript": [
        "$('div#ab5e3c02-b905-475b-a430-31b97942181f').text(' 98%');"
       ],
       "metadata": {},
       "output_type": "display_data",
       "text": [
        "<IPython.core.display.Javascript at 0x113157e10>"
       ]
      },
      {
       "javascript": [
        "\n",
        "        var $myPB = $(\"div#603dd5d6-0527-48ce-991c-b87add1ee92f\")\n",
        "        if ($myPB.hasClass('ui-progressbar')) {\n",
        "            $myPB.progressbar('value', 752);\n",
        "        } else {\n",
        "            $myPB.progressbar({value: 0, max: 767});\n",
        "        }\n",
        "        "
       ],
       "metadata": {},
       "output_type": "display_data",
       "text": [
        "<IPython.core.display.Javascript at 0x109c50d10>"
       ]
      },
      {
       "javascript": [
        "$('div#cd03291e-3af7-4959-b151-add232c9b082').text('ETA:  0:00:00');"
       ],
       "metadata": {},
       "output_type": "display_data",
       "text": [
        "<IPython.core.display.Javascript at 0x109c50b90>"
       ]
      },
      {
       "javascript": [
        "$('div#9d37b887-fb70-4dc8-8e5c-1e76ab18de6d').text('760/767');"
       ],
       "metadata": {},
       "output_type": "display_data",
       "text": [
        "<IPython.core.display.Javascript at 0x109c50b50>"
       ]
      },
      {
       "javascript": [
        "$('div#ab5e3c02-b905-475b-a430-31b97942181f').text(' 99%');"
       ],
       "metadata": {},
       "output_type": "display_data",
       "text": [
        "<IPython.core.display.Javascript at 0x109c50050>"
       ]
      },
      {
       "javascript": [
        "\n",
        "        var $myPB = $(\"div#603dd5d6-0527-48ce-991c-b87add1ee92f\")\n",
        "        if ($myPB.hasClass('ui-progressbar')) {\n",
        "            $myPB.progressbar('value', 760);\n",
        "        } else {\n",
        "            $myPB.progressbar({value: 0, max: 767});\n",
        "        }\n",
        "        "
       ],
       "metadata": {},
       "output_type": "display_data",
       "text": [
        "<IPython.core.display.Javascript at 0x110a0de10>"
       ]
      },
      {
       "javascript": [
        "$('div#cd03291e-3af7-4959-b151-add232c9b082').text('ETA:  0:00:00');"
       ],
       "metadata": {},
       "output_type": "display_data",
       "text": [
        "<IPython.core.display.Javascript at 0x110a0dd90>"
       ]
      },
      {
       "javascript": [
        "$('div#9d37b887-fb70-4dc8-8e5c-1e76ab18de6d').text('767/767');"
       ],
       "metadata": {},
       "output_type": "display_data",
       "text": [
        "<IPython.core.display.Javascript at 0x110a0ddd0>"
       ]
      },
      {
       "javascript": [
        "$('div#ab5e3c02-b905-475b-a430-31b97942181f').text('100%');"
       ],
       "metadata": {},
       "output_type": "display_data",
       "text": [
        "<IPython.core.display.Javascript at 0x112a486d0>"
       ]
      },
      {
       "javascript": [
        "\n",
        "        var $myPB = $(\"div#603dd5d6-0527-48ce-991c-b87add1ee92f\")\n",
        "        if ($myPB.hasClass('ui-progressbar')) {\n",
        "            $myPB.progressbar('value', 767);\n",
        "        } else {\n",
        "            $myPB.progressbar({value: 0, max: 767});\n",
        "        }\n",
        "        "
       ],
       "metadata": {},
       "output_type": "display_data",
       "text": [
        "<IPython.core.display.Javascript at 0x112a48c90>"
       ]
      },
      {
       "javascript": [
        "$('div#cd03291e-3af7-4959-b151-add232c9b082').text('Time: 0:00:04');"
       ],
       "metadata": {},
       "output_type": "display_data",
       "text": [
        "<IPython.core.display.Javascript at 0x111209750>"
       ]
      },
      {
       "javascript": [
        "var element = document.getElementById('a119e2d1-0b65-40f9-816e-ef392630a29c');\n",
        "                    var parent = element.parentNode\n",
        "                    parent.removeChild(element);\n",
        "                    parent.parentElement.remove();"
       ],
       "metadata": {},
       "output_type": "display_data",
       "text": [
        "<IPython.core.display.Javascript at 0x10e5a9050>"
       ]
      },
      {
       "javascript": [
        "this.cleanProgressBar(['a119e2d1-0b65-40f9-816e-ef392630a29c', '9d37b887-fb70-4dc8-8e5c-1e76ab18de6d', 'ab5e3c02-b905-475b-a430-31b97942181f', '603dd5d6-0527-48ce-991c-b87add1ee92f', 'cd03291e-3af7-4959-b151-add232c9b082'])"
       ],
       "metadata": {},
       "output_type": "display_data",
       "text": [
        "<IPython.core.display.Javascript at 0x1112095d0>"
       ]
      },
      {
       "output_type": "stream",
       "stream": "stdout",
       "text": [
        "True\n"
       ]
      }
     ],
     "prompt_number": 18
    },
    {
     "cell_type": "markdown",
     "metadata": {},
     "source": [
      "You can also do the same to import the ecoinvent database. For ecoinvent, no remapping is necessary."
     ]
    },
    {
     "cell_type": "markdown",
     "metadata": {},
     "source": [
      "That's it! Here is your tutorial kitten:"
     ]
    },
    {
     "cell_type": "code",
     "collapsed": false,
     "input": [
      "from IPython.display import Image\n",
      "import random\n",
      "dimensions = sorted((int(random.random() * 600 + 200), int(random.random() * 600 + 200)))\n",
      "Image(url=\"http://placekitten.com/{}/{}/\".format(*dimensions))"
     ],
     "language": "python",
     "metadata": {},
     "outputs": [
      {
       "html": [
        "<img src=\"http://placekitten.com/205/767/\"/>"
       ],
       "metadata": {},
       "output_type": "pyout",
       "prompt_number": 19,
       "text": [
        "<IPython.core.display.Image at 0x1153f0710>"
       ]
      }
     ],
     "prompt_number": 19
    },
    {
     "cell_type": "code",
     "collapsed": false,
     "input": [],
     "language": "python",
     "metadata": {},
     "outputs": []
    }
   ],
   "metadata": {}
  }
 ]
}