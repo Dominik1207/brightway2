{
 "cells": [
  {
   "cell_type": "markdown",
   "metadata": {},
   "source": [
    "# Tutorial 1 - Getting Started\n",
    "\n",
    "This is a tutorial for Brightway2, an open source framework for Life Cycle Assessment. This tutorial will cover the basics of databases and activities and looking at LCI databases and LCIA methods.\n",
    "\n",
    "You will get the most from this tutorial as part of reading the [Brightway2 manual](https://brightway2.readthedocs.org/en/latest/).\n",
    "\n",
    "At the end of this tutorial, you will be able to:\n",
    "\n",
    "* Import basic data like the biosphere database\n",
    "\n",
    "If you finish the tutorial, you get a kitten.\n",
    "\n",
    "This tutorial is written in an Jupyter notebook, an online scientific notebook which combines, text, data, images, and programming. It is amazing, and could be a fantastic way to do and communicate advanced LCA work. See the [documentation](http://ipython.org/ipython-doc/dev/interactive/htmlnotebook.html) and a list of [awesome examples](https://github.com/ipython/ipython/wiki/A-gallery-of-interesting-IPython-Notebooks).\n",
    "\n",
    "You should **download this notebook** and run it cell by cell - don't just read it on the web!"
   ]
  },
  {
   "cell_type": "markdown",
   "metadata": {},
   "source": [
    "## Brightway 2 tutorials\n",
    "\n",
    "Please read the tutorials in order, as they build upon each other.\n",
    "\n",
    "* [1 - Getting Started](http://nbviewer.ipython.org/urls/bitbucket.org/cmutel/brightway2/raw/default/docs/notebooks/Tutorial 1 - Getting Started.ipynb)\n",
    "* [2 - Working with data](http://nbviewer.ipython.org/urls/bitbucket.org/cmutel/brightway2/raw/default/docs/notebooks/Tutorial 2 - Working with data.ipynb)\n",
    "* [3 - Basic LCA Calculations](http://nbviewer.ipython.org/urls/bitbucket.org/cmutel/brightway2/raw/default/docs/notebooks/Tutorial%201%20-%20Getting%20Started.ipynb)\n",
    "* [4 - Meta-analysis](http://nbviewer.ipython.org/urls/bitbucket.org/cmutel/brightway2/raw/default/docs/notebooks/Tutorial 4 - Meta-analysis.ipynb)\n",
    "* [5 - Defining A New Matrix](http://nbviewer.ipython.org/urls/bitbucket.org/cmutel/brightway2/raw/default/docs/notebooks/Tutorial%205%20-%20Defining%20A%20New%20Matrix.ipynb)"
   ]
  },
  {
   "cell_type": "markdown",
   "metadata": {},
   "source": [
    "# Starting at the beginning\n",
    "\n",
    "Import brightway2."
   ]
  },
  {
   "cell_type": "code",
   "execution_count": 1,
   "metadata": {
    "collapsed": true
   },
   "outputs": [],
   "source": [
    "from brightway2 import *"
   ]
  },
  {
   "cell_type": "markdown",
   "metadata": {},
   "source": [
    "## Python 2 and 3\n",
    "\n",
    "Brightway2 is compatible with both Python 2 and 3. If you are using Python 2, I strongly recommend you execute the following cell, which will make all your text string unicode without have to type the letter ``\"u\"`` in front of each text string. On Python 3, the following **doesn't do anything** - your text strings are unicode by default."
   ]
  },
  {
   "cell_type": "code",
   "execution_count": 2,
   "metadata": {
    "collapsed": true
   },
   "outputs": [],
   "source": [
    "from __future__ import unicode_literals, print_function"
   ]
  },
  {
   "cell_type": "markdown",
   "metadata": {},
   "source": [
    "## Projects\n",
    "\n",
    "In Brightway2, a project is a separate directory with its own copies of LCI databases, LCIA methods, and any other data you use. Each research project or article should probably be its own project, so that any changes you want to make will not interfere with your other work.\n",
    "\n",
    "The default project is called ``default``:"
   ]
  },
  {
   "cell_type": "code",
   "execution_count": 3,
   "metadata": {
    "collapsed": false
   },
   "outputs": [
    {
     "data": {
      "text/plain": [
       "'default'"
      ]
     },
     "execution_count": 3,
     "metadata": {},
     "output_type": "execute_result"
    }
   ],
   "source": [
    "projects.current"
   ]
  },
  {
   "cell_type": "markdown",
   "metadata": {},
   "source": [
    "Each project is stored in a separate directory in a place in your filesystem reserved for application data. It varies depending on the operating system; on OS X, this is:"
   ]
  },
  {
   "cell_type": "code",
   "execution_count": 4,
   "metadata": {
    "collapsed": false
   },
   "outputs": [
    {
     "data": {
      "text/plain": [
       "'/Users/cmutel/Library/Application Support/Brightway3/default.c21f969b5f03d33d43e04f8f136e7682'"
      ]
     },
     "execution_count": 4,
     "metadata": {},
     "output_type": "execute_result"
    }
   ],
   "source": [
    "projects.dir"
   ]
  },
  {
   "cell_type": "markdown",
   "metadata": {},
   "source": [
    "However, you shouldn't really need to care about this. We can create a new project:"
   ]
  },
  {
   "cell_type": "code",
   "execution_count": 5,
   "metadata": {
    "collapsed": true
   },
   "outputs": [],
   "source": [
    "projects.current = \"my new project\""
   ]
  },
  {
   "cell_type": "markdown",
   "metadata": {},
   "source": [
    "And list the available projects:"
   ]
  },
  {
   "cell_type": "code",
   "execution_count": 6,
   "metadata": {
    "collapsed": false
   },
   "outputs": [
    {
     "data": {
      "text/plain": [
       "[Project: default, Project: my new project]"
      ]
     },
     "execution_count": 6,
     "metadata": {},
     "output_type": "execute_result"
    }
   ],
   "source": [
    "list(projects)"
   ]
  },
  {
   "cell_type": "markdown",
   "metadata": {},
   "source": [
    "## Getting basic data\n",
    "\n",
    "Let's import some basic data - a database of elementary flows, some LCIA methods, and some metadata used for importing other databases:"
   ]
  },
  {
   "cell_type": "code",
   "execution_count": 7,
   "metadata": {
    "collapsed": false
   },
   "outputs": [
    {
     "name": "stdout",
     "output_type": "stream",
     "text": [
      "Importing some data...\n",
      "Creating default biosphere\n",
      "Applying strategy: drop_unspecified_subcategories"
     ]
    },
    {
     "name": "stderr",
     "output_type": "stream",
     "text": [
      "Writing activities to SQLite3 database:\n",
      "0%                          100%\n",
      "[##############################] | ETA[sec]: 0.000 \n",
      "Total time elapsed: 0.654 sec\n"
     ]
    },
    {
     "name": "stdout",
     "output_type": "stream",
     "text": [
      "\n",
      "Title: Writing activities to SQLite3 database:\n",
      "  Started: 05/14/2015 09:56:34\n",
      "  Finished: 05/14/2015 09:56:35\n",
      "  Total time elapsed: 0.654 sec\n",
      "  CPU %: 91.500000\n",
      "  Memory %: 1.036215\n",
      "Created database: biosphere3\n",
      "Creating default LCIA methods\n",
      "Applying strategy: set_biosphere_type\n",
      "Applying strategy: drop_unspecified_subcategories\n",
      "Applying strategy: link_iterable_by_fields\n",
      "Wrote 692 LCIA methods with 170915 characterization factors\n",
      "Creating core data migrations\n"
     ]
    }
   ],
   "source": [
    "bw2setup()"
   ]
  },
  {
   "cell_type": "markdown",
   "metadata": {},
   "source": [
    "The iPython notebook by default prints all logged messages. On your machine, there might be messages track how long it took to download and process the biosphere and methods packages.\n",
    "\n",
    "## A biosphere dataset\n",
    "\n",
    "The ``biosphere3`` database is installed. It is called the ``biosphere3`` database because elementary flow names are normalized to the ecoinvent 3 standard.\n",
    "\n",
    "The metadata for this database shows us:\n",
    "    * What other databases it depends on (links into): An empty list, but other databases will link to these elementary flows\n",
    "    * This data is stored in an SQLite3 database\n",
    "    * When it was last modified and processed\n",
    "    * How many elementary flows are present\n",
    "    * The format the data was imported from\n",
    "    \n",
    "You don't really need to worry about any of this, but it is nice that someone is keeping track."
   ]
  },
  {
   "cell_type": "code",
   "execution_count": 11,
   "metadata": {
    "collapsed": false
   },
   "outputs": [
    {
     "name": "stdout",
     "output_type": "stream",
     "text": [
      "Installed databases: ['biosphere3']\n",
      "Biosphere metadata:\n"
     ]
    },
    {
     "data": {
      "text/plain": [
       "{'backend': 'sqlite',\n",
       " 'depends': [],\n",
       " 'format': 'Ecoinvent XML',\n",
       " 'modified': '2015-05-13T09:12:47.109096',\n",
       " 'number': 3955,\n",
       " 'processed': '2015-05-13T09:12:51.124811'}"
      ]
     },
     "execution_count": 11,
     "metadata": {},
     "output_type": "execute_result"
    }
   ],
   "source": [
    "print(\"Installed databases:\", list(databases))\n",
    "print(\"Biosphere metadata:\") \n",
    "Database(\"biosphere3\").metadata"
   ]
  },
  {
   "cell_type": "markdown",
   "metadata": {},
   "source": [
    "OK, so what is going on here? First, we have one database installed: `biosphere`. In Brightway2, the biosphere flows, also called environmental interventions, or emissions and resources, are by default in a database called `biosphere`. This can be changed, of course - Brighway2 is all about flexibility - but you would need to make sure that the other inventory databases link correctly to the new name.\n",
    "\n",
    "Next, there is biosphere metadata, which will look something like this:\n",
    "\n",
    "\n",
    "    {\n",
    "        'depends': [], \n",
    "        'number': 3913, \n",
    "        'version': 2, \n",
    "        'format': [u'Handmade', -1],\n",
    "        'filename': 'biosphere.57b2c55dba95bfa2b6ba74418898df60.50'\n",
    "    }\n",
    "\n",
    "This metadata is stored in `databases`. `depends` list the other databases that `biosphere` would link to, and is empty, as biosphere flows don't have any inputs themselves. `number` is just the number of flows present, `version` is a primitive versioning system - this number is incremented each time new data is written. `filename` is the name of the file where the data is written. Finally `format` is a dsecription of what format the data was in when it was imported - in this case, it was built by hand.\n",
    "\n",
    "The only required key here is `depends`, as this is needed to load all the relevant data when making calculations.\n",
    "\n",
    "The method `Database.random()` loads a random key. In Python, dictionaries are a data structures with keys and values, e.g.:"
   ]
  },
  {
   "cell_type": "code",
   "execution_count": 8,
   "metadata": {
    "collapsed": false
   },
   "outputs": [
    {
     "data": {
      "text/plain": [
       "1"
      ]
     },
     "execution_count": 8,
     "metadata": {},
     "output_type": "execute_result"
    }
   ],
   "source": [
    "my_dict = {\"a\": 1, \"b\": 2}\n",
    "my_dict[\"a\"]"
   ]
  },
  {
   "cell_type": "code",
   "execution_count": 9,
   "metadata": {
    "collapsed": false
   },
   "outputs": [
    {
     "data": {
      "text/plain": [
       "True"
      ]
     },
     "execution_count": 9,
     "metadata": {},
     "output_type": "execute_result"
    }
   ],
   "source": [
    "\"b\" in my_dict"
   ]
  },
  {
   "cell_type": "markdown",
   "metadata": {},
   "source": [
    "Brightway2 uses keys to identify datasets. Each dataset is identified by a combination of its database and some unique code. The code can be anything - a number, a UUID, or just a name. All of the following would be valid keys:\n",
    "\n",
    "    (\"biosphere\", \"f66d00944691d54d6b072310b6f9de37\")\n",
    "    (\"my new database\", \"building my dream house\")\n",
    "    (\"skynet\", 14832)"
   ]
  },
  {
   "cell_type": "markdown",
   "metadata": {},
   "source": [
    "Now, let's look at the data stored for our random key. We have to manually load the data, as this takes a bit of time, so is not done automatically."
   ]
  },
  {
   "cell_type": "code",
   "execution_count": 10,
   "metadata": {
    "collapsed": false
   },
   "outputs": [
    {
     "data": {
      "text/plain": [
       "{u'categories': [u'soil', u'agricultural'],\n",
       " u'code': 4002,\n",
       " u'exchanges': [],\n",
       " u'name': u'Dichlobenil',\n",
       " u'type': u'emission',\n",
       " u'unit': u'kilogram'}"
      ]
     },
     "execution_count": 10,
     "metadata": {},
     "output_type": "execute_result"
    }
   ],
   "source": [
    "biosphere.load()[random_flow]"
   ]
  },
  {
   "cell_type": "markdown",
   "metadata": {},
   "source": [
    "The specifics of the [Database data format](https://brightway2.readthedocs.org/en/latest/lci.html#lci-datasets-are-documents) are covered in the manual.\n",
    "\n",
    "Data is another Python dictionary. There are no `exchanges`, as elementary flows by definition don't have any inputs.\n",
    "\n",
    "## An LCIA method dataset\n",
    "\n",
    "We just downloaded a large number of LCIA methods installed:"
   ]
  },
  {
   "cell_type": "code",
   "execution_count": 11,
   "metadata": {
    "collapsed": false
   },
   "outputs": [
    {
     "data": {
      "text/plain": [
       "677"
      ]
     },
     "execution_count": 11,
     "metadata": {},
     "output_type": "execute_result"
    }
   ],
   "source": [
    "len(methods)"
   ]
  },
  {
   "cell_type": "markdown",
   "metadata": {},
   "source": [
    "Because LCIA methods have many different impact categories, they are identified by a special kind of list called a `tuple`. Let's look at an example:"
   ]
  },
  {
   "cell_type": "code",
   "execution_count": 12,
   "metadata": {
    "collapsed": false
   },
   "outputs": [
    {
     "data": {
      "text/plain": [
       "(u'EDIP2003 w/o LT', u'ecotoxicity w/o LT', u'chronic, in water w/o LT')"
      ]
     },
     "execution_count": 12,
     "metadata": {},
     "output_type": "execute_result"
    }
   ],
   "source": [
    "method_key = methods.random()\n",
    "method_key"
   ]
  },
  {
   "cell_type": "markdown",
   "metadata": {},
   "source": [
    "In this case, the LCIA method has three levels of specificity, from the general name (first level) to the specific impact category (last level). There is nothing magic about three levels - you could have one, or one thousand - but Brightway2 expects these nested LCIA method identifiers.\n",
    "\n",
    "A `tuple` is a special kind of list that uses `()` instead of `[]`, and can be used as keys in dictionaries (see [more on the difference](http://lmgtfy.com/?q=python+lists+versus+tuples)). To create a tuple with only one element, you need to add a comma, to distinguish it from a set of parentheses:"
   ]
  },
  {
   "cell_type": "code",
   "execution_count": 13,
   "metadata": {
    "collapsed": false
   },
   "outputs": [
    {
     "name": "stdout",
     "output_type": "stream",
     "text": [
      "3\n",
      "(1,) <type 'tuple'>\n"
     ]
    }
   ],
   "source": [
    "print (1 + 2)\n",
    "print (1,), type((1,))"
   ]
  },
  {
   "cell_type": "markdown",
   "metadata": {},
   "source": [
    "We can load the method data, which is just a list of characterization factors, and show some:"
   ]
  },
  {
   "cell_type": "code",
   "execution_count": 14,
   "metadata": {
    "collapsed": false
   },
   "outputs": [
    {
     "name": "stdout",
     "output_type": "stream",
     "text": [
      "Number of CFs: 478\n"
     ]
    },
    {
     "data": {
      "text/plain": [
       "[[(u'biosphere', u'cb9d45068d73136f124ccec077400dd8'), 13.793, u'GLO'],\n",
       " [(u'biosphere', u'6ef8a10f97b7deb14f99d7441da871b2'), 13.793, u'GLO'],\n",
       " [(u'biosphere', u'9f5eaef27fbd7e56f1326c15c47cf0a4'), 13.793, u'GLO'],\n",
       " [(u'biosphere', u'172388ab74ccfbe913b796bc8b5c4bd9'), 13.793, u'GLO'],\n",
       " [(u'biosphere', u'd99f68dc24466d743cb365b7cea20bca'), 50.633, u'GLO'],\n",
       " [(u'biosphere', u'0db3cc36a9a1b331bce25b58982be4a4'), 50.633, u'GLO'],\n",
       " [(u'biosphere', u'9d6ff6b9e46b3234393d3f22c2e22e63'), 50.633, u'GLO'],\n",
       " [(u'biosphere', u'8ea85c7197007a3233ff15955cbea050'), 50.633, u'GLO'],\n",
       " [(u'biosphere', u'9a17342d354c08fccb1797c07c63756e'), 80, u'GLO'],\n",
       " [(u'biosphere', u'072276520b1de1054aff938dbf587291'), 80, u'GLO'],\n",
       " [(u'biosphere', u'184cb2883ed124a02d5a3603810dbea5'), 80, u'GLO'],\n",
       " [(u'biosphere', u'c31309836cb53c6c087372ddb14777ce'), 80, u'GLO'],\n",
       " [(u'biosphere', u'8a6bbdb2aaf2406dda11a511c6a38e1f'), 1212.1, u'GLO'],\n",
       " [(u'biosphere', u'2fe885840cebfcc7d56b607b0acd9359'), 1212.1, u'GLO'],\n",
       " [(u'biosphere', u'f7ed998b8e4e278b1f0028fb2db34617'), 1212.1, u'GLO'],\n",
       " [(u'biosphere', u'63a6601019b59985f5fe6590644d0577'), 1212.1, u'GLO'],\n",
       " [(u'biosphere', u'2da74c678c07735f7b6b0007aa4a7eca'), 29412, u'GLO'],\n",
       " [(u'biosphere', u'3f36d3703ebc05ea9ec5449f1853c4b7'), 29412, u'GLO'],\n",
       " [(u'biosphere', u'a6c0e21f00d8dafd4098dc2ced6c398e'), 29412, u'GLO'],\n",
       " [(u'biosphere', u'714a45b775f81e3c6f7690f9a24a20b1'), 29412, u'GLO']]"
      ]
     },
     "execution_count": 14,
     "metadata": {},
     "output_type": "execute_result"
    }
   ],
   "source": [
    "method_data = Method(method_key).load()\n",
    "print \"Number of CFs:\", len(method_data)\n",
    "method_data[:20]"
   ]
  },
  {
   "cell_type": "markdown",
   "metadata": {},
   "source": [
    "The specifics of the [Method data format](https://brightway2.readthedocs.org/en/latest/ia.html#lcia-method-documents) are covered in the `bw2data` documentation, but the basic idea is a key for a biosphere flow, a numeric characterization factor, and a location. Actually, the method data format is pretty flexible, and the following are all acceptable:\n",
    "\n",
    "    [('biosphere', 'CO2'), 1.0],\n",
    "    [('biosphere', 'CO2'), 1.0, 'Australia, mate!'],\n",
    "    [('biosphere', 'CO2'), {'amount': 1.0, 'uncertainty type': 0}]\n",
    "   \n",
    "In other words, the location code is optional, and characterization factors can be specified as either static values or uncertainty dictionaries.\n",
    "\n",
    "If you are wondering why we need to identify biosphere flows like `('biosphere', '2fe885840cebfcc7d56b607b0acd9359')`, this is a good question! The short answer is that there is no single field that uniquely identifies biosphere flows or activities. The longer answer [is in the manual](http://brightway2.readthedocs.org/en/latest/lci.html#uniquely-identifying-datasets)."
   ]
  },
  {
   "cell_type": "markdown",
   "metadata": {},
   "source": [
    "That's it! You will get your kitten when you execute this cell:"
   ]
  },
  {
   "cell_type": "code",
   "execution_count": 19,
   "metadata": {
    "collapsed": false
   },
   "outputs": [
    {
     "data": {
      "text/html": [
       "<img src=\"http://placekitten.com/205/767/\"/>"
      ],
      "text/plain": [
       "<IPython.core.display.Image at 0x1153f0710>"
      ]
     },
     "execution_count": 19,
     "metadata": {},
     "output_type": "execute_result"
    }
   ],
   "source": [
    "from IPython.display import Image\n",
    "import random\n",
    "dimensions = sorted((int(random.random() * 600 + 200), int(random.random() * 600 + 200)))\n",
    "Image(url=\"http://placekitten.com/{}/{}/\".format(*dimensions))"
   ]
  },
  {
   "cell_type": "code",
   "execution_count": null,
   "metadata": {
    "collapsed": false
   },
   "outputs": [],
   "source": []
  }
 ],
 "metadata": {
  "kernelspec": {
   "display_name": "Python 3",
   "language": "python",
   "name": "python3"
  },
  "language_info": {
   "codemirror_mode": {
    "name": "ipython",
    "version": 3
   },
   "file_extension": ".py",
   "mimetype": "text/x-python",
   "name": "python",
   "nbconvert_exporter": "python",
   "pygments_lexer": "ipython3",
   "version": "3.4.3"
  }
 },
 "nbformat": 4,
 "nbformat_minor": 0
}
