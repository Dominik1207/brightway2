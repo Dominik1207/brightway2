{
 "cells": [
  {
   "cell_type": "markdown",
   "metadata": {},
   "source": [
    "# Tutorial 1 - Getting Started\n",
    "\n",
    "This is a tutorial for Brightway2, an open source framework for Life Cycle Assessment. This tutorial will cover the basics of databases and activities and looking at LCI databases and LCIA methods.\n",
    "\n",
    "You will get the most from this tutorial as part of reading the [Brightway2 manual](https://brightway2.readthedocs.org/en/latest/).\n",
    "\n",
    "At the end of this tutorial, you will be able to:\n",
    "\n",
    "* Import basic data like the biosphere database\n",
    "\n",
    "If you finish the tutorial, you get a kitten.\n",
    "\n",
    "This tutorial is written in an Jupyter notebook, an online scientific notebook which combines, text, data, images, and programming. It is amazing, and could be a fantastic way to do and communicate advanced LCA work. See the [documentation](http://ipython.org/ipython-doc/dev/interactive/htmlnotebook.html) and a list of [awesome examples](https://github.com/ipython/ipython/wiki/A-gallery-of-interesting-IPython-Notebooks).\n",
    "\n",
    "You should **download this notebook** and run it cell by cell - don't just read it on the web!"
   ]
  },
  {
   "cell_type": "markdown",
   "metadata": {},
   "source": [
    "## Brightway 2 tutorials\n",
    "\n",
    "Please read the tutorials in order, as they build upon each other.\n",
    "\n",
    "* [1 - Getting Started](http://nbviewer.ipython.org/urls/bitbucket.org/cmutel/brightway2/raw/default/docs/notebooks/Tutorial 1 - Getting Started.ipynb)\n",
    "* [2 - Working with data](http://nbviewer.ipython.org/urls/bitbucket.org/cmutel/brightway2/raw/default/docs/notebooks/Tutorial 2 - Working with data.ipynb)\n",
    "* [3 - Basic LCA Calculations](http://nbviewer.ipython.org/urls/bitbucket.org/cmutel/brightway2/raw/default/docs/notebooks/Tutorial%201%20-%20Getting%20Started.ipynb)\n",
    "* [4 - Meta-analysis](http://nbviewer.ipython.org/urls/bitbucket.org/cmutel/brightway2/raw/default/docs/notebooks/Tutorial 4 - Meta-analysis.ipynb)\n",
    "* [5 - Defining A New Matrix](http://nbviewer.ipython.org/urls/bitbucket.org/cmutel/brightway2/raw/default/docs/notebooks/Tutorial%205%20-%20Defining%20A%20New%20Matrix.ipynb)"
   ]
  },
  {
   "cell_type": "markdown",
   "metadata": {},
   "source": [
    "# Starting at the beginning\n",
    "\n",
    "Import brightway2."
   ]
  },
  {
   "cell_type": "code",
   "execution_count": 1,
   "metadata": {
    "collapsed": true
   },
   "outputs": [],
   "source": [
    "from brightway2 import *"
   ]
  },
  {
   "cell_type": "markdown",
   "metadata": {},
   "source": [
    "## Python 2 and 3\n",
    "\n",
    "Brightway2 is compatible with both Python 2 and 3. If you are using Python 2, I strongly recommend you execute the following cell, which will make all your text string unicode without have to type the letter ``\"u\"`` in front of each text string. On Python 3, the following **doesn't do anything** - your text strings are unicode by default."
   ]
  },
  {
   "cell_type": "code",
   "execution_count": 2,
   "metadata": {
    "collapsed": true
   },
   "outputs": [],
   "source": [
    "from __future__ import unicode_literals, print_function"
   ]
  },
  {
   "cell_type": "markdown",
   "metadata": {},
   "source": [
    "## Projects\n",
    "\n",
    "In Brightway2, a project is a separate directory with its own copies of LCI databases, LCIA methods, and any other data you use. Each research project or article should probably be its own project, so that any changes you want to make will not interfere with your other work.\n",
    "\n",
    "The default project is called ``default``:"
   ]
  },
  {
   "cell_type": "code",
   "execution_count": 3,
   "metadata": {
    "collapsed": false
   },
   "outputs": [
    {
     "data": {
      "text/plain": [
       "'default'"
      ]
     },
     "execution_count": 3,
     "metadata": {},
     "output_type": "execute_result"
    }
   ],
   "source": [
    "projects.current"
   ]
  },
  {
   "cell_type": "markdown",
   "metadata": {},
   "source": [
    "Each project is stored in a separate directory in a place in your filesystem reserved for application data. It varies depending on the operating system; on OS X, this is:"
   ]
  },
  {
   "cell_type": "code",
   "execution_count": 4,
   "metadata": {
    "collapsed": false
   },
   "outputs": [
    {
     "data": {
      "text/plain": [
       "'/Users/cmutel/Library/Application Support/Brightway3/default.c21f969b5f03d33d43e04f8f136e7682'"
      ]
     },
     "execution_count": 4,
     "metadata": {},
     "output_type": "execute_result"
    }
   ],
   "source": [
    "projects.dir"
   ]
  },
  {
   "cell_type": "markdown",
   "metadata": {},
   "source": [
    "However, you shouldn't really need to care about this. We can create a new project:"
   ]
  },
  {
   "cell_type": "code",
   "execution_count": 5,
   "metadata": {
    "collapsed": true
   },
   "outputs": [],
   "source": [
    "projects.current = \"my new project\""
   ]
  },
  {
   "cell_type": "markdown",
   "metadata": {},
   "source": [
    "And list the available projects:"
   ]
  },
  {
   "cell_type": "code",
   "execution_count": 6,
   "metadata": {
    "collapsed": false
   },
   "outputs": [
    {
     "data": {
      "text/plain": [
       "[Project: default, Project: my new project]"
      ]
     },
     "execution_count": 6,
     "metadata": {},
     "output_type": "execute_result"
    }
   ],
   "source": [
    "list(projects)"
   ]
  },
  {
   "cell_type": "markdown",
   "metadata": {},
   "source": [
    "## Getting basic data\n",
    "\n",
    "Let's import some basic data - a database of elementary flows, some LCIA methods, and some metadata used for importing other databases:"
   ]
  },
  {
   "cell_type": "code",
   "execution_count": 7,
   "metadata": {
    "collapsed": false
   },
   "outputs": [
    {
     "name": "stdout",
     "output_type": "stream",
     "text": [
      "Importing some data...\n",
      "Creating default biosphere\n",
      "Applying strategy: drop_unspecified_subcategories"
     ]
    },
    {
     "name": "stderr",
     "output_type": "stream",
     "text": [
      "Writing activities to SQLite3 database:\n",
      "0%                          100%\n",
      "[##############################] | ETA[sec]: 0.000 \n",
      "Total time elapsed: 0.654 sec\n"
     ]
    },
    {
     "name": "stdout",
     "output_type": "stream",
     "text": [
      "\n",
      "Title: Writing activities to SQLite3 database:\n",
      "  Started: 05/14/2015 09:56:34\n",
      "  Finished: 05/14/2015 09:56:35\n",
      "  Total time elapsed: 0.654 sec\n",
      "  CPU %: 91.500000\n",
      "  Memory %: 1.036215\n",
      "Created database: biosphere3\n",
      "Creating default LCIA methods\n",
      "Applying strategy: set_biosphere_type\n",
      "Applying strategy: drop_unspecified_subcategories\n",
      "Applying strategy: link_iterable_by_fields\n",
      "Wrote 692 LCIA methods with 170915 characterization factors\n",
      "Creating core data migrations\n"
     ]
    }
   ],
   "source": [
    "bw2setup()"
   ]
  },
  {
   "cell_type": "markdown",
   "metadata": {},
   "source": [
    "The iPython notebook by default prints all logged messages. On your machine, there might be messages track how long it took to download and process the biosphere and methods packages.\n",
    "\n",
    "## A biosphere dataset\n",
    "\n",
    "The ``biosphere3`` database is installed. It is called the ``biosphere3`` database because elementary flow names are normalized to the ecoinvent 3 standard.\n",
    "\n",
    "The metadata for this database shows us:\n",
    "    * What other databases it depends on (links into): An empty list, but other databases will link to these elementary flows\n",
    "    * This data is stored in an SQLite3 database\n",
    "    * When it was last modified and processed\n",
    "    * How many elementary flows are present\n",
    "    * The format the data was imported from\n",
    "    \n",
    "You don't really need to worry about any of this, but it is nice that someone is keeping track."
   ]
  },
  {
   "cell_type": "code",
   "execution_count": 11,
   "metadata": {
    "collapsed": false
   },
   "outputs": [
    {
     "name": "stdout",
     "output_type": "stream",
     "text": [
      "Installed databases: ['biosphere3']\n",
      "Biosphere metadata:\n"
     ]
    },
    {
     "data": {
      "text/plain": [
       "{'backend': 'sqlite',\n",
       " 'depends': [],\n",
       " 'format': 'Ecoinvent XML',\n",
       " 'modified': '2015-05-13T09:12:47.109096',\n",
       " 'number': 3955,\n",
       " 'processed': '2015-05-13T09:12:51.124811'}"
      ]
     },
     "execution_count": 11,
     "metadata": {},
     "output_type": "execute_result"
    }
   ],
   "source": [
    "print(\"Installed databases:\", list(databases))\n",
    "print(\"Biosphere metadata:\") \n",
    "Database(\"biosphere3\").metadata"
   ]
  },
  {
   "cell_type": "markdown",
   "metadata": {},
   "source": [
    "OK, so what is going on here? First, we have one database installed: `biosphere`. In Brightway2, the biosphere flows, also called environmental interventions, or emissions and resources, are by default in a database called `biosphere`. This can be changed, of course - Brighway2 is all about flexibility - but you would need to make sure that the other inventory databases link correctly to the new name.\n",
    "\n",
    "Next, there is biosphere metadata, which will look something like this:\n",
    "\n",
    "\n",
    "    {\n",
    "        'depends': [], \n",
    "        'number': 3913, \n",
    "        'version': 2, \n",
    "        'format': [u'Handmade', -1],\n",
    "        'filename': 'biosphere.57b2c55dba95bfa2b6ba74418898df60.50'\n",
    "    }\n",
    "\n",
    "This metadata is stored in `databases`. `depends` list the other databases that `biosphere` would link to, and is empty, as biosphere flows don't have any inputs themselves. `number` is just the number of flows present, `version` is a primitive versioning system - this number is incremented each time new data is written. `filename` is the name of the file where the data is written. Finally `format` is a dsecription of what format the data was in when it was imported - in this case, it was built by hand.\n",
    "\n",
    "The only required key here is `depends`, as this is needed to load all the relevant data when making calculations.\n",
    "\n",
    "The method `Database.random()` loads a random key. In Python, dictionaries are a data structures with keys and values, e.g.:"
   ]
  },
  {
   "cell_type": "code",
   "execution_count": 8,
   "metadata": {
    "collapsed": false
   },
   "outputs": [
    {
     "data": {
      "text/plain": [
       "1"
      ]
     },
     "execution_count": 8,
     "metadata": {},
     "output_type": "execute_result"
    }
   ],
   "source": [
    "my_dict = {\"a\": 1, \"b\": 2}\n",
    "my_dict[\"a\"]"
   ]
  },
  {
   "cell_type": "code",
   "execution_count": 3,
   "metadata": {
    "collapsed": false
   },
   "outputs": [
    {
     "name": "stderr",
     "output_type": "stream",
     "text": [
      "Extracting ecospold1 files:\n",
      "0%                          100%\n",
      "[##############################] | ETA[sec]: 0.000 | Item ID: /Users/cmutel/D\n",
      "Total time elapsed: 12.047 sec\n"
     ]
    },
    {
     "name": "stdout",
     "output_type": "stream",
     "text": [
      "Title: Extracting ecospold1 files:\n",
      "  Started: 05/13/2015 10:01:33\n",
      "  Finished: 05/13/2015 10:01:46\n",
      "  Total time elapsed: 12.047 sec\n",
      "  CPU %: 88.400000\n",
      "  Memory %: 2.843142\n",
      "Extracted 4087 datasets in 12.20 seconds\n",
      "Applying strategy: assign_only_product_as_production\n",
      "Applying strategy: clean_integer_codes\n",
      "Applying strategy: drop_unspecified_subcategories\n",
      "Applying strategy: normalize_biosphere_categories\n",
      "Applying strategy: normalize_biosphere_names\n",
      "Applying strategy: strip_biosphere_exc_locations\n",
      "Applying strategy: set_code_by_activity_hash\n",
      "Applying strategy: link_iterable_by_fields\n",
      "Applying strategy: link_technosphere_by_activity_hash"
     ]
    },
    {
     "name": "stderr",
     "output_type": "stream",
     "text": [
      "Writing activities to SQLite3 database:\n",
      "0%                          100%\n",
      "[##############################] | ETA[sec]: 0.000 \n",
      "Total time elapsed: 20.967 sec\n"
     ]
    },
    {
     "name": "stdout",
     "output_type": "stream",
     "text": [
      "\n",
      "Title: Writing activities to SQLite3 database:\n",
      "  Started: 05/13/2015 10:01:51\n",
      "  Finished: 05/13/2015 10:02:12\n",
      "  Total time elapsed: 20.967 sec\n",
      "  CPU %: 87.700000\n",
      "  Memory %: 3.031111\n",
      "Created database: ecoinvent 2.2\n"
     ]
    }
   ],
   "source": [
    "ei = SingleOutputEcospold1Importer(\"/Users/cmutel/Documents/LCA Documents/Ecoinvent/2.2/processes\", \"ecoinvent 2.2\")\n",
    "ei.apply_strategies()\n",
    "ei.write_database()"
   ]
  },
  {
   "cell_type": "code",
   "execution_count": 9,
   "metadata": {
    "collapsed": false
   },
   "outputs": [
    {
     "data": {
      "text/plain": [
       "True"
      ]
     },
     "execution_count": 9,
     "metadata": {},
     "output_type": "execute_result"
    }
   ],
   "source": [
    "\"b\" in my_dict"
   ]
  },
  {
   "cell_type": "markdown",
   "metadata": {},
   "source": [
    "Brightway2 uses keys to identify datasets. Each dataset is identified by a combination of its database and some unique code. The code can be anything - a number, a UUID, or just a name. All of the following would be valid keys:\n",
    "\n",
    "    (\"biosphere\", \"f66d00944691d54d6b072310b6f9de37\")\n",
    "    (\"my new database\", \"building my dream house\")\n",
    "    (\"skynet\", 14832)"
   ]
  },
  {
   "cell_type": "markdown",
   "metadata": {},
   "source": [
    "Now, let's look at the data stored for our random key. We have to manually load the data, as this takes a bit of time, so is not done automatically."
   ]
  },
  {
   "cell_type": "code",
   "execution_count": 10,
   "metadata": {
    "collapsed": false
   },
   "outputs": [
    {
     "data": {
      "text/plain": [
       "{u'categories': [u'soil', u'agricultural'],\n",
       " u'code': 4002,\n",
       " u'exchanges': [],\n",
       " u'name': u'Dichlobenil',\n",
       " u'type': u'emission',\n",
       " u'unit': u'kilogram'}"
      ]
     },
     "execution_count": 10,
     "metadata": {},
     "output_type": "execute_result"
    }
   ],
   "source": [
    "biosphere.load()[random_flow]"
   ]
  },
  {
   "cell_type": "markdown",
   "metadata": {},
   "source": [
    "The specifics of the [Database data format](https://brightway2.readthedocs.org/en/latest/lci.html#lci-datasets-are-documents) are covered in the manual.\n",
    "\n",
    "Data is another Python dictionary. There are no `exchanges`, as elementary flows by definition don't have any inputs.\n",
    "\n",
    "## An LCIA method dataset\n",
    "\n",
    "We just downloaded a large number of LCIA methods installed:"
   ]
  },
  {
   "cell_type": "code",
   "execution_count": 11,
   "metadata": {
    "collapsed": false
   },
   "outputs": [
    {
     "data": {
      "text/plain": [
       "677"
      ]
     },
     "execution_count": 11,
     "metadata": {},
     "output_type": "execute_result"
    }
   ],
   "source": [
    "len(methods)"
   ]
  },
  {
   "cell_type": "markdown",
   "metadata": {},
   "source": [
    "Because LCIA methods have many different impact categories, they are identified by a special kind of list called a `tuple`. Let's look at an example:"
   ]
  },
  {
   "cell_type": "code",
   "execution_count": 12,
   "metadata": {
    "collapsed": false
   },
   "outputs": [
    {
     "data": {
      "text/plain": [
       "(u'EDIP2003 w/o LT', u'ecotoxicity w/o LT', u'chronic, in water w/o LT')"
      ]
     },
     "execution_count": 12,
     "metadata": {},
     "output_type": "execute_result"
    }
   ],
   "source": [
    "method_key = methods.random()\n",
    "method_key"
   ]
  },
  {
   "cell_type": "markdown",
   "metadata": {},
   "source": [
    "In this case, the LCIA method has three levels of specificity, from the general name (first level) to the specific impact category (last level). There is nothing magic about three levels - you could have one, or one thousand - but Brightway2 expects these nested LCIA method identifiers.\n",
    "\n",
    "A `tuple` is a special kind of list that uses `()` instead of `[]`, and can be used as keys in dictionaries (see [more on the difference](http://lmgtfy.com/?q=python+lists+versus+tuples)). To create a tuple with only one element, you need to add a comma, to distinguish it from a set of parentheses:"
   ]
  },
  {
   "cell_type": "code",
   "execution_count": 13,
   "metadata": {
    "collapsed": false
   },
   "outputs": [
    {
     "name": "stdout",
     "output_type": "stream",
     "text": [
      "3\n",
      "(1,) <type 'tuple'>\n"
     ]
    }
   ],
   "source": [
    "print (1 + 2)\n",
    "print (1,), type((1,))"
   ]
  },
  {
   "cell_type": "markdown",
   "metadata": {},
   "source": [
    "We can load the method data, which is just a list of characterization factors, and show some:"
   ]
  },
  {
   "cell_type": "code",
   "execution_count": 14,
   "metadata": {
    "collapsed": false
   },
   "outputs": [
    {
     "name": "stdout",
     "output_type": "stream",
     "text": [
      "Number of CFs: 478\n"
     ]
    },
    {
     "data": {
      "text/plain": [
       "[[(u'biosphere', u'cb9d45068d73136f124ccec077400dd8'), 13.793, u'GLO'],\n",
       " [(u'biosphere', u'6ef8a10f97b7deb14f99d7441da871b2'), 13.793, u'GLO'],\n",
       " [(u'biosphere', u'9f5eaef27fbd7e56f1326c15c47cf0a4'), 13.793, u'GLO'],\n",
       " [(u'biosphere', u'172388ab74ccfbe913b796bc8b5c4bd9'), 13.793, u'GLO'],\n",
       " [(u'biosphere', u'd99f68dc24466d743cb365b7cea20bca'), 50.633, u'GLO'],\n",
       " [(u'biosphere', u'0db3cc36a9a1b331bce25b58982be4a4'), 50.633, u'GLO'],\n",
       " [(u'biosphere', u'9d6ff6b9e46b3234393d3f22c2e22e63'), 50.633, u'GLO'],\n",
       " [(u'biosphere', u'8ea85c7197007a3233ff15955cbea050'), 50.633, u'GLO'],\n",
       " [(u'biosphere', u'9a17342d354c08fccb1797c07c63756e'), 80, u'GLO'],\n",
       " [(u'biosphere', u'072276520b1de1054aff938dbf587291'), 80, u'GLO'],\n",
       " [(u'biosphere', u'184cb2883ed124a02d5a3603810dbea5'), 80, u'GLO'],\n",
       " [(u'biosphere', u'c31309836cb53c6c087372ddb14777ce'), 80, u'GLO'],\n",
       " [(u'biosphere', u'8a6bbdb2aaf2406dda11a511c6a38e1f'), 1212.1, u'GLO'],\n",
       " [(u'biosphere', u'2fe885840cebfcc7d56b607b0acd9359'), 1212.1, u'GLO'],\n",
       " [(u'biosphere', u'f7ed998b8e4e278b1f0028fb2db34617'), 1212.1, u'GLO'],\n",
       " [(u'biosphere', u'63a6601019b59985f5fe6590644d0577'), 1212.1, u'GLO'],\n",
       " [(u'biosphere', u'2da74c678c07735f7b6b0007aa4a7eca'), 29412, u'GLO'],\n",
       " [(u'biosphere', u'3f36d3703ebc05ea9ec5449f1853c4b7'), 29412, u'GLO'],\n",
       " [(u'biosphere', u'a6c0e21f00d8dafd4098dc2ced6c398e'), 29412, u'GLO'],\n",
       " [(u'biosphere', u'714a45b775f81e3c6f7690f9a24a20b1'), 29412, u'GLO']]"
      ]
     },
     "execution_count": 14,
     "metadata": {},
     "output_type": "execute_result"
    }
   ],
   "source": [
    "method_data = Method(method_key).load()\n",
    "print \"Number of CFs:\", len(method_data)\n",
    "method_data[:20]"
   ]
  },
  {
   "cell_type": "markdown",
   "metadata": {},
   "source": [
    "The specifics of the [Method data format](https://brightway2.readthedocs.org/en/latest/ia.html#lcia-method-documents) are covered in the `bw2data` documentation, but the basic idea is a key for a biosphere flow, a numeric characterization factor, and a location. Actually, the method data format is pretty flexible, and the following are all acceptable:\n",
    "\n",
    "    [('biosphere', 'CO2'), 1.0],\n",
    "    [('biosphere', 'CO2'), 1.0, 'Australia, mate!'],\n",
    "    [('biosphere', 'CO2'), {'amount': 1.0, 'uncertainty type': 0}]\n",
    "   \n",
    "In other words, the location code is optional, and characterization factors can be specified as either static values or uncertainty dictionaries.\n",
    "\n",
    "If you are wondering why we need to identify biosphere flows like `('biosphere', '2fe885840cebfcc7d56b607b0acd9359')`, this is a good question! The short answer is that there is no single field that uniquely identifies biosphere flows or activities. The longer answer [is in the manual](http://brightway2.readthedocs.org/en/latest/lci.html#uniquely-identifying-datasets)."
   ]
  },
  {
   "cell_type": "markdown",
   "metadata": {},
   "source": [
    "We now use the Ecospold 1 importer to import these files into a new \"US LCI\" database.\n",
    "\n",
    "We need to use some extra data to get the import to work cleanly - that is what the remapping is for. The US LCI database does annoying things like referring to `corn, decomposition` in some places, and `decomposition, corn` in others.\n",
    "\n",
    "This should produce a cool progressbar effect :)"
   ]
  },
  {
   "cell_type": "code",
   "execution_count": 18,
   "metadata": {
    "collapsed": false
   },
   "outputs": [
    {
     "data": {
      "application/javascript": [
       "//3791e701-3528-4f46-ab43-4235cb7a6cdf\n",
       "$(\"head\").append(\"<style> td.pb_widget {     width: auto; } td.pb_widget_fill {     width: 100%; } table.pb {     font-family: monospace;     border: 0;     margin: 0; } table.pb tr { border: 0; } table.pb td {     white-space: nowrap;     border: 0; } div.pb {     border: 1px solid #ddd;     border-radius: 3px; } div.pb_bar {     height: 1.5em; } </style>\")"
      ],
      "text/plain": [
       "<IPython.core.display.Javascript at 0x110f399d0>"
      ]
     },
     "metadata": {},
     "output_type": "display_data"
    },
    {
     "data": {
      "application/javascript": [
       "\n",
       "                  // 3791e701-3528-4f46-ab43-4235cb7a6cdf -- used to remove this code blob in the end\n",
       "                  IPython.OutputArea.prototype.cleanProgressBar = function(uuids) {\n",
       "                      // filter by uuid-strings \n",
       "                      var myfilter = function(output) { \n",
       "                          var nuids = uuids.length;\n",
       "                          for (var i=0; i<nuids; i++) {\n",
       "                              if (output.hasOwnProperty('html')) {\n",
       "                                  if (output.html.indexOf(uuids[i]) != -1) {\n",
       "                                      return false;\n",
       "                                  }\n",
       "                              }\n",
       "                              if (output.hasOwnProperty('javascript')) {\n",
       "                                  if (output.javascript.indexOf(uuids[i]) != -1) {\n",
       "                                      return false;\n",
       "                                  }\n",
       "                              }\n",
       "                          }\n",
       "                          // keep all others\n",
       "                          return true;\n",
       "                      };\n",
       "\n",
       "                      // Filter the ouputs\n",
       "                      this.outputs = this.outputs.filter(myfilter);\n",
       "                };\n",
       "                "
      ],
      "text/plain": [
       "<IPython.core.display.Javascript at 0x110c3af50>"
      ]
     },
     "metadata": {},
     "output_type": "display_data"
    },
    {
     "data": {
      "text/html": [
       "<div class=\"pb\" id=\"3791e701-3528-4f46-ab43-4235cb7a6cdf\"><table class=\"pb ui-widget\"><tr>\n",
       "<td class=\"pb_widget\"><div id=\"9d37b887-fb70-4dc8-8e5c-1e76ab18de6d\">0/593</div></td>\n",
       "<td class=\"pb_widget\"> (</td>\n",
       "<td class=\"pb_widget\"><div id=\"ab5e3c02-b905-475b-a430-31b97942181f\">  0%</div></td>\n",
       "<td class=\"pb_widget\">) </td>\n",
       "<td class=\"pb_widget_fill\">\n",
       "        <div class=\"pb_bar\" id=\"603dd5d6-0527-48ce-991c-b87add1ee92f\"></div>\n",
       "        <script type=\"text/javascript\">\n",
       "            $(\"div#603dd5d6-0527-48ce-991c-b87add1ee92f\").progressbar({value: 0, max: 593});\n",
       "        </script>\n",
       "        </td>\n",
       "<td class=\"pb_widget\"> </td>\n",
       "<td class=\"pb_widget\"><div id=\"cd03291e-3af7-4959-b151-add232c9b082\">ETA:  --:--:--</div></td>\n",
       "</tr></table><div>"
      ],
      "text/plain": [
       "<IPython.core.display.HTML at 0x109c46a10>"
      ]
     },
     "metadata": {},
     "output_type": "display_data"
    },
    {
     "data": {
      "application/javascript": [
       "$('div#9d37b887-fb70-4dc8-8e5c-1e76ab18de6d').text('6/593');"
      ],
      "text/plain": [
       "<IPython.core.display.Javascript at 0x1115f7650>"
      ]
     },
     "metadata": {},
     "output_type": "display_data"
    },
    {
     "data": {
      "application/javascript": [
       "$('div#ab5e3c02-b905-475b-a430-31b97942181f').text('  1%');"
      ],
      "text/plain": [
       "<IPython.core.display.Javascript at 0x1115f7790>"
      ]
     },
     "metadata": {},
     "output_type": "display_data"
    },
    {
     "data": {
      "application/javascript": [
       "\n",
       "        var $myPB = $(\"div#603dd5d6-0527-48ce-991c-b87add1ee92f\")\n",
       "        if ($myPB.hasClass('ui-progressbar')) {\n",
       "            $myPB.progressbar('value', 6);\n",
       "        } else {\n",
       "            $myPB.progressbar({value: 0, max: 593});\n",
       "        }\n",
       "        "
      ],
      "text/plain": [
       "<IPython.core.display.Javascript at 0x1115f7810>"
      ]
     },
     "metadata": {},
     "output_type": "display_data"
    },
    {
     "data": {
      "application/javascript": [
       "$('div#cd03291e-3af7-4959-b151-add232c9b082').text('ETA:  0:00:24');"
      ],
      "text/plain": [
       "<IPython.core.display.Javascript at 0x1115f7950>"
      ]
     },
     "metadata": {},
     "output_type": "display_data"
    },
    {
     "data": {
      "application/javascript": [
       "$('div#9d37b887-fb70-4dc8-8e5c-1e76ab18de6d').text('12/593');"
      ],
      "text/plain": [
       "<IPython.core.display.Javascript at 0x111365290>"
      ]
     },
     "metadata": {},
     "output_type": "display_data"
    },
    {
     "data": {
      "application/javascript": [
       "$('div#ab5e3c02-b905-475b-a430-31b97942181f').text('  2%');"
      ],
      "text/plain": [
       "<IPython.core.display.Javascript at 0x111365310>"
      ]
     },
     "metadata": {},
     "output_type": "display_data"
    },
    {
     "data": {
      "application/javascript": [
       "\n",
       "        var $myPB = $(\"div#603dd5d6-0527-48ce-991c-b87add1ee92f\")\n",
       "        if ($myPB.hasClass('ui-progressbar')) {\n",
       "            $myPB.progressbar('value', 12);\n",
       "        } else {\n",
       "            $myPB.progressbar({value: 0, max: 593});\n",
       "        }\n",
       "        "
      ],
      "text/plain": [
       "<IPython.core.display.Javascript at 0x111365390>"
      ]
     },
     "metadata": {},
     "output_type": "display_data"
    },
    {
     "data": {
      "application/javascript": [
       "$('div#cd03291e-3af7-4959-b151-add232c9b082').text('ETA:  0:00:12');"
      ],
      "text/plain": [
       "<IPython.core.display.Javascript at 0x111365550>"
      ]
     },
     "metadata": {},
     "output_type": "display_data"
    },
    {
     "data": {
      "application/javascript": [
       "$('div#9d37b887-fb70-4dc8-8e5c-1e76ab18de6d').text('18/593');"
      ],
      "text/plain": [
       "<IPython.core.display.Javascript at 0x112ac0ad0>"
      ]
     },
     "metadata": {},
     "output_type": "display_data"
    },
    {
     "data": {
      "application/javascript": [
       "$('div#ab5e3c02-b905-475b-a430-31b97942181f').text('  3%');"
      ],
      "text/plain": [
       "<IPython.core.display.Javascript at 0x112ac0b50>"
      ]
     },
     "metadata": {},
     "output_type": "display_data"
    },
    {
     "data": {
      "application/javascript": [
       "\n",
       "        var $myPB = $(\"div#603dd5d6-0527-48ce-991c-b87add1ee92f\")\n",
       "        if ($myPB.hasClass('ui-progressbar')) {\n",
       "            $myPB.progressbar('value', 18);\n",
       "        } else {\n",
       "            $myPB.progressbar({value: 0, max: 593});\n",
       "        }\n",
       "        "
      ],
      "text/plain": [
       "<IPython.core.display.Javascript at 0x112ac0b90>"
      ]
     },
     "metadata": {},
     "output_type": "display_data"
    },
    {
     "data": {
      "application/javascript": [
       "$('div#cd03291e-3af7-4959-b151-add232c9b082').text('ETA:  0:00:08');"
      ],
      "text/plain": [
       "<IPython.core.display.Javascript at 0x112ac0d90>"
      ]
     },
     "metadata": {},
     "output_type": "display_data"
    },
    {
     "data": {
      "application/javascript": [
       "$('div#9d37b887-fb70-4dc8-8e5c-1e76ab18de6d').text('24/593');"
      ],
      "text/plain": [
       "<IPython.core.display.Javascript at 0x115e320d0>"
      ]
     },
     "metadata": {},
     "output_type": "display_data"
    },
    {
     "data": {
      "application/javascript": [
       "$('div#ab5e3c02-b905-475b-a430-31b97942181f').text('  4%');"
      ],
      "text/plain": [
       "<IPython.core.display.Javascript at 0x115e32150>"
      ]
     },
     "metadata": {},
     "output_type": "display_data"
    },
    {
     "data": {
      "application/javascript": [
       "\n",
       "        var $myPB = $(\"div#603dd5d6-0527-48ce-991c-b87add1ee92f\")\n",
       "        if ($myPB.hasClass('ui-progressbar')) {\n",
       "            $myPB.progressbar('value', 24);\n",
       "        } else {\n",
       "            $myPB.progressbar({value: 0, max: 593});\n",
       "        }\n",
       "        "
      ],
      "text/plain": [
       "<IPython.core.display.Javascript at 0x115e32190>"
      ]
     },
     "metadata": {},
     "output_type": "display_data"
    },
    {
     "data": {
      "application/javascript": [
       "$('div#cd03291e-3af7-4959-b151-add232c9b082').text('ETA:  0:00:07');"
      ],
      "text/plain": [
       "<IPython.core.display.Javascript at 0x115e322d0>"
      ]
     },
     "metadata": {},
     "output_type": "display_data"
    },
    {
     "data": {
      "application/javascript": [
       "$('div#9d37b887-fb70-4dc8-8e5c-1e76ab18de6d').text('30/593');"
      ],
      "text/plain": [
       "<IPython.core.display.Javascript at 0x115e36c10>"
      ]
     },
     "metadata": {},
     "output_type": "display_data"
    },
    {
     "data": {
      "application/javascript": [
       "$('div#ab5e3c02-b905-475b-a430-31b97942181f').text('  5%');"
      ],
      "text/plain": [
       "<IPython.core.display.Javascript at 0x115e36c90>"
      ]
     },
     "metadata": {},
     "output_type": "display_data"
    },
    {
     "data": {
      "application/javascript": [
       "\n",
       "        var $myPB = $(\"div#603dd5d6-0527-48ce-991c-b87add1ee92f\")\n",
       "        if ($myPB.hasClass('ui-progressbar')) {\n",
       "            $myPB.progressbar('value', 30);\n",
       "        } else {\n",
       "            $myPB.progressbar({value: 0, max: 593});\n",
       "        }\n",
       "        "
      ],
      "text/plain": [
       "<IPython.core.display.Javascript at 0x115e36cd0>"
      ]
     },
     "metadata": {},
     "output_type": "display_data"
    },
    {
     "data": {
      "application/javascript": [
       "$('div#cd03291e-3af7-4959-b151-add232c9b082').text('ETA:  0:00:05');"
      ],
      "text/plain": [
       "<IPython.core.display.Javascript at 0x115e36e10>"
      ]
     },
     "metadata": {},
     "output_type": "display_data"
    },
    {
     "data": {
      "application/javascript": [
       "$('div#9d37b887-fb70-4dc8-8e5c-1e76ab18de6d').text('36/593');"
      ],
      "text/plain": [
       "<IPython.core.display.Javascript at 0x115dfb990>"
      ]
     },
     "metadata": {},
     "output_type": "display_data"
    },
    {
     "data": {
      "application/javascript": [
       "$('div#ab5e3c02-b905-475b-a430-31b97942181f').text('  6%');"
      ],
      "text/plain": [
       "<IPython.core.display.Javascript at 0x115dfb9d0>"
      ]
     },
     "metadata": {},
     "output_type": "display_data"
    },
    {
     "data": {
      "application/javascript": [
       "\n",
       "        var $myPB = $(\"div#603dd5d6-0527-48ce-991c-b87add1ee92f\")\n",
       "        if ($myPB.hasClass('ui-progressbar')) {\n",
       "            $myPB.progressbar('value', 36);\n",
       "        } else {\n",
       "            $myPB.progressbar({value: 0, max: 593});\n",
       "        }\n",
       "        "
      ],
      "text/plain": [
       "<IPython.core.display.Javascript at 0x115dfba10>"
      ]
     },
     "metadata": {},
     "output_type": "display_data"
    },
    {
     "data": {
      "application/javascript": [
       "$('div#cd03291e-3af7-4959-b151-add232c9b082').text('ETA:  0:00:05');"
      ],
      "text/plain": [
       "<IPython.core.display.Javascript at 0x115dfbb10>"
      ]
     },
     "metadata": {},
     "output_type": "display_data"
    },
    {
     "data": {
      "application/javascript": [
       "$('div#9d37b887-fb70-4dc8-8e5c-1e76ab18de6d').text('42/593');"
      ],
      "text/plain": [
       "<IPython.core.display.Javascript at 0x10e515a10>"
      ]
     },
     "metadata": {},
     "output_type": "display_data"
    },
    {
     "data": {
      "application/javascript": [
       "$('div#ab5e3c02-b905-475b-a430-31b97942181f').text('  7%');"
      ],
      "text/plain": [
       "<IPython.core.display.Javascript at 0x10e515a10>"
      ]
     },
     "metadata": {},
     "output_type": "display_data"
    },
    {
     "data": {
      "application/javascript": [
       "\n",
       "        var $myPB = $(\"div#603dd5d6-0527-48ce-991c-b87add1ee92f\")\n",
       "        if ($myPB.hasClass('ui-progressbar')) {\n",
       "            $myPB.progressbar('value', 42);\n",
       "        } else {\n",
       "            $myPB.progressbar({value: 0, max: 593});\n",
       "        }\n",
       "        "
      ],
      "text/plain": [
       "<IPython.core.display.Javascript at 0x10e515a90>"
      ]
     },
     "metadata": {},
     "output_type": "display_data"
    },
    {
     "data": {
      "application/javascript": [
       "$('div#cd03291e-3af7-4959-b151-add232c9b082').text('ETA:  0:00:04');"
      ],
      "text/plain": [
       "<IPython.core.display.Javascript at 0x10e515ad0>"
      ]
     },
     "metadata": {},
     "output_type": "display_data"
    },
    {
     "data": {
      "application/javascript": [
       "$('div#9d37b887-fb70-4dc8-8e5c-1e76ab18de6d').text('48/593');"
      ],
      "text/plain": [
       "<IPython.core.display.Javascript at 0x10e50f050>"
      ]
     },
     "metadata": {},
     "output_type": "display_data"
    },
    {
     "data": {
      "application/javascript": [
       "$('div#ab5e3c02-b905-475b-a430-31b97942181f').text('  8%');"
      ],
      "text/plain": [
       "<IPython.core.display.Javascript at 0x10e50f090>"
      ]
     },
     "metadata": {},
     "output_type": "display_data"
    },
    {
     "data": {
      "application/javascript": [
       "\n",
       "        var $myPB = $(\"div#603dd5d6-0527-48ce-991c-b87add1ee92f\")\n",
       "        if ($myPB.hasClass('ui-progressbar')) {\n",
       "            $myPB.progressbar('value', 48);\n",
       "        } else {\n",
       "            $myPB.progressbar({value: 0, max: 593});\n",
       "        }\n",
       "        "
      ],
      "text/plain": [
       "<IPython.core.display.Javascript at 0x10e50f0d0>"
      ]
     },
     "metadata": {},
     "output_type": "display_data"
    },
    {
     "data": {
      "application/javascript": [
       "$('div#cd03291e-3af7-4959-b151-add232c9b082').text('ETA:  0:00:04');"
      ],
      "text/plain": [
       "<IPython.core.display.Javascript at 0x10e50f210>"
      ]
     },
     "metadata": {},
     "output_type": "display_data"
    },
    {
     "data": {
      "application/javascript": [
       "$('div#9d37b887-fb70-4dc8-8e5c-1e76ab18de6d').text('54/593');"
      ],
      "text/plain": [
       "<IPython.core.display.Javascript at 0x10e500510>"
      ]
     },
     "metadata": {},
     "output_type": "display_data"
    },
    {
     "data": {
      "application/javascript": [
       "$('div#ab5e3c02-b905-475b-a430-31b97942181f').text('  9%');"
      ],
      "text/plain": [
       "<IPython.core.display.Javascript at 0x10e500590>"
      ]
     },
     "metadata": {},
     "output_type": "display_data"
    },
    {
     "data": {
      "application/javascript": [
       "\n",
       "        var $myPB = $(\"div#603dd5d6-0527-48ce-991c-b87add1ee92f\")\n",
       "        if ($myPB.hasClass('ui-progressbar')) {\n",
       "            $myPB.progressbar('value', 54);\n",
       "        } else {\n",
       "            $myPB.progressbar({value: 0, max: 593});\n",
       "        }\n",
       "        "
      ],
      "text/plain": [
       "<IPython.core.display.Javascript at 0x10e5005d0>"
      ]
     },
     "metadata": {},
     "output_type": "display_data"
    },
    {
     "data": {
      "application/javascript": [
       "$('div#cd03291e-3af7-4959-b151-add232c9b082').text('ETA:  0:00:03');"
      ],
      "text/plain": [
       "<IPython.core.display.Javascript at 0x10e500710>"
      ]
     },
     "metadata": {},
     "output_type": "display_data"
    },
    {
     "data": {
      "application/javascript": [
       "$('div#9d37b887-fb70-4dc8-8e5c-1e76ab18de6d').text('60/593');"
      ],
      "text/plain": [
       "<IPython.core.display.Javascript at 0x10e4fc090>"
      ]
     },
     "metadata": {},
     "output_type": "display_data"
    },
    {
     "data": {
      "application/javascript": [
       "$('div#ab5e3c02-b905-475b-a430-31b97942181f').text(' 10%');"
      ],
      "text/plain": [
       "<IPython.core.display.Javascript at 0x10e4fc0d0>"
      ]
     },
     "metadata": {},
     "output_type": "display_data"
    },
    {
     "data": {
      "application/javascript": [
       "\n",
       "        var $myPB = $(\"div#603dd5d6-0527-48ce-991c-b87add1ee92f\")\n",
       "        if ($myPB.hasClass('ui-progressbar')) {\n",
       "            $myPB.progressbar('value', 60);\n",
       "        } else {\n",
       "            $myPB.progressbar({value: 0, max: 593});\n",
       "        }\n",
       "        "
      ],
      "text/plain": [
       "<IPython.core.display.Javascript at 0x10e4fc110>"
      ]
     },
     "metadata": {},
     "output_type": "display_data"
    },
    {
     "data": {
      "application/javascript": [
       "$('div#cd03291e-3af7-4959-b151-add232c9b082').text('ETA:  0:00:03');"
      ],
      "text/plain": [
       "<IPython.core.display.Javascript at 0x10e4fc210>"
      ]
     },
     "metadata": {},
     "output_type": "display_data"
    },
    {
     "data": {
      "application/javascript": [
       "$('div#9d37b887-fb70-4dc8-8e5c-1e76ab18de6d').text('66/593');"
      ],
      "text/plain": [
       "<IPython.core.display.Javascript at 0x10e4fc110>"
      ]
     },
     "metadata": {},
     "output_type": "display_data"
    },
    {
     "data": {
      "application/javascript": [
       "$('div#ab5e3c02-b905-475b-a430-31b97942181f').text(' 11%');"
      ],
      "text/plain": [
       "<IPython.core.display.Javascript at 0x10e4fc090>"
      ]
     },
     "metadata": {},
     "output_type": "display_data"
    },
    {
     "data": {
      "application/javascript": [
       "\n",
       "        var $myPB = $(\"div#603dd5d6-0527-48ce-991c-b87add1ee92f\")\n",
       "        if ($myPB.hasClass('ui-progressbar')) {\n",
       "            $myPB.progressbar('value', 66);\n",
       "        } else {\n",
       "            $myPB.progressbar({value: 0, max: 593});\n",
       "        }\n",
       "        "
      ],
      "text/plain": [
       "<IPython.core.display.Javascript at 0x10e500710>"
      ]
     },
     "metadata": {},
     "output_type": "display_data"
    },
    {
     "data": {
      "application/javascript": [
       "$('div#cd03291e-3af7-4959-b151-add232c9b082').text('ETA:  0:00:03');"
      ],
      "text/plain": [
       "<IPython.core.display.Javascript at 0x10e4f9490>"
      ]
     },
     "metadata": {},
     "output_type": "display_data"
    },
    {
     "data": {
      "application/javascript": [
       "$('div#9d37b887-fb70-4dc8-8e5c-1e76ab18de6d').text('72/593');"
      ],
      "text/plain": [
       "<IPython.core.display.Javascript at 0x10e4f6110>"
      ]
     },
     "metadata": {},
     "output_type": "display_data"
    },
    {
     "data": {
      "application/javascript": [
       "$('div#ab5e3c02-b905-475b-a430-31b97942181f').text(' 12%');"
      ],
      "text/plain": [
       "<IPython.core.display.Javascript at 0x10e4f6150>"
      ]
     },
     "metadata": {},
     "output_type": "display_data"
    },
    {
     "data": {
      "application/javascript": [
       "\n",
       "        var $myPB = $(\"div#603dd5d6-0527-48ce-991c-b87add1ee92f\")\n",
       "        if ($myPB.hasClass('ui-progressbar')) {\n",
       "            $myPB.progressbar('value', 72);\n",
       "        } else {\n",
       "            $myPB.progressbar({value: 0, max: 593});\n",
       "        }\n",
       "        "
      ],
      "text/plain": [
       "<IPython.core.display.Javascript at 0x10e4f6190>"
      ]
     },
     "metadata": {},
     "output_type": "display_data"
    },
    {
     "data": {
      "application/javascript": [
       "$('div#cd03291e-3af7-4959-b151-add232c9b082').text('ETA:  0:00:03');"
      ],
      "text/plain": [
       "<IPython.core.display.Javascript at 0x10e4f6290>"
      ]
     },
     "metadata": {},
     "output_type": "display_data"
    },
    {
     "data": {
      "application/javascript": [
       "$('div#9d37b887-fb70-4dc8-8e5c-1e76ab18de6d').text('78/593');"
      ],
      "text/plain": [
       "<IPython.core.display.Javascript at 0x10e4f63d0>"
      ]
     },
     "metadata": {},
     "output_type": "display_data"
    },
    {
     "data": {
      "application/javascript": [
       "$('div#ab5e3c02-b905-475b-a430-31b97942181f').text(' 13%');"
      ],
      "text/plain": [
       "<IPython.core.display.Javascript at 0x10e4f62d0>"
      ]
     },
     "metadata": {},
     "output_type": "display_data"
    },
    {
     "data": {
      "application/javascript": [
       "\n",
       "        var $myPB = $(\"div#603dd5d6-0527-48ce-991c-b87add1ee92f\")\n",
       "        if ($myPB.hasClass('ui-progressbar')) {\n",
       "            $myPB.progressbar('value', 78);\n",
       "        } else {\n",
       "            $myPB.progressbar({value: 0, max: 593});\n",
       "        }\n",
       "        "
      ],
      "text/plain": [
       "<IPython.core.display.Javascript at 0x10e4f6410>"
      ]
     },
     "metadata": {},
     "output_type": "display_data"
    },
    {
     "data": {
      "application/javascript": [
       "$('div#cd03291e-3af7-4959-b151-add232c9b082').text('ETA:  0:00:02');"
      ],
      "text/plain": [
       "<IPython.core.display.Javascript at 0x10e4f6450>"
      ]
     },
     "metadata": {},
     "output_type": "display_data"
    },
    {
     "data": {
      "application/javascript": [
       "$('div#9d37b887-fb70-4dc8-8e5c-1e76ab18de6d').text('84/593');"
      ],
      "text/plain": [
       "<IPython.core.display.Javascript at 0x10e500710>"
      ]
     },
     "metadata": {},
     "output_type": "display_data"
    },
    {
     "data": {
      "application/javascript": [
       "$('div#ab5e3c02-b905-475b-a430-31b97942181f').text(' 14%');"
      ],
      "text/plain": [
       "<IPython.core.display.Javascript at 0x10e4fc090>"
      ]
     },
     "metadata": {},
     "output_type": "display_data"
    },
    {
     "data": {
      "application/javascript": [
       "\n",
       "        var $myPB = $(\"div#603dd5d6-0527-48ce-991c-b87add1ee92f\")\n",
       "        if ($myPB.hasClass('ui-progressbar')) {\n",
       "            $myPB.progressbar('value', 84);\n",
       "        } else {\n",
       "            $myPB.progressbar({value: 0, max: 593});\n",
       "        }\n",
       "        "
      ],
      "text/plain": [
       "<IPython.core.display.Javascript at 0x10e4fc110>"
      ]
     },
     "metadata": {},
     "output_type": "display_data"
    },
    {
     "data": {
      "application/javascript": [
       "$('div#cd03291e-3af7-4959-b151-add232c9b082').text('ETA:  0:00:02');"
      ],
      "text/plain": [
       "<IPython.core.display.Javascript at 0x10e4f6450>"
      ]
     },
     "metadata": {},
     "output_type": "display_data"
    },
    {
     "data": {
      "application/javascript": [
       "$('div#9d37b887-fb70-4dc8-8e5c-1e76ab18de6d').text('90/593');"
      ],
      "text/plain": [
       "<IPython.core.display.Javascript at 0x10e4f63d0>"
      ]
     },
     "metadata": {},
     "output_type": "display_data"
    },
    {
     "data": {
      "application/javascript": [
       "$('div#ab5e3c02-b905-475b-a430-31b97942181f').text(' 15%');"
      ],
      "text/plain": [
       "<IPython.core.display.Javascript at 0x10e4f6290>"
      ]
     },
     "metadata": {},
     "output_type": "display_data"
    },
    {
     "data": {
      "application/javascript": [
       "\n",
       "        var $myPB = $(\"div#603dd5d6-0527-48ce-991c-b87add1ee92f\")\n",
       "        if ($myPB.hasClass('ui-progressbar')) {\n",
       "            $myPB.progressbar('value', 90);\n",
       "        } else {\n",
       "            $myPB.progressbar({value: 0, max: 593});\n",
       "        }\n",
       "        "
      ],
      "text/plain": [
       "<IPython.core.display.Javascript at 0x10e4f6190>"
      ]
     },
     "metadata": {},
     "output_type": "display_data"
    },
    {
     "data": {
      "application/javascript": [
       "$('div#cd03291e-3af7-4959-b151-add232c9b082').text('ETA:  0:00:02');"
      ],
      "text/plain": [
       "<IPython.core.display.Javascript at 0x10e4f6410>"
      ]
     },
     "metadata": {},
     "output_type": "display_data"
    },
    {
     "data": {
      "application/javascript": [
       "$('div#9d37b887-fb70-4dc8-8e5c-1e76ab18de6d').text('96/593');"
      ],
      "text/plain": [
       "<IPython.core.display.Javascript at 0x10e4f6510>"
      ]
     },
     "metadata": {},
     "output_type": "display_data"
    },
    {
     "data": {
      "application/javascript": [
       "$('div#ab5e3c02-b905-475b-a430-31b97942181f').text(' 16%');"
      ],
      "text/plain": [
       "<IPython.core.display.Javascript at 0x10e4f6150>"
      ]
     },
     "metadata": {},
     "output_type": "display_data"
    },
    {
     "data": {
      "application/javascript": [
       "\n",
       "        var $myPB = $(\"div#603dd5d6-0527-48ce-991c-b87add1ee92f\")\n",
       "        if ($myPB.hasClass('ui-progressbar')) {\n",
       "            $myPB.progressbar('value', 96);\n",
       "        } else {\n",
       "            $myPB.progressbar({value: 0, max: 593});\n",
       "        }\n",
       "        "
      ],
      "text/plain": [
       "<IPython.core.display.Javascript at 0x10e4f6550>"
      ]
     },
     "metadata": {},
     "output_type": "display_data"
    },
    {
     "data": {
      "application/javascript": [
       "$('div#cd03291e-3af7-4959-b151-add232c9b082').text('ETA:  0:00:02');"
      ],
      "text/plain": [
       "<IPython.core.display.Javascript at 0x10e4fc110>"
      ]
     },
     "metadata": {},
     "output_type": "display_data"
    },
    {
     "data": {
      "application/javascript": [
       "$('div#9d37b887-fb70-4dc8-8e5c-1e76ab18de6d').text('102/593');"
      ],
      "text/plain": [
       "<IPython.core.display.Javascript at 0x10e500710>"
      ]
     },
     "metadata": {},
     "output_type": "display_data"
    },
    {
     "data": {
      "application/javascript": [
       "$('div#ab5e3c02-b905-475b-a430-31b97942181f').text(' 17%');"
      ],
      "text/plain": [
       "<IPython.core.display.Javascript at 0x10e4f64d0>"
      ]
     },
     "metadata": {},
     "output_type": "display_data"
    },
    {
     "data": {
      "application/javascript": [
       "\n",
       "        var $myPB = $(\"div#603dd5d6-0527-48ce-991c-b87add1ee92f\")\n",
       "        if ($myPB.hasClass('ui-progressbar')) {\n",
       "            $myPB.progressbar('value', 102);\n",
       "        } else {\n",
       "            $myPB.progressbar({value: 0, max: 593});\n",
       "        }\n",
       "        "
      ],
      "text/plain": [
       "<IPython.core.display.Javascript at 0x10e4f6550>"
      ]
     },
     "metadata": {},
     "output_type": "display_data"
    },
    {
     "data": {
      "application/javascript": [
       "$('div#cd03291e-3af7-4959-b151-add232c9b082').text('ETA:  0:00:02');"
      ],
      "text/plain": [
       "<IPython.core.display.Javascript at 0x10e4f65d0>"
      ]
     },
     "metadata": {},
     "output_type": "display_data"
    },
    {
     "data": {
      "application/javascript": [
       "$('div#9d37b887-fb70-4dc8-8e5c-1e76ab18de6d').text('108/593');"
      ],
      "text/plain": [
       "<IPython.core.display.Javascript at 0x10e4f6710>"
      ]
     },
     "metadata": {},
     "output_type": "display_data"
    },
    {
     "data": {
      "application/javascript": [
       "$('div#ab5e3c02-b905-475b-a430-31b97942181f').text(' 18%');"
      ],
      "text/plain": [
       "<IPython.core.display.Javascript at 0x10e4f6150>"
      ]
     },
     "metadata": {},
     "output_type": "display_data"
    },
    {
     "data": {
      "application/javascript": [
       "\n",
       "        var $myPB = $(\"div#603dd5d6-0527-48ce-991c-b87add1ee92f\")\n",
       "        if ($myPB.hasClass('ui-progressbar')) {\n",
       "            $myPB.progressbar('value', 108);\n",
       "        } else {\n",
       "            $myPB.progressbar({value: 0, max: 593});\n",
       "        }\n",
       "        "
      ],
      "text/plain": [
       "<IPython.core.display.Javascript at 0x10e4f6510>"
      ]
     },
     "metadata": {},
     "output_type": "display_data"
    },
    {
     "data": {
      "application/javascript": [
       "$('div#cd03291e-3af7-4959-b151-add232c9b082').text('ETA:  0:00:02');"
      ],
      "text/plain": [
       "<IPython.core.display.Javascript at 0x10e4f6410>"
      ]
     },
     "metadata": {},
     "output_type": "display_data"
    },
    {
     "data": {
      "application/javascript": [
       "$('div#9d37b887-fb70-4dc8-8e5c-1e76ab18de6d').text('114/593');"
      ],
      "text/plain": [
       "<IPython.core.display.Javascript at 0x11089fa10>"
      ]
     },
     "metadata": {},
     "output_type": "display_data"
    },
    {
     "data": {
      "application/javascript": [
       "$('div#ab5e3c02-b905-475b-a430-31b97942181f').text(' 19%');"
      ],
      "text/plain": [
       "<IPython.core.display.Javascript at 0x11089fa90>"
      ]
     },
     "metadata": {},
     "output_type": "display_data"
    },
    {
     "data": {
      "application/javascript": [
       "\n",
       "        var $myPB = $(\"div#603dd5d6-0527-48ce-991c-b87add1ee92f\")\n",
       "        if ($myPB.hasClass('ui-progressbar')) {\n",
       "            $myPB.progressbar('value', 114);\n",
       "        } else {\n",
       "            $myPB.progressbar({value: 0, max: 593});\n",
       "        }\n",
       "        "
      ],
      "text/plain": [
       "<IPython.core.display.Javascript at 0x11089fad0>"
      ]
     },
     "metadata": {},
     "output_type": "display_data"
    },
    {
     "data": {
      "application/javascript": [
       "$('div#cd03291e-3af7-4959-b151-add232c9b082').text('ETA:  0:00:02');"
      ],
      "text/plain": [
       "<IPython.core.display.Javascript at 0x11089fc10>"
      ]
     },
     "metadata": {},
     "output_type": "display_data"
    },
    {
     "data": {
      "application/javascript": [
       "$('div#9d37b887-fb70-4dc8-8e5c-1e76ab18de6d').text('120/593');"
      ],
      "text/plain": [
       "<IPython.core.display.Javascript at 0x11143a6d0>"
      ]
     },
     "metadata": {},
     "output_type": "display_data"
    },
    {
     "data": {
      "application/javascript": [
       "$('div#ab5e3c02-b905-475b-a430-31b97942181f').text(' 20%');"
      ],
      "text/plain": [
       "<IPython.core.display.Javascript at 0x11143a750>"
      ]
     },
     "metadata": {},
     "output_type": "display_data"
    },
    {
     "data": {
      "application/javascript": [
       "\n",
       "        var $myPB = $(\"div#603dd5d6-0527-48ce-991c-b87add1ee92f\")\n",
       "        if ($myPB.hasClass('ui-progressbar')) {\n",
       "            $myPB.progressbar('value', 120);\n",
       "        } else {\n",
       "            $myPB.progressbar({value: 0, max: 593});\n",
       "        }\n",
       "        "
      ],
      "text/plain": [
       "<IPython.core.display.Javascript at 0x11143a790>"
      ]
     },
     "metadata": {},
     "output_type": "display_data"
    },
    {
     "data": {
      "application/javascript": [
       "$('div#cd03291e-3af7-4959-b151-add232c9b082').text('ETA:  0:00:02');"
      ],
      "text/plain": [
       "<IPython.core.display.Javascript at 0x11143a8d0>"
      ]
     },
     "metadata": {},
     "output_type": "display_data"
    },
    {
     "data": {
      "application/javascript": [
       "$('div#9d37b887-fb70-4dc8-8e5c-1e76ab18de6d').text('126/593');"
      ],
      "text/plain": [
       "<IPython.core.display.Javascript at 0x11144ce10>"
      ]
     },
     "metadata": {},
     "output_type": "display_data"
    },
    {
     "data": {
      "application/javascript": [
       "$('div#ab5e3c02-b905-475b-a430-31b97942181f').text(' 21%');"
      ],
      "text/plain": [
       "<IPython.core.display.Javascript at 0x11144ce90>"
      ]
     },
     "metadata": {},
     "output_type": "display_data"
    },
    {
     "data": {
      "application/javascript": [
       "\n",
       "        var $myPB = $(\"div#603dd5d6-0527-48ce-991c-b87add1ee92f\")\n",
       "        if ($myPB.hasClass('ui-progressbar')) {\n",
       "            $myPB.progressbar('value', 126);\n",
       "        } else {\n",
       "            $myPB.progressbar({value: 0, max: 593});\n",
       "        }\n",
       "        "
      ],
      "text/plain": [
       "<IPython.core.display.Javascript at 0x11144ced0>"
      ]
     },
     "metadata": {},
     "output_type": "display_data"
    },
    {
     "data": {
      "application/javascript": [
       "$('div#cd03291e-3af7-4959-b151-add232c9b082').text('ETA:  0:00:02');"
      ],
      "text/plain": [
       "<IPython.core.display.Javascript at 0x11144d050>"
      ]
     },
     "metadata": {},
     "output_type": "display_data"
    },
    {
     "data": {
      "application/javascript": [
       "$('div#9d37b887-fb70-4dc8-8e5c-1e76ab18de6d').text('132/593');"
      ],
      "text/plain": [
       "<IPython.core.display.Javascript at 0x11145a990>"
      ]
     },
     "metadata": {},
     "output_type": "display_data"
    },
    {
     "data": {
      "application/javascript": [
       "$('div#ab5e3c02-b905-475b-a430-31b97942181f').text(' 22%');"
      ],
      "text/plain": [
       "<IPython.core.display.Javascript at 0x11145a9d0>"
      ]
     },
     "metadata": {},
     "output_type": "display_data"
    },
    {
     "data": {
      "application/javascript": [
       "\n",
       "        var $myPB = $(\"div#603dd5d6-0527-48ce-991c-b87add1ee92f\")\n",
       "        if ($myPB.hasClass('ui-progressbar')) {\n",
       "            $myPB.progressbar('value', 132);\n",
       "        } else {\n",
       "            $myPB.progressbar({value: 0, max: 593});\n",
       "        }\n",
       "        "
      ],
      "text/plain": [
       "<IPython.core.display.Javascript at 0x11145aa10>"
      ]
     },
     "metadata": {},
     "output_type": "display_data"
    },
    {
     "data": {
      "application/javascript": [
       "$('div#cd03291e-3af7-4959-b151-add232c9b082').text('ETA:  0:00:02');"
      ],
      "text/plain": [
       "<IPython.core.display.Javascript at 0x11145ab10>"
      ]
     },
     "metadata": {},
     "output_type": "display_data"
    },
    {
     "data": {
      "application/javascript": [
       "$('div#9d37b887-fb70-4dc8-8e5c-1e76ab18de6d').text('138/593');"
      ],
      "text/plain": [
       "<IPython.core.display.Javascript at 0x11146f150>"
      ]
     },
     "metadata": {},
     "output_type": "display_data"
    },
    {
     "data": {
      "application/javascript": [
       "$('div#ab5e3c02-b905-475b-a430-31b97942181f').text(' 23%');"
      ],
      "text/plain": [
       "<IPython.core.display.Javascript at 0x11146f150>"
      ]
     },
     "metadata": {},
     "output_type": "display_data"
    },
    {
     "data": {
      "application/javascript": [
       "\n",
       "        var $myPB = $(\"div#603dd5d6-0527-48ce-991c-b87add1ee92f\")\n",
       "        if ($myPB.hasClass('ui-progressbar')) {\n",
       "            $myPB.progressbar('value', 138);\n",
       "        } else {\n",
       "            $myPB.progressbar({value: 0, max: 593});\n",
       "        }\n",
       "        "
      ],
      "text/plain": [
       "<IPython.core.display.Javascript at 0x11146f1d0>"
      ]
     },
     "metadata": {},
     "output_type": "display_data"
    },
    {
     "data": {
      "application/javascript": [
       "$('div#cd03291e-3af7-4959-b151-add232c9b082').text('ETA:  0:00:01');"
      ],
      "text/plain": [
       "<IPython.core.display.Javascript at 0x11146f210>"
      ]
     },
     "metadata": {},
     "output_type": "display_data"
    },
    {
     "data": {
      "application/javascript": [
       "$('div#9d37b887-fb70-4dc8-8e5c-1e76ab18de6d').text('144/593');"
      ],
      "text/plain": [
       "<IPython.core.display.Javascript at 0x11387de10>"
      ]
     },
     "metadata": {},
     "output_type": "display_data"
    },
    {
     "data": {
      "application/javascript": [
       "$('div#ab5e3c02-b905-475b-a430-31b97942181f').text(' 24%');"
      ],
      "text/plain": [
       "<IPython.core.display.Javascript at 0x11387de90>"
      ]
     },
     "metadata": {},
     "output_type": "display_data"
    },
    {
     "data": {
      "application/javascript": [
       "\n",
       "        var $myPB = $(\"div#603dd5d6-0527-48ce-991c-b87add1ee92f\")\n",
       "        if ($myPB.hasClass('ui-progressbar')) {\n",
       "            $myPB.progressbar('value', 144);\n",
       "        } else {\n",
       "            $myPB.progressbar({value: 0, max: 593});\n",
       "        }\n",
       "        "
      ],
      "text/plain": [
       "<IPython.core.display.Javascript at 0x11387ded0>"
      ]
     },
     "metadata": {},
     "output_type": "display_data"
    },
    {
     "data": {
      "application/javascript": [
       "$('div#cd03291e-3af7-4959-b151-add232c9b082').text('ETA:  0:00:01');"
      ],
      "text/plain": [
       "<IPython.core.display.Javascript at 0x11387f050>"
      ]
     },
     "metadata": {},
     "output_type": "display_data"
    },
    {
     "data": {
      "application/javascript": [
       "$('div#9d37b887-fb70-4dc8-8e5c-1e76ab18de6d').text('150/593');"
      ],
      "text/plain": [
       "<IPython.core.display.Javascript at 0x11388d750>"
      ]
     },
     "metadata": {},
     "output_type": "display_data"
    },
    {
     "data": {
      "application/javascript": [
       "$('div#ab5e3c02-b905-475b-a430-31b97942181f').text(' 25%');"
      ],
      "text/plain": [
       "<IPython.core.display.Javascript at 0x11388d7d0>"
      ]
     },
     "metadata": {},
     "output_type": "display_data"
    },
    {
     "data": {
      "application/javascript": [
       "\n",
       "        var $myPB = $(\"div#603dd5d6-0527-48ce-991c-b87add1ee92f\")\n",
       "        if ($myPB.hasClass('ui-progressbar')) {\n",
       "            $myPB.progressbar('value', 150);\n",
       "        } else {\n",
       "            $myPB.progressbar({value: 0, max: 593});\n",
       "        }\n",
       "        "
      ],
      "text/plain": [
       "<IPython.core.display.Javascript at 0x11388d810>"
      ]
     },
     "metadata": {},
     "output_type": "display_data"
    },
    {
     "data": {
      "application/javascript": [
       "$('div#cd03291e-3af7-4959-b151-add232c9b082').text('ETA:  0:00:01');"
      ],
      "text/plain": [
       "<IPython.core.display.Javascript at 0x11388d950>"
      ]
     },
     "metadata": {},
     "output_type": "display_data"
    },
    {
     "data": {
      "application/javascript": [
       "$('div#9d37b887-fb70-4dc8-8e5c-1e76ab18de6d').text('156/593');"
      ],
      "text/plain": [
       "<IPython.core.display.Javascript at 0x11389df10>"
      ]
     },
     "metadata": {},
     "output_type": "display_data"
    },
    {
     "data": {
      "application/javascript": [
       "$('div#ab5e3c02-b905-475b-a430-31b97942181f').text(' 26%');"
      ],
      "text/plain": [
       "<IPython.core.display.Javascript at 0x11389df90>"
      ]
     },
     "metadata": {},
     "output_type": "display_data"
    },
    {
     "data": {
      "application/javascript": [
       "\n",
       "        var $myPB = $(\"div#603dd5d6-0527-48ce-991c-b87add1ee92f\")\n",
       "        if ($myPB.hasClass('ui-progressbar')) {\n",
       "            $myPB.progressbar('value', 156);\n",
       "        } else {\n",
       "            $myPB.progressbar({value: 0, max: 593});\n",
       "        }\n",
       "        "
      ],
      "text/plain": [
       "<IPython.core.display.Javascript at 0x11389dfd0>"
      ]
     },
     "metadata": {},
     "output_type": "display_data"
    },
    {
     "data": {
      "application/javascript": [
       "$('div#cd03291e-3af7-4959-b151-add232c9b082').text('ETA:  0:00:01');"
      ],
      "text/plain": [
       "<IPython.core.display.Javascript at 0x1138a0150>"
      ]
     },
     "metadata": {},
     "output_type": "display_data"
    },
    {
     "data": {
      "application/javascript": [
       "$('div#9d37b887-fb70-4dc8-8e5c-1e76ab18de6d').text('162/593');"
      ],
      "text/plain": [
       "<IPython.core.display.Javascript at 0x1138ac390>"
      ]
     },
     "metadata": {},
     "output_type": "display_data"
    },
    {
     "data": {
      "application/javascript": [
       "$('div#ab5e3c02-b905-475b-a430-31b97942181f').text(' 27%');"
      ],
      "text/plain": [
       "<IPython.core.display.Javascript at 0x1138ac410>"
      ]
     },
     "metadata": {},
     "output_type": "display_data"
    },
    {
     "data": {
      "application/javascript": [
       "\n",
       "        var $myPB = $(\"div#603dd5d6-0527-48ce-991c-b87add1ee92f\")\n",
       "        if ($myPB.hasClass('ui-progressbar')) {\n",
       "            $myPB.progressbar('value', 162);\n",
       "        } else {\n",
       "            $myPB.progressbar({value: 0, max: 593});\n",
       "        }\n",
       "        "
      ],
      "text/plain": [
       "<IPython.core.display.Javascript at 0x1138ac450>"
      ]
     },
     "metadata": {},
     "output_type": "display_data"
    },
    {
     "data": {
      "application/javascript": [
       "$('div#cd03291e-3af7-4959-b151-add232c9b082').text('ETA:  0:00:01');"
      ],
      "text/plain": [
       "<IPython.core.display.Javascript at 0x1138ac590>"
      ]
     },
     "metadata": {},
     "output_type": "display_data"
    },
    {
     "data": {
      "application/javascript": [
       "$('div#9d37b887-fb70-4dc8-8e5c-1e76ab18de6d').text('168/593');"
      ],
      "text/plain": [
       "<IPython.core.display.Javascript at 0x1138b1a90>"
      ]
     },
     "metadata": {},
     "output_type": "display_data"
    },
    {
     "data": {
      "application/javascript": [
       "$('div#ab5e3c02-b905-475b-a430-31b97942181f').text(' 28%');"
      ],
      "text/plain": [
       "<IPython.core.display.Javascript at 0x1138b1b10>"
      ]
     },
     "metadata": {},
     "output_type": "display_data"
    },
    {
     "data": {
      "application/javascript": [
       "\n",
       "        var $myPB = $(\"div#603dd5d6-0527-48ce-991c-b87add1ee92f\")\n",
       "        if ($myPB.hasClass('ui-progressbar')) {\n",
       "            $myPB.progressbar('value', 168);\n",
       "        } else {\n",
       "            $myPB.progressbar({value: 0, max: 593});\n",
       "        }\n",
       "        "
      ],
      "text/plain": [
       "<IPython.core.display.Javascript at 0x1138b1b50>"
      ]
     },
     "metadata": {},
     "output_type": "display_data"
    },
    {
     "data": {
      "application/javascript": [
       "$('div#cd03291e-3af7-4959-b151-add232c9b082').text('ETA:  0:00:01');"
      ],
      "text/plain": [
       "<IPython.core.display.Javascript at 0x1138b1c90>"
      ]
     },
     "metadata": {},
     "output_type": "display_data"
    },
    {
     "data": {
      "application/javascript": [
       "$('div#9d37b887-fb70-4dc8-8e5c-1e76ab18de6d').text('174/593');"
      ],
      "text/plain": [
       "<IPython.core.display.Javascript at 0x110cb7150>"
      ]
     },
     "metadata": {},
     "output_type": "display_data"
    },
    {
     "data": {
      "application/javascript": [
       "$('div#ab5e3c02-b905-475b-a430-31b97942181f').text(' 29%');"
      ],
      "text/plain": [
       "<IPython.core.display.Javascript at 0x110cb71d0>"
      ]
     },
     "metadata": {},
     "output_type": "display_data"
    },
    {
     "data": {
      "application/javascript": [
       "\n",
       "        var $myPB = $(\"div#603dd5d6-0527-48ce-991c-b87add1ee92f\")\n",
       "        if ($myPB.hasClass('ui-progressbar')) {\n",
       "            $myPB.progressbar('value', 174);\n",
       "        } else {\n",
       "            $myPB.progressbar({value: 0, max: 593});\n",
       "        }\n",
       "        "
      ],
      "text/plain": [
       "<IPython.core.display.Javascript at 0x110cb7210>"
      ]
     },
     "metadata": {},
     "output_type": "display_data"
    },
    {
     "data": {
      "application/javascript": [
       "$('div#cd03291e-3af7-4959-b151-add232c9b082').text('ETA:  0:00:01');"
      ],
      "text/plain": [
       "<IPython.core.display.Javascript at 0x110cb7350>"
      ]
     },
     "metadata": {},
     "output_type": "display_data"
    },
    {
     "data": {
      "application/javascript": [
       "$('div#9d37b887-fb70-4dc8-8e5c-1e76ab18de6d').text('180/593');"
      ],
      "text/plain": [
       "<IPython.core.display.Javascript at 0x110cca590>"
      ]
     },
     "metadata": {},
     "output_type": "display_data"
    },
    {
     "data": {
      "application/javascript": [
       "$('div#ab5e3c02-b905-475b-a430-31b97942181f').text(' 30%');"
      ],
      "text/plain": [
       "<IPython.core.display.Javascript at 0x110cca610>"
      ]
     },
     "metadata": {},
     "output_type": "display_data"
    },
    {
     "data": {
      "application/javascript": [
       "\n",
       "        var $myPB = $(\"div#603dd5d6-0527-48ce-991c-b87add1ee92f\")\n",
       "        if ($myPB.hasClass('ui-progressbar')) {\n",
       "            $myPB.progressbar('value', 180);\n",
       "        } else {\n",
       "            $myPB.progressbar({value: 0, max: 593});\n",
       "        }\n",
       "        "
      ],
      "text/plain": [
       "<IPython.core.display.Javascript at 0x110cca650>"
      ]
     },
     "metadata": {},
     "output_type": "display_data"
    },
    {
     "data": {
      "application/javascript": [
       "$('div#cd03291e-3af7-4959-b151-add232c9b082').text('ETA:  0:00:01');"
      ],
      "text/plain": [
       "<IPython.core.display.Javascript at 0x110cca790>"
      ]
     },
     "metadata": {},
     "output_type": "display_data"
    },
    {
     "data": {
      "application/javascript": [
       "$('div#9d37b887-fb70-4dc8-8e5c-1e76ab18de6d').text('186/593');"
      ],
      "text/plain": [
       "<IPython.core.display.Javascript at 0x110cce1d0>"
      ]
     },
     "metadata": {},
     "output_type": "display_data"
    },
    {
     "data": {
      "application/javascript": [
       "$('div#ab5e3c02-b905-475b-a430-31b97942181f').text(' 31%');"
      ],
      "text/plain": [
       "<IPython.core.display.Javascript at 0x110cce210>"
      ]
     },
     "metadata": {},
     "output_type": "display_data"
    },
    {
     "data": {
      "application/javascript": [
       "\n",
       "        var $myPB = $(\"div#603dd5d6-0527-48ce-991c-b87add1ee92f\")\n",
       "        if ($myPB.hasClass('ui-progressbar')) {\n",
       "            $myPB.progressbar('value', 186);\n",
       "        } else {\n",
       "            $myPB.progressbar({value: 0, max: 593});\n",
       "        }\n",
       "        "
      ],
      "text/plain": [
       "<IPython.core.display.Javascript at 0x110cce250>"
      ]
     },
     "metadata": {},
     "output_type": "display_data"
    },
    {
     "data": {
      "application/javascript": [
       "$('div#cd03291e-3af7-4959-b151-add232c9b082').text('ETA:  0:00:01');"
      ],
      "text/plain": [
       "<IPython.core.display.Javascript at 0x110cce350>"
      ]
     },
     "metadata": {},
     "output_type": "display_data"
    },
    {
     "data": {
      "application/javascript": [
       "$('div#9d37b887-fb70-4dc8-8e5c-1e76ab18de6d').text('192/593');"
      ],
      "text/plain": [
       "<IPython.core.display.Javascript at 0x110cd40d0>"
      ]
     },
     "metadata": {},
     "output_type": "display_data"
    },
    {
     "data": {
      "application/javascript": [
       "$('div#ab5e3c02-b905-475b-a430-31b97942181f').text(' 32%');"
      ],
      "text/plain": [
       "<IPython.core.display.Javascript at 0x110cd4150>"
      ]
     },
     "metadata": {},
     "output_type": "display_data"
    },
    {
     "data": {
      "application/javascript": [
       "\n",
       "        var $myPB = $(\"div#603dd5d6-0527-48ce-991c-b87add1ee92f\")\n",
       "        if ($myPB.hasClass('ui-progressbar')) {\n",
       "            $myPB.progressbar('value', 192);\n",
       "        } else {\n",
       "            $myPB.progressbar({value: 0, max: 593});\n",
       "        }\n",
       "        "
      ],
      "text/plain": [
       "<IPython.core.display.Javascript at 0x110cd4190>"
      ]
     },
     "metadata": {},
     "output_type": "display_data"
    },
    {
     "data": {
      "application/javascript": [
       "$('div#cd03291e-3af7-4959-b151-add232c9b082').text('ETA:  0:00:01');"
      ],
      "text/plain": [
       "<IPython.core.display.Javascript at 0x110cd42d0>"
      ]
     },
     "metadata": {},
     "output_type": "display_data"
    },
    {
     "data": {
      "application/javascript": [
       "$('div#9d37b887-fb70-4dc8-8e5c-1e76ab18de6d').text('198/593');"
      ],
      "text/plain": [
       "<IPython.core.display.Javascript at 0x110ce6a90>"
      ]
     },
     "metadata": {},
     "output_type": "display_data"
    },
    {
     "data": {
      "application/javascript": [
       "$('div#ab5e3c02-b905-475b-a430-31b97942181f').text(' 33%');"
      ],
      "text/plain": [
       "<IPython.core.display.Javascript at 0x110ce6ad0>"
      ]
     },
     "metadata": {},
     "output_type": "display_data"
    },
    {
     "data": {
      "application/javascript": [
       "\n",
       "        var $myPB = $(\"div#603dd5d6-0527-48ce-991c-b87add1ee92f\")\n",
       "        if ($myPB.hasClass('ui-progressbar')) {\n",
       "            $myPB.progressbar('value', 198);\n",
       "        } else {\n",
       "            $myPB.progressbar({value: 0, max: 593});\n",
       "        }\n",
       "        "
      ],
      "text/plain": [
       "<IPython.core.display.Javascript at 0x110ce6b10>"
      ]
     },
     "metadata": {},
     "output_type": "display_data"
    },
    {
     "data": {
      "application/javascript": [
       "$('div#cd03291e-3af7-4959-b151-add232c9b082').text('ETA:  0:00:01');"
      ],
      "text/plain": [
       "<IPython.core.display.Javascript at 0x110ce6c10>"
      ]
     },
     "metadata": {},
     "output_type": "display_data"
    },
    {
     "data": {
      "application/javascript": [
       "$('div#9d37b887-fb70-4dc8-8e5c-1e76ab18de6d').text('204/593');"
      ],
      "text/plain": [
       "<IPython.core.display.Javascript at 0x110cef350>"
      ]
     },
     "metadata": {},
     "output_type": "display_data"
    },
    {
     "data": {
      "application/javascript": [
       "$('div#ab5e3c02-b905-475b-a430-31b97942181f').text(' 34%');"
      ],
      "text/plain": [
       "<IPython.core.display.Javascript at 0x110cef3d0>"
      ]
     },
     "metadata": {},
     "output_type": "display_data"
    },
    {
     "data": {
      "application/javascript": [
       "\n",
       "        var $myPB = $(\"div#603dd5d6-0527-48ce-991c-b87add1ee92f\")\n",
       "        if ($myPB.hasClass('ui-progressbar')) {\n",
       "            $myPB.progressbar('value', 204);\n",
       "        } else {\n",
       "            $myPB.progressbar({value: 0, max: 593});\n",
       "        }\n",
       "        "
      ],
      "text/plain": [
       "<IPython.core.display.Javascript at 0x110cef410>"
      ]
     },
     "metadata": {},
     "output_type": "display_data"
    },
    {
     "data": {
      "application/javascript": [
       "$('div#cd03291e-3af7-4959-b151-add232c9b082').text('ETA:  0:00:01');"
      ],
      "text/plain": [
       "<IPython.core.display.Javascript at 0x110cef550>"
      ]
     },
     "metadata": {},
     "output_type": "display_data"
    },
    {
     "data": {
      "application/javascript": [
       "$('div#9d37b887-fb70-4dc8-8e5c-1e76ab18de6d').text('210/593');"
      ],
      "text/plain": [
       "<IPython.core.display.Javascript at 0x113b3c650>"
      ]
     },
     "metadata": {},
     "output_type": "display_data"
    },
    {
     "data": {
      "application/javascript": [
       "$('div#ab5e3c02-b905-475b-a430-31b97942181f').text(' 35%');"
      ],
      "text/plain": [
       "<IPython.core.display.Javascript at 0x113b3c6d0>"
      ]
     },
     "metadata": {},
     "output_type": "display_data"
    },
    {
     "data": {
      "application/javascript": [
       "\n",
       "        var $myPB = $(\"div#603dd5d6-0527-48ce-991c-b87add1ee92f\")\n",
       "        if ($myPB.hasClass('ui-progressbar')) {\n",
       "            $myPB.progressbar('value', 210);\n",
       "        } else {\n",
       "            $myPB.progressbar({value: 0, max: 593});\n",
       "        }\n",
       "        "
      ],
      "text/plain": [
       "<IPython.core.display.Javascript at 0x113b3c710>"
      ]
     },
     "metadata": {},
     "output_type": "display_data"
    },
    {
     "data": {
      "application/javascript": [
       "$('div#cd03291e-3af7-4959-b151-add232c9b082').text('ETA:  0:00:01');"
      ],
      "text/plain": [
       "<IPython.core.display.Javascript at 0x113b3c850>"
      ]
     },
     "metadata": {},
     "output_type": "display_data"
    },
    {
     "data": {
      "application/javascript": [
       "$('div#9d37b887-fb70-4dc8-8e5c-1e76ab18de6d').text('216/593');"
      ],
      "text/plain": [
       "<IPython.core.display.Javascript at 0x113b4be50>"
      ]
     },
     "metadata": {},
     "output_type": "display_data"
    },
    {
     "data": {
      "application/javascript": [
       "$('div#ab5e3c02-b905-475b-a430-31b97942181f').text(' 36%');"
      ],
      "text/plain": [
       "<IPython.core.display.Javascript at 0x113b4bed0>"
      ]
     },
     "metadata": {},
     "output_type": "display_data"
    },
    {
     "data": {
      "application/javascript": [
       "\n",
       "        var $myPB = $(\"div#603dd5d6-0527-48ce-991c-b87add1ee92f\")\n",
       "        if ($myPB.hasClass('ui-progressbar')) {\n",
       "            $myPB.progressbar('value', 216);\n",
       "        } else {\n",
       "            $myPB.progressbar({value: 0, max: 593});\n",
       "        }\n",
       "        "
      ],
      "text/plain": [
       "<IPython.core.display.Javascript at 0x113b4bf10>"
      ]
     },
     "metadata": {},
     "output_type": "display_data"
    },
    {
     "data": {
      "application/javascript": [
       "$('div#cd03291e-3af7-4959-b151-add232c9b082').text('ETA:  0:00:01');"
      ],
      "text/plain": [
       "<IPython.core.display.Javascript at 0x113b4d090>"
      ]
     },
     "metadata": {},
     "output_type": "display_data"
    },
    {
     "data": {
      "application/javascript": [
       "$('div#9d37b887-fb70-4dc8-8e5c-1e76ab18de6d').text('222/593');"
      ],
      "text/plain": [
       "<IPython.core.display.Javascript at 0x113b4d410>"
      ]
     },
     "metadata": {},
     "output_type": "display_data"
    },
    {
     "data": {
      "application/javascript": [
       "$('div#ab5e3c02-b905-475b-a430-31b97942181f').text(' 37%');"
      ],
      "text/plain": [
       "<IPython.core.display.Javascript at 0x113b4d450>"
      ]
     },
     "metadata": {},
     "output_type": "display_data"
    },
    {
     "data": {
      "application/javascript": [
       "\n",
       "        var $myPB = $(\"div#603dd5d6-0527-48ce-991c-b87add1ee92f\")\n",
       "        if ($myPB.hasClass('ui-progressbar')) {\n",
       "            $myPB.progressbar('value', 222);\n",
       "        } else {\n",
       "            $myPB.progressbar({value: 0, max: 593});\n",
       "        }\n",
       "        "
      ],
      "text/plain": [
       "<IPython.core.display.Javascript at 0x113b4d490>"
      ]
     },
     "metadata": {},
     "output_type": "display_data"
    },
    {
     "data": {
      "application/javascript": [
       "$('div#cd03291e-3af7-4959-b151-add232c9b082').text('ETA:  0:00:01');"
      ],
      "text/plain": [
       "<IPython.core.display.Javascript at 0x113b4d590>"
      ]
     },
     "metadata": {},
     "output_type": "display_data"
    },
    {
     "data": {
      "application/javascript": [
       "$('div#9d37b887-fb70-4dc8-8e5c-1e76ab18de6d').text('228/593');"
      ],
      "text/plain": [
       "<IPython.core.display.Javascript at 0x113b4dcd0>"
      ]
     },
     "metadata": {},
     "output_type": "display_data"
    },
    {
     "data": {
      "application/javascript": [
       "$('div#ab5e3c02-b905-475b-a430-31b97942181f').text(' 38%');"
      ],
      "text/plain": [
       "<IPython.core.display.Javascript at 0x113b4dd10>"
      ]
     },
     "metadata": {},
     "output_type": "display_data"
    },
    {
     "data": {
      "application/javascript": [
       "\n",
       "        var $myPB = $(\"div#603dd5d6-0527-48ce-991c-b87add1ee92f\")\n",
       "        if ($myPB.hasClass('ui-progressbar')) {\n",
       "            $myPB.progressbar('value', 228);\n",
       "        } else {\n",
       "            $myPB.progressbar({value: 0, max: 593});\n",
       "        }\n",
       "        "
      ],
      "text/plain": [
       "<IPython.core.display.Javascript at 0x113b4dd50>"
      ]
     },
     "metadata": {},
     "output_type": "display_data"
    },
    {
     "data": {
      "application/javascript": [
       "$('div#cd03291e-3af7-4959-b151-add232c9b082').text('ETA:  0:00:01');"
      ],
      "text/plain": [
       "<IPython.core.display.Javascript at 0x113b4dd90>"
      ]
     },
     "metadata": {},
     "output_type": "display_data"
    },
    {
     "data": {
      "application/javascript": [
       "$('div#9d37b887-fb70-4dc8-8e5c-1e76ab18de6d').text('234/593');"
      ],
      "text/plain": [
       "<IPython.core.display.Javascript at 0x113b4d490>"
      ]
     },
     "metadata": {},
     "output_type": "display_data"
    },
    {
     "data": {
      "application/javascript": [
       "$('div#ab5e3c02-b905-475b-a430-31b97942181f').text(' 39%');"
      ],
      "text/plain": [
       "<IPython.core.display.Javascript at 0x113b4d450>"
      ]
     },
     "metadata": {},
     "output_type": "display_data"
    },
    {
     "data": {
      "application/javascript": [
       "\n",
       "        var $myPB = $(\"div#603dd5d6-0527-48ce-991c-b87add1ee92f\")\n",
       "        if ($myPB.hasClass('ui-progressbar')) {\n",
       "            $myPB.progressbar('value', 234);\n",
       "        } else {\n",
       "            $myPB.progressbar({value: 0, max: 593});\n",
       "        }\n",
       "        "
      ],
      "text/plain": [
       "<IPython.core.display.Javascript at 0x113b4d410>"
      ]
     },
     "metadata": {},
     "output_type": "display_data"
    },
    {
     "data": {
      "application/javascript": [
       "$('div#cd03291e-3af7-4959-b151-add232c9b082').text('ETA:  0:00:01');"
      ],
      "text/plain": [
       "<IPython.core.display.Javascript at 0x113b4d090>"
      ]
     },
     "metadata": {},
     "output_type": "display_data"
    },
    {
     "data": {
      "application/javascript": [
       "$('div#9d37b887-fb70-4dc8-8e5c-1e76ab18de6d').text('240/593');"
      ],
      "text/plain": [
       "<IPython.core.display.Javascript at 0x113b5a490>"
      ]
     },
     "metadata": {},
     "output_type": "display_data"
    },
    {
     "data": {
      "application/javascript": [
       "$('div#ab5e3c02-b905-475b-a430-31b97942181f').text(' 40%');"
      ],
      "text/plain": [
       "<IPython.core.display.Javascript at 0x113b5a4d0>"
      ]
     },
     "metadata": {},
     "output_type": "display_data"
    },
    {
     "data": {
      "application/javascript": [
       "\n",
       "        var $myPB = $(\"div#603dd5d6-0527-48ce-991c-b87add1ee92f\")\n",
       "        if ($myPB.hasClass('ui-progressbar')) {\n",
       "            $myPB.progressbar('value', 240);\n",
       "        } else {\n",
       "            $myPB.progressbar({value: 0, max: 593});\n",
       "        }\n",
       "        "
      ],
      "text/plain": [
       "<IPython.core.display.Javascript at 0x113b5a510>"
      ]
     },
     "metadata": {},
     "output_type": "display_data"
    },
    {
     "data": {
      "application/javascript": [
       "$('div#cd03291e-3af7-4959-b151-add232c9b082').text('ETA:  0:00:01');"
      ],
      "text/plain": [
       "<IPython.core.display.Javascript at 0x113b5a590>"
      ]
     },
     "metadata": {},
     "output_type": "display_data"
    },
    {
     "data": {
      "application/javascript": [
       "$('div#9d37b887-fb70-4dc8-8e5c-1e76ab18de6d').text('246/593');"
      ],
      "text/plain": [
       "<IPython.core.display.Javascript at 0x113b5a890>"
      ]
     },
     "metadata": {},
     "output_type": "display_data"
    },
    {
     "data": {
      "application/javascript": [
       "$('div#ab5e3c02-b905-475b-a430-31b97942181f').text(' 41%');"
      ],
      "text/plain": [
       "<IPython.core.display.Javascript at 0x113b5a8d0>"
      ]
     },
     "metadata": {},
     "output_type": "display_data"
    },
    {
     "data": {
      "application/javascript": [
       "\n",
       "        var $myPB = $(\"div#603dd5d6-0527-48ce-991c-b87add1ee92f\")\n",
       "        if ($myPB.hasClass('ui-progressbar')) {\n",
       "            $myPB.progressbar('value', 246);\n",
       "        } else {\n",
       "            $myPB.progressbar({value: 0, max: 593});\n",
       "        }\n",
       "        "
      ],
      "text/plain": [
       "<IPython.core.display.Javascript at 0x113b5a910>"
      ]
     },
     "metadata": {},
     "output_type": "display_data"
    },
    {
     "data": {
      "application/javascript": [
       "$('div#cd03291e-3af7-4959-b151-add232c9b082').text('ETA:  0:00:01');"
      ],
      "text/plain": [
       "<IPython.core.display.Javascript at 0x113b5a990>"
      ]
     },
     "metadata": {},
     "output_type": "display_data"
    },
    {
     "data": {
      "application/javascript": [
       "$('div#9d37b887-fb70-4dc8-8e5c-1e76ab18de6d').text('252/593');"
      ],
      "text/plain": [
       "<IPython.core.display.Javascript at 0x113b5a590>"
      ]
     },
     "metadata": {},
     "output_type": "display_data"
    },
    {
     "data": {
      "application/javascript": [
       "$('div#ab5e3c02-b905-475b-a430-31b97942181f').text(' 42%');"
      ],
      "text/plain": [
       "<IPython.core.display.Javascript at 0x113b5a4d0>"
      ]
     },
     "metadata": {},
     "output_type": "display_data"
    },
    {
     "data": {
      "application/javascript": [
       "\n",
       "        var $myPB = $(\"div#603dd5d6-0527-48ce-991c-b87add1ee92f\")\n",
       "        if ($myPB.hasClass('ui-progressbar')) {\n",
       "            $myPB.progressbar('value', 252);\n",
       "        } else {\n",
       "            $myPB.progressbar({value: 0, max: 593});\n",
       "        }\n",
       "        "
      ],
      "text/plain": [
       "<IPython.core.display.Javascript at 0x113b5a490>"
      ]
     },
     "metadata": {},
     "output_type": "display_data"
    },
    {
     "data": {
      "application/javascript": [
       "$('div#cd03291e-3af7-4959-b151-add232c9b082').text('ETA:  0:00:01');"
      ],
      "text/plain": [
       "<IPython.core.display.Javascript at 0x113b66950>"
      ]
     },
     "metadata": {},
     "output_type": "display_data"
    },
    {
     "data": {
      "application/javascript": [
       "$('div#9d37b887-fb70-4dc8-8e5c-1e76ab18de6d').text('258/593');"
      ],
      "text/plain": [
       "<IPython.core.display.Javascript at 0x115db7ed0>"
      ]
     },
     "metadata": {},
     "output_type": "display_data"
    },
    {
     "data": {
      "application/javascript": [
       "$('div#ab5e3c02-b905-475b-a430-31b97942181f').text(' 43%');"
      ],
      "text/plain": [
       "<IPython.core.display.Javascript at 0x115db7f50>"
      ]
     },
     "metadata": {},
     "output_type": "display_data"
    },
    {
     "data": {
      "application/javascript": [
       "\n",
       "        var $myPB = $(\"div#603dd5d6-0527-48ce-991c-b87add1ee92f\")\n",
       "        if ($myPB.hasClass('ui-progressbar')) {\n",
       "            $myPB.progressbar('value', 258);\n",
       "        } else {\n",
       "            $myPB.progressbar({value: 0, max: 593});\n",
       "        }\n",
       "        "
      ],
      "text/plain": [
       "<IPython.core.display.Javascript at 0x115db7f90>"
      ]
     },
     "metadata": {},
     "output_type": "display_data"
    },
    {
     "data": {
      "application/javascript": [
       "$('div#cd03291e-3af7-4959-b151-add232c9b082').text('ETA:  0:00:01');"
      ],
      "text/plain": [
       "<IPython.core.display.Javascript at 0x115db8110>"
      ]
     },
     "metadata": {},
     "output_type": "display_data"
    },
    {
     "data": {
      "application/javascript": [
       "$('div#9d37b887-fb70-4dc8-8e5c-1e76ab18de6d').text('264/593');"
      ],
      "text/plain": [
       "<IPython.core.display.Javascript at 0x115dca7d0>"
      ]
     },
     "metadata": {},
     "output_type": "display_data"
    },
    {
     "data": {
      "application/javascript": [
       "$('div#ab5e3c02-b905-475b-a430-31b97942181f').text(' 44%');"
      ],
      "text/plain": [
       "<IPython.core.display.Javascript at 0x115dca850>"
      ]
     },
     "metadata": {},
     "output_type": "display_data"
    },
    {
     "data": {
      "application/javascript": [
       "\n",
       "        var $myPB = $(\"div#603dd5d6-0527-48ce-991c-b87add1ee92f\")\n",
       "        if ($myPB.hasClass('ui-progressbar')) {\n",
       "            $myPB.progressbar('value', 264);\n",
       "        } else {\n",
       "            $myPB.progressbar({value: 0, max: 593});\n",
       "        }\n",
       "        "
      ],
      "text/plain": [
       "<IPython.core.display.Javascript at 0x115dca890>"
      ]
     },
     "metadata": {},
     "output_type": "display_data"
    },
    {
     "data": {
      "application/javascript": [
       "$('div#cd03291e-3af7-4959-b151-add232c9b082').text('ETA:  0:00:01');"
      ],
      "text/plain": [
       "<IPython.core.display.Javascript at 0x115dca9d0>"
      ]
     },
     "metadata": {},
     "output_type": "display_data"
    },
    {
     "data": {
      "application/javascript": [
       "$('div#9d37b887-fb70-4dc8-8e5c-1e76ab18de6d').text('270/593');"
      ],
      "text/plain": [
       "<IPython.core.display.Javascript at 0x115dd2110>"
      ]
     },
     "metadata": {},
     "output_type": "display_data"
    },
    {
     "data": {
      "application/javascript": [
       "$('div#ab5e3c02-b905-475b-a430-31b97942181f').text(' 45%');"
      ],
      "text/plain": [
       "<IPython.core.display.Javascript at 0x115dd2190>"
      ]
     },
     "metadata": {},
     "output_type": "display_data"
    },
    {
     "data": {
      "application/javascript": [
       "\n",
       "        var $myPB = $(\"div#603dd5d6-0527-48ce-991c-b87add1ee92f\")\n",
       "        if ($myPB.hasClass('ui-progressbar')) {\n",
       "            $myPB.progressbar('value', 270);\n",
       "        } else {\n",
       "            $myPB.progressbar({value: 0, max: 593});\n",
       "        }\n",
       "        "
      ],
      "text/plain": [
       "<IPython.core.display.Javascript at 0x115dd21d0>"
      ]
     },
     "metadata": {},
     "output_type": "display_data"
    },
    {
     "data": {
      "application/javascript": [
       "$('div#cd03291e-3af7-4959-b151-add232c9b082').text('ETA:  0:00:01');"
      ],
      "text/plain": [
       "<IPython.core.display.Javascript at 0x115dd2310>"
      ]
     },
     "metadata": {},
     "output_type": "display_data"
    },
    {
     "data": {
      "application/javascript": [
       "$('div#9d37b887-fb70-4dc8-8e5c-1e76ab18de6d').text('276/593');"
      ],
      "text/plain": [
       "<IPython.core.display.Javascript at 0x115dd6d90>"
      ]
     },
     "metadata": {},
     "output_type": "display_data"
    },
    {
     "data": {
      "application/javascript": [
       "$('div#ab5e3c02-b905-475b-a430-31b97942181f').text(' 46%');"
      ],
      "text/plain": [
       "<IPython.core.display.Javascript at 0x115dd6e10>"
      ]
     },
     "metadata": {},
     "output_type": "display_data"
    },
    {
     "data": {
      "application/javascript": [
       "\n",
       "        var $myPB = $(\"div#603dd5d6-0527-48ce-991c-b87add1ee92f\")\n",
       "        if ($myPB.hasClass('ui-progressbar')) {\n",
       "            $myPB.progressbar('value', 276);\n",
       "        } else {\n",
       "            $myPB.progressbar({value: 0, max: 593});\n",
       "        }\n",
       "        "
      ],
      "text/plain": [
       "<IPython.core.display.Javascript at 0x115dd6e50>"
      ]
     },
     "metadata": {},
     "output_type": "display_data"
    },
    {
     "data": {
      "application/javascript": [
       "$('div#cd03291e-3af7-4959-b151-add232c9b082').text('ETA:  0:00:01');"
      ],
      "text/plain": [
       "<IPython.core.display.Javascript at 0x115dd6f90>"
      ]
     },
     "metadata": {},
     "output_type": "display_data"
    },
    {
     "data": {
      "application/javascript": [
       "$('div#9d37b887-fb70-4dc8-8e5c-1e76ab18de6d').text('282/593');"
      ],
      "text/plain": [
       "<IPython.core.display.Javascript at 0x115ddec50>"
      ]
     },
     "metadata": {},
     "output_type": "display_data"
    },
    {
     "data": {
      "application/javascript": [
       "$('div#ab5e3c02-b905-475b-a430-31b97942181f').text(' 47%');"
      ],
      "text/plain": [
       "<IPython.core.display.Javascript at 0x115ddecd0>"
      ]
     },
     "metadata": {},
     "output_type": "display_data"
    },
    {
     "data": {
      "application/javascript": [
       "\n",
       "        var $myPB = $(\"div#603dd5d6-0527-48ce-991c-b87add1ee92f\")\n",
       "        if ($myPB.hasClass('ui-progressbar')) {\n",
       "            $myPB.progressbar('value', 282);\n",
       "        } else {\n",
       "            $myPB.progressbar({value: 0, max: 593});\n",
       "        }\n",
       "        "
      ],
      "text/plain": [
       "<IPython.core.display.Javascript at 0x115dd6f90>"
      ]
     },
     "metadata": {},
     "output_type": "display_data"
    },
    {
     "data": {
      "application/javascript": [
       "$('div#cd03291e-3af7-4959-b151-add232c9b082').text('ETA:  0:00:01');"
      ],
      "text/plain": [
       "<IPython.core.display.Javascript at 0x115dd6e50>"
      ]
     },
     "metadata": {},
     "output_type": "display_data"
    },
    {
     "data": {
      "application/javascript": [
       "$('div#9d37b887-fb70-4dc8-8e5c-1e76ab18de6d').text('288/593');"
      ],
      "text/plain": [
       "<IPython.core.display.Javascript at 0x115deb990>"
      ]
     },
     "metadata": {},
     "output_type": "display_data"
    },
    {
     "data": {
      "application/javascript": [
       "$('div#ab5e3c02-b905-475b-a430-31b97942181f').text(' 48%');"
      ],
      "text/plain": [
       "<IPython.core.display.Javascript at 0x115deba10>"
      ]
     },
     "metadata": {},
     "output_type": "display_data"
    },
    {
     "data": {
      "application/javascript": [
       "\n",
       "        var $myPB = $(\"div#603dd5d6-0527-48ce-991c-b87add1ee92f\")\n",
       "        if ($myPB.hasClass('ui-progressbar')) {\n",
       "            $myPB.progressbar('value', 288);\n",
       "        } else {\n",
       "            $myPB.progressbar({value: 0, max: 593});\n",
       "        }\n",
       "        "
      ],
      "text/plain": [
       "<IPython.core.display.Javascript at 0x115deba50>"
      ]
     },
     "metadata": {},
     "output_type": "display_data"
    },
    {
     "data": {
      "application/javascript": [
       "$('div#cd03291e-3af7-4959-b151-add232c9b082').text('ETA:  0:00:01');"
      ],
      "text/plain": [
       "<IPython.core.display.Javascript at 0x115debb90>"
      ]
     },
     "metadata": {},
     "output_type": "display_data"
    },
    {
     "data": {
      "application/javascript": [
       "$('div#9d37b887-fb70-4dc8-8e5c-1e76ab18de6d').text('294/593');"
      ],
      "text/plain": [
       "<IPython.core.display.Javascript at 0x115df5510>"
      ]
     },
     "metadata": {},
     "output_type": "display_data"
    },
    {
     "data": {
      "application/javascript": [
       "$('div#ab5e3c02-b905-475b-a430-31b97942181f').text(' 49%');"
      ],
      "text/plain": [
       "<IPython.core.display.Javascript at 0x115df5590>"
      ]
     },
     "metadata": {},
     "output_type": "display_data"
    },
    {
     "data": {
      "application/javascript": [
       "\n",
       "        var $myPB = $(\"div#603dd5d6-0527-48ce-991c-b87add1ee92f\")\n",
       "        if ($myPB.hasClass('ui-progressbar')) {\n",
       "            $myPB.progressbar('value', 294);\n",
       "        } else {\n",
       "            $myPB.progressbar({value: 0, max: 593});\n",
       "        }\n",
       "        "
      ],
      "text/plain": [
       "<IPython.core.display.Javascript at 0x115df55d0>"
      ]
     },
     "metadata": {},
     "output_type": "display_data"
    },
    {
     "data": {
      "application/javascript": [
       "$('div#cd03291e-3af7-4959-b151-add232c9b082').text('ETA:  0:00:01');"
      ],
      "text/plain": [
       "<IPython.core.display.Javascript at 0x115df5710>"
      ]
     },
     "metadata": {},
     "output_type": "display_data"
    },
    {
     "data": {
      "application/javascript": [
       "$('div#9d37b887-fb70-4dc8-8e5c-1e76ab18de6d').text('300/593');"
      ],
      "text/plain": [
       "<IPython.core.display.Javascript at 0x112d7d0d0>"
      ]
     },
     "metadata": {},
     "output_type": "display_data"
    },
    {
     "data": {
      "application/javascript": [
       "$('div#ab5e3c02-b905-475b-a430-31b97942181f').text(' 50%');"
      ],
      "text/plain": [
       "<IPython.core.display.Javascript at 0x112d7d150>"
      ]
     },
     "metadata": {},
     "output_type": "display_data"
    },
    {
     "data": {
      "application/javascript": [
       "\n",
       "        var $myPB = $(\"div#603dd5d6-0527-48ce-991c-b87add1ee92f\")\n",
       "        if ($myPB.hasClass('ui-progressbar')) {\n",
       "            $myPB.progressbar('value', 300);\n",
       "        } else {\n",
       "            $myPB.progressbar({value: 0, max: 593});\n",
       "        }\n",
       "        "
      ],
      "text/plain": [
       "<IPython.core.display.Javascript at 0x112d7d190>"
      ]
     },
     "metadata": {},
     "output_type": "display_data"
    },
    {
     "data": {
      "application/javascript": [
       "$('div#cd03291e-3af7-4959-b151-add232c9b082').text('ETA:  0:00:01');"
      ],
      "text/plain": [
       "<IPython.core.display.Javascript at 0x112d7d2d0>"
      ]
     },
     "metadata": {},
     "output_type": "display_data"
    },
    {
     "data": {
      "application/javascript": [
       "$('div#9d37b887-fb70-4dc8-8e5c-1e76ab18de6d').text('306/593');"
      ],
      "text/plain": [
       "<IPython.core.display.Javascript at 0x112d80c50>"
      ]
     },
     "metadata": {},
     "output_type": "display_data"
    },
    {
     "data": {
      "application/javascript": [
       "$('div#ab5e3c02-b905-475b-a430-31b97942181f').text(' 51%');"
      ],
      "text/plain": [
       "<IPython.core.display.Javascript at 0x112d80cd0>"
      ]
     },
     "metadata": {},
     "output_type": "display_data"
    },
    {
     "data": {
      "application/javascript": [
       "\n",
       "        var $myPB = $(\"div#603dd5d6-0527-48ce-991c-b87add1ee92f\")\n",
       "        if ($myPB.hasClass('ui-progressbar')) {\n",
       "            $myPB.progressbar('value', 306);\n",
       "        } else {\n",
       "            $myPB.progressbar({value: 0, max: 593});\n",
       "        }\n",
       "        "
      ],
      "text/plain": [
       "<IPython.core.display.Javascript at 0x112d80d10>"
      ]
     },
     "metadata": {},
     "output_type": "display_data"
    },
    {
     "data": {
      "application/javascript": [
       "$('div#cd03291e-3af7-4959-b151-add232c9b082').text('ETA:  0:00:00');"
      ],
      "text/plain": [
       "<IPython.core.display.Javascript at 0x112d80e50>"
      ]
     },
     "metadata": {},
     "output_type": "display_data"
    },
    {
     "data": {
      "application/javascript": [
       "$('div#9d37b887-fb70-4dc8-8e5c-1e76ab18de6d').text('312/593');"
      ],
      "text/plain": [
       "<IPython.core.display.Javascript at 0x112d80cd0>"
      ]
     },
     "metadata": {},
     "output_type": "display_data"
    },
    {
     "data": {
      "application/javascript": [
       "$('div#ab5e3c02-b905-475b-a430-31b97942181f').text(' 52%');"
      ],
      "text/plain": [
       "<IPython.core.display.Javascript at 0x112d89a90>"
      ]
     },
     "metadata": {},
     "output_type": "display_data"
    },
    {
     "data": {
      "application/javascript": [
       "\n",
       "        var $myPB = $(\"div#603dd5d6-0527-48ce-991c-b87add1ee92f\")\n",
       "        if ($myPB.hasClass('ui-progressbar')) {\n",
       "            $myPB.progressbar('value', 312);\n",
       "        } else {\n",
       "            $myPB.progressbar({value: 0, max: 593});\n",
       "        }\n",
       "        "
      ],
      "text/plain": [
       "<IPython.core.display.Javascript at 0x112d89ad0>"
      ]
     },
     "metadata": {},
     "output_type": "display_data"
    },
    {
     "data": {
      "application/javascript": [
       "$('div#cd03291e-3af7-4959-b151-add232c9b082').text('ETA:  0:00:00');"
      ],
      "text/plain": [
       "<IPython.core.display.Javascript at 0x112d89c10>"
      ]
     },
     "metadata": {},
     "output_type": "display_data"
    },
    {
     "data": {
      "application/javascript": [
       "$('div#9d37b887-fb70-4dc8-8e5c-1e76ab18de6d').text('318/593');"
      ],
      "text/plain": [
       "<IPython.core.display.Javascript at 0x112d8e9d0>"
      ]
     },
     "metadata": {},
     "output_type": "display_data"
    },
    {
     "data": {
      "application/javascript": [
       "$('div#ab5e3c02-b905-475b-a430-31b97942181f').text(' 53%');"
      ],
      "text/plain": [
       "<IPython.core.display.Javascript at 0x112d8ea50>"
      ]
     },
     "metadata": {},
     "output_type": "display_data"
    },
    {
     "data": {
      "application/javascript": [
       "\n",
       "        var $myPB = $(\"div#603dd5d6-0527-48ce-991c-b87add1ee92f\")\n",
       "        if ($myPB.hasClass('ui-progressbar')) {\n",
       "            $myPB.progressbar('value', 318);\n",
       "        } else {\n",
       "            $myPB.progressbar({value: 0, max: 593});\n",
       "        }\n",
       "        "
      ],
      "text/plain": [
       "<IPython.core.display.Javascript at 0x112d8ea90>"
      ]
     },
     "metadata": {},
     "output_type": "display_data"
    },
    {
     "data": {
      "application/javascript": [
       "$('div#cd03291e-3af7-4959-b151-add232c9b082').text('ETA:  0:00:00');"
      ],
      "text/plain": [
       "<IPython.core.display.Javascript at 0x112d8ebd0>"
      ]
     },
     "metadata": {},
     "output_type": "display_data"
    },
    {
     "data": {
      "application/javascript": [
       "$('div#9d37b887-fb70-4dc8-8e5c-1e76ab18de6d').text('324/593');"
      ],
      "text/plain": [
       "<IPython.core.display.Javascript at 0x112d96810>"
      ]
     },
     "metadata": {},
     "output_type": "display_data"
    },
    {
     "data": {
      "application/javascript": [
       "$('div#ab5e3c02-b905-475b-a430-31b97942181f').text(' 54%');"
      ],
      "text/plain": [
       "<IPython.core.display.Javascript at 0x112d96890>"
      ]
     },
     "metadata": {},
     "output_type": "display_data"
    },
    {
     "data": {
      "application/javascript": [
       "\n",
       "        var $myPB = $(\"div#603dd5d6-0527-48ce-991c-b87add1ee92f\")\n",
       "        if ($myPB.hasClass('ui-progressbar')) {\n",
       "            $myPB.progressbar('value', 324);\n",
       "        } else {\n",
       "            $myPB.progressbar({value: 0, max: 593});\n",
       "        }\n",
       "        "
      ],
      "text/plain": [
       "<IPython.core.display.Javascript at 0x112d968d0>"
      ]
     },
     "metadata": {},
     "output_type": "display_data"
    },
    {
     "data": {
      "application/javascript": [
       "$('div#cd03291e-3af7-4959-b151-add232c9b082').text('ETA:  0:00:00');"
      ],
      "text/plain": [
       "<IPython.core.display.Javascript at 0x112d96a10>"
      ]
     },
     "metadata": {},
     "output_type": "display_data"
    },
    {
     "data": {
      "application/javascript": [
       "$('div#9d37b887-fb70-4dc8-8e5c-1e76ab18de6d').text('330/593');"
      ],
      "text/plain": [
       "<IPython.core.display.Javascript at 0x112da65d0>"
      ]
     },
     "metadata": {},
     "output_type": "display_data"
    },
    {
     "data": {
      "application/javascript": [
       "$('div#ab5e3c02-b905-475b-a430-31b97942181f').text(' 55%');"
      ],
      "text/plain": [
       "<IPython.core.display.Javascript at 0x112da6650>"
      ]
     },
     "metadata": {},
     "output_type": "display_data"
    },
    {
     "data": {
      "application/javascript": [
       "\n",
       "        var $myPB = $(\"div#603dd5d6-0527-48ce-991c-b87add1ee92f\")\n",
       "        if ($myPB.hasClass('ui-progressbar')) {\n",
       "            $myPB.progressbar('value', 330);\n",
       "        } else {\n",
       "            $myPB.progressbar({value: 0, max: 593});\n",
       "        }\n",
       "        "
      ],
      "text/plain": [
       "<IPython.core.display.Javascript at 0x112da6690>"
      ]
     },
     "metadata": {},
     "output_type": "display_data"
    },
    {
     "data": {
      "application/javascript": [
       "$('div#cd03291e-3af7-4959-b151-add232c9b082').text('ETA:  0:00:00');"
      ],
      "text/plain": [
       "<IPython.core.display.Javascript at 0x112da67d0>"
      ]
     },
     "metadata": {},
     "output_type": "display_data"
    },
    {
     "data": {
      "application/javascript": [
       "$('div#9d37b887-fb70-4dc8-8e5c-1e76ab18de6d').text('336/593');"
      ],
      "text/plain": [
       "<IPython.core.display.Javascript at 0x112daefd0>"
      ]
     },
     "metadata": {},
     "output_type": "display_data"
    },
    {
     "data": {
      "application/javascript": [
       "$('div#ab5e3c02-b905-475b-a430-31b97942181f').text(' 56%');"
      ],
      "text/plain": [
       "<IPython.core.display.Javascript at 0x112db0090>"
      ]
     },
     "metadata": {},
     "output_type": "display_data"
    },
    {
     "data": {
      "application/javascript": [
       "\n",
       "        var $myPB = $(\"div#603dd5d6-0527-48ce-991c-b87add1ee92f\")\n",
       "        if ($myPB.hasClass('ui-progressbar')) {\n",
       "            $myPB.progressbar('value', 336);\n",
       "        } else {\n",
       "            $myPB.progressbar({value: 0, max: 593});\n",
       "        }\n",
       "        "
      ],
      "text/plain": [
       "<IPython.core.display.Javascript at 0x112db00d0>"
      ]
     },
     "metadata": {},
     "output_type": "display_data"
    },
    {
     "data": {
      "application/javascript": [
       "$('div#cd03291e-3af7-4959-b151-add232c9b082').text('ETA:  0:00:00');"
      ],
      "text/plain": [
       "<IPython.core.display.Javascript at 0x112db0210>"
      ]
     },
     "metadata": {},
     "output_type": "display_data"
    },
    {
     "data": {
      "application/javascript": [
       "$('div#9d37b887-fb70-4dc8-8e5c-1e76ab18de6d').text('342/593');"
      ],
      "text/plain": [
       "<IPython.core.display.Javascript at 0x112db5a90>"
      ]
     },
     "metadata": {},
     "output_type": "display_data"
    },
    {
     "data": {
      "application/javascript": [
       "$('div#ab5e3c02-b905-475b-a430-31b97942181f').text(' 57%');"
      ],
      "text/plain": [
       "<IPython.core.display.Javascript at 0x112db5b10>"
      ]
     },
     "metadata": {},
     "output_type": "display_data"
    },
    {
     "data": {
      "application/javascript": [
       "\n",
       "        var $myPB = $(\"div#603dd5d6-0527-48ce-991c-b87add1ee92f\")\n",
       "        if ($myPB.hasClass('ui-progressbar')) {\n",
       "            $myPB.progressbar('value', 342);\n",
       "        } else {\n",
       "            $myPB.progressbar({value: 0, max: 593});\n",
       "        }\n",
       "        "
      ],
      "text/plain": [
       "<IPython.core.display.Javascript at 0x112db5b50>"
      ]
     },
     "metadata": {},
     "output_type": "display_data"
    },
    {
     "data": {
      "application/javascript": [
       "$('div#cd03291e-3af7-4959-b151-add232c9b082').text('ETA:  0:00:00');"
      ],
      "text/plain": [
       "<IPython.core.display.Javascript at 0x112db5c90>"
      ]
     },
     "metadata": {},
     "output_type": "display_data"
    },
    {
     "data": {
      "application/javascript": [
       "$('div#9d37b887-fb70-4dc8-8e5c-1e76ab18de6d').text('348/593');"
      ],
      "text/plain": [
       "<IPython.core.display.Javascript at 0x11333c690>"
      ]
     },
     "metadata": {},
     "output_type": "display_data"
    },
    {
     "data": {
      "application/javascript": [
       "$('div#ab5e3c02-b905-475b-a430-31b97942181f').text(' 58%');"
      ],
      "text/plain": [
       "<IPython.core.display.Javascript at 0x11333c710>"
      ]
     },
     "metadata": {},
     "output_type": "display_data"
    },
    {
     "data": {
      "application/javascript": [
       "\n",
       "        var $myPB = $(\"div#603dd5d6-0527-48ce-991c-b87add1ee92f\")\n",
       "        if ($myPB.hasClass('ui-progressbar')) {\n",
       "            $myPB.progressbar('value', 348);\n",
       "        } else {\n",
       "            $myPB.progressbar({value: 0, max: 593});\n",
       "        }\n",
       "        "
      ],
      "text/plain": [
       "<IPython.core.display.Javascript at 0x11333c750>"
      ]
     },
     "metadata": {},
     "output_type": "display_data"
    },
    {
     "data": {
      "application/javascript": [
       "$('div#cd03291e-3af7-4959-b151-add232c9b082').text('ETA:  0:00:00');"
      ],
      "text/plain": [
       "<IPython.core.display.Javascript at 0x11333c890>"
      ]
     },
     "metadata": {},
     "output_type": "display_data"
    },
    {
     "data": {
      "application/javascript": [
       "$('div#9d37b887-fb70-4dc8-8e5c-1e76ab18de6d').text('354/593');"
      ],
      "text/plain": [
       "<IPython.core.display.Javascript at 0x113347050>"
      ]
     },
     "metadata": {},
     "output_type": "display_data"
    },
    {
     "data": {
      "application/javascript": [
       "$('div#ab5e3c02-b905-475b-a430-31b97942181f').text(' 59%');"
      ],
      "text/plain": [
       "<IPython.core.display.Javascript at 0x1133470d0>"
      ]
     },
     "metadata": {},
     "output_type": "display_data"
    },
    {
     "data": {
      "application/javascript": [
       "\n",
       "        var $myPB = $(\"div#603dd5d6-0527-48ce-991c-b87add1ee92f\")\n",
       "        if ($myPB.hasClass('ui-progressbar')) {\n",
       "            $myPB.progressbar('value', 354);\n",
       "        } else {\n",
       "            $myPB.progressbar({value: 0, max: 593});\n",
       "        }\n",
       "        "
      ],
      "text/plain": [
       "<IPython.core.display.Javascript at 0x113347110>"
      ]
     },
     "metadata": {},
     "output_type": "display_data"
    },
    {
     "data": {
      "application/javascript": [
       "$('div#cd03291e-3af7-4959-b151-add232c9b082').text('ETA:  0:00:00');"
      ],
      "text/plain": [
       "<IPython.core.display.Javascript at 0x113347250>"
      ]
     },
     "metadata": {},
     "output_type": "display_data"
    },
    {
     "data": {
      "application/javascript": [
       "$('div#9d37b887-fb70-4dc8-8e5c-1e76ab18de6d').text('360/593');"
      ],
      "text/plain": [
       "<IPython.core.display.Javascript at 0x11334cc90>"
      ]
     },
     "metadata": {},
     "output_type": "display_data"
    },
    {
     "data": {
      "application/javascript": [
       "$('div#ab5e3c02-b905-475b-a430-31b97942181f').text(' 60%');"
      ],
      "text/plain": [
       "<IPython.core.display.Javascript at 0x11334cd10>"
      ]
     },
     "metadata": {},
     "output_type": "display_data"
    },
    {
     "data": {
      "application/javascript": [
       "\n",
       "        var $myPB = $(\"div#603dd5d6-0527-48ce-991c-b87add1ee92f\")\n",
       "        if ($myPB.hasClass('ui-progressbar')) {\n",
       "            $myPB.progressbar('value', 360);\n",
       "        } else {\n",
       "            $myPB.progressbar({value: 0, max: 593});\n",
       "        }\n",
       "        "
      ],
      "text/plain": [
       "<IPython.core.display.Javascript at 0x11334cd50>"
      ]
     },
     "metadata": {},
     "output_type": "display_data"
    },
    {
     "data": {
      "application/javascript": [
       "$('div#cd03291e-3af7-4959-b151-add232c9b082').text('ETA:  0:00:00');"
      ],
      "text/plain": [
       "<IPython.core.display.Javascript at 0x11334cd50>"
      ]
     },
     "metadata": {},
     "output_type": "display_data"
    },
    {
     "data": {
      "application/javascript": [
       "$('div#9d37b887-fb70-4dc8-8e5c-1e76ab18de6d').text('366/593');"
      ],
      "text/plain": [
       "<IPython.core.display.Javascript at 0x113353990>"
      ]
     },
     "metadata": {},
     "output_type": "display_data"
    },
    {
     "data": {
      "application/javascript": [
       "$('div#ab5e3c02-b905-475b-a430-31b97942181f').text(' 61%');"
      ],
      "text/plain": [
       "<IPython.core.display.Javascript at 0x113353a10>"
      ]
     },
     "metadata": {},
     "output_type": "display_data"
    },
    {
     "data": {
      "application/javascript": [
       "\n",
       "        var $myPB = $(\"div#603dd5d6-0527-48ce-991c-b87add1ee92f\")\n",
       "        if ($myPB.hasClass('ui-progressbar')) {\n",
       "            $myPB.progressbar('value', 366);\n",
       "        } else {\n",
       "            $myPB.progressbar({value: 0, max: 593});\n",
       "        }\n",
       "        "
      ],
      "text/plain": [
       "<IPython.core.display.Javascript at 0x113353a50>"
      ]
     },
     "metadata": {},
     "output_type": "display_data"
    },
    {
     "data": {
      "application/javascript": [
       "$('div#cd03291e-3af7-4959-b151-add232c9b082').text('ETA:  0:00:00');"
      ],
      "text/plain": [
       "<IPython.core.display.Javascript at 0x113353b90>"
      ]
     },
     "metadata": {},
     "output_type": "display_data"
    },
    {
     "data": {
      "application/javascript": [
       "$('div#9d37b887-fb70-4dc8-8e5c-1e76ab18de6d').text('372/593');"
      ],
      "text/plain": [
       "<IPython.core.display.Javascript at 0x11335b710>"
      ]
     },
     "metadata": {},
     "output_type": "display_data"
    },
    {
     "data": {
      "application/javascript": [
       "$('div#ab5e3c02-b905-475b-a430-31b97942181f').text(' 62%');"
      ],
      "text/plain": [
       "<IPython.core.display.Javascript at 0x11335b790>"
      ]
     },
     "metadata": {},
     "output_type": "display_data"
    },
    {
     "data": {
      "application/javascript": [
       "\n",
       "        var $myPB = $(\"div#603dd5d6-0527-48ce-991c-b87add1ee92f\")\n",
       "        if ($myPB.hasClass('ui-progressbar')) {\n",
       "            $myPB.progressbar('value', 372);\n",
       "        } else {\n",
       "            $myPB.progressbar({value: 0, max: 593});\n",
       "        }\n",
       "        "
      ],
      "text/plain": [
       "<IPython.core.display.Javascript at 0x11335b7d0>"
      ]
     },
     "metadata": {},
     "output_type": "display_data"
    },
    {
     "data": {
      "application/javascript": [
       "$('div#cd03291e-3af7-4959-b151-add232c9b082').text('ETA:  0:00:00');"
      ],
      "text/plain": [
       "<IPython.core.display.Javascript at 0x11335b910>"
      ]
     },
     "metadata": {},
     "output_type": "display_data"
    },
    {
     "data": {
      "application/javascript": [
       "$('div#9d37b887-fb70-4dc8-8e5c-1e76ab18de6d').text('378/593');"
      ],
      "text/plain": [
       "<IPython.core.display.Javascript at 0x1133625d0>"
      ]
     },
     "metadata": {},
     "output_type": "display_data"
    },
    {
     "data": {
      "application/javascript": [
       "$('div#ab5e3c02-b905-475b-a430-31b97942181f').text(' 63%');"
      ],
      "text/plain": [
       "<IPython.core.display.Javascript at 0x113362650>"
      ]
     },
     "metadata": {},
     "output_type": "display_data"
    },
    {
     "data": {
      "application/javascript": [
       "\n",
       "        var $myPB = $(\"div#603dd5d6-0527-48ce-991c-b87add1ee92f\")\n",
       "        if ($myPB.hasClass('ui-progressbar')) {\n",
       "            $myPB.progressbar('value', 378);\n",
       "        } else {\n",
       "            $myPB.progressbar({value: 0, max: 593});\n",
       "        }\n",
       "        "
      ],
      "text/plain": [
       "<IPython.core.display.Javascript at 0x113362690>"
      ]
     },
     "metadata": {},
     "output_type": "display_data"
    },
    {
     "data": {
      "application/javascript": [
       "$('div#cd03291e-3af7-4959-b151-add232c9b082').text('ETA:  0:00:00');"
      ],
      "text/plain": [
       "<IPython.core.display.Javascript at 0x1133627d0>"
      ]
     },
     "metadata": {},
     "output_type": "display_data"
    },
    {
     "data": {
      "application/javascript": [
       "$('div#9d37b887-fb70-4dc8-8e5c-1e76ab18de6d').text('384/593');"
      ],
      "text/plain": [
       "<IPython.core.display.Javascript at 0x11336d2d0>"
      ]
     },
     "metadata": {},
     "output_type": "display_data"
    },
    {
     "data": {
      "application/javascript": [
       "$('div#ab5e3c02-b905-475b-a430-31b97942181f').text(' 64%');"
      ],
      "text/plain": [
       "<IPython.core.display.Javascript at 0x11336d350>"
      ]
     },
     "metadata": {},
     "output_type": "display_data"
    },
    {
     "data": {
      "application/javascript": [
       "\n",
       "        var $myPB = $(\"div#603dd5d6-0527-48ce-991c-b87add1ee92f\")\n",
       "        if ($myPB.hasClass('ui-progressbar')) {\n",
       "            $myPB.progressbar('value', 384);\n",
       "        } else {\n",
       "            $myPB.progressbar({value: 0, max: 593});\n",
       "        }\n",
       "        "
      ],
      "text/plain": [
       "<IPython.core.display.Javascript at 0x11336d390>"
      ]
     },
     "metadata": {},
     "output_type": "display_data"
    },
    {
     "data": {
      "application/javascript": [
       "$('div#cd03291e-3af7-4959-b151-add232c9b082').text('ETA:  0:00:00');"
      ],
      "text/plain": [
       "<IPython.core.display.Javascript at 0x11336d4d0>"
      ]
     },
     "metadata": {},
     "output_type": "display_data"
    },
    {
     "data": {
      "application/javascript": [
       "$('div#9d37b887-fb70-4dc8-8e5c-1e76ab18de6d').text('390/593');"
      ],
      "text/plain": [
       "<IPython.core.display.Javascript at 0x113374310>"
      ]
     },
     "metadata": {},
     "output_type": "display_data"
    },
    {
     "data": {
      "application/javascript": [
       "$('div#ab5e3c02-b905-475b-a430-31b97942181f').text(' 65%');"
      ],
      "text/plain": [
       "<IPython.core.display.Javascript at 0x11336d350>"
      ]
     },
     "metadata": {},
     "output_type": "display_data"
    },
    {
     "data": {
      "application/javascript": [
       "\n",
       "        var $myPB = $(\"div#603dd5d6-0527-48ce-991c-b87add1ee92f\")\n",
       "        if ($myPB.hasClass('ui-progressbar')) {\n",
       "            $myPB.progressbar('value', 390);\n",
       "        } else {\n",
       "            $myPB.progressbar({value: 0, max: 593});\n",
       "        }\n",
       "        "
      ],
      "text/plain": [
       "<IPython.core.display.Javascript at 0x11336d2d0>"
      ]
     },
     "metadata": {},
     "output_type": "display_data"
    },
    {
     "data": {
      "application/javascript": [
       "$('div#cd03291e-3af7-4959-b151-add232c9b082').text('ETA:  0:00:00');"
      ],
      "text/plain": [
       "<IPython.core.display.Javascript at 0x113374390>"
      ]
     },
     "metadata": {},
     "output_type": "display_data"
    },
    {
     "data": {
      "application/javascript": [
       "$('div#9d37b887-fb70-4dc8-8e5c-1e76ab18de6d').text('396/593');"
      ],
      "text/plain": [
       "<IPython.core.display.Javascript at 0x11477b250>"
      ]
     },
     "metadata": {},
     "output_type": "display_data"
    },
    {
     "data": {
      "application/javascript": [
       "$('div#ab5e3c02-b905-475b-a430-31b97942181f').text(' 66%');"
      ],
      "text/plain": [
       "<IPython.core.display.Javascript at 0x11477b2d0>"
      ]
     },
     "metadata": {},
     "output_type": "display_data"
    },
    {
     "data": {
      "application/javascript": [
       "\n",
       "        var $myPB = $(\"div#603dd5d6-0527-48ce-991c-b87add1ee92f\")\n",
       "        if ($myPB.hasClass('ui-progressbar')) {\n",
       "            $myPB.progressbar('value', 396);\n",
       "        } else {\n",
       "            $myPB.progressbar({value: 0, max: 593});\n",
       "        }\n",
       "        "
      ],
      "text/plain": [
       "<IPython.core.display.Javascript at 0x11477b310>"
      ]
     },
     "metadata": {},
     "output_type": "display_data"
    },
    {
     "data": {
      "application/javascript": [
       "$('div#cd03291e-3af7-4959-b151-add232c9b082').text('ETA:  0:00:00');"
      ],
      "text/plain": [
       "<IPython.core.display.Javascript at 0x11477b450>"
      ]
     },
     "metadata": {},
     "output_type": "display_data"
    },
    {
     "data": {
      "application/javascript": [
       "$('div#9d37b887-fb70-4dc8-8e5c-1e76ab18de6d').text('402/593');"
      ],
      "text/plain": [
       "<IPython.core.display.Javascript at 0x114780090>"
      ]
     },
     "metadata": {},
     "output_type": "display_data"
    },
    {
     "data": {
      "application/javascript": [
       "$('div#ab5e3c02-b905-475b-a430-31b97942181f').text(' 67%');"
      ],
      "text/plain": [
       "<IPython.core.display.Javascript at 0x114780110>"
      ]
     },
     "metadata": {},
     "output_type": "display_data"
    },
    {
     "data": {
      "application/javascript": [
       "\n",
       "        var $myPB = $(\"div#603dd5d6-0527-48ce-991c-b87add1ee92f\")\n",
       "        if ($myPB.hasClass('ui-progressbar')) {\n",
       "            $myPB.progressbar('value', 402);\n",
       "        } else {\n",
       "            $myPB.progressbar({value: 0, max: 593});\n",
       "        }\n",
       "        "
      ],
      "text/plain": [
       "<IPython.core.display.Javascript at 0x114780150>"
      ]
     },
     "metadata": {},
     "output_type": "display_data"
    },
    {
     "data": {
      "application/javascript": [
       "$('div#cd03291e-3af7-4959-b151-add232c9b082').text('ETA:  0:00:00');"
      ],
      "text/plain": [
       "<IPython.core.display.Javascript at 0x114780290>"
      ]
     },
     "metadata": {},
     "output_type": "display_data"
    },
    {
     "data": {
      "application/javascript": [
       "$('div#9d37b887-fb70-4dc8-8e5c-1e76ab18de6d').text('408/593');"
      ],
      "text/plain": [
       "<IPython.core.display.Javascript at 0x114785e90>"
      ]
     },
     "metadata": {},
     "output_type": "display_data"
    },
    {
     "data": {
      "application/javascript": [
       "$('div#ab5e3c02-b905-475b-a430-31b97942181f').text(' 68%');"
      ],
      "text/plain": [
       "<IPython.core.display.Javascript at 0x114785f10>"
      ]
     },
     "metadata": {},
     "output_type": "display_data"
    },
    {
     "data": {
      "application/javascript": [
       "\n",
       "        var $myPB = $(\"div#603dd5d6-0527-48ce-991c-b87add1ee92f\")\n",
       "        if ($myPB.hasClass('ui-progressbar')) {\n",
       "            $myPB.progressbar('value', 408);\n",
       "        } else {\n",
       "            $myPB.progressbar({value: 0, max: 593});\n",
       "        }\n",
       "        "
      ],
      "text/plain": [
       "<IPython.core.display.Javascript at 0x114785f50>"
      ]
     },
     "metadata": {},
     "output_type": "display_data"
    },
    {
     "data": {
      "application/javascript": [
       "$('div#cd03291e-3af7-4959-b151-add232c9b082').text('ETA:  0:00:00');"
      ],
      "text/plain": [
       "<IPython.core.display.Javascript at 0x11478b0d0>"
      ]
     },
     "metadata": {},
     "output_type": "display_data"
    },
    {
     "data": {
      "application/javascript": [
       "$('div#9d37b887-fb70-4dc8-8e5c-1e76ab18de6d').text('414/593');"
      ],
      "text/plain": [
       "<IPython.core.display.Javascript at 0x11478f9d0>"
      ]
     },
     "metadata": {},
     "output_type": "display_data"
    },
    {
     "data": {
      "application/javascript": [
       "$('div#ab5e3c02-b905-475b-a430-31b97942181f').text(' 69%');"
      ],
      "text/plain": [
       "<IPython.core.display.Javascript at 0x11478fa50>"
      ]
     },
     "metadata": {},
     "output_type": "display_data"
    },
    {
     "data": {
      "application/javascript": [
       "\n",
       "        var $myPB = $(\"div#603dd5d6-0527-48ce-991c-b87add1ee92f\")\n",
       "        if ($myPB.hasClass('ui-progressbar')) {\n",
       "            $myPB.progressbar('value', 414);\n",
       "        } else {\n",
       "            $myPB.progressbar({value: 0, max: 593});\n",
       "        }\n",
       "        "
      ],
      "text/plain": [
       "<IPython.core.display.Javascript at 0x11478fa90>"
      ]
     },
     "metadata": {},
     "output_type": "display_data"
    },
    {
     "data": {
      "application/javascript": [
       "$('div#cd03291e-3af7-4959-b151-add232c9b082').text('ETA:  0:00:00');"
      ],
      "text/plain": [
       "<IPython.core.display.Javascript at 0x11478fbd0>"
      ]
     },
     "metadata": {},
     "output_type": "display_data"
    },
    {
     "data": {
      "application/javascript": [
       "$('div#9d37b887-fb70-4dc8-8e5c-1e76ab18de6d').text('420/593');"
      ],
      "text/plain": [
       "<IPython.core.display.Javascript at 0x114797610>"
      ]
     },
     "metadata": {},
     "output_type": "display_data"
    },
    {
     "data": {
      "application/javascript": [
       "$('div#ab5e3c02-b905-475b-a430-31b97942181f').text(' 70%');"
      ],
      "text/plain": [
       "<IPython.core.display.Javascript at 0x114797690>"
      ]
     },
     "metadata": {},
     "output_type": "display_data"
    },
    {
     "data": {
      "application/javascript": [
       "\n",
       "        var $myPB = $(\"div#603dd5d6-0527-48ce-991c-b87add1ee92f\")\n",
       "        if ($myPB.hasClass('ui-progressbar')) {\n",
       "            $myPB.progressbar('value', 420);\n",
       "        } else {\n",
       "            $myPB.progressbar({value: 0, max: 593});\n",
       "        }\n",
       "        "
      ],
      "text/plain": [
       "<IPython.core.display.Javascript at 0x1147976d0>"
      ]
     },
     "metadata": {},
     "output_type": "display_data"
    },
    {
     "data": {
      "application/javascript": [
       "$('div#cd03291e-3af7-4959-b151-add232c9b082').text('ETA:  0:00:00');"
      ],
      "text/plain": [
       "<IPython.core.display.Javascript at 0x114797810>"
      ]
     },
     "metadata": {},
     "output_type": "display_data"
    },
    {
     "data": {
      "application/javascript": [
       "$('div#9d37b887-fb70-4dc8-8e5c-1e76ab18de6d').text('426/593');"
      ],
      "text/plain": [
       "<IPython.core.display.Javascript at 0x114799790>"
      ]
     },
     "metadata": {},
     "output_type": "display_data"
    },
    {
     "data": {
      "application/javascript": [
       "$('div#ab5e3c02-b905-475b-a430-31b97942181f').text(' 71%');"
      ],
      "text/plain": [
       "<IPython.core.display.Javascript at 0x1147997d0>"
      ]
     },
     "metadata": {},
     "output_type": "display_data"
    },
    {
     "data": {
      "application/javascript": [
       "\n",
       "        var $myPB = $(\"div#603dd5d6-0527-48ce-991c-b87add1ee92f\")\n",
       "        if ($myPB.hasClass('ui-progressbar')) {\n",
       "            $myPB.progressbar('value', 426);\n",
       "        } else {\n",
       "            $myPB.progressbar({value: 0, max: 593});\n",
       "        }\n",
       "        "
      ],
      "text/plain": [
       "<IPython.core.display.Javascript at 0x114799810>"
      ]
     },
     "metadata": {},
     "output_type": "display_data"
    },
    {
     "data": {
      "application/javascript": [
       "$('div#cd03291e-3af7-4959-b151-add232c9b082').text('ETA:  0:00:00');"
      ],
      "text/plain": [
       "<IPython.core.display.Javascript at 0x114799910>"
      ]
     },
     "metadata": {},
     "output_type": "display_data"
    },
    {
     "data": {
      "application/javascript": [
       "$('div#9d37b887-fb70-4dc8-8e5c-1e76ab18de6d').text('432/593');"
      ],
      "text/plain": [
       "<IPython.core.display.Javascript at 0x1147a5710>"
      ]
     },
     "metadata": {},
     "output_type": "display_data"
    },
    {
     "data": {
      "application/javascript": [
       "$('div#ab5e3c02-b905-475b-a430-31b97942181f').text(' 72%');"
      ],
      "text/plain": [
       "<IPython.core.display.Javascript at 0x1147a5790>"
      ]
     },
     "metadata": {},
     "output_type": "display_data"
    },
    {
     "data": {
      "application/javascript": [
       "\n",
       "        var $myPB = $(\"div#603dd5d6-0527-48ce-991c-b87add1ee92f\")\n",
       "        if ($myPB.hasClass('ui-progressbar')) {\n",
       "            $myPB.progressbar('value', 432);\n",
       "        } else {\n",
       "            $myPB.progressbar({value: 0, max: 593});\n",
       "        }\n",
       "        "
      ],
      "text/plain": [
       "<IPython.core.display.Javascript at 0x1147a57d0>"
      ]
     },
     "metadata": {},
     "output_type": "display_data"
    },
    {
     "data": {
      "application/javascript": [
       "$('div#cd03291e-3af7-4959-b151-add232c9b082').text('ETA:  0:00:00');"
      ],
      "text/plain": [
       "<IPython.core.display.Javascript at 0x1147a5910>"
      ]
     },
     "metadata": {},
     "output_type": "display_data"
    },
    {
     "data": {
      "application/javascript": [
       "$('div#9d37b887-fb70-4dc8-8e5c-1e76ab18de6d').text('438/593');"
      ],
      "text/plain": [
       "<IPython.core.display.Javascript at 0x1147ace90>"
      ]
     },
     "metadata": {},
     "output_type": "display_data"
    },
    {
     "data": {
      "application/javascript": [
       "$('div#ab5e3c02-b905-475b-a430-31b97942181f').text(' 73%');"
      ],
      "text/plain": [
       "<IPython.core.display.Javascript at 0x1147acf10>"
      ]
     },
     "metadata": {},
     "output_type": "display_data"
    },
    {
     "data": {
      "application/javascript": [
       "\n",
       "        var $myPB = $(\"div#603dd5d6-0527-48ce-991c-b87add1ee92f\")\n",
       "        if ($myPB.hasClass('ui-progressbar')) {\n",
       "            $myPB.progressbar('value', 438);\n",
       "        } else {\n",
       "            $myPB.progressbar({value: 0, max: 593});\n",
       "        }\n",
       "        "
      ],
      "text/plain": [
       "<IPython.core.display.Javascript at 0x1147acf50>"
      ]
     },
     "metadata": {},
     "output_type": "display_data"
    },
    {
     "data": {
      "application/javascript": [
       "$('div#cd03291e-3af7-4959-b151-add232c9b082').text('ETA:  0:00:00');"
      ],
      "text/plain": [
       "<IPython.core.display.Javascript at 0x1147b10d0>"
      ]
     },
     "metadata": {},
     "output_type": "display_data"
    },
    {
     "data": {
      "application/javascript": [
       "$('div#9d37b887-fb70-4dc8-8e5c-1e76ab18de6d').text('444/593');"
      ],
      "text/plain": [
       "<IPython.core.display.Javascript at 0x1147b2910>"
      ]
     },
     "metadata": {},
     "output_type": "display_data"
    },
    {
     "data": {
      "application/javascript": [
       "$('div#ab5e3c02-b905-475b-a430-31b97942181f').text(' 74%');"
      ],
      "text/plain": [
       "<IPython.core.display.Javascript at 0x1147b2950>"
      ]
     },
     "metadata": {},
     "output_type": "display_data"
    },
    {
     "data": {
      "application/javascript": [
       "\n",
       "        var $myPB = $(\"div#603dd5d6-0527-48ce-991c-b87add1ee92f\")\n",
       "        if ($myPB.hasClass('ui-progressbar')) {\n",
       "            $myPB.progressbar('value', 444);\n",
       "        } else {\n",
       "            $myPB.progressbar({value: 0, max: 593});\n",
       "        }\n",
       "        "
      ],
      "text/plain": [
       "<IPython.core.display.Javascript at 0x1147b2990>"
      ]
     },
     "metadata": {},
     "output_type": "display_data"
    },
    {
     "data": {
      "application/javascript": [
       "$('div#cd03291e-3af7-4959-b151-add232c9b082').text('ETA:  0:00:00');"
      ],
      "text/plain": [
       "<IPython.core.display.Javascript at 0x1147b2a90>"
      ]
     },
     "metadata": {},
     "output_type": "display_data"
    },
    {
     "data": {
      "application/javascript": [
       "$('div#9d37b887-fb70-4dc8-8e5c-1e76ab18de6d').text('450/593');"
      ],
      "text/plain": [
       "<IPython.core.display.Javascript at 0x115cc3d90>"
      ]
     },
     "metadata": {},
     "output_type": "display_data"
    },
    {
     "data": {
      "application/javascript": [
       "$('div#ab5e3c02-b905-475b-a430-31b97942181f').text(' 75%');"
      ],
      "text/plain": [
       "<IPython.core.display.Javascript at 0x115cc3e10>"
      ]
     },
     "metadata": {},
     "output_type": "display_data"
    },
    {
     "data": {
      "application/javascript": [
       "\n",
       "        var $myPB = $(\"div#603dd5d6-0527-48ce-991c-b87add1ee92f\")\n",
       "        if ($myPB.hasClass('ui-progressbar')) {\n",
       "            $myPB.progressbar('value', 450);\n",
       "        } else {\n",
       "            $myPB.progressbar({value: 0, max: 593});\n",
       "        }\n",
       "        "
      ],
      "text/plain": [
       "<IPython.core.display.Javascript at 0x115cc3e50>"
      ]
     },
     "metadata": {},
     "output_type": "display_data"
    },
    {
     "data": {
      "application/javascript": [
       "$('div#cd03291e-3af7-4959-b151-add232c9b082').text('ETA:  0:00:00');"
      ],
      "text/plain": [
       "<IPython.core.display.Javascript at 0x115cc3f90>"
      ]
     },
     "metadata": {},
     "output_type": "display_data"
    },
    {
     "data": {
      "application/javascript": [
       "$('div#9d37b887-fb70-4dc8-8e5c-1e76ab18de6d').text('456/593');"
      ],
      "text/plain": [
       "<IPython.core.display.Javascript at 0x115cd20d0>"
      ]
     },
     "metadata": {},
     "output_type": "display_data"
    },
    {
     "data": {
      "application/javascript": [
       "$('div#ab5e3c02-b905-475b-a430-31b97942181f').text(' 76%');"
      ],
      "text/plain": [
       "<IPython.core.display.Javascript at 0x115cd2150>"
      ]
     },
     "metadata": {},
     "output_type": "display_data"
    },
    {
     "data": {
      "application/javascript": [
       "\n",
       "        var $myPB = $(\"div#603dd5d6-0527-48ce-991c-b87add1ee92f\")\n",
       "        if ($myPB.hasClass('ui-progressbar')) {\n",
       "            $myPB.progressbar('value', 456);\n",
       "        } else {\n",
       "            $myPB.progressbar({value: 0, max: 593});\n",
       "        }\n",
       "        "
      ],
      "text/plain": [
       "<IPython.core.display.Javascript at 0x115cd2190>"
      ]
     },
     "metadata": {},
     "output_type": "display_data"
    },
    {
     "data": {
      "application/javascript": [
       "$('div#cd03291e-3af7-4959-b151-add232c9b082').text('ETA:  0:00:00');"
      ],
      "text/plain": [
       "<IPython.core.display.Javascript at 0x115cd22d0>"
      ]
     },
     "metadata": {},
     "output_type": "display_data"
    },
    {
     "data": {
      "application/javascript": [
       "$('div#9d37b887-fb70-4dc8-8e5c-1e76ab18de6d').text('462/593');"
      ],
      "text/plain": [
       "<IPython.core.display.Javascript at 0x115cd70d0>"
      ]
     },
     "metadata": {},
     "output_type": "display_data"
    },
    {
     "data": {
      "application/javascript": [
       "$('div#ab5e3c02-b905-475b-a430-31b97942181f').text(' 77%');"
      ],
      "text/plain": [
       "<IPython.core.display.Javascript at 0x115cd7150>"
      ]
     },
     "metadata": {},
     "output_type": "display_data"
    },
    {
     "data": {
      "application/javascript": [
       "\n",
       "        var $myPB = $(\"div#603dd5d6-0527-48ce-991c-b87add1ee92f\")\n",
       "        if ($myPB.hasClass('ui-progressbar')) {\n",
       "            $myPB.progressbar('value', 462);\n",
       "        } else {\n",
       "            $myPB.progressbar({value: 0, max: 593});\n",
       "        }\n",
       "        "
      ],
      "text/plain": [
       "<IPython.core.display.Javascript at 0x115cd7190>"
      ]
     },
     "metadata": {},
     "output_type": "display_data"
    },
    {
     "data": {
      "application/javascript": [
       "$('div#cd03291e-3af7-4959-b151-add232c9b082').text('ETA:  0:00:00');"
      ],
      "text/plain": [
       "<IPython.core.display.Javascript at 0x115cd72d0>"
      ]
     },
     "metadata": {},
     "output_type": "display_data"
    },
    {
     "data": {
      "application/javascript": [
       "$('div#9d37b887-fb70-4dc8-8e5c-1e76ab18de6d').text('468/593');"
      ],
      "text/plain": [
       "<IPython.core.display.Javascript at 0x115cd7510>"
      ]
     },
     "metadata": {},
     "output_type": "display_data"
    },
    {
     "data": {
      "application/javascript": [
       "$('div#ab5e3c02-b905-475b-a430-31b97942181f').text(' 78%');"
      ],
      "text/plain": [
       "<IPython.core.display.Javascript at 0x115cd7550>"
      ]
     },
     "metadata": {},
     "output_type": "display_data"
    },
    {
     "data": {
      "application/javascript": [
       "\n",
       "        var $myPB = $(\"div#603dd5d6-0527-48ce-991c-b87add1ee92f\")\n",
       "        if ($myPB.hasClass('ui-progressbar')) {\n",
       "            $myPB.progressbar('value', 468);\n",
       "        } else {\n",
       "            $myPB.progressbar({value: 0, max: 593});\n",
       "        }\n",
       "        "
      ],
      "text/plain": [
       "<IPython.core.display.Javascript at 0x115cd7590>"
      ]
     },
     "metadata": {},
     "output_type": "display_data"
    },
    {
     "data": {
      "application/javascript": [
       "$('div#cd03291e-3af7-4959-b151-add232c9b082').text('ETA:  0:00:00');"
      ],
      "text/plain": [
       "<IPython.core.display.Javascript at 0x115cd75d0>"
      ]
     },
     "metadata": {},
     "output_type": "display_data"
    },
    {
     "data": {
      "application/javascript": [
       "$('div#9d37b887-fb70-4dc8-8e5c-1e76ab18de6d').text('474/593');"
      ],
      "text/plain": [
       "<IPython.core.display.Javascript at 0x115cdaf90>"
      ]
     },
     "metadata": {},
     "output_type": "display_data"
    },
    {
     "data": {
      "application/javascript": [
       "$('div#ab5e3c02-b905-475b-a430-31b97942181f').text(' 79%');"
      ],
      "text/plain": [
       "<IPython.core.display.Javascript at 0x115cdafd0>"
      ]
     },
     "metadata": {},
     "output_type": "display_data"
    },
    {
     "data": {
      "application/javascript": [
       "\n",
       "        var $myPB = $(\"div#603dd5d6-0527-48ce-991c-b87add1ee92f\")\n",
       "        if ($myPB.hasClass('ui-progressbar')) {\n",
       "            $myPB.progressbar('value', 474);\n",
       "        } else {\n",
       "            $myPB.progressbar({value: 0, max: 593});\n",
       "        }\n",
       "        "
      ],
      "text/plain": [
       "<IPython.core.display.Javascript at 0x115cdc050>"
      ]
     },
     "metadata": {},
     "output_type": "display_data"
    },
    {
     "data": {
      "application/javascript": [
       "$('div#cd03291e-3af7-4959-b151-add232c9b082').text('ETA:  0:00:00');"
      ],
      "text/plain": [
       "<IPython.core.display.Javascript at 0x115cdc150>"
      ]
     },
     "metadata": {},
     "output_type": "display_data"
    },
    {
     "data": {
      "application/javascript": [
       "$('div#9d37b887-fb70-4dc8-8e5c-1e76ab18de6d').text('480/593');"
      ],
      "text/plain": [
       "<IPython.core.display.Javascript at 0x115ce6050>"
      ]
     },
     "metadata": {},
     "output_type": "display_data"
    },
    {
     "data": {
      "application/javascript": [
       "$('div#ab5e3c02-b905-475b-a430-31b97942181f').text(' 80%');"
      ],
      "text/plain": [
       "<IPython.core.display.Javascript at 0x115ce60d0>"
      ]
     },
     "metadata": {},
     "output_type": "display_data"
    },
    {
     "data": {
      "application/javascript": [
       "\n",
       "        var $myPB = $(\"div#603dd5d6-0527-48ce-991c-b87add1ee92f\")\n",
       "        if ($myPB.hasClass('ui-progressbar')) {\n",
       "            $myPB.progressbar('value', 480);\n",
       "        } else {\n",
       "            $myPB.progressbar({value: 0, max: 593});\n",
       "        }\n",
       "        "
      ],
      "text/plain": [
       "<IPython.core.display.Javascript at 0x115ce6110>"
      ]
     },
     "metadata": {},
     "output_type": "display_data"
    },
    {
     "data": {
      "application/javascript": [
       "$('div#cd03291e-3af7-4959-b151-add232c9b082').text('ETA:  0:00:00');"
      ],
      "text/plain": [
       "<IPython.core.display.Javascript at 0x115ce6250>"
      ]
     },
     "metadata": {},
     "output_type": "display_data"
    },
    {
     "data": {
      "application/javascript": [
       "$('div#9d37b887-fb70-4dc8-8e5c-1e76ab18de6d').text('486/593');"
      ],
      "text/plain": [
       "<IPython.core.display.Javascript at 0x115cee3d0>"
      ]
     },
     "metadata": {},
     "output_type": "display_data"
    },
    {
     "data": {
      "application/javascript": [
       "$('div#ab5e3c02-b905-475b-a430-31b97942181f').text(' 81%');"
      ],
      "text/plain": [
       "<IPython.core.display.Javascript at 0x115cee450>"
      ]
     },
     "metadata": {},
     "output_type": "display_data"
    },
    {
     "data": {
      "application/javascript": [
       "\n",
       "        var $myPB = $(\"div#603dd5d6-0527-48ce-991c-b87add1ee92f\")\n",
       "        if ($myPB.hasClass('ui-progressbar')) {\n",
       "            $myPB.progressbar('value', 486);\n",
       "        } else {\n",
       "            $myPB.progressbar({value: 0, max: 593});\n",
       "        }\n",
       "        "
      ],
      "text/plain": [
       "<IPython.core.display.Javascript at 0x115cee490>"
      ]
     },
     "metadata": {},
     "output_type": "display_data"
    },
    {
     "data": {
      "application/javascript": [
       "$('div#cd03291e-3af7-4959-b151-add232c9b082').text('ETA:  0:00:00');"
      ],
      "text/plain": [
       "<IPython.core.display.Javascript at 0x115cee5d0>"
      ]
     },
     "metadata": {},
     "output_type": "display_data"
    },
    {
     "data": {
      "application/javascript": [
       "$('div#9d37b887-fb70-4dc8-8e5c-1e76ab18de6d').text('492/593');"
      ],
      "text/plain": [
       "<IPython.core.display.Javascript at 0x115cef310>"
      ]
     },
     "metadata": {},
     "output_type": "display_data"
    },
    {
     "data": {
      "application/javascript": [
       "$('div#ab5e3c02-b905-475b-a430-31b97942181f').text(' 82%');"
      ],
      "text/plain": [
       "<IPython.core.display.Javascript at 0x115cef390>"
      ]
     },
     "metadata": {},
     "output_type": "display_data"
    },
    {
     "data": {
      "application/javascript": [
       "\n",
       "        var $myPB = $(\"div#603dd5d6-0527-48ce-991c-b87add1ee92f\")\n",
       "        if ($myPB.hasClass('ui-progressbar')) {\n",
       "            $myPB.progressbar('value', 492);\n",
       "        } else {\n",
       "            $myPB.progressbar({value: 0, max: 593});\n",
       "        }\n",
       "        "
      ],
      "text/plain": [
       "<IPython.core.display.Javascript at 0x115cef3d0>"
      ]
     },
     "metadata": {},
     "output_type": "display_data"
    },
    {
     "data": {
      "application/javascript": [
       "$('div#cd03291e-3af7-4959-b151-add232c9b082').text('ETA:  0:00:00');"
      ],
      "text/plain": [
       "<IPython.core.display.Javascript at 0x115cef510>"
      ]
     },
     "metadata": {},
     "output_type": "display_data"
    },
    {
     "data": {
      "application/javascript": [
       "$('div#9d37b887-fb70-4dc8-8e5c-1e76ab18de6d').text('498/593');"
      ],
      "text/plain": [
       "<IPython.core.display.Javascript at 0x115cf5a10>"
      ]
     },
     "metadata": {},
     "output_type": "display_data"
    },
    {
     "data": {
      "application/javascript": [
       "$('div#ab5e3c02-b905-475b-a430-31b97942181f').text(' 83%');"
      ],
      "text/plain": [
       "<IPython.core.display.Javascript at 0x115cf5a50>"
      ]
     },
     "metadata": {},
     "output_type": "display_data"
    },
    {
     "data": {
      "application/javascript": [
       "\n",
       "        var $myPB = $(\"div#603dd5d6-0527-48ce-991c-b87add1ee92f\")\n",
       "        if ($myPB.hasClass('ui-progressbar')) {\n",
       "            $myPB.progressbar('value', 498);\n",
       "        } else {\n",
       "            $myPB.progressbar({value: 0, max: 593});\n",
       "        }\n",
       "        "
      ],
      "text/plain": [
       "<IPython.core.display.Javascript at 0x115cf5a90>"
      ]
     },
     "metadata": {},
     "output_type": "display_data"
    },
    {
     "data": {
      "application/javascript": [
       "$('div#cd03291e-3af7-4959-b151-add232c9b082').text('ETA:  0:00:00');"
      ],
      "text/plain": [
       "<IPython.core.display.Javascript at 0x115cf5b90>"
      ]
     },
     "metadata": {},
     "output_type": "display_data"
    },
    {
     "data": {
      "application/javascript": [
       "$('div#9d37b887-fb70-4dc8-8e5c-1e76ab18de6d').text('504/593');"
      ],
      "text/plain": [
       "<IPython.core.display.Javascript at 0x11153c290>"
      ]
     },
     "metadata": {},
     "output_type": "display_data"
    },
    {
     "data": {
      "application/javascript": [
       "$('div#ab5e3c02-b905-475b-a430-31b97942181f').text(' 84%');"
      ],
      "text/plain": [
       "<IPython.core.display.Javascript at 0x11153c2d0>"
      ]
     },
     "metadata": {},
     "output_type": "display_data"
    },
    {
     "data": {
      "application/javascript": [
       "\n",
       "        var $myPB = $(\"div#603dd5d6-0527-48ce-991c-b87add1ee92f\")\n",
       "        if ($myPB.hasClass('ui-progressbar')) {\n",
       "            $myPB.progressbar('value', 504);\n",
       "        } else {\n",
       "            $myPB.progressbar({value: 0, max: 593});\n",
       "        }\n",
       "        "
      ],
      "text/plain": [
       "<IPython.core.display.Javascript at 0x11153c310>"
      ]
     },
     "metadata": {},
     "output_type": "display_data"
    },
    {
     "data": {
      "application/javascript": [
       "$('div#cd03291e-3af7-4959-b151-add232c9b082').text('ETA:  0:00:00');"
      ],
      "text/plain": [
       "<IPython.core.display.Javascript at 0x11153c410>"
      ]
     },
     "metadata": {},
     "output_type": "display_data"
    },
    {
     "data": {
      "application/javascript": [
       "$('div#9d37b887-fb70-4dc8-8e5c-1e76ab18de6d').text('510/593');"
      ],
      "text/plain": [
       "<IPython.core.display.Javascript at 0x11153c6d0>"
      ]
     },
     "metadata": {},
     "output_type": "display_data"
    },
    {
     "data": {
      "application/javascript": [
       "$('div#ab5e3c02-b905-475b-a430-31b97942181f').text(' 86%');"
      ],
      "text/plain": [
       "<IPython.core.display.Javascript at 0x11153c710>"
      ]
     },
     "metadata": {},
     "output_type": "display_data"
    },
    {
     "data": {
      "application/javascript": [
       "\n",
       "        var $myPB = $(\"div#603dd5d6-0527-48ce-991c-b87add1ee92f\")\n",
       "        if ($myPB.hasClass('ui-progressbar')) {\n",
       "            $myPB.progressbar('value', 510);\n",
       "        } else {\n",
       "            $myPB.progressbar({value: 0, max: 593});\n",
       "        }\n",
       "        "
      ],
      "text/plain": [
       "<IPython.core.display.Javascript at 0x11153c750>"
      ]
     },
     "metadata": {},
     "output_type": "display_data"
    },
    {
     "data": {
      "application/javascript": [
       "$('div#cd03291e-3af7-4959-b151-add232c9b082').text('ETA:  0:00:00');"
      ],
      "text/plain": [
       "<IPython.core.display.Javascript at 0x11153c790>"
      ]
     },
     "metadata": {},
     "output_type": "display_data"
    },
    {
     "data": {
      "application/javascript": [
       "$('div#9d37b887-fb70-4dc8-8e5c-1e76ab18de6d').text('516/593');"
      ],
      "text/plain": [
       "<IPython.core.display.Javascript at 0x1115425d0>"
      ]
     },
     "metadata": {},
     "output_type": "display_data"
    },
    {
     "data": {
      "application/javascript": [
       "$('div#ab5e3c02-b905-475b-a430-31b97942181f').text(' 87%');"
      ],
      "text/plain": [
       "<IPython.core.display.Javascript at 0x111542610>"
      ]
     },
     "metadata": {},
     "output_type": "display_data"
    },
    {
     "data": {
      "application/javascript": [
       "\n",
       "        var $myPB = $(\"div#603dd5d6-0527-48ce-991c-b87add1ee92f\")\n",
       "        if ($myPB.hasClass('ui-progressbar')) {\n",
       "            $myPB.progressbar('value', 516);\n",
       "        } else {\n",
       "            $myPB.progressbar({value: 0, max: 593});\n",
       "        }\n",
       "        "
      ],
      "text/plain": [
       "<IPython.core.display.Javascript at 0x111542650>"
      ]
     },
     "metadata": {},
     "output_type": "display_data"
    },
    {
     "data": {
      "application/javascript": [
       "$('div#cd03291e-3af7-4959-b151-add232c9b082').text('ETA:  0:00:00');"
      ],
      "text/plain": [
       "<IPython.core.display.Javascript at 0x111542750>"
      ]
     },
     "metadata": {},
     "output_type": "display_data"
    },
    {
     "data": {
      "application/javascript": [
       "$('div#9d37b887-fb70-4dc8-8e5c-1e76ab18de6d').text('522/593');"
      ],
      "text/plain": [
       "<IPython.core.display.Javascript at 0x111542cd0>"
      ]
     },
     "metadata": {},
     "output_type": "display_data"
    },
    {
     "data": {
      "application/javascript": [
       "$('div#ab5e3c02-b905-475b-a430-31b97942181f').text(' 88%');"
      ],
      "text/plain": [
       "<IPython.core.display.Javascript at 0x111542d10>"
      ]
     },
     "metadata": {},
     "output_type": "display_data"
    },
    {
     "data": {
      "application/javascript": [
       "\n",
       "        var $myPB = $(\"div#603dd5d6-0527-48ce-991c-b87add1ee92f\")\n",
       "        if ($myPB.hasClass('ui-progressbar')) {\n",
       "            $myPB.progressbar('value', 522);\n",
       "        } else {\n",
       "            $myPB.progressbar({value: 0, max: 593});\n",
       "        }\n",
       "        "
      ],
      "text/plain": [
       "<IPython.core.display.Javascript at 0x111542d50>"
      ]
     },
     "metadata": {},
     "output_type": "display_data"
    },
    {
     "data": {
      "application/javascript": [
       "$('div#cd03291e-3af7-4959-b151-add232c9b082').text('ETA:  0:00:00');"
      ],
      "text/plain": [
       "<IPython.core.display.Javascript at 0x111542d90>"
      ]
     },
     "metadata": {},
     "output_type": "display_data"
    },
    {
     "data": {
      "application/javascript": [
       "$('div#9d37b887-fb70-4dc8-8e5c-1e76ab18de6d').text('528/593');"
      ],
      "text/plain": [
       "<IPython.core.display.Javascript at 0x11154d150>"
      ]
     },
     "metadata": {},
     "output_type": "display_data"
    },
    {
     "data": {
      "application/javascript": [
       "$('div#ab5e3c02-b905-475b-a430-31b97942181f').text(' 89%');"
      ],
      "text/plain": [
       "<IPython.core.display.Javascript at 0x11154d190>"
      ]
     },
     "metadata": {},
     "output_type": "display_data"
    },
    {
     "data": {
      "application/javascript": [
       "\n",
       "        var $myPB = $(\"div#603dd5d6-0527-48ce-991c-b87add1ee92f\")\n",
       "        if ($myPB.hasClass('ui-progressbar')) {\n",
       "            $myPB.progressbar('value', 528);\n",
       "        } else {\n",
       "            $myPB.progressbar({value: 0, max: 593});\n",
       "        }\n",
       "        "
      ],
      "text/plain": [
       "<IPython.core.display.Javascript at 0x11154d1d0>"
      ]
     },
     "metadata": {},
     "output_type": "display_data"
    },
    {
     "data": {
      "application/javascript": [
       "$('div#cd03291e-3af7-4959-b151-add232c9b082').text('ETA:  0:00:00');"
      ],
      "text/plain": [
       "<IPython.core.display.Javascript at 0x11154d210>"
      ]
     },
     "metadata": {},
     "output_type": "display_data"
    },
    {
     "data": {
      "application/javascript": [
       "$('div#9d37b887-fb70-4dc8-8e5c-1e76ab18de6d').text('534/593');"
      ],
      "text/plain": [
       "<IPython.core.display.Javascript at 0x11154d510>"
      ]
     },
     "metadata": {},
     "output_type": "display_data"
    },
    {
     "data": {
      "application/javascript": [
       "$('div#ab5e3c02-b905-475b-a430-31b97942181f').text(' 90%');"
      ],
      "text/plain": [
       "<IPython.core.display.Javascript at 0x11154d550>"
      ]
     },
     "metadata": {},
     "output_type": "display_data"
    },
    {
     "data": {
      "application/javascript": [
       "\n",
       "        var $myPB = $(\"div#603dd5d6-0527-48ce-991c-b87add1ee92f\")\n",
       "        if ($myPB.hasClass('ui-progressbar')) {\n",
       "            $myPB.progressbar('value', 534);\n",
       "        } else {\n",
       "            $myPB.progressbar({value: 0, max: 593});\n",
       "        }\n",
       "        "
      ],
      "text/plain": [
       "<IPython.core.display.Javascript at 0x11154d590>"
      ]
     },
     "metadata": {},
     "output_type": "display_data"
    },
    {
     "data": {
      "application/javascript": [
       "$('div#cd03291e-3af7-4959-b151-add232c9b082').text('ETA:  0:00:00');"
      ],
      "text/plain": [
       "<IPython.core.display.Javascript at 0x11154d5d0>"
      ]
     },
     "metadata": {},
     "output_type": "display_data"
    },
    {
     "data": {
      "application/javascript": [
       "$('div#9d37b887-fb70-4dc8-8e5c-1e76ab18de6d').text('540/593');"
      ],
      "text/plain": [
       "<IPython.core.display.Javascript at 0x11154d790>"
      ]
     },
     "metadata": {},
     "output_type": "display_data"
    },
    {
     "data": {
      "application/javascript": [
       "$('div#ab5e3c02-b905-475b-a430-31b97942181f').text(' 91%');"
      ],
      "text/plain": [
       "<IPython.core.display.Javascript at 0x11154d7d0>"
      ]
     },
     "metadata": {},
     "output_type": "display_data"
    },
    {
     "data": {
      "application/javascript": [
       "\n",
       "        var $myPB = $(\"div#603dd5d6-0527-48ce-991c-b87add1ee92f\")\n",
       "        if ($myPB.hasClass('ui-progressbar')) {\n",
       "            $myPB.progressbar('value', 540);\n",
       "        } else {\n",
       "            $myPB.progressbar({value: 0, max: 593});\n",
       "        }\n",
       "        "
      ],
      "text/plain": [
       "<IPython.core.display.Javascript at 0x11154d810>"
      ]
     },
     "metadata": {},
     "output_type": "display_data"
    },
    {
     "data": {
      "application/javascript": [
       "$('div#cd03291e-3af7-4959-b151-add232c9b082').text('ETA:  0:00:00');"
      ],
      "text/plain": [
       "<IPython.core.display.Javascript at 0x11154d850>"
      ]
     },
     "metadata": {},
     "output_type": "display_data"
    },
    {
     "data": {
      "application/javascript": [
       "$('div#9d37b887-fb70-4dc8-8e5c-1e76ab18de6d').text('546/593');"
      ],
      "text/plain": [
       "<IPython.core.display.Javascript at 0x111558810>"
      ]
     },
     "metadata": {},
     "output_type": "display_data"
    },
    {
     "data": {
      "application/javascript": [
       "$('div#ab5e3c02-b905-475b-a430-31b97942181f').text(' 92%');"
      ],
      "text/plain": [
       "<IPython.core.display.Javascript at 0x111558850>"
      ]
     },
     "metadata": {},
     "output_type": "display_data"
    },
    {
     "data": {
      "application/javascript": [
       "\n",
       "        var $myPB = $(\"div#603dd5d6-0527-48ce-991c-b87add1ee92f\")\n",
       "        if ($myPB.hasClass('ui-progressbar')) {\n",
       "            $myPB.progressbar('value', 546);\n",
       "        } else {\n",
       "            $myPB.progressbar({value: 0, max: 593});\n",
       "        }\n",
       "        "
      ],
      "text/plain": [
       "<IPython.core.display.Javascript at 0x111558890>"
      ]
     },
     "metadata": {},
     "output_type": "display_data"
    },
    {
     "data": {
      "application/javascript": [
       "$('div#cd03291e-3af7-4959-b151-add232c9b082').text('ETA:  0:00:00');"
      ],
      "text/plain": [
       "<IPython.core.display.Javascript at 0x111558990>"
      ]
     },
     "metadata": {},
     "output_type": "display_data"
    },
    {
     "data": {
      "application/javascript": [
       "$('div#9d37b887-fb70-4dc8-8e5c-1e76ab18de6d').text('552/593');"
      ],
      "text/plain": [
       "<IPython.core.display.Javascript at 0x11155b590>"
      ]
     },
     "metadata": {},
     "output_type": "display_data"
    },
    {
     "data": {
      "application/javascript": [
       "$('div#ab5e3c02-b905-475b-a430-31b97942181f').text(' 93%');"
      ],
      "text/plain": [
       "<IPython.core.display.Javascript at 0x11155b5d0>"
      ]
     },
     "metadata": {},
     "output_type": "display_data"
    },
    {
     "data": {
      "application/javascript": [
       "\n",
       "        var $myPB = $(\"div#603dd5d6-0527-48ce-991c-b87add1ee92f\")\n",
       "        if ($myPB.hasClass('ui-progressbar')) {\n",
       "            $myPB.progressbar('value', 552);\n",
       "        } else {\n",
       "            $myPB.progressbar({value: 0, max: 593});\n",
       "        }\n",
       "        "
      ],
      "text/plain": [
       "<IPython.core.display.Javascript at 0x11155b610>"
      ]
     },
     "metadata": {},
     "output_type": "display_data"
    },
    {
     "data": {
      "application/javascript": [
       "$('div#cd03291e-3af7-4959-b151-add232c9b082').text('ETA:  0:00:00');"
      ],
      "text/plain": [
       "<IPython.core.display.Javascript at 0x11155b710>"
      ]
     },
     "metadata": {},
     "output_type": "display_data"
    },
    {
     "data": {
      "application/javascript": [
       "$('div#9d37b887-fb70-4dc8-8e5c-1e76ab18de6d').text('558/593');"
      ],
      "text/plain": [
       "<IPython.core.display.Javascript at 0x111562150>"
      ]
     },
     "metadata": {},
     "output_type": "display_data"
    },
    {
     "data": {
      "application/javascript": [
       "$('div#ab5e3c02-b905-475b-a430-31b97942181f').text(' 94%');"
      ],
      "text/plain": [
       "<IPython.core.display.Javascript at 0x1115621d0>"
      ]
     },
     "metadata": {},
     "output_type": "display_data"
    },
    {
     "data": {
      "application/javascript": [
       "\n",
       "        var $myPB = $(\"div#603dd5d6-0527-48ce-991c-b87add1ee92f\")\n",
       "        if ($myPB.hasClass('ui-progressbar')) {\n",
       "            $myPB.progressbar('value', 558);\n",
       "        } else {\n",
       "            $myPB.progressbar({value: 0, max: 593});\n",
       "        }\n",
       "        "
      ],
      "text/plain": [
       "<IPython.core.display.Javascript at 0x111562210>"
      ]
     },
     "metadata": {},
     "output_type": "display_data"
    },
    {
     "data": {
      "application/javascript": [
       "$('div#cd03291e-3af7-4959-b151-add232c9b082').text('ETA:  0:00:00');"
      ],
      "text/plain": [
       "<IPython.core.display.Javascript at 0x111562350>"
      ]
     },
     "metadata": {},
     "output_type": "display_data"
    },
    {
     "data": {
      "application/javascript": [
       "$('div#9d37b887-fb70-4dc8-8e5c-1e76ab18de6d').text('564/593');"
      ],
      "text/plain": [
       "<IPython.core.display.Javascript at 0x110cfcdd0>"
      ]
     },
     "metadata": {},
     "output_type": "display_data"
    },
    {
     "data": {
      "application/javascript": [
       "$('div#ab5e3c02-b905-475b-a430-31b97942181f').text(' 95%');"
      ],
      "text/plain": [
       "<IPython.core.display.Javascript at 0x110cfce50>"
      ]
     },
     "metadata": {},
     "output_type": "display_data"
    },
    {
     "data": {
      "application/javascript": [
       "\n",
       "        var $myPB = $(\"div#603dd5d6-0527-48ce-991c-b87add1ee92f\")\n",
       "        if ($myPB.hasClass('ui-progressbar')) {\n",
       "            $myPB.progressbar('value', 564);\n",
       "        } else {\n",
       "            $myPB.progressbar({value: 0, max: 593});\n",
       "        }\n",
       "        "
      ],
      "text/plain": [
       "<IPython.core.display.Javascript at 0x110cfce90>"
      ]
     },
     "metadata": {},
     "output_type": "display_data"
    },
    {
     "data": {
      "application/javascript": [
       "$('div#cd03291e-3af7-4959-b151-add232c9b082').text('ETA:  0:00:00');"
      ],
      "text/plain": [
       "<IPython.core.display.Javascript at 0x110cfcfd0>"
      ]
     },
     "metadata": {},
     "output_type": "display_data"
    },
    {
     "data": {
      "application/javascript": [
       "$('div#9d37b887-fb70-4dc8-8e5c-1e76ab18de6d').text('570/593');"
      ],
      "text/plain": [
       "<IPython.core.display.Javascript at 0x110d1d5d0>"
      ]
     },
     "metadata": {},
     "output_type": "display_data"
    },
    {
     "data": {
      "application/javascript": [
       "$('div#ab5e3c02-b905-475b-a430-31b97942181f').text(' 96%');"
      ],
      "text/plain": [
       "<IPython.core.display.Javascript at 0x110d1d610>"
      ]
     },
     "metadata": {},
     "output_type": "display_data"
    },
    {
     "data": {
      "application/javascript": [
       "\n",
       "        var $myPB = $(\"div#603dd5d6-0527-48ce-991c-b87add1ee92f\")\n",
       "        if ($myPB.hasClass('ui-progressbar')) {\n",
       "            $myPB.progressbar('value', 570);\n",
       "        } else {\n",
       "            $myPB.progressbar({value: 0, max: 593});\n",
       "        }\n",
       "        "
      ],
      "text/plain": [
       "<IPython.core.display.Javascript at 0x110d1d650>"
      ]
     },
     "metadata": {},
     "output_type": "display_data"
    },
    {
     "data": {
      "application/javascript": [
       "$('div#cd03291e-3af7-4959-b151-add232c9b082').text('ETA:  0:00:00');"
      ],
      "text/plain": [
       "<IPython.core.display.Javascript at 0x110d1d750>"
      ]
     },
     "metadata": {},
     "output_type": "display_data"
    },
    {
     "data": {
      "application/javascript": [
       "$('div#9d37b887-fb70-4dc8-8e5c-1e76ab18de6d').text('576/593');"
      ],
      "text/plain": [
       "<IPython.core.display.Javascript at 0x110d1da10>"
      ]
     },
     "metadata": {},
     "output_type": "display_data"
    },
    {
     "data": {
      "application/javascript": [
       "$('div#ab5e3c02-b905-475b-a430-31b97942181f').text(' 97%');"
      ],
      "text/plain": [
       "<IPython.core.display.Javascript at 0x110d1da50>"
      ]
     },
     "metadata": {},
     "output_type": "display_data"
    },
    {
     "data": {
      "application/javascript": [
       "\n",
       "        var $myPB = $(\"div#603dd5d6-0527-48ce-991c-b87add1ee92f\")\n",
       "        if ($myPB.hasClass('ui-progressbar')) {\n",
       "            $myPB.progressbar('value', 576);\n",
       "        } else {\n",
       "            $myPB.progressbar({value: 0, max: 593});\n",
       "        }\n",
       "        "
      ],
      "text/plain": [
       "<IPython.core.display.Javascript at 0x110d1da90>"
      ]
     },
     "metadata": {},
     "output_type": "display_data"
    },
    {
     "data": {
      "application/javascript": [
       "$('div#cd03291e-3af7-4959-b151-add232c9b082').text('ETA:  0:00:00');"
      ],
      "text/plain": [
       "<IPython.core.display.Javascript at 0x110d1db50>"
      ]
     },
     "metadata": {},
     "output_type": "display_data"
    },
    {
     "data": {
      "application/javascript": [
       "$('div#9d37b887-fb70-4dc8-8e5c-1e76ab18de6d').text('582/593');"
      ],
      "text/plain": [
       "<IPython.core.display.Javascript at 0x110d1ddd0>"
      ]
     },
     "metadata": {},
     "output_type": "display_data"
    },
    {
     "data": {
      "application/javascript": [
       "$('div#ab5e3c02-b905-475b-a430-31b97942181f').text(' 98%');"
      ],
      "text/plain": [
       "<IPython.core.display.Javascript at 0x110d1de10>"
      ]
     },
     "metadata": {},
     "output_type": "display_data"
    },
    {
     "data": {
      "application/javascript": [
       "\n",
       "        var $myPB = $(\"div#603dd5d6-0527-48ce-991c-b87add1ee92f\")\n",
       "        if ($myPB.hasClass('ui-progressbar')) {\n",
       "            $myPB.progressbar('value', 582);\n",
       "        } else {\n",
       "            $myPB.progressbar({value: 0, max: 593});\n",
       "        }\n",
       "        "
      ],
      "text/plain": [
       "<IPython.core.display.Javascript at 0x110d1de50>"
      ]
     },
     "metadata": {},
     "output_type": "display_data"
    },
    {
     "data": {
      "application/javascript": [
       "$('div#cd03291e-3af7-4959-b151-add232c9b082').text('ETA:  0:00:00');"
      ],
      "text/plain": [
       "<IPython.core.display.Javascript at 0x110d1df90>"
      ]
     },
     "metadata": {},
     "output_type": "display_data"
    },
    {
     "data": {
      "application/javascript": [
       "$('div#9d37b887-fb70-4dc8-8e5c-1e76ab18de6d').text('588/593');"
      ],
      "text/plain": [
       "<IPython.core.display.Javascript at 0x110d29310>"
      ]
     },
     "metadata": {},
     "output_type": "display_data"
    },
    {
     "data": {
      "application/javascript": [
       "$('div#ab5e3c02-b905-475b-a430-31b97942181f').text(' 99%');"
      ],
      "text/plain": [
       "<IPython.core.display.Javascript at 0x110d29350>"
      ]
     },
     "metadata": {},
     "output_type": "display_data"
    },
    {
     "data": {
      "application/javascript": [
       "\n",
       "        var $myPB = $(\"div#603dd5d6-0527-48ce-991c-b87add1ee92f\")\n",
       "        if ($myPB.hasClass('ui-progressbar')) {\n",
       "            $myPB.progressbar('value', 588);\n",
       "        } else {\n",
       "            $myPB.progressbar({value: 0, max: 593});\n",
       "        }\n",
       "        "
      ],
      "text/plain": [
       "<IPython.core.display.Javascript at 0x110d29390>"
      ]
     },
     "metadata": {},
     "output_type": "display_data"
    },
    {
     "data": {
      "application/javascript": [
       "$('div#cd03291e-3af7-4959-b151-add232c9b082').text('ETA:  0:00:00');"
      ],
      "text/plain": [
       "<IPython.core.display.Javascript at 0x110d29490>"
      ]
     },
     "metadata": {},
     "output_type": "display_data"
    },
    {
     "data": {
      "application/javascript": [
       "$('div#9d37b887-fb70-4dc8-8e5c-1e76ab18de6d').text('593/593');"
      ],
      "text/plain": [
       "<IPython.core.display.Javascript at 0x110d296d0>"
      ]
     },
     "metadata": {},
     "output_type": "display_data"
    },
    {
     "data": {
      "application/javascript": [
       "$('div#ab5e3c02-b905-475b-a430-31b97942181f').text('100%');"
      ],
      "text/plain": [
       "<IPython.core.display.Javascript at 0x110d29710>"
      ]
     },
     "metadata": {},
     "output_type": "display_data"
    },
    {
     "data": {
      "application/javascript": [
       "\n",
       "        var $myPB = $(\"div#603dd5d6-0527-48ce-991c-b87add1ee92f\")\n",
       "        if ($myPB.hasClass('ui-progressbar')) {\n",
       "            $myPB.progressbar('value', 593);\n",
       "        } else {\n",
       "            $myPB.progressbar({value: 0, max: 593});\n",
       "        }\n",
       "        "
      ],
      "text/plain": [
       "<IPython.core.display.Javascript at 0x110d29750>"
      ]
     },
     "metadata": {},
     "output_type": "display_data"
    },
    {
     "data": {
      "application/javascript": [
       "$('div#cd03291e-3af7-4959-b151-add232c9b082').text('Time: 0:00:01');"
      ],
      "text/plain": [
       "<IPython.core.display.Javascript at 0x110d297d0>"
      ]
     },
     "metadata": {},
     "output_type": "display_data"
    },
    {
     "data": {
      "application/javascript": [
       "var element = document.getElementById('3791e701-3528-4f46-ab43-4235cb7a6cdf');\n",
       "                    var parent = element.parentNode\n",
       "                    parent.removeChild(element);\n",
       "                    parent.parentElement.remove();"
      ],
      "text/plain": [
       "<IPython.core.display.Javascript at 0x110f39c50>"
      ]
     },
     "metadata": {},
     "output_type": "display_data"
    },
    {
     "data": {
      "application/javascript": [
       "this.cleanProgressBar(['3791e701-3528-4f46-ab43-4235cb7a6cdf', '9d37b887-fb70-4dc8-8e5c-1e76ab18de6d', 'ab5e3c02-b905-475b-a430-31b97942181f', '603dd5d6-0527-48ce-991c-b87add1ee92f', 'cd03291e-3af7-4959-b151-add232c9b082'])"
      ],
      "text/plain": [
       "<IPython.core.display.Javascript at 0x110d29850>"
      ]
     },
     "metadata": {},
     "output_type": "display_data"
    },
    {
     "data": {
      "application/javascript": [
       "//a119e2d1-0b65-40f9-816e-ef392630a29c\n",
       "$(\"head\").append(\"<style> td.pb_widget {     width: auto; } td.pb_widget_fill {     width: 100%; } table.pb {     font-family: monospace;     border: 0;     margin: 0; } table.pb tr { border: 0; } table.pb td {     white-space: nowrap;     border: 0; } div.pb {     border: 1px solid #ddd;     border-radius: 3px; } div.pb_bar {     height: 1.5em; } </style>\")"
      ],
      "text/plain": [
       "<IPython.core.display.Javascript at 0x11316d510>"
      ]
     },
     "metadata": {},
     "output_type": "display_data"
    },
    {
     "data": {
      "application/javascript": [
       "\n",
       "                  // a119e2d1-0b65-40f9-816e-ef392630a29c -- used to remove this code blob in the end\n",
       "                  IPython.OutputArea.prototype.cleanProgressBar = function(uuids) {\n",
       "                      // filter by uuid-strings \n",
       "                      var myfilter = function(output) { \n",
       "                          var nuids = uuids.length;\n",
       "                          for (var i=0; i<nuids; i++) {\n",
       "                              if (output.hasOwnProperty('html')) {\n",
       "                                  if (output.html.indexOf(uuids[i]) != -1) {\n",
       "                                      return false;\n",
       "                                  }\n",
       "                              }\n",
       "                              if (output.hasOwnProperty('javascript')) {\n",
       "                                  if (output.javascript.indexOf(uuids[i]) != -1) {\n",
       "                                      return false;\n",
       "                                  }\n",
       "                              }\n",
       "                          }\n",
       "                          // keep all others\n",
       "                          return true;\n",
       "                      };\n",
       "\n",
       "                      // Filter the ouputs\n",
       "                      this.outputs = this.outputs.filter(myfilter);\n",
       "                };\n",
       "                "
      ],
      "text/plain": [
       "<IPython.core.display.Javascript at 0x11316ffd0>"
      ]
     },
     "metadata": {},
     "output_type": "display_data"
    },
    {
     "data": {
      "text/html": [
       "<div class=\"pb\" id=\"a119e2d1-0b65-40f9-816e-ef392630a29c\"><table class=\"pb ui-widget\"><tr>\n",
       "<td class=\"pb_widget\"><div id=\"9d37b887-fb70-4dc8-8e5c-1e76ab18de6d\">0/767</div></td>\n",
       "<td class=\"pb_widget\"> (</td>\n",
       "<td class=\"pb_widget\"><div id=\"ab5e3c02-b905-475b-a430-31b97942181f\">  0%</div></td>\n",
       "<td class=\"pb_widget\">) </td>\n",
       "<td class=\"pb_widget_fill\">\n",
       "        <div class=\"pb_bar\" id=\"603dd5d6-0527-48ce-991c-b87add1ee92f\"></div>\n",
       "        <script type=\"text/javascript\">\n",
       "            $(\"div#603dd5d6-0527-48ce-991c-b87add1ee92f\").progressbar({value: 0, max: 767});\n",
       "        </script>\n",
       "        </td>\n",
       "<td class=\"pb_widget\"> </td>\n",
       "<td class=\"pb_widget\"><div id=\"cd03291e-3af7-4959-b151-add232c9b082\">ETA:  --:--:--</div></td>\n",
       "</tr></table><div>"
      ],
      "text/plain": [
       "<IPython.core.display.HTML at 0x11316fed0>"
      ]
     },
     "metadata": {},
     "output_type": "display_data"
    },
    {
     "data": {
      "application/javascript": [
       "$('div#9d37b887-fb70-4dc8-8e5c-1e76ab18de6d').text('8/767');"
      ],
      "text/plain": [
       "<IPython.core.display.Javascript at 0x1131741d0>"
      ]
     },
     "metadata": {},
     "output_type": "display_data"
    },
    {
     "data": {
      "application/javascript": [
       "$('div#ab5e3c02-b905-475b-a430-31b97942181f').text('  1%');"
      ],
      "text/plain": [
       "<IPython.core.display.Javascript at 0x113174150>"
      ]
     },
     "metadata": {},
     "output_type": "display_data"
    },
    {
     "data": {
      "application/javascript": [
       "\n",
       "        var $myPB = $(\"div#603dd5d6-0527-48ce-991c-b87add1ee92f\")\n",
       "        if ($myPB.hasClass('ui-progressbar')) {\n",
       "            $myPB.progressbar('value', 8);\n",
       "        } else {\n",
       "            $myPB.progressbar({value: 0, max: 767});\n",
       "        }\n",
       "        "
      ],
      "text/plain": [
       "<IPython.core.display.Javascript at 0x113174190>"
      ]
     },
     "metadata": {},
     "output_type": "display_data"
    },
    {
     "data": {
      "application/javascript": [
       "$('div#cd03291e-3af7-4959-b151-add232c9b082').text('ETA:  0:00:03');"
      ],
      "text/plain": [
       "<IPython.core.display.Javascript at 0x113174090>"
      ]
     },
     "metadata": {},
     "output_type": "display_data"
    },
    {
     "data": {
      "application/javascript": [
       "$('div#9d37b887-fb70-4dc8-8e5c-1e76ab18de6d').text('16/767');"
      ],
      "text/plain": [
       "<IPython.core.display.Javascript at 0x113174290>"
      ]
     },
     "metadata": {},
     "output_type": "display_data"
    },
    {
     "data": {
      "application/javascript": [
       "$('div#ab5e3c02-b905-475b-a430-31b97942181f').text('  2%');"
      ],
      "text/plain": [
       "<IPython.core.display.Javascript at 0x1131742d0>"
      ]
     },
     "metadata": {},
     "output_type": "display_data"
    },
    {
     "data": {
      "application/javascript": [
       "\n",
       "        var $myPB = $(\"div#603dd5d6-0527-48ce-991c-b87add1ee92f\")\n",
       "        if ($myPB.hasClass('ui-progressbar')) {\n",
       "            $myPB.progressbar('value', 16);\n",
       "        } else {\n",
       "            $myPB.progressbar({value: 0, max: 767});\n",
       "        }\n",
       "        "
      ],
      "text/plain": [
       "<IPython.core.display.Javascript at 0x113174210>"
      ]
     },
     "metadata": {},
     "output_type": "display_data"
    },
    {
     "data": {
      "application/javascript": [
       "$('div#cd03291e-3af7-4959-b151-add232c9b082').text('ETA:  0:00:02');"
      ],
      "text/plain": [
       "<IPython.core.display.Javascript at 0x113157e10>"
      ]
     },
     "metadata": {},
     "output_type": "display_data"
    },
    {
     "data": {
      "application/javascript": [
       "$('div#9d37b887-fb70-4dc8-8e5c-1e76ab18de6d').text('24/767');"
      ],
      "text/plain": [
       "<IPython.core.display.Javascript at 0x111e5bd50>"
      ]
     },
     "metadata": {},
     "output_type": "display_data"
    },
    {
     "data": {
      "application/javascript": [
       "$('div#ab5e3c02-b905-475b-a430-31b97942181f').text('  3%');"
      ],
      "text/plain": [
       "<IPython.core.display.Javascript at 0x110a0ddd0>"
      ]
     },
     "metadata": {},
     "output_type": "display_data"
    },
    {
     "data": {
      "application/javascript": [
       "\n",
       "        var $myPB = $(\"div#603dd5d6-0527-48ce-991c-b87add1ee92f\")\n",
       "        if ($myPB.hasClass('ui-progressbar')) {\n",
       "            $myPB.progressbar('value', 24);\n",
       "        } else {\n",
       "            $myPB.progressbar({value: 0, max: 767});\n",
       "        }\n",
       "        "
      ],
      "text/plain": [
       "<IPython.core.display.Javascript at 0x110a0dd90>"
      ]
     },
     "metadata": {},
     "output_type": "display_data"
    },
    {
     "data": {
      "application/javascript": [
       "$('div#cd03291e-3af7-4959-b151-add232c9b082').text('ETA:  0:00:03');"
      ],
      "text/plain": [
       "<IPython.core.display.Javascript at 0x110a0de10>"
      ]
     },
     "metadata": {},
     "output_type": "display_data"
    },
    {
     "data": {
      "application/javascript": [
       "$('div#9d37b887-fb70-4dc8-8e5c-1e76ab18de6d').text('32/767');"
      ],
      "text/plain": [
       "<IPython.core.display.Javascript at 0x10e5a9050>"
      ]
     },
     "metadata": {},
     "output_type": "display_data"
    },
    {
     "data": {
      "application/javascript": [
       "$('div#ab5e3c02-b905-475b-a430-31b97942181f').text('  4%');"
      ],
      "text/plain": [
       "<IPython.core.display.Javascript at 0x112a486d0>"
      ]
     },
     "metadata": {},
     "output_type": "display_data"
    },
    {
     "data": {
      "application/javascript": [
       "\n",
       "        var $myPB = $(\"div#603dd5d6-0527-48ce-991c-b87add1ee92f\")\n",
       "        if ($myPB.hasClass('ui-progressbar')) {\n",
       "            $myPB.progressbar('value', 32);\n",
       "        } else {\n",
       "            $myPB.progressbar({value: 0, max: 767});\n",
       "        }\n",
       "        "
      ],
      "text/plain": [
       "<IPython.core.display.Javascript at 0x112a48c90>"
      ]
     },
     "metadata": {},
     "output_type": "display_data"
    },
    {
     "data": {
      "application/javascript": [
       "$('div#cd03291e-3af7-4959-b151-add232c9b082').text('ETA:  0:00:04');"
      ],
      "text/plain": [
       "<IPython.core.display.Javascript at 0x109c50b90>"
      ]
     },
     "metadata": {},
     "output_type": "display_data"
    },
    {
     "data": {
      "application/javascript": [
       "$('div#9d37b887-fb70-4dc8-8e5c-1e76ab18de6d').text('40/767');"
      ],
      "text/plain": [
       "<IPython.core.display.Javascript at 0x1112095d0>"
      ]
     },
     "metadata": {},
     "output_type": "display_data"
    },
    {
     "data": {
      "application/javascript": [
       "$('div#ab5e3c02-b905-475b-a430-31b97942181f').text('  5%');"
      ],
      "text/plain": [
       "<IPython.core.display.Javascript at 0x111209710>"
      ]
     },
     "metadata": {},
     "output_type": "display_data"
    },
    {
     "data": {
      "application/javascript": [
       "\n",
       "        var $myPB = $(\"div#603dd5d6-0527-48ce-991c-b87add1ee92f\")\n",
       "        if ($myPB.hasClass('ui-progressbar')) {\n",
       "            $myPB.progressbar('value', 40);\n",
       "        } else {\n",
       "            $myPB.progressbar({value: 0, max: 767});\n",
       "        }\n",
       "        "
      ],
      "text/plain": [
       "<IPython.core.display.Javascript at 0x111209750>"
      ]
     },
     "metadata": {},
     "output_type": "display_data"
    },
    {
     "data": {
      "application/javascript": [
       "$('div#cd03291e-3af7-4959-b151-add232c9b082').text('ETA:  0:00:05');"
      ],
      "text/plain": [
       "<IPython.core.display.Javascript at 0x111209610>"
      ]
     },
     "metadata": {},
     "output_type": "display_data"
    },
    {
     "data": {
      "application/javascript": [
       "$('div#9d37b887-fb70-4dc8-8e5c-1e76ab18de6d').text('48/767');"
      ],
      "text/plain": [
       "<IPython.core.display.Javascript at 0x111203850>"
      ]
     },
     "metadata": {},
     "output_type": "display_data"
    },
    {
     "data": {
      "application/javascript": [
       "$('div#ab5e3c02-b905-475b-a430-31b97942181f').text('  6%');"
      ],
      "text/plain": [
       "<IPython.core.display.Javascript at 0x111209690>"
      ]
     },
     "metadata": {},
     "output_type": "display_data"
    },
    {
     "data": {
      "application/javascript": [
       "\n",
       "        var $myPB = $(\"div#603dd5d6-0527-48ce-991c-b87add1ee92f\")\n",
       "        if ($myPB.hasClass('ui-progressbar')) {\n",
       "            $myPB.progressbar('value', 48);\n",
       "        } else {\n",
       "            $myPB.progressbar({value: 0, max: 767});\n",
       "        }\n",
       "        "
      ],
      "text/plain": [
       "<IPython.core.display.Javascript at 0x111209550>"
      ]
     },
     "metadata": {},
     "output_type": "display_data"
    },
    {
     "data": {
      "application/javascript": [
       "$('div#cd03291e-3af7-4959-b151-add232c9b082').text('ETA:  0:00:04');"
      ],
      "text/plain": [
       "<IPython.core.display.Javascript at 0x111209350>"
      ]
     },
     "metadata": {},
     "output_type": "display_data"
    },
    {
     "data": {
      "application/javascript": [
       "$('div#9d37b887-fb70-4dc8-8e5c-1e76ab18de6d').text('56/767');"
      ],
      "text/plain": [
       "<IPython.core.display.Javascript at 0x111209650>"
      ]
     },
     "metadata": {},
     "output_type": "display_data"
    },
    {
     "data": {
      "application/javascript": [
       "$('div#ab5e3c02-b905-475b-a430-31b97942181f').text('  7%');"
      ],
      "text/plain": [
       "<IPython.core.display.Javascript at 0x109c50b50>"
      ]
     },
     "metadata": {},
     "output_type": "display_data"
    },
    {
     "data": {
      "application/javascript": [
       "\n",
       "        var $myPB = $(\"div#603dd5d6-0527-48ce-991c-b87add1ee92f\")\n",
       "        if ($myPB.hasClass('ui-progressbar')) {\n",
       "            $myPB.progressbar('value', 56);\n",
       "        } else {\n",
       "            $myPB.progressbar({value: 0, max: 767});\n",
       "        }\n",
       "        "
      ],
      "text/plain": [
       "<IPython.core.display.Javascript at 0x109c50050>"
      ]
     },
     "metadata": {},
     "output_type": "display_data"
    },
    {
     "data": {
      "application/javascript": [
       "$('div#cd03291e-3af7-4959-b151-add232c9b082').text('ETA:  0:00:04');"
      ],
      "text/plain": [
       "<IPython.core.display.Javascript at 0x109c50d10>"
      ]
     },
     "metadata": {},
     "output_type": "display_data"
    },
    {
     "data": {
      "application/javascript": [
       "$('div#9d37b887-fb70-4dc8-8e5c-1e76ab18de6d').text('64/767');"
      ],
      "text/plain": [
       "<IPython.core.display.Javascript at 0x109c480d0>"
      ]
     },
     "metadata": {},
     "output_type": "display_data"
    },
    {
     "data": {
      "application/javascript": [
       "$('div#ab5e3c02-b905-475b-a430-31b97942181f').text('  8%');"
      ],
      "text/plain": [
       "<IPython.core.display.Javascript at 0x109c48450>"
      ]
     },
     "metadata": {},
     "output_type": "display_data"
    },
    {
     "data": {
      "application/javascript": [
       "\n",
       "        var $myPB = $(\"div#603dd5d6-0527-48ce-991c-b87add1ee92f\")\n",
       "        if ($myPB.hasClass('ui-progressbar')) {\n",
       "            $myPB.progressbar('value', 64);\n",
       "        } else {\n",
       "            $myPB.progressbar({value: 0, max: 767});\n",
       "        }\n",
       "        "
      ],
      "text/plain": [
       "<IPython.core.display.Javascript at 0x109c48610>"
      ]
     },
     "metadata": {},
     "output_type": "display_data"
    },
    {
     "data": {
      "application/javascript": [
       "$('div#cd03291e-3af7-4959-b151-add232c9b082').text('ETA:  0:00:04');"
      ],
      "text/plain": [
       "<IPython.core.display.Javascript at 0x111203850>"
      ]
     },
     "metadata": {},
     "output_type": "display_data"
    },
    {
     "data": {
      "application/javascript": [
       "$('div#9d37b887-fb70-4dc8-8e5c-1e76ab18de6d').text('72/767');"
      ],
      "text/plain": [
       "<IPython.core.display.Javascript at 0x111209650>"
      ]
     },
     "metadata": {},
     "output_type": "display_data"
    },
    {
     "data": {
      "application/javascript": [
       "$('div#ab5e3c02-b905-475b-a430-31b97942181f').text('  9%');"
      ],
      "text/plain": [
       "<IPython.core.display.Javascript at 0x111209550>"
      ]
     },
     "metadata": {},
     "output_type": "display_data"
    },
    {
     "data": {
      "application/javascript": [
       "\n",
       "        var $myPB = $(\"div#603dd5d6-0527-48ce-991c-b87add1ee92f\")\n",
       "        if ($myPB.hasClass('ui-progressbar')) {\n",
       "            $myPB.progressbar('value', 72);\n",
       "        } else {\n",
       "            $myPB.progressbar({value: 0, max: 767});\n",
       "        }\n",
       "        "
      ],
      "text/plain": [
       "<IPython.core.display.Javascript at 0x111209690>"
      ]
     },
     "metadata": {},
     "output_type": "display_data"
    },
    {
     "data": {
      "application/javascript": [
       "$('div#cd03291e-3af7-4959-b151-add232c9b082').text('ETA:  0:00:04');"
      ],
      "text/plain": [
       "<IPython.core.display.Javascript at 0x111209610>"
      ]
     },
     "metadata": {},
     "output_type": "display_data"
    },
    {
     "data": {
      "application/javascript": [
       "$('div#9d37b887-fb70-4dc8-8e5c-1e76ab18de6d').text('80/767');"
      ],
      "text/plain": [
       "<IPython.core.display.Javascript at 0x111209750>"
      ]
     },
     "metadata": {},
     "output_type": "display_data"
    },
    {
     "data": {
      "application/javascript": [
       "$('div#ab5e3c02-b905-475b-a430-31b97942181f').text(' 10%');"
      ],
      "text/plain": [
       "<IPython.core.display.Javascript at 0x111209710>"
      ]
     },
     "metadata": {},
     "output_type": "display_data"
    },
    {
     "data": {
      "application/javascript": [
       "\n",
       "        var $myPB = $(\"div#603dd5d6-0527-48ce-991c-b87add1ee92f\")\n",
       "        if ($myPB.hasClass('ui-progressbar')) {\n",
       "            $myPB.progressbar('value', 80);\n",
       "        } else {\n",
       "            $myPB.progressbar({value: 0, max: 767});\n",
       "        }\n",
       "        "
      ],
      "text/plain": [
       "<IPython.core.display.Javascript at 0x1112095d0>"
      ]
     },
     "metadata": {},
     "output_type": "display_data"
    },
    {
     "data": {
      "application/javascript": [
       "$('div#cd03291e-3af7-4959-b151-add232c9b082').text('ETA:  0:00:04');"
      ],
      "text/plain": [
       "<IPython.core.display.Javascript at 0x109c50050>"
      ]
     },
     "metadata": {},
     "output_type": "display_data"
    },
    {
     "data": {
      "application/javascript": [
       "$('div#9d37b887-fb70-4dc8-8e5c-1e76ab18de6d').text('88/767');"
      ],
      "text/plain": [
       "<IPython.core.display.Javascript at 0x109c50b90>"
      ]
     },
     "metadata": {},
     "output_type": "display_data"
    },
    {
     "data": {
      "application/javascript": [
       "$('div#ab5e3c02-b905-475b-a430-31b97942181f').text(' 11%');"
      ],
      "text/plain": [
       "<IPython.core.display.Javascript at 0x109c50b50>"
      ]
     },
     "metadata": {},
     "output_type": "display_data"
    },
    {
     "data": {
      "application/javascript": [
       "\n",
       "        var $myPB = $(\"div#603dd5d6-0527-48ce-991c-b87add1ee92f\")\n",
       "        if ($myPB.hasClass('ui-progressbar')) {\n",
       "            $myPB.progressbar('value', 88);\n",
       "        } else {\n",
       "            $myPB.progressbar({value: 0, max: 767});\n",
       "        }\n",
       "        "
      ],
      "text/plain": [
       "<IPython.core.display.Javascript at 0x109c50d10>"
      ]
     },
     "metadata": {},
     "output_type": "display_data"
    },
    {
     "data": {
      "application/javascript": [
       "$('div#cd03291e-3af7-4959-b151-add232c9b082').text('ETA:  0:00:03');"
      ],
      "text/plain": [
       "<IPython.core.display.Javascript at 0x10e5a9050>"
      ]
     },
     "metadata": {},
     "output_type": "display_data"
    },
    {
     "data": {
      "application/javascript": [
       "$('div#9d37b887-fb70-4dc8-8e5c-1e76ab18de6d').text('96/767');"
      ],
      "text/plain": [
       "<IPython.core.display.Javascript at 0x112a486d0>"
      ]
     },
     "metadata": {},
     "output_type": "display_data"
    },
    {
     "data": {
      "application/javascript": [
       "$('div#ab5e3c02-b905-475b-a430-31b97942181f').text(' 12%');"
      ],
      "text/plain": [
       "<IPython.core.display.Javascript at 0x112a48c90>"
      ]
     },
     "metadata": {},
     "output_type": "display_data"
    },
    {
     "data": {
      "application/javascript": [
       "\n",
       "        var $myPB = $(\"div#603dd5d6-0527-48ce-991c-b87add1ee92f\")\n",
       "        if ($myPB.hasClass('ui-progressbar')) {\n",
       "            $myPB.progressbar('value', 96);\n",
       "        } else {\n",
       "            $myPB.progressbar({value: 0, max: 767});\n",
       "        }\n",
       "        "
      ],
      "text/plain": [
       "<IPython.core.display.Javascript at 0x109c50b50>"
      ]
     },
     "metadata": {},
     "output_type": "display_data"
    },
    {
     "data": {
      "application/javascript": [
       "$('div#cd03291e-3af7-4959-b151-add232c9b082').text('ETA:  0:00:04');"
      ],
      "text/plain": [
       "<IPython.core.display.Javascript at 0x109c50b90>"
      ]
     },
     "metadata": {},
     "output_type": "display_data"
    },
    {
     "data": {
      "application/javascript": [
       "$('div#9d37b887-fb70-4dc8-8e5c-1e76ab18de6d').text('104/767');"
      ],
      "text/plain": [
       "<IPython.core.display.Javascript at 0x109c50050>"
      ]
     },
     "metadata": {},
     "output_type": "display_data"
    },
    {
     "data": {
      "application/javascript": [
       "$('div#ab5e3c02-b905-475b-a430-31b97942181f').text(' 13%');"
      ],
      "text/plain": [
       "<IPython.core.display.Javascript at 0x109c50d10>"
      ]
     },
     "metadata": {},
     "output_type": "display_data"
    },
    {
     "data": {
      "application/javascript": [
       "\n",
       "        var $myPB = $(\"div#603dd5d6-0527-48ce-991c-b87add1ee92f\")\n",
       "        if ($myPB.hasClass('ui-progressbar')) {\n",
       "            $myPB.progressbar('value', 104);\n",
       "        } else {\n",
       "            $myPB.progressbar({value: 0, max: 767});\n",
       "        }\n",
       "        "
      ],
      "text/plain": [
       "<IPython.core.display.Javascript at 0x111209350>"
      ]
     },
     "metadata": {},
     "output_type": "display_data"
    },
    {
     "data": {
      "application/javascript": [
       "$('div#cd03291e-3af7-4959-b151-add232c9b082').text('ETA:  0:00:04');"
      ],
      "text/plain": [
       "<IPython.core.display.Javascript at 0x1112095d0>"
      ]
     },
     "metadata": {},
     "output_type": "display_data"
    },
    {
     "data": {
      "application/javascript": [
       "$('div#9d37b887-fb70-4dc8-8e5c-1e76ab18de6d').text('112/767');"
      ],
      "text/plain": [
       "<IPython.core.display.Javascript at 0x109c50b50>"
      ]
     },
     "metadata": {},
     "output_type": "display_data"
    },
    {
     "data": {
      "application/javascript": [
       "$('div#ab5e3c02-b905-475b-a430-31b97942181f').text(' 14%');"
      ],
      "text/plain": [
       "<IPython.core.display.Javascript at 0x109c50b90>"
      ]
     },
     "metadata": {},
     "output_type": "display_data"
    },
    {
     "data": {
      "application/javascript": [
       "\n",
       "        var $myPB = $(\"div#603dd5d6-0527-48ce-991c-b87add1ee92f\")\n",
       "        if ($myPB.hasClass('ui-progressbar')) {\n",
       "            $myPB.progressbar('value', 112);\n",
       "        } else {\n",
       "            $myPB.progressbar({value: 0, max: 767});\n",
       "        }\n",
       "        "
      ],
      "text/plain": [
       "<IPython.core.display.Javascript at 0x109c50d10>"
      ]
     },
     "metadata": {},
     "output_type": "display_data"
    },
    {
     "data": {
      "application/javascript": [
       "$('div#cd03291e-3af7-4959-b151-add232c9b082').text('ETA:  0:00:05');"
      ],
      "text/plain": [
       "<IPython.core.display.Javascript at 0x109c50050>"
      ]
     },
     "metadata": {},
     "output_type": "display_data"
    },
    {
     "data": {
      "application/javascript": [
       "$('div#9d37b887-fb70-4dc8-8e5c-1e76ab18de6d').text('120/767');"
      ],
      "text/plain": [
       "<IPython.core.display.Javascript at 0x112a48c90>"
      ]
     },
     "metadata": {},
     "output_type": "display_data"
    },
    {
     "data": {
      "application/javascript": [
       "$('div#ab5e3c02-b905-475b-a430-31b97942181f').text(' 15%');"
      ],
      "text/plain": [
       "<IPython.core.display.Javascript at 0x112a486d0>"
      ]
     },
     "metadata": {},
     "output_type": "display_data"
    },
    {
     "data": {
      "application/javascript": [
       "\n",
       "        var $myPB = $(\"div#603dd5d6-0527-48ce-991c-b87add1ee92f\")\n",
       "        if ($myPB.hasClass('ui-progressbar')) {\n",
       "            $myPB.progressbar('value', 120);\n",
       "        } else {\n",
       "            $myPB.progressbar({value: 0, max: 767});\n",
       "        }\n",
       "        "
      ],
      "text/plain": [
       "<IPython.core.display.Javascript at 0x111209750>"
      ]
     },
     "metadata": {},
     "output_type": "display_data"
    },
    {
     "data": {
      "application/javascript": [
       "$('div#cd03291e-3af7-4959-b151-add232c9b082').text('ETA:  0:00:05');"
      ],
      "text/plain": [
       "<IPython.core.display.Javascript at 0x1112095d0>"
      ]
     },
     "metadata": {},
     "output_type": "display_data"
    },
    {
     "data": {
      "application/javascript": [
       "$('div#9d37b887-fb70-4dc8-8e5c-1e76ab18de6d').text('128/767');"
      ],
      "text/plain": [
       "<IPython.core.display.Javascript at 0x112a48c90>"
      ]
     },
     "metadata": {},
     "output_type": "display_data"
    },
    {
     "data": {
      "application/javascript": [
       "$('div#ab5e3c02-b905-475b-a430-31b97942181f').text(' 16%');"
      ],
      "text/plain": [
       "<IPython.core.display.Javascript at 0x112a486d0>"
      ]
     },
     "metadata": {},
     "output_type": "display_data"
    },
    {
     "data": {
      "application/javascript": [
       "\n",
       "        var $myPB = $(\"div#603dd5d6-0527-48ce-991c-b87add1ee92f\")\n",
       "        if ($myPB.hasClass('ui-progressbar')) {\n",
       "            $myPB.progressbar('value', 128);\n",
       "        } else {\n",
       "            $myPB.progressbar({value: 0, max: 767});\n",
       "        }\n",
       "        "
      ],
      "text/plain": [
       "<IPython.core.display.Javascript at 0x109c50d10>"
      ]
     },
     "metadata": {},
     "output_type": "display_data"
    },
    {
     "data": {
      "application/javascript": [
       "$('div#cd03291e-3af7-4959-b151-add232c9b082').text('ETA:  0:00:05');"
      ],
      "text/plain": [
       "<IPython.core.display.Javascript at 0x109c50b90>"
      ]
     },
     "metadata": {},
     "output_type": "display_data"
    },
    {
     "data": {
      "application/javascript": [
       "$('div#9d37b887-fb70-4dc8-8e5c-1e76ab18de6d').text('136/767');"
      ],
      "text/plain": [
       "<IPython.core.display.Javascript at 0x109c50050>"
      ]
     },
     "metadata": {},
     "output_type": "display_data"
    },
    {
     "data": {
      "application/javascript": [
       "$('div#ab5e3c02-b905-475b-a430-31b97942181f').text(' 17%');"
      ],
      "text/plain": [
       "<IPython.core.display.Javascript at 0x109c50b50>"
      ]
     },
     "metadata": {},
     "output_type": "display_data"
    },
    {
     "data": {
      "application/javascript": [
       "\n",
       "        var $myPB = $(\"div#603dd5d6-0527-48ce-991c-b87add1ee92f\")\n",
       "        if ($myPB.hasClass('ui-progressbar')) {\n",
       "            $myPB.progressbar('value', 136);\n",
       "        } else {\n",
       "            $myPB.progressbar({value: 0, max: 767});\n",
       "        }\n",
       "        "
      ],
      "text/plain": [
       "<IPython.core.display.Javascript at 0x111209550>"
      ]
     },
     "metadata": {},
     "output_type": "display_data"
    },
    {
     "data": {
      "application/javascript": [
       "$('div#cd03291e-3af7-4959-b151-add232c9b082').text('ETA:  0:00:05');"
      ],
      "text/plain": [
       "<IPython.core.display.Javascript at 0x111209690>"
      ]
     },
     "metadata": {},
     "output_type": "display_data"
    },
    {
     "data": {
      "application/javascript": [
       "$('div#9d37b887-fb70-4dc8-8e5c-1e76ab18de6d').text('144/767');"
      ],
      "text/plain": [
       "<IPython.core.display.Javascript at 0x109c50b50>"
      ]
     },
     "metadata": {},
     "output_type": "display_data"
    },
    {
     "data": {
      "application/javascript": [
       "$('div#ab5e3c02-b905-475b-a430-31b97942181f').text(' 18%');"
      ],
      "text/plain": [
       "<IPython.core.display.Javascript at 0x109c50b90>"
      ]
     },
     "metadata": {},
     "output_type": "display_data"
    },
    {
     "data": {
      "application/javascript": [
       "\n",
       "        var $myPB = $(\"div#603dd5d6-0527-48ce-991c-b87add1ee92f\")\n",
       "        if ($myPB.hasClass('ui-progressbar')) {\n",
       "            $myPB.progressbar('value', 144);\n",
       "        } else {\n",
       "            $myPB.progressbar({value: 0, max: 767});\n",
       "        }\n",
       "        "
      ],
      "text/plain": [
       "<IPython.core.display.Javascript at 0x109c50050>"
      ]
     },
     "metadata": {},
     "output_type": "display_data"
    },
    {
     "data": {
      "application/javascript": [
       "$('div#cd03291e-3af7-4959-b151-add232c9b082').text('ETA:  0:00:05');"
      ],
      "text/plain": [
       "<IPython.core.display.Javascript at 0x109c50d10>"
      ]
     },
     "metadata": {},
     "output_type": "display_data"
    },
    {
     "data": {
      "application/javascript": [
       "$('div#9d37b887-fb70-4dc8-8e5c-1e76ab18de6d').text('152/767');"
      ],
      "text/plain": [
       "<IPython.core.display.Javascript at 0x109c50d10>"
      ]
     },
     "metadata": {},
     "output_type": "display_data"
    },
    {
     "data": {
      "application/javascript": [
       "$('div#ab5e3c02-b905-475b-a430-31b97942181f').text(' 19%');"
      ],
      "text/plain": [
       "<IPython.core.display.Javascript at 0x109c50050>"
      ]
     },
     "metadata": {},
     "output_type": "display_data"
    },
    {
     "data": {
      "application/javascript": [
       "\n",
       "        var $myPB = $(\"div#603dd5d6-0527-48ce-991c-b87add1ee92f\")\n",
       "        if ($myPB.hasClass('ui-progressbar')) {\n",
       "            $myPB.progressbar('value', 152);\n",
       "        } else {\n",
       "            $myPB.progressbar({value: 0, max: 767});\n",
       "        }\n",
       "        "
      ],
      "text/plain": [
       "<IPython.core.display.Javascript at 0x109c50b90>"
      ]
     },
     "metadata": {},
     "output_type": "display_data"
    },
    {
     "data": {
      "application/javascript": [
       "$('div#cd03291e-3af7-4959-b151-add232c9b082').text('ETA:  0:00:05');"
      ],
      "text/plain": [
       "<IPython.core.display.Javascript at 0x109c50b50>"
      ]
     },
     "metadata": {},
     "output_type": "display_data"
    },
    {
     "data": {
      "application/javascript": [
       "$('div#9d37b887-fb70-4dc8-8e5c-1e76ab18de6d').text('160/767');"
      ],
      "text/plain": [
       "<IPython.core.display.Javascript at 0x112a48c90>"
      ]
     },
     "metadata": {},
     "output_type": "display_data"
    },
    {
     "data": {
      "application/javascript": [
       "$('div#ab5e3c02-b905-475b-a430-31b97942181f').text(' 20%');"
      ],
      "text/plain": [
       "<IPython.core.display.Javascript at 0x112a486d0>"
      ]
     },
     "metadata": {},
     "output_type": "display_data"
    },
    {
     "data": {
      "application/javascript": [
       "\n",
       "        var $myPB = $(\"div#603dd5d6-0527-48ce-991c-b87add1ee92f\")\n",
       "        if ($myPB.hasClass('ui-progressbar')) {\n",
       "            $myPB.progressbar('value', 160);\n",
       "        } else {\n",
       "            $myPB.progressbar({value: 0, max: 767});\n",
       "        }\n",
       "        "
      ],
      "text/plain": [
       "<IPython.core.display.Javascript at 0x111209550>"
      ]
     },
     "metadata": {},
     "output_type": "display_data"
    },
    {
     "data": {
      "application/javascript": [
       "$('div#cd03291e-3af7-4959-b151-add232c9b082').text('ETA:  0:00:04');"
      ],
      "text/plain": [
       "<IPython.core.display.Javascript at 0x111209750>"
      ]
     },
     "metadata": {},
     "output_type": "display_data"
    },
    {
     "data": {
      "application/javascript": [
       "$('div#9d37b887-fb70-4dc8-8e5c-1e76ab18de6d').text('168/767');"
      ],
      "text/plain": [
       "<IPython.core.display.Javascript at 0x1112095d0>"
      ]
     },
     "metadata": {},
     "output_type": "display_data"
    },
    {
     "data": {
      "application/javascript": [
       "$('div#ab5e3c02-b905-475b-a430-31b97942181f').text(' 21%');"
      ],
      "text/plain": [
       "<IPython.core.display.Javascript at 0x111209710>"
      ]
     },
     "metadata": {},
     "output_type": "display_data"
    },
    {
     "data": {
      "application/javascript": [
       "\n",
       "        var $myPB = $(\"div#603dd5d6-0527-48ce-991c-b87add1ee92f\")\n",
       "        if ($myPB.hasClass('ui-progressbar')) {\n",
       "            $myPB.progressbar('value', 168);\n",
       "        } else {\n",
       "            $myPB.progressbar({value: 0, max: 767});\n",
       "        }\n",
       "        "
      ],
      "text/plain": [
       "<IPython.core.display.Javascript at 0x111203850>"
      ]
     },
     "metadata": {},
     "output_type": "display_data"
    },
    {
     "data": {
      "application/javascript": [
       "$('div#cd03291e-3af7-4959-b151-add232c9b082').text('ETA:  0:00:04');"
      ],
      "text/plain": [
       "<IPython.core.display.Javascript at 0x111209610>"
      ]
     },
     "metadata": {},
     "output_type": "display_data"
    },
    {
     "data": {
      "application/javascript": [
       "$('div#9d37b887-fb70-4dc8-8e5c-1e76ab18de6d').text('176/767');"
      ],
      "text/plain": [
       "<IPython.core.display.Javascript at 0x111203850>"
      ]
     },
     "metadata": {},
     "output_type": "display_data"
    },
    {
     "data": {
      "application/javascript": [
       "$('div#ab5e3c02-b905-475b-a430-31b97942181f').text(' 22%');"
      ],
      "text/plain": [
       "<IPython.core.display.Javascript at 0x112a48c90>"
      ]
     },
     "metadata": {},
     "output_type": "display_data"
    },
    {
     "data": {
      "application/javascript": [
       "\n",
       "        var $myPB = $(\"div#603dd5d6-0527-48ce-991c-b87add1ee92f\")\n",
       "        if ($myPB.hasClass('ui-progressbar')) {\n",
       "            $myPB.progressbar('value', 176);\n",
       "        } else {\n",
       "            $myPB.progressbar({value: 0, max: 767});\n",
       "        }\n",
       "        "
      ],
      "text/plain": [
       "<IPython.core.display.Javascript at 0x112a486d0>"
      ]
     },
     "metadata": {},
     "output_type": "display_data"
    },
    {
     "data": {
      "application/javascript": [
       "$('div#cd03291e-3af7-4959-b151-add232c9b082').text('ETA:  0:00:04');"
      ],
      "text/plain": [
       "<IPython.core.display.Javascript at 0x109c50b50>"
      ]
     },
     "metadata": {},
     "output_type": "display_data"
    },
    {
     "data": {
      "application/javascript": [
       "$('div#9d37b887-fb70-4dc8-8e5c-1e76ab18de6d').text('184/767');"
      ],
      "text/plain": [
       "<IPython.core.display.Javascript at 0x111203850>"
      ]
     },
     "metadata": {},
     "output_type": "display_data"
    },
    {
     "data": {
      "application/javascript": [
       "$('div#ab5e3c02-b905-475b-a430-31b97942181f').text(' 23%');"
      ],
      "text/plain": [
       "<IPython.core.display.Javascript at 0x112a48c90>"
      ]
     },
     "metadata": {},
     "output_type": "display_data"
    },
    {
     "data": {
      "application/javascript": [
       "\n",
       "        var $myPB = $(\"div#603dd5d6-0527-48ce-991c-b87add1ee92f\")\n",
       "        if ($myPB.hasClass('ui-progressbar')) {\n",
       "            $myPB.progressbar('value', 184);\n",
       "        } else {\n",
       "            $myPB.progressbar({value: 0, max: 767});\n",
       "        }\n",
       "        "
      ],
      "text/plain": [
       "<IPython.core.display.Javascript at 0x112a486d0>"
      ]
     },
     "metadata": {},
     "output_type": "display_data"
    },
    {
     "data": {
      "application/javascript": [
       "$('div#cd03291e-3af7-4959-b151-add232c9b082').text('ETA:  0:00:04');"
      ],
      "text/plain": [
       "<IPython.core.display.Javascript at 0x109c50050>"
      ]
     },
     "metadata": {},
     "output_type": "display_data"
    },
    {
     "data": {
      "application/javascript": [
       "$('div#9d37b887-fb70-4dc8-8e5c-1e76ab18de6d').text('192/767');"
      ],
      "text/plain": [
       "<IPython.core.display.Javascript at 0x111203850>"
      ]
     },
     "metadata": {},
     "output_type": "display_data"
    },
    {
     "data": {
      "application/javascript": [
       "$('div#ab5e3c02-b905-475b-a430-31b97942181f').text(' 25%');"
      ],
      "text/plain": [
       "<IPython.core.display.Javascript at 0x112a48c90>"
      ]
     },
     "metadata": {},
     "output_type": "display_data"
    },
    {
     "data": {
      "application/javascript": [
       "\n",
       "        var $myPB = $(\"div#603dd5d6-0527-48ce-991c-b87add1ee92f\")\n",
       "        if ($myPB.hasClass('ui-progressbar')) {\n",
       "            $myPB.progressbar('value', 192);\n",
       "        } else {\n",
       "            $myPB.progressbar({value: 0, max: 767});\n",
       "        }\n",
       "        "
      ],
      "text/plain": [
       "<IPython.core.display.Javascript at 0x112a486d0>"
      ]
     },
     "metadata": {},
     "output_type": "display_data"
    },
    {
     "data": {
      "application/javascript": [
       "$('div#cd03291e-3af7-4959-b151-add232c9b082').text('ETA:  0:00:04');"
      ],
      "text/plain": [
       "<IPython.core.display.Javascript at 0x109c50d10>"
      ]
     },
     "metadata": {},
     "output_type": "display_data"
    },
    {
     "data": {
      "application/javascript": [
       "$('div#9d37b887-fb70-4dc8-8e5c-1e76ab18de6d').text('200/767');"
      ],
      "text/plain": [
       "<IPython.core.display.Javascript at 0x109c50050>"
      ]
     },
     "metadata": {},
     "output_type": "display_data"
    },
    {
     "data": {
      "application/javascript": [
       "$('div#ab5e3c02-b905-475b-a430-31b97942181f').text(' 26%');"
      ],
      "text/plain": [
       "<IPython.core.display.Javascript at 0x109c50b90>"
      ]
     },
     "metadata": {},
     "output_type": "display_data"
    },
    {
     "data": {
      "application/javascript": [
       "\n",
       "        var $myPB = $(\"div#603dd5d6-0527-48ce-991c-b87add1ee92f\")\n",
       "        if ($myPB.hasClass('ui-progressbar')) {\n",
       "            $myPB.progressbar('value', 200);\n",
       "        } else {\n",
       "            $myPB.progressbar({value: 0, max: 767});\n",
       "        }\n",
       "        "
      ],
      "text/plain": [
       "<IPython.core.display.Javascript at 0x109c50b50>"
      ]
     },
     "metadata": {},
     "output_type": "display_data"
    },
    {
     "data": {
      "application/javascript": [
       "$('div#cd03291e-3af7-4959-b151-add232c9b082').text('ETA:  0:00:04');"
      ],
      "text/plain": [
       "<IPython.core.display.Javascript at 0x111209710>"
      ]
     },
     "metadata": {},
     "output_type": "display_data"
    },
    {
     "data": {
      "application/javascript": [
       "$('div#9d37b887-fb70-4dc8-8e5c-1e76ab18de6d').text('208/767');"
      ],
      "text/plain": [
       "<IPython.core.display.Javascript at 0x111209750>"
      ]
     },
     "metadata": {},
     "output_type": "display_data"
    },
    {
     "data": {
      "application/javascript": [
       "$('div#ab5e3c02-b905-475b-a430-31b97942181f').text(' 27%');"
      ],
      "text/plain": [
       "<IPython.core.display.Javascript at 0x111209690>"
      ]
     },
     "metadata": {},
     "output_type": "display_data"
    },
    {
     "data": {
      "application/javascript": [
       "\n",
       "        var $myPB = $(\"div#603dd5d6-0527-48ce-991c-b87add1ee92f\")\n",
       "        if ($myPB.hasClass('ui-progressbar')) {\n",
       "            $myPB.progressbar('value', 208);\n",
       "        } else {\n",
       "            $myPB.progressbar({value: 0, max: 767});\n",
       "        }\n",
       "        "
      ],
      "text/plain": [
       "<IPython.core.display.Javascript at 0x1112095d0>"
      ]
     },
     "metadata": {},
     "output_type": "display_data"
    },
    {
     "data": {
      "application/javascript": [
       "$('div#cd03291e-3af7-4959-b151-add232c9b082').text('ETA:  0:00:04');"
      ],
      "text/plain": [
       "<IPython.core.display.Javascript at 0x111209550>"
      ]
     },
     "metadata": {},
     "output_type": "display_data"
    },
    {
     "data": {
      "application/javascript": [
       "$('div#9d37b887-fb70-4dc8-8e5c-1e76ab18de6d').text('216/767');"
      ],
      "text/plain": [
       "<IPython.core.display.Javascript at 0x109c50050>"
      ]
     },
     "metadata": {},
     "output_type": "display_data"
    },
    {
     "data": {
      "application/javascript": [
       "$('div#ab5e3c02-b905-475b-a430-31b97942181f').text(' 28%');"
      ],
      "text/plain": [
       "<IPython.core.display.Javascript at 0x109c50b50>"
      ]
     },
     "metadata": {},
     "output_type": "display_data"
    },
    {
     "data": {
      "application/javascript": [
       "\n",
       "        var $myPB = $(\"div#603dd5d6-0527-48ce-991c-b87add1ee92f\")\n",
       "        if ($myPB.hasClass('ui-progressbar')) {\n",
       "            $myPB.progressbar('value', 216);\n",
       "        } else {\n",
       "            $myPB.progressbar({value: 0, max: 767});\n",
       "        }\n",
       "        "
      ],
      "text/plain": [
       "<IPython.core.display.Javascript at 0x109c50b90>"
      ]
     },
     "metadata": {},
     "output_type": "display_data"
    },
    {
     "data": {
      "application/javascript": [
       "$('div#cd03291e-3af7-4959-b151-add232c9b082').text('ETA:  0:00:04');"
      ],
      "text/plain": [
       "<IPython.core.display.Javascript at 0x109c50d10>"
      ]
     },
     "metadata": {},
     "output_type": "display_data"
    },
    {
     "data": {
      "application/javascript": [
       "$('div#9d37b887-fb70-4dc8-8e5c-1e76ab18de6d').text('224/767');"
      ],
      "text/plain": [
       "<IPython.core.display.Javascript at 0x111203850>"
      ]
     },
     "metadata": {},
     "output_type": "display_data"
    },
    {
     "data": {
      "application/javascript": [
       "$('div#ab5e3c02-b905-475b-a430-31b97942181f').text(' 29%');"
      ],
      "text/plain": [
       "<IPython.core.display.Javascript at 0x112a48c90>"
      ]
     },
     "metadata": {},
     "output_type": "display_data"
    },
    {
     "data": {
      "application/javascript": [
       "\n",
       "        var $myPB = $(\"div#603dd5d6-0527-48ce-991c-b87add1ee92f\")\n",
       "        if ($myPB.hasClass('ui-progressbar')) {\n",
       "            $myPB.progressbar('value', 224);\n",
       "        } else {\n",
       "            $myPB.progressbar({value: 0, max: 767});\n",
       "        }\n",
       "        "
      ],
      "text/plain": [
       "<IPython.core.display.Javascript at 0x112a486d0>"
      ]
     },
     "metadata": {},
     "output_type": "display_data"
    },
    {
     "data": {
      "application/javascript": [
       "$('div#cd03291e-3af7-4959-b151-add232c9b082').text('ETA:  0:00:04');"
      ],
      "text/plain": [
       "<IPython.core.display.Javascript at 0x111209550>"
      ]
     },
     "metadata": {},
     "output_type": "display_data"
    },
    {
     "data": {
      "application/javascript": [
       "$('div#9d37b887-fb70-4dc8-8e5c-1e76ab18de6d').text('232/767');"
      ],
      "text/plain": [
       "<IPython.core.display.Javascript at 0x111203850>"
      ]
     },
     "metadata": {},
     "output_type": "display_data"
    },
    {
     "data": {
      "application/javascript": [
       "$('div#ab5e3c02-b905-475b-a430-31b97942181f').text(' 30%');"
      ],
      "text/plain": [
       "<IPython.core.display.Javascript at 0x112a48c90>"
      ]
     },
     "metadata": {},
     "output_type": "display_data"
    },
    {
     "data": {
      "application/javascript": [
       "\n",
       "        var $myPB = $(\"div#603dd5d6-0527-48ce-991c-b87add1ee92f\")\n",
       "        if ($myPB.hasClass('ui-progressbar')) {\n",
       "            $myPB.progressbar('value', 232);\n",
       "        } else {\n",
       "            $myPB.progressbar({value: 0, max: 767});\n",
       "        }\n",
       "        "
      ],
      "text/plain": [
       "<IPython.core.display.Javascript at 0x112a486d0>"
      ]
     },
     "metadata": {},
     "output_type": "display_data"
    },
    {
     "data": {
      "application/javascript": [
       "$('div#cd03291e-3af7-4959-b151-add232c9b082').text('ETA:  0:00:04');"
      ],
      "text/plain": [
       "<IPython.core.display.Javascript at 0x109c50d10>"
      ]
     },
     "metadata": {},
     "output_type": "display_data"
    },
    {
     "data": {
      "application/javascript": [
       "$('div#9d37b887-fb70-4dc8-8e5c-1e76ab18de6d').text('240/767');"
      ],
      "text/plain": [
       "<IPython.core.display.Javascript at 0x109c50b50>"
      ]
     },
     "metadata": {},
     "output_type": "display_data"
    },
    {
     "data": {
      "application/javascript": [
       "$('div#ab5e3c02-b905-475b-a430-31b97942181f').text(' 31%');"
      ],
      "text/plain": [
       "<IPython.core.display.Javascript at 0x109c50b90>"
      ]
     },
     "metadata": {},
     "output_type": "display_data"
    },
    {
     "data": {
      "application/javascript": [
       "\n",
       "        var $myPB = $(\"div#603dd5d6-0527-48ce-991c-b87add1ee92f\")\n",
       "        if ($myPB.hasClass('ui-progressbar')) {\n",
       "            $myPB.progressbar('value', 240);\n",
       "        } else {\n",
       "            $myPB.progressbar({value: 0, max: 767});\n",
       "        }\n",
       "        "
      ],
      "text/plain": [
       "<IPython.core.display.Javascript at 0x109c50050>"
      ]
     },
     "metadata": {},
     "output_type": "display_data"
    },
    {
     "data": {
      "application/javascript": [
       "$('div#cd03291e-3af7-4959-b151-add232c9b082').text('ETA:  0:00:04');"
      ],
      "text/plain": [
       "<IPython.core.display.Javascript at 0x111209550>"
      ]
     },
     "metadata": {},
     "output_type": "display_data"
    },
    {
     "data": {
      "application/javascript": [
       "$('div#9d37b887-fb70-4dc8-8e5c-1e76ab18de6d').text('248/767');"
      ],
      "text/plain": [
       "<IPython.core.display.Javascript at 0x109c50b90>"
      ]
     },
     "metadata": {},
     "output_type": "display_data"
    },
    {
     "data": {
      "application/javascript": [
       "$('div#ab5e3c02-b905-475b-a430-31b97942181f').text(' 32%');"
      ],
      "text/plain": [
       "<IPython.core.display.Javascript at 0x109c50b50>"
      ]
     },
     "metadata": {},
     "output_type": "display_data"
    },
    {
     "data": {
      "application/javascript": [
       "\n",
       "        var $myPB = $(\"div#603dd5d6-0527-48ce-991c-b87add1ee92f\")\n",
       "        if ($myPB.hasClass('ui-progressbar')) {\n",
       "            $myPB.progressbar('value', 248);\n",
       "        } else {\n",
       "            $myPB.progressbar({value: 0, max: 767});\n",
       "        }\n",
       "        "
      ],
      "text/plain": [
       "<IPython.core.display.Javascript at 0x109c50050>"
      ]
     },
     "metadata": {},
     "output_type": "display_data"
    },
    {
     "data": {
      "application/javascript": [
       "$('div#cd03291e-3af7-4959-b151-add232c9b082').text('ETA:  0:00:03');"
      ],
      "text/plain": [
       "<IPython.core.display.Javascript at 0x109c50d10>"
      ]
     },
     "metadata": {},
     "output_type": "display_data"
    },
    {
     "data": {
      "application/javascript": [
       "$('div#9d37b887-fb70-4dc8-8e5c-1e76ab18de6d').text('256/767');"
      ],
      "text/plain": [
       "<IPython.core.display.Javascript at 0x111203850>"
      ]
     },
     "metadata": {},
     "output_type": "display_data"
    },
    {
     "data": {
      "application/javascript": [
       "$('div#ab5e3c02-b905-475b-a430-31b97942181f').text(' 33%');"
      ],
      "text/plain": [
       "<IPython.core.display.Javascript at 0x112a48c90>"
      ]
     },
     "metadata": {},
     "output_type": "display_data"
    },
    {
     "data": {
      "application/javascript": [
       "\n",
       "        var $myPB = $(\"div#603dd5d6-0527-48ce-991c-b87add1ee92f\")\n",
       "        if ($myPB.hasClass('ui-progressbar')) {\n",
       "            $myPB.progressbar('value', 256);\n",
       "        } else {\n",
       "            $myPB.progressbar({value: 0, max: 767});\n",
       "        }\n",
       "        "
      ],
      "text/plain": [
       "<IPython.core.display.Javascript at 0x112a486d0>"
      ]
     },
     "metadata": {},
     "output_type": "display_data"
    },
    {
     "data": {
      "application/javascript": [
       "$('div#cd03291e-3af7-4959-b151-add232c9b082').text('ETA:  0:00:03');"
      ],
      "text/plain": [
       "<IPython.core.display.Javascript at 0x111209690>"
      ]
     },
     "metadata": {},
     "output_type": "display_data"
    },
    {
     "data": {
      "application/javascript": [
       "$('div#9d37b887-fb70-4dc8-8e5c-1e76ab18de6d').text('264/767');"
      ],
      "text/plain": [
       "<IPython.core.display.Javascript at 0x110a34290>"
      ]
     },
     "metadata": {},
     "output_type": "display_data"
    },
    {
     "data": {
      "application/javascript": [
       "$('div#ab5e3c02-b905-475b-a430-31b97942181f').text(' 34%');"
      ],
      "text/plain": [
       "<IPython.core.display.Javascript at 0x112a486d0>"
      ]
     },
     "metadata": {},
     "output_type": "display_data"
    },
    {
     "data": {
      "application/javascript": [
       "\n",
       "        var $myPB = $(\"div#603dd5d6-0527-48ce-991c-b87add1ee92f\")\n",
       "        if ($myPB.hasClass('ui-progressbar')) {\n",
       "            $myPB.progressbar('value', 264);\n",
       "        } else {\n",
       "            $myPB.progressbar({value: 0, max: 767});\n",
       "        }\n",
       "        "
      ],
      "text/plain": [
       "<IPython.core.display.Javascript at 0x112a48c90>"
      ]
     },
     "metadata": {},
     "output_type": "display_data"
    },
    {
     "data": {
      "application/javascript": [
       "$('div#cd03291e-3af7-4959-b151-add232c9b082').text('ETA:  0:00:03');"
      ],
      "text/plain": [
       "<IPython.core.display.Javascript at 0x111203850>"
      ]
     },
     "metadata": {},
     "output_type": "display_data"
    },
    {
     "data": {
      "application/javascript": [
       "$('div#9d37b887-fb70-4dc8-8e5c-1e76ab18de6d').text('272/767');"
      ],
      "text/plain": [
       "<IPython.core.display.Javascript at 0x109c50b50>"
      ]
     },
     "metadata": {},
     "output_type": "display_data"
    },
    {
     "data": {
      "application/javascript": [
       "$('div#ab5e3c02-b905-475b-a430-31b97942181f').text(' 35%');"
      ],
      "text/plain": [
       "<IPython.core.display.Javascript at 0x109c50050>"
      ]
     },
     "metadata": {},
     "output_type": "display_data"
    },
    {
     "data": {
      "application/javascript": [
       "\n",
       "        var $myPB = $(\"div#603dd5d6-0527-48ce-991c-b87add1ee92f\")\n",
       "        if ($myPB.hasClass('ui-progressbar')) {\n",
       "            $myPB.progressbar('value', 272);\n",
       "        } else {\n",
       "            $myPB.progressbar({value: 0, max: 767});\n",
       "        }\n",
       "        "
      ],
      "text/plain": [
       "<IPython.core.display.Javascript at 0x109c50d10>"
      ]
     },
     "metadata": {},
     "output_type": "display_data"
    },
    {
     "data": {
      "application/javascript": [
       "$('div#cd03291e-3af7-4959-b151-add232c9b082').text('ETA:  0:00:03');"
      ],
      "text/plain": [
       "<IPython.core.display.Javascript at 0x109c50b90>"
      ]
     },
     "metadata": {},
     "output_type": "display_data"
    },
    {
     "data": {
      "application/javascript": [
       "$('div#9d37b887-fb70-4dc8-8e5c-1e76ab18de6d').text('280/767');"
      ],
      "text/plain": [
       "<IPython.core.display.Javascript at 0x111203850>"
      ]
     },
     "metadata": {},
     "output_type": "display_data"
    },
    {
     "data": {
      "application/javascript": [
       "$('div#ab5e3c02-b905-475b-a430-31b97942181f').text(' 36%');"
      ],
      "text/plain": [
       "<IPython.core.display.Javascript at 0x109c50b90>"
      ]
     },
     "metadata": {},
     "output_type": "display_data"
    },
    {
     "data": {
      "application/javascript": [
       "\n",
       "        var $myPB = $(\"div#603dd5d6-0527-48ce-991c-b87add1ee92f\")\n",
       "        if ($myPB.hasClass('ui-progressbar')) {\n",
       "            $myPB.progressbar('value', 280);\n",
       "        } else {\n",
       "            $myPB.progressbar({value: 0, max: 767});\n",
       "        }\n",
       "        "
      ],
      "text/plain": [
       "<IPython.core.display.Javascript at 0x109c50d10>"
      ]
     },
     "metadata": {},
     "output_type": "display_data"
    },
    {
     "data": {
      "application/javascript": [
       "$('div#cd03291e-3af7-4959-b151-add232c9b082').text('ETA:  0:00:03');"
      ],
      "text/plain": [
       "<IPython.core.display.Javascript at 0x109c50050>"
      ]
     },
     "metadata": {},
     "output_type": "display_data"
    },
    {
     "data": {
      "application/javascript": [
       "$('div#9d37b887-fb70-4dc8-8e5c-1e76ab18de6d').text('288/767');"
      ],
      "text/plain": [
       "<IPython.core.display.Javascript at 0x109c50b50>"
      ]
     },
     "metadata": {},
     "output_type": "display_data"
    },
    {
     "data": {
      "application/javascript": [
       "$('div#ab5e3c02-b905-475b-a430-31b97942181f').text(' 37%');"
      ],
      "text/plain": [
       "<IPython.core.display.Javascript at 0x110a34290>"
      ]
     },
     "metadata": {},
     "output_type": "display_data"
    },
    {
     "data": {
      "application/javascript": [
       "\n",
       "        var $myPB = $(\"div#603dd5d6-0527-48ce-991c-b87add1ee92f\")\n",
       "        if ($myPB.hasClass('ui-progressbar')) {\n",
       "            $myPB.progressbar('value', 288);\n",
       "        } else {\n",
       "            $myPB.progressbar({value: 0, max: 767});\n",
       "        }\n",
       "        "
      ],
      "text/plain": [
       "<IPython.core.display.Javascript at 0x112a486d0>"
      ]
     },
     "metadata": {},
     "output_type": "display_data"
    },
    {
     "data": {
      "application/javascript": [
       "$('div#cd03291e-3af7-4959-b151-add232c9b082').text('ETA:  0:00:03');"
      ],
      "text/plain": [
       "<IPython.core.display.Javascript at 0x112a48c90>"
      ]
     },
     "metadata": {},
     "output_type": "display_data"
    },
    {
     "data": {
      "application/javascript": [
       "$('div#9d37b887-fb70-4dc8-8e5c-1e76ab18de6d').text('296/767');"
      ],
      "text/plain": [
       "<IPython.core.display.Javascript at 0x1112095d0>"
      ]
     },
     "metadata": {},
     "output_type": "display_data"
    },
    {
     "data": {
      "application/javascript": [
       "$('div#ab5e3c02-b905-475b-a430-31b97942181f').text(' 38%');"
      ],
      "text/plain": [
       "<IPython.core.display.Javascript at 0x111209750>"
      ]
     },
     "metadata": {},
     "output_type": "display_data"
    },
    {
     "data": {
      "application/javascript": [
       "\n",
       "        var $myPB = $(\"div#603dd5d6-0527-48ce-991c-b87add1ee92f\")\n",
       "        if ($myPB.hasClass('ui-progressbar')) {\n",
       "            $myPB.progressbar('value', 296);\n",
       "        } else {\n",
       "            $myPB.progressbar({value: 0, max: 767});\n",
       "        }\n",
       "        "
      ],
      "text/plain": [
       "<IPython.core.display.Javascript at 0x111209710>"
      ]
     },
     "metadata": {},
     "output_type": "display_data"
    },
    {
     "data": {
      "application/javascript": [
       "$('div#cd03291e-3af7-4959-b151-add232c9b082').text('ETA:  0:00:03');"
      ],
      "text/plain": [
       "<IPython.core.display.Javascript at 0x111209690>"
      ]
     },
     "metadata": {},
     "output_type": "display_data"
    },
    {
     "data": {
      "application/javascript": [
       "$('div#9d37b887-fb70-4dc8-8e5c-1e76ab18de6d').text('304/767');"
      ],
      "text/plain": [
       "<IPython.core.display.Javascript at 0x112a48c90>"
      ]
     },
     "metadata": {},
     "output_type": "display_data"
    },
    {
     "data": {
      "application/javascript": [
       "$('div#ab5e3c02-b905-475b-a430-31b97942181f').text(' 39%');"
      ],
      "text/plain": [
       "<IPython.core.display.Javascript at 0x112a486d0>"
      ]
     },
     "metadata": {},
     "output_type": "display_data"
    },
    {
     "data": {
      "application/javascript": [
       "\n",
       "        var $myPB = $(\"div#603dd5d6-0527-48ce-991c-b87add1ee92f\")\n",
       "        if ($myPB.hasClass('ui-progressbar')) {\n",
       "            $myPB.progressbar('value', 304);\n",
       "        } else {\n",
       "            $myPB.progressbar({value: 0, max: 767});\n",
       "        }\n",
       "        "
      ],
      "text/plain": [
       "<IPython.core.display.Javascript at 0x110a34290>"
      ]
     },
     "metadata": {},
     "output_type": "display_data"
    },
    {
     "data": {
      "application/javascript": [
       "$('div#cd03291e-3af7-4959-b151-add232c9b082').text('ETA:  0:00:03');"
      ],
      "text/plain": [
       "<IPython.core.display.Javascript at 0x111203850>"
      ]
     },
     "metadata": {},
     "output_type": "display_data"
    },
    {
     "data": {
      "application/javascript": [
       "$('div#9d37b887-fb70-4dc8-8e5c-1e76ab18de6d').text('312/767');"
      ],
      "text/plain": [
       "<IPython.core.display.Javascript at 0x109c50b50>"
      ]
     },
     "metadata": {},
     "output_type": "display_data"
    },
    {
     "data": {
      "application/javascript": [
       "$('div#ab5e3c02-b905-475b-a430-31b97942181f').text(' 40%');"
      ],
      "text/plain": [
       "<IPython.core.display.Javascript at 0x109c50d10>"
      ]
     },
     "metadata": {},
     "output_type": "display_data"
    },
    {
     "data": {
      "application/javascript": [
       "\n",
       "        var $myPB = $(\"div#603dd5d6-0527-48ce-991c-b87add1ee92f\")\n",
       "        if ($myPB.hasClass('ui-progressbar')) {\n",
       "            $myPB.progressbar('value', 312);\n",
       "        } else {\n",
       "            $myPB.progressbar({value: 0, max: 767});\n",
       "        }\n",
       "        "
      ],
      "text/plain": [
       "<IPython.core.display.Javascript at 0x109c50b90>"
      ]
     },
     "metadata": {},
     "output_type": "display_data"
    },
    {
     "data": {
      "application/javascript": [
       "$('div#cd03291e-3af7-4959-b151-add232c9b082').text('ETA:  0:00:03');"
      ],
      "text/plain": [
       "<IPython.core.display.Javascript at 0x109c50050>"
      ]
     },
     "metadata": {},
     "output_type": "display_data"
    },
    {
     "data": {
      "application/javascript": [
       "$('div#9d37b887-fb70-4dc8-8e5c-1e76ab18de6d').text('320/767');"
      ],
      "text/plain": [
       "<IPython.core.display.Javascript at 0x111209750>"
      ]
     },
     "metadata": {},
     "output_type": "display_data"
    },
    {
     "data": {
      "application/javascript": [
       "$('div#ab5e3c02-b905-475b-a430-31b97942181f').text(' 41%');"
      ],
      "text/plain": [
       "<IPython.core.display.Javascript at 0x1112095d0>"
      ]
     },
     "metadata": {},
     "output_type": "display_data"
    },
    {
     "data": {
      "application/javascript": [
       "\n",
       "        var $myPB = $(\"div#603dd5d6-0527-48ce-991c-b87add1ee92f\")\n",
       "        if ($myPB.hasClass('ui-progressbar')) {\n",
       "            $myPB.progressbar('value', 320);\n",
       "        } else {\n",
       "            $myPB.progressbar({value: 0, max: 767});\n",
       "        }\n",
       "        "
      ],
      "text/plain": [
       "<IPython.core.display.Javascript at 0x111209690>"
      ]
     },
     "metadata": {},
     "output_type": "display_data"
    },
    {
     "data": {
      "application/javascript": [
       "$('div#cd03291e-3af7-4959-b151-add232c9b082').text('ETA:  0:00:03');"
      ],
      "text/plain": [
       "<IPython.core.display.Javascript at 0x111209710>"
      ]
     },
     "metadata": {},
     "output_type": "display_data"
    },
    {
     "data": {
      "application/javascript": [
       "$('div#9d37b887-fb70-4dc8-8e5c-1e76ab18de6d').text('328/767');"
      ],
      "text/plain": [
       "<IPython.core.display.Javascript at 0x111209350>"
      ]
     },
     "metadata": {},
     "output_type": "display_data"
    },
    {
     "data": {
      "application/javascript": [
       "$('div#ab5e3c02-b905-475b-a430-31b97942181f').text(' 42%');"
      ],
      "text/plain": [
       "<IPython.core.display.Javascript at 0x111209550>"
      ]
     },
     "metadata": {},
     "output_type": "display_data"
    },
    {
     "data": {
      "application/javascript": [
       "\n",
       "        var $myPB = $(\"div#603dd5d6-0527-48ce-991c-b87add1ee92f\")\n",
       "        if ($myPB.hasClass('ui-progressbar')) {\n",
       "            $myPB.progressbar('value', 328);\n",
       "        } else {\n",
       "            $myPB.progressbar({value: 0, max: 767});\n",
       "        }\n",
       "        "
      ],
      "text/plain": [
       "<IPython.core.display.Javascript at 0x111209650>"
      ]
     },
     "metadata": {},
     "output_type": "display_data"
    },
    {
     "data": {
      "application/javascript": [
       "$('div#cd03291e-3af7-4959-b151-add232c9b082').text('ETA:  0:00:03');"
      ],
      "text/plain": [
       "<IPython.core.display.Javascript at 0x111209610>"
      ]
     },
     "metadata": {},
     "output_type": "display_data"
    },
    {
     "data": {
      "application/javascript": [
       "$('div#9d37b887-fb70-4dc8-8e5c-1e76ab18de6d').text('336/767');"
      ],
      "text/plain": [
       "<IPython.core.display.Javascript at 0x109c48450>"
      ]
     },
     "metadata": {},
     "output_type": "display_data"
    },
    {
     "data": {
      "application/javascript": [
       "$('div#ab5e3c02-b905-475b-a430-31b97942181f').text(' 43%');"
      ],
      "text/plain": [
       "<IPython.core.display.Javascript at 0x109c480d0>"
      ]
     },
     "metadata": {},
     "output_type": "display_data"
    },
    {
     "data": {
      "application/javascript": [
       "\n",
       "        var $myPB = $(\"div#603dd5d6-0527-48ce-991c-b87add1ee92f\")\n",
       "        if ($myPB.hasClass('ui-progressbar')) {\n",
       "            $myPB.progressbar('value', 336);\n",
       "        } else {\n",
       "            $myPB.progressbar({value: 0, max: 767});\n",
       "        }\n",
       "        "
      ],
      "text/plain": [
       "<IPython.core.display.Javascript at 0x109c48610>"
      ]
     },
     "metadata": {},
     "output_type": "display_data"
    },
    {
     "data": {
      "application/javascript": [
       "$('div#cd03291e-3af7-4959-b151-add232c9b082').text('ETA:  0:00:02');"
      ],
      "text/plain": [
       "<IPython.core.display.Javascript at 0x111e5bd50>"
      ]
     },
     "metadata": {},
     "output_type": "display_data"
    },
    {
     "data": {
      "application/javascript": [
       "$('div#9d37b887-fb70-4dc8-8e5c-1e76ab18de6d').text('344/767');"
      ],
      "text/plain": [
       "<IPython.core.display.Javascript at 0x113157e10>"
      ]
     },
     "metadata": {},
     "output_type": "display_data"
    },
    {
     "data": {
      "application/javascript": [
       "$('div#ab5e3c02-b905-475b-a430-31b97942181f').text(' 44%');"
      ],
      "text/plain": [
       "<IPython.core.display.Javascript at 0x110a0dd90>"
      ]
     },
     "metadata": {},
     "output_type": "display_data"
    },
    {
     "data": {
      "application/javascript": [
       "\n",
       "        var $myPB = $(\"div#603dd5d6-0527-48ce-991c-b87add1ee92f\")\n",
       "        if ($myPB.hasClass('ui-progressbar')) {\n",
       "            $myPB.progressbar('value', 344);\n",
       "        } else {\n",
       "            $myPB.progressbar({value: 0, max: 767});\n",
       "        }\n",
       "        "
      ],
      "text/plain": [
       "<IPython.core.display.Javascript at 0x110a0de10>"
      ]
     },
     "metadata": {},
     "output_type": "display_data"
    },
    {
     "data": {
      "application/javascript": [
       "$('div#cd03291e-3af7-4959-b151-add232c9b082').text('ETA:  0:00:02');"
      ],
      "text/plain": [
       "<IPython.core.display.Javascript at 0x110a0ddd0>"
      ]
     },
     "metadata": {},
     "output_type": "display_data"
    },
    {
     "data": {
      "application/javascript": [
       "$('div#9d37b887-fb70-4dc8-8e5c-1e76ab18de6d').text('352/767');"
      ],
      "text/plain": [
       "<IPython.core.display.Javascript at 0x113174210>"
      ]
     },
     "metadata": {},
     "output_type": "display_data"
    },
    {
     "data": {
      "application/javascript": [
       "$('div#ab5e3c02-b905-475b-a430-31b97942181f').text(' 45%');"
      ],
      "text/plain": [
       "<IPython.core.display.Javascript at 0x1131742d0>"
      ]
     },
     "metadata": {},
     "output_type": "display_data"
    },
    {
     "data": {
      "application/javascript": [
       "\n",
       "        var $myPB = $(\"div#603dd5d6-0527-48ce-991c-b87add1ee92f\")\n",
       "        if ($myPB.hasClass('ui-progressbar')) {\n",
       "            $myPB.progressbar('value', 352);\n",
       "        } else {\n",
       "            $myPB.progressbar({value: 0, max: 767});\n",
       "        }\n",
       "        "
      ],
      "text/plain": [
       "<IPython.core.display.Javascript at 0x113174290>"
      ]
     },
     "metadata": {},
     "output_type": "display_data"
    },
    {
     "data": {
      "application/javascript": [
       "$('div#cd03291e-3af7-4959-b151-add232c9b082').text('ETA:  0:00:02');"
      ],
      "text/plain": [
       "<IPython.core.display.Javascript at 0x113174090>"
      ]
     },
     "metadata": {},
     "output_type": "display_data"
    },
    {
     "data": {
      "application/javascript": [
       "$('div#9d37b887-fb70-4dc8-8e5c-1e76ab18de6d').text('360/767');"
      ],
      "text/plain": [
       "<IPython.core.display.Javascript at 0x110a0ddd0>"
      ]
     },
     "metadata": {},
     "output_type": "display_data"
    },
    {
     "data": {
      "application/javascript": [
       "$('div#ab5e3c02-b905-475b-a430-31b97942181f').text(' 46%');"
      ],
      "text/plain": [
       "<IPython.core.display.Javascript at 0x110a0de10>"
      ]
     },
     "metadata": {},
     "output_type": "display_data"
    },
    {
     "data": {
      "application/javascript": [
       "\n",
       "        var $myPB = $(\"div#603dd5d6-0527-48ce-991c-b87add1ee92f\")\n",
       "        if ($myPB.hasClass('ui-progressbar')) {\n",
       "            $myPB.progressbar('value', 360);\n",
       "        } else {\n",
       "            $myPB.progressbar({value: 0, max: 767});\n",
       "        }\n",
       "        "
      ],
      "text/plain": [
       "<IPython.core.display.Javascript at 0x110a0dd90>"
      ]
     },
     "metadata": {},
     "output_type": "display_data"
    },
    {
     "data": {
      "application/javascript": [
       "$('div#cd03291e-3af7-4959-b151-add232c9b082').text('ETA:  0:00:02');"
      ],
      "text/plain": [
       "<IPython.core.display.Javascript at 0x113157e10>"
      ]
     },
     "metadata": {},
     "output_type": "display_data"
    },
    {
     "data": {
      "application/javascript": [
       "$('div#9d37b887-fb70-4dc8-8e5c-1e76ab18de6d').text('368/767');"
      ],
      "text/plain": [
       "<IPython.core.display.Javascript at 0x111e5bd50>"
      ]
     },
     "metadata": {},
     "output_type": "display_data"
    },
    {
     "data": {
      "application/javascript": [
       "$('div#ab5e3c02-b905-475b-a430-31b97942181f').text(' 47%');"
      ],
      "text/plain": [
       "<IPython.core.display.Javascript at 0x109c480d0>"
      ]
     },
     "metadata": {},
     "output_type": "display_data"
    },
    {
     "data": {
      "application/javascript": [
       "\n",
       "        var $myPB = $(\"div#603dd5d6-0527-48ce-991c-b87add1ee92f\")\n",
       "        if ($myPB.hasClass('ui-progressbar')) {\n",
       "            $myPB.progressbar('value', 368);\n",
       "        } else {\n",
       "            $myPB.progressbar({value: 0, max: 767});\n",
       "        }\n",
       "        "
      ],
      "text/plain": [
       "<IPython.core.display.Javascript at 0x109c48450>"
      ]
     },
     "metadata": {},
     "output_type": "display_data"
    },
    {
     "data": {
      "application/javascript": [
       "$('div#cd03291e-3af7-4959-b151-add232c9b082').text('ETA:  0:00:02');"
      ],
      "text/plain": [
       "<IPython.core.display.Javascript at 0x109c48610>"
      ]
     },
     "metadata": {},
     "output_type": "display_data"
    },
    {
     "data": {
      "application/javascript": [
       "$('div#9d37b887-fb70-4dc8-8e5c-1e76ab18de6d').text('376/767');"
      ],
      "text/plain": [
       "<IPython.core.display.Javascript at 0x111209650>"
      ]
     },
     "metadata": {},
     "output_type": "display_data"
    },
    {
     "data": {
      "application/javascript": [
       "$('div#ab5e3c02-b905-475b-a430-31b97942181f').text(' 49%');"
      ],
      "text/plain": [
       "<IPython.core.display.Javascript at 0x111209550>"
      ]
     },
     "metadata": {},
     "output_type": "display_data"
    },
    {
     "data": {
      "application/javascript": [
       "\n",
       "        var $myPB = $(\"div#603dd5d6-0527-48ce-991c-b87add1ee92f\")\n",
       "        if ($myPB.hasClass('ui-progressbar')) {\n",
       "            $myPB.progressbar('value', 376);\n",
       "        } else {\n",
       "            $myPB.progressbar({value: 0, max: 767});\n",
       "        }\n",
       "        "
      ],
      "text/plain": [
       "<IPython.core.display.Javascript at 0x111209350>"
      ]
     },
     "metadata": {},
     "output_type": "display_data"
    },
    {
     "data": {
      "application/javascript": [
       "$('div#cd03291e-3af7-4959-b151-add232c9b082').text('ETA:  0:00:02');"
      ],
      "text/plain": [
       "<IPython.core.display.Javascript at 0x111209710>"
      ]
     },
     "metadata": {},
     "output_type": "display_data"
    },
    {
     "data": {
      "application/javascript": [
       "$('div#9d37b887-fb70-4dc8-8e5c-1e76ab18de6d').text('384/767');"
      ],
      "text/plain": [
       "<IPython.core.display.Javascript at 0x1112095d0>"
      ]
     },
     "metadata": {},
     "output_type": "display_data"
    },
    {
     "data": {
      "application/javascript": [
       "$('div#ab5e3c02-b905-475b-a430-31b97942181f').text(' 50%');"
      ],
      "text/plain": [
       "<IPython.core.display.Javascript at 0x111209750>"
      ]
     },
     "metadata": {},
     "output_type": "display_data"
    },
    {
     "data": {
      "application/javascript": [
       "\n",
       "        var $myPB = $(\"div#603dd5d6-0527-48ce-991c-b87add1ee92f\")\n",
       "        if ($myPB.hasClass('ui-progressbar')) {\n",
       "            $myPB.progressbar('value', 384);\n",
       "        } else {\n",
       "            $myPB.progressbar({value: 0, max: 767});\n",
       "        }\n",
       "        "
      ],
      "text/plain": [
       "<IPython.core.display.Javascript at 0x111209690>"
      ]
     },
     "metadata": {},
     "output_type": "display_data"
    },
    {
     "data": {
      "application/javascript": [
       "$('div#cd03291e-3af7-4959-b151-add232c9b082').text('ETA:  0:00:02');"
      ],
      "text/plain": [
       "<IPython.core.display.Javascript at 0x111209610>"
      ]
     },
     "metadata": {},
     "output_type": "display_data"
    },
    {
     "data": {
      "application/javascript": [
       "$('div#9d37b887-fb70-4dc8-8e5c-1e76ab18de6d').text('392/767');"
      ],
      "text/plain": [
       "<IPython.core.display.Javascript at 0x111209610>"
      ]
     },
     "metadata": {},
     "output_type": "display_data"
    },
    {
     "data": {
      "application/javascript": [
       "$('div#ab5e3c02-b905-475b-a430-31b97942181f').text(' 51%');"
      ],
      "text/plain": [
       "<IPython.core.display.Javascript at 0x111209690>"
      ]
     },
     "metadata": {},
     "output_type": "display_data"
    },
    {
     "data": {
      "application/javascript": [
       "\n",
       "        var $myPB = $(\"div#603dd5d6-0527-48ce-991c-b87add1ee92f\")\n",
       "        if ($myPB.hasClass('ui-progressbar')) {\n",
       "            $myPB.progressbar('value', 392);\n",
       "        } else {\n",
       "            $myPB.progressbar({value: 0, max: 767});\n",
       "        }\n",
       "        "
      ],
      "text/plain": [
       "<IPython.core.display.Javascript at 0x111209750>"
      ]
     },
     "metadata": {},
     "output_type": "display_data"
    },
    {
     "data": {
      "application/javascript": [
       "$('div#cd03291e-3af7-4959-b151-add232c9b082').text('ETA:  0:00:02');"
      ],
      "text/plain": [
       "<IPython.core.display.Javascript at 0x1112095d0>"
      ]
     },
     "metadata": {},
     "output_type": "display_data"
    },
    {
     "data": {
      "application/javascript": [
       "$('div#9d37b887-fb70-4dc8-8e5c-1e76ab18de6d').text('400/767');"
      ],
      "text/plain": [
       "<IPython.core.display.Javascript at 0x111209710>"
      ]
     },
     "metadata": {},
     "output_type": "display_data"
    },
    {
     "data": {
      "application/javascript": [
       "$('div#ab5e3c02-b905-475b-a430-31b97942181f').text(' 52%');"
      ],
      "text/plain": [
       "<IPython.core.display.Javascript at 0x111209550>"
      ]
     },
     "metadata": {},
     "output_type": "display_data"
    },
    {
     "data": {
      "application/javascript": [
       "\n",
       "        var $myPB = $(\"div#603dd5d6-0527-48ce-991c-b87add1ee92f\")\n",
       "        if ($myPB.hasClass('ui-progressbar')) {\n",
       "            $myPB.progressbar('value', 400);\n",
       "        } else {\n",
       "            $myPB.progressbar({value: 0, max: 767});\n",
       "        }\n",
       "        "
      ],
      "text/plain": [
       "<IPython.core.display.Javascript at 0x111209650>"
      ]
     },
     "metadata": {},
     "output_type": "display_data"
    },
    {
     "data": {
      "application/javascript": [
       "$('div#cd03291e-3af7-4959-b151-add232c9b082').text('ETA:  0:00:02');"
      ],
      "text/plain": [
       "<IPython.core.display.Javascript at 0x111209350>"
      ]
     },
     "metadata": {},
     "output_type": "display_data"
    },
    {
     "data": {
      "application/javascript": [
       "$('div#9d37b887-fb70-4dc8-8e5c-1e76ab18de6d').text('408/767');"
      ],
      "text/plain": [
       "<IPython.core.display.Javascript at 0x111e5bd50>"
      ]
     },
     "metadata": {},
     "output_type": "display_data"
    },
    {
     "data": {
      "application/javascript": [
       "$('div#ab5e3c02-b905-475b-a430-31b97942181f').text(' 53%');"
      ],
      "text/plain": [
       "<IPython.core.display.Javascript at 0x111209350>"
      ]
     },
     "metadata": {},
     "output_type": "display_data"
    },
    {
     "data": {
      "application/javascript": [
       "\n",
       "        var $myPB = $(\"div#603dd5d6-0527-48ce-991c-b87add1ee92f\")\n",
       "        if ($myPB.hasClass('ui-progressbar')) {\n",
       "            $myPB.progressbar('value', 408);\n",
       "        } else {\n",
       "            $myPB.progressbar({value: 0, max: 767});\n",
       "        }\n",
       "        "
      ],
      "text/plain": [
       "<IPython.core.display.Javascript at 0x111209650>"
      ]
     },
     "metadata": {},
     "output_type": "display_data"
    },
    {
     "data": {
      "application/javascript": [
       "$('div#cd03291e-3af7-4959-b151-add232c9b082').text('ETA:  0:00:02');"
      ],
      "text/plain": [
       "<IPython.core.display.Javascript at 0x111209550>"
      ]
     },
     "metadata": {},
     "output_type": "display_data"
    },
    {
     "data": {
      "application/javascript": [
       "$('div#9d37b887-fb70-4dc8-8e5c-1e76ab18de6d').text('416/767');"
      ],
      "text/plain": [
       "<IPython.core.display.Javascript at 0x1112095d0>"
      ]
     },
     "metadata": {},
     "output_type": "display_data"
    },
    {
     "data": {
      "application/javascript": [
       "$('div#ab5e3c02-b905-475b-a430-31b97942181f').text(' 54%');"
      ],
      "text/plain": [
       "<IPython.core.display.Javascript at 0x113157e10>"
      ]
     },
     "metadata": {},
     "output_type": "display_data"
    },
    {
     "data": {
      "application/javascript": [
       "\n",
       "        var $myPB = $(\"div#603dd5d6-0527-48ce-991c-b87add1ee92f\")\n",
       "        if ($myPB.hasClass('ui-progressbar')) {\n",
       "            $myPB.progressbar('value', 416);\n",
       "        } else {\n",
       "            $myPB.progressbar({value: 0, max: 767});\n",
       "        }\n",
       "        "
      ],
      "text/plain": [
       "<IPython.core.display.Javascript at 0x111209750>"
      ]
     },
     "metadata": {},
     "output_type": "display_data"
    },
    {
     "data": {
      "application/javascript": [
       "$('div#cd03291e-3af7-4959-b151-add232c9b082').text('ETA:  0:00:02');"
      ],
      "text/plain": [
       "<IPython.core.display.Javascript at 0x111209690>"
      ]
     },
     "metadata": {},
     "output_type": "display_data"
    },
    {
     "data": {
      "application/javascript": [
       "$('div#9d37b887-fb70-4dc8-8e5c-1e76ab18de6d').text('424/767');"
      ],
      "text/plain": [
       "<IPython.core.display.Javascript at 0x111209610>"
      ]
     },
     "metadata": {},
     "output_type": "display_data"
    },
    {
     "data": {
      "application/javascript": [
       "$('div#ab5e3c02-b905-475b-a430-31b97942181f').text(' 55%');"
      ],
      "text/plain": [
       "<IPython.core.display.Javascript at 0x111209710>"
      ]
     },
     "metadata": {},
     "output_type": "display_data"
    },
    {
     "data": {
      "application/javascript": [
       "\n",
       "        var $myPB = $(\"div#603dd5d6-0527-48ce-991c-b87add1ee92f\")\n",
       "        if ($myPB.hasClass('ui-progressbar')) {\n",
       "            $myPB.progressbar('value', 424);\n",
       "        } else {\n",
       "            $myPB.progressbar({value: 0, max: 767});\n",
       "        }\n",
       "        "
      ],
      "text/plain": [
       "<IPython.core.display.Javascript at 0x109c480d0>"
      ]
     },
     "metadata": {},
     "output_type": "display_data"
    },
    {
     "data": {
      "application/javascript": [
       "$('div#cd03291e-3af7-4959-b151-add232c9b082').text('ETA:  0:00:02');"
      ],
      "text/plain": [
       "<IPython.core.display.Javascript at 0x109c48610>"
      ]
     },
     "metadata": {},
     "output_type": "display_data"
    },
    {
     "data": {
      "application/javascript": [
       "$('div#9d37b887-fb70-4dc8-8e5c-1e76ab18de6d').text('432/767');"
      ],
      "text/plain": [
       "<IPython.core.display.Javascript at 0x109c48450>"
      ]
     },
     "metadata": {},
     "output_type": "display_data"
    },
    {
     "data": {
      "application/javascript": [
       "$('div#ab5e3c02-b905-475b-a430-31b97942181f').text(' 56%');"
      ],
      "text/plain": [
       "<IPython.core.display.Javascript at 0x111203850>"
      ]
     },
     "metadata": {},
     "output_type": "display_data"
    },
    {
     "data": {
      "application/javascript": [
       "\n",
       "        var $myPB = $(\"div#603dd5d6-0527-48ce-991c-b87add1ee92f\")\n",
       "        if ($myPB.hasClass('ui-progressbar')) {\n",
       "            $myPB.progressbar('value', 432);\n",
       "        } else {\n",
       "            $myPB.progressbar({value: 0, max: 767});\n",
       "        }\n",
       "        "
      ],
      "text/plain": [
       "<IPython.core.display.Javascript at 0x113157e10>"
      ]
     },
     "metadata": {},
     "output_type": "display_data"
    },
    {
     "data": {
      "application/javascript": [
       "$('div#cd03291e-3af7-4959-b151-add232c9b082').text('ETA:  0:00:02');"
      ],
      "text/plain": [
       "<IPython.core.display.Javascript at 0x109c48610>"
      ]
     },
     "metadata": {},
     "output_type": "display_data"
    },
    {
     "data": {
      "application/javascript": [
       "$('div#9d37b887-fb70-4dc8-8e5c-1e76ab18de6d').text('440/767');"
      ],
      "text/plain": [
       "<IPython.core.display.Javascript at 0x109c480d0>"
      ]
     },
     "metadata": {},
     "output_type": "display_data"
    },
    {
     "data": {
      "application/javascript": [
       "$('div#ab5e3c02-b905-475b-a430-31b97942181f').text(' 57%');"
      ],
      "text/plain": [
       "<IPython.core.display.Javascript at 0x111209610>"
      ]
     },
     "metadata": {},
     "output_type": "display_data"
    },
    {
     "data": {
      "application/javascript": [
       "\n",
       "        var $myPB = $(\"div#603dd5d6-0527-48ce-991c-b87add1ee92f\")\n",
       "        if ($myPB.hasClass('ui-progressbar')) {\n",
       "            $myPB.progressbar('value', 440);\n",
       "        } else {\n",
       "            $myPB.progressbar({value: 0, max: 767});\n",
       "        }\n",
       "        "
      ],
      "text/plain": [
       "<IPython.core.display.Javascript at 0x111209690>"
      ]
     },
     "metadata": {},
     "output_type": "display_data"
    },
    {
     "data": {
      "application/javascript": [
       "$('div#cd03291e-3af7-4959-b151-add232c9b082').text('ETA:  0:00:02');"
      ],
      "text/plain": [
       "<IPython.core.display.Javascript at 0x111209750>"
      ]
     },
     "metadata": {},
     "output_type": "display_data"
    },
    {
     "data": {
      "application/javascript": [
       "$('div#9d37b887-fb70-4dc8-8e5c-1e76ab18de6d').text('448/767');"
      ],
      "text/plain": [
       "<IPython.core.display.Javascript at 0x1112095d0>"
      ]
     },
     "metadata": {},
     "output_type": "display_data"
    },
    {
     "data": {
      "application/javascript": [
       "$('div#ab5e3c02-b905-475b-a430-31b97942181f').text(' 58%');"
      ],
      "text/plain": [
       "<IPython.core.display.Javascript at 0x111e5bd50>"
      ]
     },
     "metadata": {},
     "output_type": "display_data"
    },
    {
     "data": {
      "application/javascript": [
       "\n",
       "        var $myPB = $(\"div#603dd5d6-0527-48ce-991c-b87add1ee92f\")\n",
       "        if ($myPB.hasClass('ui-progressbar')) {\n",
       "            $myPB.progressbar('value', 448);\n",
       "        } else {\n",
       "            $myPB.progressbar({value: 0, max: 767});\n",
       "        }\n",
       "        "
      ],
      "text/plain": [
       "<IPython.core.display.Javascript at 0x111209550>"
      ]
     },
     "metadata": {},
     "output_type": "display_data"
    },
    {
     "data": {
      "application/javascript": [
       "$('div#cd03291e-3af7-4959-b151-add232c9b082').text('ETA:  0:00:01');"
      ],
      "text/plain": [
       "<IPython.core.display.Javascript at 0x111209650>"
      ]
     },
     "metadata": {},
     "output_type": "display_data"
    },
    {
     "data": {
      "application/javascript": [
       "$('div#9d37b887-fb70-4dc8-8e5c-1e76ab18de6d').text('456/767');"
      ],
      "text/plain": [
       "<IPython.core.display.Javascript at 0x111209350>"
      ]
     },
     "metadata": {},
     "output_type": "display_data"
    },
    {
     "data": {
      "application/javascript": [
       "$('div#ab5e3c02-b905-475b-a430-31b97942181f').text(' 59%');"
      ],
      "text/plain": [
       "<IPython.core.display.Javascript at 0x111209710>"
      ]
     },
     "metadata": {},
     "output_type": "display_data"
    },
    {
     "data": {
      "application/javascript": [
       "\n",
       "        var $myPB = $(\"div#603dd5d6-0527-48ce-991c-b87add1ee92f\")\n",
       "        if ($myPB.hasClass('ui-progressbar')) {\n",
       "            $myPB.progressbar('value', 456);\n",
       "        } else {\n",
       "            $myPB.progressbar({value: 0, max: 767});\n",
       "        }\n",
       "        "
      ],
      "text/plain": [
       "<IPython.core.display.Javascript at 0x110a0ddd0>"
      ]
     },
     "metadata": {},
     "output_type": "display_data"
    },
    {
     "data": {
      "application/javascript": [
       "$('div#cd03291e-3af7-4959-b151-add232c9b082').text('ETA:  0:00:01');"
      ],
      "text/plain": [
       "<IPython.core.display.Javascript at 0x110a0dd90>"
      ]
     },
     "metadata": {},
     "output_type": "display_data"
    },
    {
     "data": {
      "application/javascript": [
       "$('div#9d37b887-fb70-4dc8-8e5c-1e76ab18de6d').text('464/767');"
      ],
      "text/plain": [
       "<IPython.core.display.Javascript at 0x110a0de10>"
      ]
     },
     "metadata": {},
     "output_type": "display_data"
    },
    {
     "data": {
      "application/javascript": [
       "$('div#ab5e3c02-b905-475b-a430-31b97942181f').text(' 60%');"
      ],
      "text/plain": [
       "<IPython.core.display.Javascript at 0x110a0dd90>"
      ]
     },
     "metadata": {},
     "output_type": "display_data"
    },
    {
     "data": {
      "application/javascript": [
       "\n",
       "        var $myPB = $(\"div#603dd5d6-0527-48ce-991c-b87add1ee92f\")\n",
       "        if ($myPB.hasClass('ui-progressbar')) {\n",
       "            $myPB.progressbar('value', 464);\n",
       "        } else {\n",
       "            $myPB.progressbar({value: 0, max: 767});\n",
       "        }\n",
       "        "
      ],
      "text/plain": [
       "<IPython.core.display.Javascript at 0x110a0ddd0>"
      ]
     },
     "metadata": {},
     "output_type": "display_data"
    },
    {
     "data": {
      "application/javascript": [
       "$('div#cd03291e-3af7-4959-b151-add232c9b082').text('ETA:  0:00:01');"
      ],
      "text/plain": [
       "<IPython.core.display.Javascript at 0x111e5bd50>"
      ]
     },
     "metadata": {},
     "output_type": "display_data"
    },
    {
     "data": {
      "application/javascript": [
       "$('div#9d37b887-fb70-4dc8-8e5c-1e76ab18de6d').text('472/767');"
      ],
      "text/plain": [
       "<IPython.core.display.Javascript at 0x111209350>"
      ]
     },
     "metadata": {},
     "output_type": "display_data"
    },
    {
     "data": {
      "application/javascript": [
       "$('div#ab5e3c02-b905-475b-a430-31b97942181f').text(' 61%');"
      ],
      "text/plain": [
       "<IPython.core.display.Javascript at 0x111209650>"
      ]
     },
     "metadata": {},
     "output_type": "display_data"
    },
    {
     "data": {
      "application/javascript": [
       "\n",
       "        var $myPB = $(\"div#603dd5d6-0527-48ce-991c-b87add1ee92f\")\n",
       "        if ($myPB.hasClass('ui-progressbar')) {\n",
       "            $myPB.progressbar('value', 472);\n",
       "        } else {\n",
       "            $myPB.progressbar({value: 0, max: 767});\n",
       "        }\n",
       "        "
      ],
      "text/plain": [
       "<IPython.core.display.Javascript at 0x111209550>"
      ]
     },
     "metadata": {},
     "output_type": "display_data"
    },
    {
     "data": {
      "application/javascript": [
       "$('div#cd03291e-3af7-4959-b151-add232c9b082').text('ETA:  0:00:01');"
      ],
      "text/plain": [
       "<IPython.core.display.Javascript at 0x1112095d0>"
      ]
     },
     "metadata": {},
     "output_type": "display_data"
    },
    {
     "data": {
      "application/javascript": [
       "$('div#9d37b887-fb70-4dc8-8e5c-1e76ab18de6d').text('480/767');"
      ],
      "text/plain": [
       "<IPython.core.display.Javascript at 0x111209750>"
      ]
     },
     "metadata": {},
     "output_type": "display_data"
    },
    {
     "data": {
      "application/javascript": [
       "$('div#ab5e3c02-b905-475b-a430-31b97942181f').text(' 62%');"
      ],
      "text/plain": [
       "<IPython.core.display.Javascript at 0x111209690>"
      ]
     },
     "metadata": {},
     "output_type": "display_data"
    },
    {
     "data": {
      "application/javascript": [
       "\n",
       "        var $myPB = $(\"div#603dd5d6-0527-48ce-991c-b87add1ee92f\")\n",
       "        if ($myPB.hasClass('ui-progressbar')) {\n",
       "            $myPB.progressbar('value', 480);\n",
       "        } else {\n",
       "            $myPB.progressbar({value: 0, max: 767});\n",
       "        }\n",
       "        "
      ],
      "text/plain": [
       "<IPython.core.display.Javascript at 0x111209610>"
      ]
     },
     "metadata": {},
     "output_type": "display_data"
    },
    {
     "data": {
      "application/javascript": [
       "$('div#cd03291e-3af7-4959-b151-add232c9b082').text('ETA:  0:00:01');"
      ],
      "text/plain": [
       "<IPython.core.display.Javascript at 0x111209710>"
      ]
     },
     "metadata": {},
     "output_type": "display_data"
    },
    {
     "data": {
      "application/javascript": [
       "$('div#9d37b887-fb70-4dc8-8e5c-1e76ab18de6d').text('488/767');"
      ],
      "text/plain": [
       "<IPython.core.display.Javascript at 0x113157e10>"
      ]
     },
     "metadata": {},
     "output_type": "display_data"
    },
    {
     "data": {
      "application/javascript": [
       "$('div#ab5e3c02-b905-475b-a430-31b97942181f').text(' 63%');"
      ],
      "text/plain": [
       "<IPython.core.display.Javascript at 0x111209710>"
      ]
     },
     "metadata": {},
     "output_type": "display_data"
    },
    {
     "data": {
      "application/javascript": [
       "\n",
       "        var $myPB = $(\"div#603dd5d6-0527-48ce-991c-b87add1ee92f\")\n",
       "        if ($myPB.hasClass('ui-progressbar')) {\n",
       "            $myPB.progressbar('value', 488);\n",
       "        } else {\n",
       "            $myPB.progressbar({value: 0, max: 767});\n",
       "        }\n",
       "        "
      ],
      "text/plain": [
       "<IPython.core.display.Javascript at 0x111209610>"
      ]
     },
     "metadata": {},
     "output_type": "display_data"
    },
    {
     "data": {
      "application/javascript": [
       "$('div#cd03291e-3af7-4959-b151-add232c9b082').text('ETA:  0:00:01');"
      ],
      "text/plain": [
       "<IPython.core.display.Javascript at 0x111209690>"
      ]
     },
     "metadata": {},
     "output_type": "display_data"
    },
    {
     "data": {
      "application/javascript": [
       "$('div#9d37b887-fb70-4dc8-8e5c-1e76ab18de6d').text('496/767');"
      ],
      "text/plain": [
       "<IPython.core.display.Javascript at 0x1112095d0>"
      ]
     },
     "metadata": {},
     "output_type": "display_data"
    },
    {
     "data": {
      "application/javascript": [
       "$('div#ab5e3c02-b905-475b-a430-31b97942181f').text(' 64%');"
      ],
      "text/plain": [
       "<IPython.core.display.Javascript at 0x111e5bd50>"
      ]
     },
     "metadata": {},
     "output_type": "display_data"
    },
    {
     "data": {
      "application/javascript": [
       "\n",
       "        var $myPB = $(\"div#603dd5d6-0527-48ce-991c-b87add1ee92f\")\n",
       "        if ($myPB.hasClass('ui-progressbar')) {\n",
       "            $myPB.progressbar('value', 496);\n",
       "        } else {\n",
       "            $myPB.progressbar({value: 0, max: 767});\n",
       "        }\n",
       "        "
      ],
      "text/plain": [
       "<IPython.core.display.Javascript at 0x111209550>"
      ]
     },
     "metadata": {},
     "output_type": "display_data"
    },
    {
     "data": {
      "application/javascript": [
       "$('div#cd03291e-3af7-4959-b151-add232c9b082').text('ETA:  0:00:01');"
      ],
      "text/plain": [
       "<IPython.core.display.Javascript at 0x111209650>"
      ]
     },
     "metadata": {},
     "output_type": "display_data"
    },
    {
     "data": {
      "application/javascript": [
       "$('div#9d37b887-fb70-4dc8-8e5c-1e76ab18de6d').text('504/767');"
      ],
      "text/plain": [
       "<IPython.core.display.Javascript at 0x111209350>"
      ]
     },
     "metadata": {},
     "output_type": "display_data"
    },
    {
     "data": {
      "application/javascript": [
       "$('div#ab5e3c02-b905-475b-a430-31b97942181f').text(' 65%');"
      ],
      "text/plain": [
       "<IPython.core.display.Javascript at 0x111209750>"
      ]
     },
     "metadata": {},
     "output_type": "display_data"
    },
    {
     "data": {
      "application/javascript": [
       "\n",
       "        var $myPB = $(\"div#603dd5d6-0527-48ce-991c-b87add1ee92f\")\n",
       "        if ($myPB.hasClass('ui-progressbar')) {\n",
       "            $myPB.progressbar('value', 504);\n",
       "        } else {\n",
       "            $myPB.progressbar({value: 0, max: 767});\n",
       "        }\n",
       "        "
      ],
      "text/plain": [
       "<IPython.core.display.Javascript at 0x111203850>"
      ]
     },
     "metadata": {},
     "output_type": "display_data"
    },
    {
     "data": {
      "application/javascript": [
       "$('div#cd03291e-3af7-4959-b151-add232c9b082').text('ETA:  0:00:01');"
      ],
      "text/plain": [
       "<IPython.core.display.Javascript at 0x110a0dd90>"
      ]
     },
     "metadata": {},
     "output_type": "display_data"
    },
    {
     "data": {
      "application/javascript": [
       "$('div#9d37b887-fb70-4dc8-8e5c-1e76ab18de6d').text('512/767');"
      ],
      "text/plain": [
       "<IPython.core.display.Javascript at 0x111203850>"
      ]
     },
     "metadata": {},
     "output_type": "display_data"
    },
    {
     "data": {
      "application/javascript": [
       "$('div#ab5e3c02-b905-475b-a430-31b97942181f').text(' 66%');"
      ],
      "text/plain": [
       "<IPython.core.display.Javascript at 0x111e5bd50>"
      ]
     },
     "metadata": {},
     "output_type": "display_data"
    },
    {
     "data": {
      "application/javascript": [
       "\n",
       "        var $myPB = $(\"div#603dd5d6-0527-48ce-991c-b87add1ee92f\")\n",
       "        if ($myPB.hasClass('ui-progressbar')) {\n",
       "            $myPB.progressbar('value', 512);\n",
       "        } else {\n",
       "            $myPB.progressbar({value: 0, max: 767});\n",
       "        }\n",
       "        "
      ],
      "text/plain": [
       "<IPython.core.display.Javascript at 0x111209750>"
      ]
     },
     "metadata": {},
     "output_type": "display_data"
    },
    {
     "data": {
      "application/javascript": [
       "$('div#cd03291e-3af7-4959-b151-add232c9b082').text('ETA:  0:00:01');"
      ],
      "text/plain": [
       "<IPython.core.display.Javascript at 0x111209350>"
      ]
     },
     "metadata": {},
     "output_type": "display_data"
    },
    {
     "data": {
      "application/javascript": [
       "$('div#9d37b887-fb70-4dc8-8e5c-1e76ab18de6d').text('520/767');"
      ],
      "text/plain": [
       "<IPython.core.display.Javascript at 0x111209550>"
      ]
     },
     "metadata": {},
     "output_type": "display_data"
    },
    {
     "data": {
      "application/javascript": [
       "$('div#ab5e3c02-b905-475b-a430-31b97942181f').text(' 67%');"
      ],
      "text/plain": [
       "<IPython.core.display.Javascript at 0x1112095d0>"
      ]
     },
     "metadata": {},
     "output_type": "display_data"
    },
    {
     "data": {
      "application/javascript": [
       "\n",
       "        var $myPB = $(\"div#603dd5d6-0527-48ce-991c-b87add1ee92f\")\n",
       "        if ($myPB.hasClass('ui-progressbar')) {\n",
       "            $myPB.progressbar('value', 520);\n",
       "        } else {\n",
       "            $myPB.progressbar({value: 0, max: 767});\n",
       "        }\n",
       "        "
      ],
      "text/plain": [
       "<IPython.core.display.Javascript at 0x113157e10>"
      ]
     },
     "metadata": {},
     "output_type": "display_data"
    },
    {
     "data": {
      "application/javascript": [
       "$('div#cd03291e-3af7-4959-b151-add232c9b082').text('ETA:  0:00:01');"
      ],
      "text/plain": [
       "<IPython.core.display.Javascript at 0x111209690>"
      ]
     },
     "metadata": {},
     "output_type": "display_data"
    },
    {
     "data": {
      "application/javascript": [
       "$('div#9d37b887-fb70-4dc8-8e5c-1e76ab18de6d').text('528/767');"
      ],
      "text/plain": [
       "<IPython.core.display.Javascript at 0x111209610>"
      ]
     },
     "metadata": {},
     "output_type": "display_data"
    },
    {
     "data": {
      "application/javascript": [
       "$('div#ab5e3c02-b905-475b-a430-31b97942181f').text(' 68%');"
      ],
      "text/plain": [
       "<IPython.core.display.Javascript at 0x111209710>"
      ]
     },
     "metadata": {},
     "output_type": "display_data"
    },
    {
     "data": {
      "application/javascript": [
       "\n",
       "        var $myPB = $(\"div#603dd5d6-0527-48ce-991c-b87add1ee92f\")\n",
       "        if ($myPB.hasClass('ui-progressbar')) {\n",
       "            $myPB.progressbar('value', 528);\n",
       "        } else {\n",
       "            $myPB.progressbar({value: 0, max: 767});\n",
       "        }\n",
       "        "
      ],
      "text/plain": [
       "<IPython.core.display.Javascript at 0x111209650>"
      ]
     },
     "metadata": {},
     "output_type": "display_data"
    },
    {
     "data": {
      "application/javascript": [
       "$('div#cd03291e-3af7-4959-b151-add232c9b082').text('ETA:  0:00:01');"
      ],
      "text/plain": [
       "<IPython.core.display.Javascript at 0x110a0dd90>"
      ]
     },
     "metadata": {},
     "output_type": "display_data"
    },
    {
     "data": {
      "application/javascript": [
       "$('div#9d37b887-fb70-4dc8-8e5c-1e76ab18de6d').text('536/767');"
      ],
      "text/plain": [
       "<IPython.core.display.Javascript at 0x110a0ddd0>"
      ]
     },
     "metadata": {},
     "output_type": "display_data"
    },
    {
     "data": {
      "application/javascript": [
       "$('div#ab5e3c02-b905-475b-a430-31b97942181f').text(' 69%');"
      ],
      "text/plain": [
       "<IPython.core.display.Javascript at 0x110a0de10>"
      ]
     },
     "metadata": {},
     "output_type": "display_data"
    },
    {
     "data": {
      "application/javascript": [
       "\n",
       "        var $myPB = $(\"div#603dd5d6-0527-48ce-991c-b87add1ee92f\")\n",
       "        if ($myPB.hasClass('ui-progressbar')) {\n",
       "            $myPB.progressbar('value', 536);\n",
       "        } else {\n",
       "            $myPB.progressbar({value: 0, max: 767});\n",
       "        }\n",
       "        "
      ],
      "text/plain": [
       "<IPython.core.display.Javascript at 0x110a0dd90>"
      ]
     },
     "metadata": {},
     "output_type": "display_data"
    },
    {
     "data": {
      "application/javascript": [
       "$('div#cd03291e-3af7-4959-b151-add232c9b082').text('ETA:  0:00:01');"
      ],
      "text/plain": [
       "<IPython.core.display.Javascript at 0x113157e10>"
      ]
     },
     "metadata": {},
     "output_type": "display_data"
    },
    {
     "data": {
      "application/javascript": [
       "$('div#9d37b887-fb70-4dc8-8e5c-1e76ab18de6d').text('544/767');"
      ],
      "text/plain": [
       "<IPython.core.display.Javascript at 0x111209710>"
      ]
     },
     "metadata": {},
     "output_type": "display_data"
    },
    {
     "data": {
      "application/javascript": [
       "$('div#ab5e3c02-b905-475b-a430-31b97942181f').text(' 70%');"
      ],
      "text/plain": [
       "<IPython.core.display.Javascript at 0x111209610>"
      ]
     },
     "metadata": {},
     "output_type": "display_data"
    },
    {
     "data": {
      "application/javascript": [
       "\n",
       "        var $myPB = $(\"div#603dd5d6-0527-48ce-991c-b87add1ee92f\")\n",
       "        if ($myPB.hasClass('ui-progressbar')) {\n",
       "            $myPB.progressbar('value', 544);\n",
       "        } else {\n",
       "            $myPB.progressbar({value: 0, max: 767});\n",
       "        }\n",
       "        "
      ],
      "text/plain": [
       "<IPython.core.display.Javascript at 0x111209690>"
      ]
     },
     "metadata": {},
     "output_type": "display_data"
    },
    {
     "data": {
      "application/javascript": [
       "$('div#cd03291e-3af7-4959-b151-add232c9b082').text('ETA:  0:00:01');"
      ],
      "text/plain": [
       "<IPython.core.display.Javascript at 0x1112095d0>"
      ]
     },
     "metadata": {},
     "output_type": "display_data"
    },
    {
     "data": {
      "application/javascript": [
       "$('div#9d37b887-fb70-4dc8-8e5c-1e76ab18de6d').text('552/767');"
      ],
      "text/plain": [
       "<IPython.core.display.Javascript at 0x111e5bd50>"
      ]
     },
     "metadata": {},
     "output_type": "display_data"
    },
    {
     "data": {
      "application/javascript": [
       "$('div#ab5e3c02-b905-475b-a430-31b97942181f').text(' 71%');"
      ],
      "text/plain": [
       "<IPython.core.display.Javascript at 0x111203850>"
      ]
     },
     "metadata": {},
     "output_type": "display_data"
    },
    {
     "data": {
      "application/javascript": [
       "\n",
       "        var $myPB = $(\"div#603dd5d6-0527-48ce-991c-b87add1ee92f\")\n",
       "        if ($myPB.hasClass('ui-progressbar')) {\n",
       "            $myPB.progressbar('value', 552);\n",
       "        } else {\n",
       "            $myPB.progressbar({value: 0, max: 767});\n",
       "        }\n",
       "        "
      ],
      "text/plain": [
       "<IPython.core.display.Javascript at 0x111209550>"
      ]
     },
     "metadata": {},
     "output_type": "display_data"
    },
    {
     "data": {
      "application/javascript": [
       "$('div#cd03291e-3af7-4959-b151-add232c9b082').text('ETA:  0:00:01');"
      ],
      "text/plain": [
       "<IPython.core.display.Javascript at 0x111209350>"
      ]
     },
     "metadata": {},
     "output_type": "display_data"
    },
    {
     "data": {
      "application/javascript": [
       "$('div#9d37b887-fb70-4dc8-8e5c-1e76ab18de6d').text('560/767');"
      ],
      "text/plain": [
       "<IPython.core.display.Javascript at 0x111209750>"
      ]
     },
     "metadata": {},
     "output_type": "display_data"
    },
    {
     "data": {
      "application/javascript": [
       "$('div#ab5e3c02-b905-475b-a430-31b97942181f').text(' 73%');"
      ],
      "text/plain": [
       "<IPython.core.display.Javascript at 0x111209650>"
      ]
     },
     "metadata": {},
     "output_type": "display_data"
    },
    {
     "data": {
      "application/javascript": [
       "\n",
       "        var $myPB = $(\"div#603dd5d6-0527-48ce-991c-b87add1ee92f\")\n",
       "        if ($myPB.hasClass('ui-progressbar')) {\n",
       "            $myPB.progressbar('value', 560);\n",
       "        } else {\n",
       "            $myPB.progressbar({value: 0, max: 767});\n",
       "        }\n",
       "        "
      ],
      "text/plain": [
       "<IPython.core.display.Javascript at 0x109c48610>"
      ]
     },
     "metadata": {},
     "output_type": "display_data"
    },
    {
     "data": {
      "application/javascript": [
       "$('div#cd03291e-3af7-4959-b151-add232c9b082').text('ETA:  0:00:01');"
      ],
      "text/plain": [
       "<IPython.core.display.Javascript at 0x109c48450>"
      ]
     },
     "metadata": {},
     "output_type": "display_data"
    },
    {
     "data": {
      "application/javascript": [
       "$('div#9d37b887-fb70-4dc8-8e5c-1e76ab18de6d').text('568/767');"
      ],
      "text/plain": [
       "<IPython.core.display.Javascript at 0x109c480d0>"
      ]
     },
     "metadata": {},
     "output_type": "display_data"
    },
    {
     "data": {
      "application/javascript": [
       "$('div#ab5e3c02-b905-475b-a430-31b97942181f').text(' 74%');"
      ],
      "text/plain": [
       "<IPython.core.display.Javascript at 0x111203850>"
      ]
     },
     "metadata": {},
     "output_type": "display_data"
    },
    {
     "data": {
      "application/javascript": [
       "\n",
       "        var $myPB = $(\"div#603dd5d6-0527-48ce-991c-b87add1ee92f\")\n",
       "        if ($myPB.hasClass('ui-progressbar')) {\n",
       "            $myPB.progressbar('value', 568);\n",
       "        } else {\n",
       "            $myPB.progressbar({value: 0, max: 767});\n",
       "        }\n",
       "        "
      ],
      "text/plain": [
       "<IPython.core.display.Javascript at 0x109c48450>"
      ]
     },
     "metadata": {},
     "output_type": "display_data"
    },
    {
     "data": {
      "application/javascript": [
       "$('div#cd03291e-3af7-4959-b151-add232c9b082').text('ETA:  0:00:01');"
      ],
      "text/plain": [
       "<IPython.core.display.Javascript at 0x109c48610>"
      ]
     },
     "metadata": {},
     "output_type": "display_data"
    },
    {
     "data": {
      "application/javascript": [
       "$('div#9d37b887-fb70-4dc8-8e5c-1e76ab18de6d').text('576/767');"
      ],
      "text/plain": [
       "<IPython.core.display.Javascript at 0x111e5bd50>"
      ]
     },
     "metadata": {},
     "output_type": "display_data"
    },
    {
     "data": {
      "application/javascript": [
       "$('div#ab5e3c02-b905-475b-a430-31b97942181f').text(' 75%');"
      ],
      "text/plain": [
       "<IPython.core.display.Javascript at 0x111209350>"
      ]
     },
     "metadata": {},
     "output_type": "display_data"
    },
    {
     "data": {
      "application/javascript": [
       "\n",
       "        var $myPB = $(\"div#603dd5d6-0527-48ce-991c-b87add1ee92f\")\n",
       "        if ($myPB.hasClass('ui-progressbar')) {\n",
       "            $myPB.progressbar('value', 576);\n",
       "        } else {\n",
       "            $myPB.progressbar({value: 0, max: 767});\n",
       "        }\n",
       "        "
      ],
      "text/plain": [
       "<IPython.core.display.Javascript at 0x111209750>"
      ]
     },
     "metadata": {},
     "output_type": "display_data"
    },
    {
     "data": {
      "application/javascript": [
       "$('div#cd03291e-3af7-4959-b151-add232c9b082').text('ETA:  0:00:01');"
      ],
      "text/plain": [
       "<IPython.core.display.Javascript at 0x111209550>"
      ]
     },
     "metadata": {},
     "output_type": "display_data"
    },
    {
     "data": {
      "application/javascript": [
       "$('div#9d37b887-fb70-4dc8-8e5c-1e76ab18de6d').text('584/767');"
      ],
      "text/plain": [
       "<IPython.core.display.Javascript at 0x1112095d0>"
      ]
     },
     "metadata": {},
     "output_type": "display_data"
    },
    {
     "data": {
      "application/javascript": [
       "$('div#ab5e3c02-b905-475b-a430-31b97942181f').text(' 76%');"
      ],
      "text/plain": [
       "<IPython.core.display.Javascript at 0x113157e10>"
      ]
     },
     "metadata": {},
     "output_type": "display_data"
    },
    {
     "data": {
      "application/javascript": [
       "\n",
       "        var $myPB = $(\"div#603dd5d6-0527-48ce-991c-b87add1ee92f\")\n",
       "        if ($myPB.hasClass('ui-progressbar')) {\n",
       "            $myPB.progressbar('value', 584);\n",
       "        } else {\n",
       "            $myPB.progressbar({value: 0, max: 767});\n",
       "        }\n",
       "        "
      ],
      "text/plain": [
       "<IPython.core.display.Javascript at 0x111209690>"
      ]
     },
     "metadata": {},
     "output_type": "display_data"
    },
    {
     "data": {
      "application/javascript": [
       "$('div#cd03291e-3af7-4959-b151-add232c9b082').text('ETA:  0:00:01');"
      ],
      "text/plain": [
       "<IPython.core.display.Javascript at 0x111209610>"
      ]
     },
     "metadata": {},
     "output_type": "display_data"
    },
    {
     "data": {
      "application/javascript": [
       "$('div#9d37b887-fb70-4dc8-8e5c-1e76ab18de6d').text('592/767');"
      ],
      "text/plain": [
       "<IPython.core.display.Javascript at 0x111209650>"
      ]
     },
     "metadata": {},
     "output_type": "display_data"
    },
    {
     "data": {
      "application/javascript": [
       "$('div#ab5e3c02-b905-475b-a430-31b97942181f').text(' 77%');"
      ],
      "text/plain": [
       "<IPython.core.display.Javascript at 0x110a0ddd0>"
      ]
     },
     "metadata": {},
     "output_type": "display_data"
    },
    {
     "data": {
      "application/javascript": [
       "\n",
       "        var $myPB = $(\"div#603dd5d6-0527-48ce-991c-b87add1ee92f\")\n",
       "        if ($myPB.hasClass('ui-progressbar')) {\n",
       "            $myPB.progressbar('value', 592);\n",
       "        } else {\n",
       "            $myPB.progressbar({value: 0, max: 767});\n",
       "        }\n",
       "        "
      ],
      "text/plain": [
       "<IPython.core.display.Javascript at 0x110a0de10>"
      ]
     },
     "metadata": {},
     "output_type": "display_data"
    },
    {
     "data": {
      "application/javascript": [
       "$('div#cd03291e-3af7-4959-b151-add232c9b082').text('ETA:  0:00:00');"
      ],
      "text/plain": [
       "<IPython.core.display.Javascript at 0x110a0dd90>"
      ]
     },
     "metadata": {},
     "output_type": "display_data"
    },
    {
     "data": {
      "application/javascript": [
       "$('div#9d37b887-fb70-4dc8-8e5c-1e76ab18de6d').text('600/767');"
      ],
      "text/plain": [
       "<IPython.core.display.Javascript at 0x113157e10>"
      ]
     },
     "metadata": {},
     "output_type": "display_data"
    },
    {
     "data": {
      "application/javascript": [
       "$('div#ab5e3c02-b905-475b-a430-31b97942181f').text(' 78%');"
      ],
      "text/plain": [
       "<IPython.core.display.Javascript at 0x109c50050>"
      ]
     },
     "metadata": {},
     "output_type": "display_data"
    },
    {
     "data": {
      "application/javascript": [
       "\n",
       "        var $myPB = $(\"div#603dd5d6-0527-48ce-991c-b87add1ee92f\")\n",
       "        if ($myPB.hasClass('ui-progressbar')) {\n",
       "            $myPB.progressbar('value', 600);\n",
       "        } else {\n",
       "            $myPB.progressbar({value: 0, max: 767});\n",
       "        }\n",
       "        "
      ],
      "text/plain": [
       "<IPython.core.display.Javascript at 0x109c50d10>"
      ]
     },
     "metadata": {},
     "output_type": "display_data"
    },
    {
     "data": {
      "application/javascript": [
       "$('div#cd03291e-3af7-4959-b151-add232c9b082').text('ETA:  0:00:00');"
      ],
      "text/plain": [
       "<IPython.core.display.Javascript at 0x109c50b90>"
      ]
     },
     "metadata": {},
     "output_type": "display_data"
    },
    {
     "data": {
      "application/javascript": [
       "$('div#9d37b887-fb70-4dc8-8e5c-1e76ab18de6d').text('608/767');"
      ],
      "text/plain": [
       "<IPython.core.display.Javascript at 0x109c50b50>"
      ]
     },
     "metadata": {},
     "output_type": "display_data"
    },
    {
     "data": {
      "application/javascript": [
       "$('div#ab5e3c02-b905-475b-a430-31b97942181f').text(' 79%');"
      ],
      "text/plain": [
       "<IPython.core.display.Javascript at 0x111209710>"
      ]
     },
     "metadata": {},
     "output_type": "display_data"
    },
    {
     "data": {
      "application/javascript": [
       "\n",
       "        var $myPB = $(\"div#603dd5d6-0527-48ce-991c-b87add1ee92f\")\n",
       "        if ($myPB.hasClass('ui-progressbar')) {\n",
       "            $myPB.progressbar('value', 608);\n",
       "        } else {\n",
       "            $myPB.progressbar({value: 0, max: 767});\n",
       "        }\n",
       "        "
      ],
      "text/plain": [
       "<IPython.core.display.Javascript at 0x111209610>"
      ]
     },
     "metadata": {},
     "output_type": "display_data"
    },
    {
     "data": {
      "application/javascript": [
       "$('div#cd03291e-3af7-4959-b151-add232c9b082').text('ETA:  0:00:00');"
      ],
      "text/plain": [
       "<IPython.core.display.Javascript at 0x111209690>"
      ]
     },
     "metadata": {},
     "output_type": "display_data"
    },
    {
     "data": {
      "application/javascript": [
       "$('div#9d37b887-fb70-4dc8-8e5c-1e76ab18de6d').text('616/767');"
      ],
      "text/plain": [
       "<IPython.core.display.Javascript at 0x111209550>"
      ]
     },
     "metadata": {},
     "output_type": "display_data"
    },
    {
     "data": {
      "application/javascript": [
       "$('div#ab5e3c02-b905-475b-a430-31b97942181f').text(' 80%');"
      ],
      "text/plain": [
       "<IPython.core.display.Javascript at 0x111e5bd50>"
      ]
     },
     "metadata": {},
     "output_type": "display_data"
    },
    {
     "data": {
      "application/javascript": [
       "\n",
       "        var $myPB = $(\"div#603dd5d6-0527-48ce-991c-b87add1ee92f\")\n",
       "        if ($myPB.hasClass('ui-progressbar')) {\n",
       "            $myPB.progressbar('value', 616);\n",
       "        } else {\n",
       "            $myPB.progressbar({value: 0, max: 767});\n",
       "        }\n",
       "        "
      ],
      "text/plain": [
       "<IPython.core.display.Javascript at 0x1112095d0>"
      ]
     },
     "metadata": {},
     "output_type": "display_data"
    },
    {
     "data": {
      "application/javascript": [
       "$('div#cd03291e-3af7-4959-b151-add232c9b082').text('ETA:  0:00:00');"
      ],
      "text/plain": [
       "<IPython.core.display.Javascript at 0x111209350>"
      ]
     },
     "metadata": {},
     "output_type": "display_data"
    },
    {
     "data": {
      "application/javascript": [
       "$('div#9d37b887-fb70-4dc8-8e5c-1e76ab18de6d').text('624/767');"
      ],
      "text/plain": [
       "<IPython.core.display.Javascript at 0x111203850>"
      ]
     },
     "metadata": {},
     "output_type": "display_data"
    },
    {
     "data": {
      "application/javascript": [
       "$('div#ab5e3c02-b905-475b-a430-31b97942181f').text(' 81%');"
      ],
      "text/plain": [
       "<IPython.core.display.Javascript at 0x111203850>"
      ]
     },
     "metadata": {},
     "output_type": "display_data"
    },
    {
     "data": {
      "application/javascript": [
       "\n",
       "        var $myPB = $(\"div#603dd5d6-0527-48ce-991c-b87add1ee92f\")\n",
       "        if ($myPB.hasClass('ui-progressbar')) {\n",
       "            $myPB.progressbar('value', 624);\n",
       "        } else {\n",
       "            $myPB.progressbar({value: 0, max: 767});\n",
       "        }\n",
       "        "
      ],
      "text/plain": [
       "<IPython.core.display.Javascript at 0x110a34290>"
      ]
     },
     "metadata": {},
     "output_type": "display_data"
    },
    {
     "data": {
      "application/javascript": [
       "$('div#cd03291e-3af7-4959-b151-add232c9b082').text('ETA:  0:00:00');"
      ],
      "text/plain": [
       "<IPython.core.display.Javascript at 0x109c48610>"
      ]
     },
     "metadata": {},
     "output_type": "display_data"
    },
    {
     "data": {
      "application/javascript": [
       "$('div#9d37b887-fb70-4dc8-8e5c-1e76ab18de6d').text('632/767');"
      ],
      "text/plain": [
       "<IPython.core.display.Javascript at 0x109c48450>"
      ]
     },
     "metadata": {},
     "output_type": "display_data"
    },
    {
     "data": {
      "application/javascript": [
       "$('div#ab5e3c02-b905-475b-a430-31b97942181f').text(' 82%');"
      ],
      "text/plain": [
       "<IPython.core.display.Javascript at 0x111e5bd50>"
      ]
     },
     "metadata": {},
     "output_type": "display_data"
    },
    {
     "data": {
      "application/javascript": [
       "\n",
       "        var $myPB = $(\"div#603dd5d6-0527-48ce-991c-b87add1ee92f\")\n",
       "        if ($myPB.hasClass('ui-progressbar')) {\n",
       "            $myPB.progressbar('value', 632);\n",
       "        } else {\n",
       "            $myPB.progressbar({value: 0, max: 767});\n",
       "        }\n",
       "        "
      ],
      "text/plain": [
       "<IPython.core.display.Javascript at 0x111209650>"
      ]
     },
     "metadata": {},
     "output_type": "display_data"
    },
    {
     "data": {
      "application/javascript": [
       "$('div#cd03291e-3af7-4959-b151-add232c9b082').text('ETA:  0:00:00');"
      ],
      "text/plain": [
       "<IPython.core.display.Javascript at 0x111209350>"
      ]
     },
     "metadata": {},
     "output_type": "display_data"
    },
    {
     "data": {
      "application/javascript": [
       "$('div#9d37b887-fb70-4dc8-8e5c-1e76ab18de6d').text('640/767');"
      ],
      "text/plain": [
       "<IPython.core.display.Javascript at 0x111209690>"
      ]
     },
     "metadata": {},
     "output_type": "display_data"
    },
    {
     "data": {
      "application/javascript": [
       "$('div#ab5e3c02-b905-475b-a430-31b97942181f').text(' 83%');"
      ],
      "text/plain": [
       "<IPython.core.display.Javascript at 0x111209550>"
      ]
     },
     "metadata": {},
     "output_type": "display_data"
    },
    {
     "data": {
      "application/javascript": [
       "\n",
       "        var $myPB = $(\"div#603dd5d6-0527-48ce-991c-b87add1ee92f\")\n",
       "        if ($myPB.hasClass('ui-progressbar')) {\n",
       "            $myPB.progressbar('value', 640);\n",
       "        } else {\n",
       "            $myPB.progressbar({value: 0, max: 767});\n",
       "        }\n",
       "        "
      ],
      "text/plain": [
       "<IPython.core.display.Javascript at 0x1112095d0>"
      ]
     },
     "metadata": {},
     "output_type": "display_data"
    },
    {
     "data": {
      "application/javascript": [
       "$('div#cd03291e-3af7-4959-b151-add232c9b082').text('ETA:  0:00:00');"
      ],
      "text/plain": [
       "<IPython.core.display.Javascript at 0x111209610>"
      ]
     },
     "metadata": {},
     "output_type": "display_data"
    },
    {
     "data": {
      "application/javascript": [
       "$('div#9d37b887-fb70-4dc8-8e5c-1e76ab18de6d').text('648/767');"
      ],
      "text/plain": [
       "<IPython.core.display.Javascript at 0x111209710>"
      ]
     },
     "metadata": {},
     "output_type": "display_data"
    },
    {
     "data": {
      "application/javascript": [
       "$('div#ab5e3c02-b905-475b-a430-31b97942181f').text(' 84%');"
      ],
      "text/plain": [
       "<IPython.core.display.Javascript at 0x111209750>"
      ]
     },
     "metadata": {},
     "output_type": "display_data"
    },
    {
     "data": {
      "application/javascript": [
       "\n",
       "        var $myPB = $(\"div#603dd5d6-0527-48ce-991c-b87add1ee92f\")\n",
       "        if ($myPB.hasClass('ui-progressbar')) {\n",
       "            $myPB.progressbar('value', 648);\n",
       "        } else {\n",
       "            $myPB.progressbar({value: 0, max: 767});\n",
       "        }\n",
       "        "
      ],
      "text/plain": [
       "<IPython.core.display.Javascript at 0x111209610>"
      ]
     },
     "metadata": {},
     "output_type": "display_data"
    },
    {
     "data": {
      "application/javascript": [
       "$('div#cd03291e-3af7-4959-b151-add232c9b082').text('ETA:  0:00:00');"
      ],
      "text/plain": [
       "<IPython.core.display.Javascript at 0x1112095d0>"
      ]
     },
     "metadata": {},
     "output_type": "display_data"
    },
    {
     "data": {
      "application/javascript": [
       "$('div#9d37b887-fb70-4dc8-8e5c-1e76ab18de6d').text('656/767');"
      ],
      "text/plain": [
       "<IPython.core.display.Javascript at 0x111e5bd50>"
      ]
     },
     "metadata": {},
     "output_type": "display_data"
    },
    {
     "data": {
      "application/javascript": [
       "$('div#ab5e3c02-b905-475b-a430-31b97942181f').text(' 85%');"
      ],
      "text/plain": [
       "<IPython.core.display.Javascript at 0x111209690>"
      ]
     },
     "metadata": {},
     "output_type": "display_data"
    },
    {
     "data": {
      "application/javascript": [
       "\n",
       "        var $myPB = $(\"div#603dd5d6-0527-48ce-991c-b87add1ee92f\")\n",
       "        if ($myPB.hasClass('ui-progressbar')) {\n",
       "            $myPB.progressbar('value', 656);\n",
       "        } else {\n",
       "            $myPB.progressbar({value: 0, max: 767});\n",
       "        }\n",
       "        "
      ],
      "text/plain": [
       "<IPython.core.display.Javascript at 0x111209350>"
      ]
     },
     "metadata": {},
     "output_type": "display_data"
    },
    {
     "data": {
      "application/javascript": [
       "$('div#cd03291e-3af7-4959-b151-add232c9b082').text('ETA:  0:00:00');"
      ],
      "text/plain": [
       "<IPython.core.display.Javascript at 0x111209650>"
      ]
     },
     "metadata": {},
     "output_type": "display_data"
    },
    {
     "data": {
      "application/javascript": [
       "$('div#9d37b887-fb70-4dc8-8e5c-1e76ab18de6d').text('664/767');"
      ],
      "text/plain": [
       "<IPython.core.display.Javascript at 0x111203850>"
      ]
     },
     "metadata": {},
     "output_type": "display_data"
    },
    {
     "data": {
      "application/javascript": [
       "$('div#ab5e3c02-b905-475b-a430-31b97942181f').text(' 86%');"
      ],
      "text/plain": [
       "<IPython.core.display.Javascript at 0x111209550>"
      ]
     },
     "metadata": {},
     "output_type": "display_data"
    },
    {
     "data": {
      "application/javascript": [
       "\n",
       "        var $myPB = $(\"div#603dd5d6-0527-48ce-991c-b87add1ee92f\")\n",
       "        if ($myPB.hasClass('ui-progressbar')) {\n",
       "            $myPB.progressbar('value', 664);\n",
       "        } else {\n",
       "            $myPB.progressbar({value: 0, max: 767});\n",
       "        }\n",
       "        "
      ],
      "text/plain": [
       "<IPython.core.display.Javascript at 0x110a34290>"
      ]
     },
     "metadata": {},
     "output_type": "display_data"
    },
    {
     "data": {
      "application/javascript": [
       "$('div#cd03291e-3af7-4959-b151-add232c9b082').text('ETA:  0:00:00');"
      ],
      "text/plain": [
       "<IPython.core.display.Javascript at 0x109c48610>"
      ]
     },
     "metadata": {},
     "output_type": "display_data"
    },
    {
     "data": {
      "application/javascript": [
       "$('div#9d37b887-fb70-4dc8-8e5c-1e76ab18de6d').text('672/767');"
      ],
      "text/plain": [
       "<IPython.core.display.Javascript at 0x109c48450>"
      ]
     },
     "metadata": {},
     "output_type": "display_data"
    },
    {
     "data": {
      "application/javascript": [
       "$('div#ab5e3c02-b905-475b-a430-31b97942181f').text(' 87%');"
      ],
      "text/plain": [
       "<IPython.core.display.Javascript at 0x113157e10>"
      ]
     },
     "metadata": {},
     "output_type": "display_data"
    },
    {
     "data": {
      "application/javascript": [
       "\n",
       "        var $myPB = $(\"div#603dd5d6-0527-48ce-991c-b87add1ee92f\")\n",
       "        if ($myPB.hasClass('ui-progressbar')) {\n",
       "            $myPB.progressbar('value', 672);\n",
       "        } else {\n",
       "            $myPB.progressbar({value: 0, max: 767});\n",
       "        }\n",
       "        "
      ],
      "text/plain": [
       "<IPython.core.display.Javascript at 0x109c50050>"
      ]
     },
     "metadata": {},
     "output_type": "display_data"
    },
    {
     "data": {
      "application/javascript": [
       "$('div#cd03291e-3af7-4959-b151-add232c9b082').text('ETA:  0:00:00');"
      ],
      "text/plain": [
       "<IPython.core.display.Javascript at 0x109c50b50>"
      ]
     },
     "metadata": {},
     "output_type": "display_data"
    },
    {
     "data": {
      "application/javascript": [
       "$('div#9d37b887-fb70-4dc8-8e5c-1e76ab18de6d').text('680/767');"
      ],
      "text/plain": [
       "<IPython.core.display.Javascript at 0x109c50d10>"
      ]
     },
     "metadata": {},
     "output_type": "display_data"
    },
    {
     "data": {
      "application/javascript": [
       "$('div#ab5e3c02-b905-475b-a430-31b97942181f').text(' 88%');"
      ],
      "text/plain": [
       "<IPython.core.display.Javascript at 0x109c50b90>"
      ]
     },
     "metadata": {},
     "output_type": "display_data"
    },
    {
     "data": {
      "application/javascript": [
       "\n",
       "        var $myPB = $(\"div#603dd5d6-0527-48ce-991c-b87add1ee92f\")\n",
       "        if ($myPB.hasClass('ui-progressbar')) {\n",
       "            $myPB.progressbar('value', 680);\n",
       "        } else {\n",
       "            $myPB.progressbar({value: 0, max: 767});\n",
       "        }\n",
       "        "
      ],
      "text/plain": [
       "<IPython.core.display.Javascript at 0x110a0de10>"
      ]
     },
     "metadata": {},
     "output_type": "display_data"
    },
    {
     "data": {
      "application/javascript": [
       "$('div#cd03291e-3af7-4959-b151-add232c9b082').text('ETA:  0:00:00');"
      ],
      "text/plain": [
       "<IPython.core.display.Javascript at 0x110a0ddd0>"
      ]
     },
     "metadata": {},
     "output_type": "display_data"
    },
    {
     "data": {
      "application/javascript": [
       "$('div#9d37b887-fb70-4dc8-8e5c-1e76ab18de6d').text('688/767');"
      ],
      "text/plain": [
       "<IPython.core.display.Javascript at 0x110a0dd90>"
      ]
     },
     "metadata": {},
     "output_type": "display_data"
    },
    {
     "data": {
      "application/javascript": [
       "$('div#ab5e3c02-b905-475b-a430-31b97942181f').text(' 89%');"
      ],
      "text/plain": [
       "<IPython.core.display.Javascript at 0x112a486d0>"
      ]
     },
     "metadata": {},
     "output_type": "display_data"
    },
    {
     "data": {
      "application/javascript": [
       "\n",
       "        var $myPB = $(\"div#603dd5d6-0527-48ce-991c-b87add1ee92f\")\n",
       "        if ($myPB.hasClass('ui-progressbar')) {\n",
       "            $myPB.progressbar('value', 688);\n",
       "        } else {\n",
       "            $myPB.progressbar({value: 0, max: 767});\n",
       "        }\n",
       "        "
      ],
      "text/plain": [
       "<IPython.core.display.Javascript at 0x112a48c90>"
      ]
     },
     "metadata": {},
     "output_type": "display_data"
    },
    {
     "data": {
      "application/javascript": [
       "$('div#cd03291e-3af7-4959-b151-add232c9b082').text('ETA:  0:00:00');"
      ],
      "text/plain": [
       "<IPython.core.display.Javascript at 0x113174090>"
      ]
     },
     "metadata": {},
     "output_type": "display_data"
    },
    {
     "data": {
      "application/javascript": [
       "$('div#9d37b887-fb70-4dc8-8e5c-1e76ab18de6d').text('696/767');"
      ],
      "text/plain": [
       "<IPython.core.display.Javascript at 0x112a486d0>"
      ]
     },
     "metadata": {},
     "output_type": "display_data"
    },
    {
     "data": {
      "application/javascript": [
       "$('div#ab5e3c02-b905-475b-a430-31b97942181f').text(' 90%');"
      ],
      "text/plain": [
       "<IPython.core.display.Javascript at 0x112a48c90>"
      ]
     },
     "metadata": {},
     "output_type": "display_data"
    },
    {
     "data": {
      "application/javascript": [
       "\n",
       "        var $myPB = $(\"div#603dd5d6-0527-48ce-991c-b87add1ee92f\")\n",
       "        if ($myPB.hasClass('ui-progressbar')) {\n",
       "            $myPB.progressbar('value', 696);\n",
       "        } else {\n",
       "            $myPB.progressbar({value: 0, max: 767});\n",
       "        }\n",
       "        "
      ],
      "text/plain": [
       "<IPython.core.display.Javascript at 0x110a0dd90>"
      ]
     },
     "metadata": {},
     "output_type": "display_data"
    },
    {
     "data": {
      "application/javascript": [
       "$('div#cd03291e-3af7-4959-b151-add232c9b082').text('ETA:  0:00:00');"
      ],
      "text/plain": [
       "<IPython.core.display.Javascript at 0x110a0ddd0>"
      ]
     },
     "metadata": {},
     "output_type": "display_data"
    },
    {
     "data": {
      "application/javascript": [
       "$('div#9d37b887-fb70-4dc8-8e5c-1e76ab18de6d').text('704/767');"
      ],
      "text/plain": [
       "<IPython.core.display.Javascript at 0x110a0de10>"
      ]
     },
     "metadata": {},
     "output_type": "display_data"
    },
    {
     "data": {
      "application/javascript": [
       "$('div#ab5e3c02-b905-475b-a430-31b97942181f').text(' 91%');"
      ],
      "text/plain": [
       "<IPython.core.display.Javascript at 0x113157e10>"
      ]
     },
     "metadata": {},
     "output_type": "display_data"
    },
    {
     "data": {
      "application/javascript": [
       "\n",
       "        var $myPB = $(\"div#603dd5d6-0527-48ce-991c-b87add1ee92f\")\n",
       "        if ($myPB.hasClass('ui-progressbar')) {\n",
       "            $myPB.progressbar('value', 704);\n",
       "        } else {\n",
       "            $myPB.progressbar({value: 0, max: 767});\n",
       "        }\n",
       "        "
      ],
      "text/plain": [
       "<IPython.core.display.Javascript at 0x109c50d10>"
      ]
     },
     "metadata": {},
     "output_type": "display_data"
    },
    {
     "data": {
      "application/javascript": [
       "$('div#cd03291e-3af7-4959-b151-add232c9b082').text('ETA:  0:00:00');"
      ],
      "text/plain": [
       "<IPython.core.display.Javascript at 0x109c50b50>"
      ]
     },
     "metadata": {},
     "output_type": "display_data"
    },
    {
     "data": {
      "application/javascript": [
       "$('div#9d37b887-fb70-4dc8-8e5c-1e76ab18de6d').text('712/767');"
      ],
      "text/plain": [
       "<IPython.core.display.Javascript at 0x110a34290>"
      ]
     },
     "metadata": {},
     "output_type": "display_data"
    },
    {
     "data": {
      "application/javascript": [
       "$('div#ab5e3c02-b905-475b-a430-31b97942181f').text(' 92%');"
      ],
      "text/plain": [
       "<IPython.core.display.Javascript at 0x109c50050>"
      ]
     },
     "metadata": {},
     "output_type": "display_data"
    },
    {
     "data": {
      "application/javascript": [
       "\n",
       "        var $myPB = $(\"div#603dd5d6-0527-48ce-991c-b87add1ee92f\")\n",
       "        if ($myPB.hasClass('ui-progressbar')) {\n",
       "            $myPB.progressbar('value', 712);\n",
       "        } else {\n",
       "            $myPB.progressbar({value: 0, max: 767});\n",
       "        }\n",
       "        "
      ],
      "text/plain": [
       "<IPython.core.display.Javascript at 0x109c50b90>"
      ]
     },
     "metadata": {},
     "output_type": "display_data"
    },
    {
     "data": {
      "application/javascript": [
       "$('div#cd03291e-3af7-4959-b151-add232c9b082').text('ETA:  0:00:00');"
      ],
      "text/plain": [
       "<IPython.core.display.Javascript at 0x111203850>"
      ]
     },
     "metadata": {},
     "output_type": "display_data"
    },
    {
     "data": {
      "application/javascript": [
       "$('div#9d37b887-fb70-4dc8-8e5c-1e76ab18de6d').text('720/767');"
      ],
      "text/plain": [
       "<IPython.core.display.Javascript at 0x111e5bd50>"
      ]
     },
     "metadata": {},
     "output_type": "display_data"
    },
    {
     "data": {
      "application/javascript": [
       "$('div#ab5e3c02-b905-475b-a430-31b97942181f').text(' 93%');"
      ],
      "text/plain": [
       "<IPython.core.display.Javascript at 0x109c48610>"
      ]
     },
     "metadata": {},
     "output_type": "display_data"
    },
    {
     "data": {
      "application/javascript": [
       "\n",
       "        var $myPB = $(\"div#603dd5d6-0527-48ce-991c-b87add1ee92f\")\n",
       "        if ($myPB.hasClass('ui-progressbar')) {\n",
       "            $myPB.progressbar('value', 720);\n",
       "        } else {\n",
       "            $myPB.progressbar({value: 0, max: 767});\n",
       "        }\n",
       "        "
      ],
      "text/plain": [
       "<IPython.core.display.Javascript at 0x109c48450>"
      ]
     },
     "metadata": {},
     "output_type": "display_data"
    },
    {
     "data": {
      "application/javascript": [
       "$('div#cd03291e-3af7-4959-b151-add232c9b082').text('ETA:  0:00:00');"
      ],
      "text/plain": [
       "<IPython.core.display.Javascript at 0x111209650>"
      ]
     },
     "metadata": {},
     "output_type": "display_data"
    },
    {
     "data": {
      "application/javascript": [
       "$('div#9d37b887-fb70-4dc8-8e5c-1e76ab18de6d').text('728/767');"
      ],
      "text/plain": [
       "<IPython.core.display.Javascript at 0x111209350>"
      ]
     },
     "metadata": {},
     "output_type": "display_data"
    },
    {
     "data": {
      "application/javascript": [
       "$('div#ab5e3c02-b905-475b-a430-31b97942181f').text(' 94%');"
      ],
      "text/plain": [
       "<IPython.core.display.Javascript at 0x111209690>"
      ]
     },
     "metadata": {},
     "output_type": "display_data"
    },
    {
     "data": {
      "application/javascript": [
       "\n",
       "        var $myPB = $(\"div#603dd5d6-0527-48ce-991c-b87add1ee92f\")\n",
       "        if ($myPB.hasClass('ui-progressbar')) {\n",
       "            $myPB.progressbar('value', 728);\n",
       "        } else {\n",
       "            $myPB.progressbar({value: 0, max: 767});\n",
       "        }\n",
       "        "
      ],
      "text/plain": [
       "<IPython.core.display.Javascript at 0x1112095d0>"
      ]
     },
     "metadata": {},
     "output_type": "display_data"
    },
    {
     "data": {
      "application/javascript": [
       "$('div#cd03291e-3af7-4959-b151-add232c9b082').text('ETA:  0:00:00');"
      ],
      "text/plain": [
       "<IPython.core.display.Javascript at 0x111209610>"
      ]
     },
     "metadata": {},
     "output_type": "display_data"
    },
    {
     "data": {
      "application/javascript": [
       "$('div#9d37b887-fb70-4dc8-8e5c-1e76ab18de6d').text('736/767');"
      ],
      "text/plain": [
       "<IPython.core.display.Javascript at 0x111203850>"
      ]
     },
     "metadata": {},
     "output_type": "display_data"
    },
    {
     "data": {
      "application/javascript": [
       "$('div#ab5e3c02-b905-475b-a430-31b97942181f').text(' 95%');"
      ],
      "text/plain": [
       "<IPython.core.display.Javascript at 0x111e5bd50>"
      ]
     },
     "metadata": {},
     "output_type": "display_data"
    },
    {
     "data": {
      "application/javascript": [
       "\n",
       "        var $myPB = $(\"div#603dd5d6-0527-48ce-991c-b87add1ee92f\")\n",
       "        if ($myPB.hasClass('ui-progressbar')) {\n",
       "            $myPB.progressbar('value', 736);\n",
       "        } else {\n",
       "            $myPB.progressbar({value: 0, max: 767});\n",
       "        }\n",
       "        "
      ],
      "text/plain": [
       "<IPython.core.display.Javascript at 0x110a34290>"
      ]
     },
     "metadata": {},
     "output_type": "display_data"
    },
    {
     "data": {
      "application/javascript": [
       "$('div#cd03291e-3af7-4959-b151-add232c9b082').text('ETA:  0:00:00');"
      ],
      "text/plain": [
       "<IPython.core.display.Javascript at 0x109c48610>"
      ]
     },
     "metadata": {},
     "output_type": "display_data"
    },
    {
     "data": {
      "application/javascript": [
       "$('div#9d37b887-fb70-4dc8-8e5c-1e76ab18de6d').text('744/767');"
      ],
      "text/plain": [
       "<IPython.core.display.Javascript at 0x111e5bd50>"
      ]
     },
     "metadata": {},
     "output_type": "display_data"
    },
    {
     "data": {
      "application/javascript": [
       "$('div#ab5e3c02-b905-475b-a430-31b97942181f').text(' 97%');"
      ],
      "text/plain": [
       "<IPython.core.display.Javascript at 0x110a34290>"
      ]
     },
     "metadata": {},
     "output_type": "display_data"
    },
    {
     "data": {
      "application/javascript": [
       "\n",
       "        var $myPB = $(\"div#603dd5d6-0527-48ce-991c-b87add1ee92f\")\n",
       "        if ($myPB.hasClass('ui-progressbar')) {\n",
       "            $myPB.progressbar('value', 744);\n",
       "        } else {\n",
       "            $myPB.progressbar({value: 0, max: 767});\n",
       "        }\n",
       "        "
      ],
      "text/plain": [
       "<IPython.core.display.Javascript at 0x109c48450>"
      ]
     },
     "metadata": {},
     "output_type": "display_data"
    },
    {
     "data": {
      "application/javascript": [
       "$('div#cd03291e-3af7-4959-b151-add232c9b082').text('ETA:  0:00:00');"
      ],
      "text/plain": [
       "<IPython.core.display.Javascript at 0x109c48610>"
      ]
     },
     "metadata": {},
     "output_type": "display_data"
    },
    {
     "data": {
      "application/javascript": [
       "$('div#9d37b887-fb70-4dc8-8e5c-1e76ab18de6d').text('752/767');"
      ],
      "text/plain": [
       "<IPython.core.display.Javascript at 0x111203850>"
      ]
     },
     "metadata": {},
     "output_type": "display_data"
    },
    {
     "data": {
      "application/javascript": [
       "$('div#ab5e3c02-b905-475b-a430-31b97942181f').text(' 98%');"
      ],
      "text/plain": [
       "<IPython.core.display.Javascript at 0x113157e10>"
      ]
     },
     "metadata": {},
     "output_type": "display_data"
    },
    {
     "data": {
      "application/javascript": [
       "\n",
       "        var $myPB = $(\"div#603dd5d6-0527-48ce-991c-b87add1ee92f\")\n",
       "        if ($myPB.hasClass('ui-progressbar')) {\n",
       "            $myPB.progressbar('value', 752);\n",
       "        } else {\n",
       "            $myPB.progressbar({value: 0, max: 767});\n",
       "        }\n",
       "        "
      ],
      "text/plain": [
       "<IPython.core.display.Javascript at 0x109c50d10>"
      ]
     },
     "metadata": {},
     "output_type": "display_data"
    },
    {
     "data": {
      "application/javascript": [
       "$('div#cd03291e-3af7-4959-b151-add232c9b082').text('ETA:  0:00:00');"
      ],
      "text/plain": [
       "<IPython.core.display.Javascript at 0x109c50b90>"
      ]
     },
     "metadata": {},
     "output_type": "display_data"
    },
    {
     "data": {
      "application/javascript": [
       "$('div#9d37b887-fb70-4dc8-8e5c-1e76ab18de6d').text('760/767');"
      ],
      "text/plain": [
       "<IPython.core.display.Javascript at 0x109c50b50>"
      ]
     },
     "metadata": {},
     "output_type": "display_data"
    },
    {
     "data": {
      "application/javascript": [
       "$('div#ab5e3c02-b905-475b-a430-31b97942181f').text(' 99%');"
      ],
      "text/plain": [
       "<IPython.core.display.Javascript at 0x109c50050>"
      ]
     },
     "metadata": {},
     "output_type": "display_data"
    },
    {
     "data": {
      "application/javascript": [
       "\n",
       "        var $myPB = $(\"div#603dd5d6-0527-48ce-991c-b87add1ee92f\")\n",
       "        if ($myPB.hasClass('ui-progressbar')) {\n",
       "            $myPB.progressbar('value', 760);\n",
       "        } else {\n",
       "            $myPB.progressbar({value: 0, max: 767});\n",
       "        }\n",
       "        "
      ],
      "text/plain": [
       "<IPython.core.display.Javascript at 0x110a0de10>"
      ]
     },
     "metadata": {},
     "output_type": "display_data"
    },
    {
     "data": {
      "application/javascript": [
       "$('div#cd03291e-3af7-4959-b151-add232c9b082').text('ETA:  0:00:00');"
      ],
      "text/plain": [
       "<IPython.core.display.Javascript at 0x110a0dd90>"
      ]
     },
     "metadata": {},
     "output_type": "display_data"
    },
    {
     "data": {
      "application/javascript": [
       "$('div#9d37b887-fb70-4dc8-8e5c-1e76ab18de6d').text('767/767');"
      ],
      "text/plain": [
       "<IPython.core.display.Javascript at 0x110a0ddd0>"
      ]
     },
     "metadata": {},
     "output_type": "display_data"
    },
    {
     "data": {
      "application/javascript": [
       "$('div#ab5e3c02-b905-475b-a430-31b97942181f').text('100%');"
      ],
      "text/plain": [
       "<IPython.core.display.Javascript at 0x112a486d0>"
      ]
     },
     "metadata": {},
     "output_type": "display_data"
    },
    {
     "data": {
      "application/javascript": [
       "\n",
       "        var $myPB = $(\"div#603dd5d6-0527-48ce-991c-b87add1ee92f\")\n",
       "        if ($myPB.hasClass('ui-progressbar')) {\n",
       "            $myPB.progressbar('value', 767);\n",
       "        } else {\n",
       "            $myPB.progressbar({value: 0, max: 767});\n",
       "        }\n",
       "        "
      ],
      "text/plain": [
       "<IPython.core.display.Javascript at 0x112a48c90>"
      ]
     },
     "metadata": {},
     "output_type": "display_data"
    },
    {
     "data": {
      "application/javascript": [
       "$('div#cd03291e-3af7-4959-b151-add232c9b082').text('Time: 0:00:04');"
      ],
      "text/plain": [
       "<IPython.core.display.Javascript at 0x111209750>"
      ]
     },
     "metadata": {},
     "output_type": "display_data"
    },
    {
     "data": {
      "application/javascript": [
       "var element = document.getElementById('a119e2d1-0b65-40f9-816e-ef392630a29c');\n",
       "                    var parent = element.parentNode\n",
       "                    parent.removeChild(element);\n",
       "                    parent.parentElement.remove();"
      ],
      "text/plain": [
       "<IPython.core.display.Javascript at 0x10e5a9050>"
      ]
     },
     "metadata": {},
     "output_type": "display_data"
    },
    {
     "data": {
      "application/javascript": [
       "this.cleanProgressBar(['a119e2d1-0b65-40f9-816e-ef392630a29c', '9d37b887-fb70-4dc8-8e5c-1e76ab18de6d', 'ab5e3c02-b905-475b-a430-31b97942181f', '603dd5d6-0527-48ce-991c-b87add1ee92f', 'cd03291e-3af7-4959-b151-add232c9b082'])"
      ],
      "text/plain": [
       "<IPython.core.display.Javascript at 0x1112095d0>"
      ]
     },
     "metadata": {},
     "output_type": "display_data"
    },
    {
     "name": "stdout",
     "output_type": "stream",
     "text": [
      "True\n"
     ]
    }
   ],
   "source": [
    "from bw2data.io import Ecospold1Importer\n",
    "from bw2data.io.remapping import US_LCI\n",
    "\n",
    "Ecospold1Importer().importer(xml_dir, \"US LCI\", remapping=US_LCI)\n",
    "print \"US LCI\" in databases"
   ]
  },
  {
   "cell_type": "markdown",
   "metadata": {},
   "source": [
    "You can also do the same to import the ecoinvent database. For ecoinvent, no remapping is necessary."
   ]
  },
  {
   "cell_type": "markdown",
   "metadata": {},
   "source": [
    "That's it! You will get your kitten when you execute this cel:"
   ]
  },
  {
   "cell_type": "code",
   "execution_count": 19,
   "metadata": {
    "collapsed": false
   },
   "outputs": [
    {
     "data": {
      "text/html": [
       "<img src=\"http://placekitten.com/205/767/\"/>"
      ],
      "text/plain": [
       "<IPython.core.display.Image at 0x1153f0710>"
      ]
     },
     "execution_count": 19,
     "metadata": {},
     "output_type": "execute_result"
    }
   ],
   "source": [
    "from IPython.display import Image\n",
    "import random\n",
    "dimensions = sorted((int(random.random() * 600 + 200), int(random.random() * 600 + 200)))\n",
    "Image(url=\"http://placekitten.com/{}/{}/\".format(*dimensions))"
   ]
  },
  {
   "cell_type": "code",
   "execution_count": null,
   "metadata": {
    "collapsed": false
   },
   "outputs": [],
   "source": []
  }
 ],
 "metadata": {
  "kernelspec": {
   "display_name": "Python 3",
   "language": "python",
   "name": "python3"
  },
  "language_info": {
   "codemirror_mode": {
    "name": "ipython",
    "version": 3
   },
   "file_extension": ".py",
   "mimetype": "text/x-python",
   "name": "python",
   "nbconvert_exporter": "python",
   "pygments_lexer": "ipython3",
   "version": "3.4.3"
  }
 },
 "nbformat": 4,
 "nbformat_minor": 0
}
