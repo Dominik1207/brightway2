{
 "cells": [
  {
   "cell_type": "code",
   "execution_count": 1,
   "metadata": {
    "collapsed": false
   },
   "outputs": [],
   "source": [
    "from brightway2 import *\n",
    "from bw2io.strategies import *"
   ]
  },
  {
   "cell_type": "code",
   "execution_count": 2,
   "metadata": {
    "collapsed": true
   },
   "outputs": [],
   "source": [
    "projects.current = \"US LCI\""
   ]
  },
  {
   "cell_type": "code",
   "execution_count": 5,
   "metadata": {
    "collapsed": false
   },
   "outputs": [
    {
     "name": "stdout",
     "output_type": "stream",
     "text": [
      "Creating default biosphere\n",
      "\n",
      "Applying strategy: drop_unspecified_subcategories"
     ]
    },
    {
     "name": "stderr",
     "output_type": "stream",
     "text": [
      "Writing activities to SQLite3 database:\n",
      "0%                          100%\n",
      "[##############################] | ETA[sec]: 0.000 \n",
      "Total time elapsed: 0.638 sec\n"
     ]
    },
    {
     "name": "stdout",
     "output_type": "stream",
     "text": [
      "\n",
      "Title: Writing activities to SQLite3 database:\n",
      "  Started: 08/23/2015 09:42:54\n",
      "  Finished: 08/23/2015 09:42:55\n",
      "  Total time elapsed: 0.638 sec\n",
      "  CPU %: 90.900000\n",
      "  Memory %: 1.392651\n",
      "Created database: biosphere3\n",
      "Creating default LCIA methods\n",
      "\n",
      "Applying strategy: set_biosphere_type\n",
      "Applying strategy: drop_unspecified_subcategories\n",
      "Applying strategy: link_iterable_by_fields\n",
      "Wrote 692 LCIA methods with 170915 characterization factors\n",
      "Creating core data migrations\n",
      "\n"
     ]
    }
   ],
   "source": [
    "bw2setup()"
   ]
  },
  {
   "cell_type": "code",
   "execution_count": 3,
   "metadata": {
    "collapsed": false
   },
   "outputs": [
    {
     "name": "stderr",
     "output_type": "stream",
     "text": [
      "Extracting ecospold1 files:\n",
      "0%                          100%\n",
      "[##############################] | ETA[sec]: 0.000 | Item ID: /Users/cmutel/D\n",
      "Total time elapsed: 1.664 sec\n"
     ]
    },
    {
     "name": "stdout",
     "output_type": "stream",
     "text": [
      "Title: Extracting ecospold1 files:\n",
      "  Started: 08/23/2015 10:09:06\n",
      "  Finished: 08/23/2015 10:09:08\n",
      "  Total time elapsed: 1.664 sec\n",
      "  CPU %: 100.200000\n",
      "  Memory %: 1.124382\n",
      "Extracted 700 datasets in 1.67 seconds\n"
     ]
    }
   ],
   "source": [
    "sp = SingleOutputEcospold1Importer(\n",
    "    \"/Users/cmutel/Documents/LCA Documents/US LCI database/2014\", \n",
    "    \"US LCI\"\n",
    ")"
   ]
  },
  {
   "cell_type": "code",
   "execution_count": 4,
   "metadata": {
    "collapsed": false
   },
   "outputs": [
    {
     "name": "stdout",
     "output_type": "stream",
     "text": [
      "Applying strategy: assign_only_product_as_production\n",
      "Applying strategy: clean_integer_codes\n",
      "Applying strategy: drop_unspecified_subcategories\n",
      "Applying strategy: normalize_biosphere_categories\n",
      "Applying strategy: normalize_biosphere_names\n",
      "Applying strategy: strip_biosphere_exc_locations\n",
      "Applying strategy: set_code_by_activity_hash\n",
      "Applying strategy: link_iterable_by_fields\n",
      "Applying strategy: link_technosphere_by_activity_hash\n"
     ]
    }
   ],
   "source": [
    "sp.apply_strategies()"
   ]
  },
  {
   "cell_type": "markdown",
   "metadata": {},
   "source": [
    "The US LCI has \"dummy\" processes - links to activities which are real inputs, but which aren't modeled in the database. We need to add these dummy processes as real activities (even if they don't have any inputs themselves)."
   ]
  },
  {
   "cell_type": "code",
   "execution_count": 5,
   "metadata": {
    "collapsed": false,
    "scrolled": false
   },
   "outputs": [
    {
     "name": "stdout",
     "output_type": "stream",
     "text": [
      "Applying strategy: add_dummy_processes\n"
     ]
    }
   ],
   "source": [
    "sp.apply_strategy(special.add_dummy_processes)"
   ]
  },
  {
   "cell_type": "code",
   "execution_count": 6,
   "metadata": {
    "collapsed": false
   },
   "outputs": [
    {
     "name": "stdout",
     "output_type": "stream",
     "text": [
      "Applying strategy: migrate_datasets\n",
      "Applying strategy: migrate_exchanges\n",
      "Applying strategy: migrate_datasets\n",
      "Applying strategy: migrate_exchanges\n",
      "Applying strategy: migrate_datasets\n",
      "Applying strategy: migrate_exchanges\n"
     ]
    }
   ],
   "source": [
    "sp.migrate(\"biosphere-2-3-names\")\n",
    "sp.migrate(\"biosphere-2-3-categories\")\n",
    "sp.migrate(\"us-lci\")"
   ]
  },
  {
   "cell_type": "markdown",
   "metadata": {},
   "source": [
    "We are now ready to start internally linking the database.\n",
    "\n",
    "We call the `match_database` method with two arguments. The first is `None`, i.e. we are not linking against another database, but only doing internal linking. Because the US LCI doesn't use categories in exchange definitions consistently, we also `ignore_categories`."
   ]
  },
  {
   "cell_type": "code",
   "execution_count": 7,
   "metadata": {
    "collapsed": false
   },
   "outputs": [
    {
     "name": "stdout",
     "output_type": "stream",
     "text": [
      "Applying strategy: link_technosphere_based_on_name_unit_location\n"
     ]
    }
   ],
   "source": [
    "sp.match_database(None, ignore_categories=True)"
   ]
  },
  {
   "cell_type": "markdown",
   "metadata": {},
   "source": [
    "After the above command, you should see an error - it looks like there are two datasets which are the same. Maybe two different versions, or a renaming where both names where published? The only solution is to choose one, and delete or rename the other."
   ]
  },
  {
   "cell_type": "code",
   "execution_count": 18,
   "metadata": {
    "collapsed": false
   },
   "outputs": [
    {
     "name": "stdout",
     "output_type": "stream",
     "text": [
      "Identical for key production amount\n",
      "\n",
      "code\n",
      "9d0df3caf9bc7bb54afb162bd20da096\n",
      "bc7fb2fb585b3565ca215412d8871cd3\n",
      "Identical for key location\n",
      "\n",
      "Identical for key database\n",
      "\n",
      "categories\n",
      "['Crop Production']\n",
      "['Crop Production', 'Other Noncitrus Fruit Farming']\n",
      "Identical for key type\n",
      "\n",
      "Identical for key name\n",
      "\n",
      "Identical for key unit\n",
      "\n",
      "filename\n",
      "/Users/cmutel/Documents/LCA Documents/US LCI database/2014/Fresh fruit bunches.xml\n",
      "/Users/cmutel/Documents/LCA Documents/US LCI database/2014/Harvesting, fresh fruit bunch, at farm.xml\n",
      "comment\n",
      "Assumes amount harvested is directly input to palm kernel production with no losses due to land-applied or animal feed wastes. Complete inventory data and metadata are available in full in the final report and appendices, Cradle-to-Gate Life Cycle Inventory of Nine Plastic Resins and Four Polyurethane Precursors. This report has been extensively reviewed within Franklin Associates and has undergone partial critical review by ACC Plastics Division members and is available at: www.americanchemistry.com. Quantities may vary slightly between the reference to main source and and this module due to rounding.  Important note: although most of the data in the US LCI database has undergone some sort of review, the database as a whole has not yet undergone a formal validation process.  Please email comments to lci@nrel.gov.\n",
      "Includes material and energy requirements and environmental emissions for one kilogram of fresh fruit bunches. \n",
      "Location:  Maylasia\n",
      "Technology:  Harvested by manually cutting from palm trees\n",
      "Production volume:  0\n",
      "Sampling:  Data are from secondary sources.\n",
      " Important note: although most of the data in the US LCI database has  undergone some sort of review, the database as a whole has not yet  undergone a formal validation process. Please email comments to lci@nrel.gov.\n",
      "unspecified\n",
      "Location:  North America (US and Canada)\n",
      "Technology:  Harvesting of palm trees in Malaysia\n",
      "Production volume:  0\n",
      "products\n",
      "[{'loc': 1.0, 'unit': 'kilogram', 'amount': 1.0, 'type': 'production', 'location': 'RNA', 'comment': 'Assumes amount harvested is directly input to palm kernel production with no losses due to land-applied or animal feed wastes.', 'name': 'Harvesting, fresh fruit bunch, at farm', 'categories': (), 'uncertainty type': 0}]\n",
      "[{'loc': 1.0, 'unit': 'kilogram', 'amount': 1.0, 'type': 'production', 'location': 'RNA', 'uncertainty type': 0, 'name': 'Harvesting, fresh fruit bunch, at farm', 'categories': ()}]\n"
     ]
    }
   ],
   "source": [
    "duplicates = [x for x in sp.data if x['name'] == 'Harvesting, fresh fruit bunch, at farm']\n",
    "\n",
    "for key in duplicates[0]:\n",
    "    if key == 'exchanges':\n",
    "        continue\n",
    "    if duplicates[0][key] == duplicates[1][key]:\n",
    "        print(\"Identical for key {}\\n\".format(key))\n",
    "    else:\n",
    "        print(key)\n",
    "        print(duplicates[0][key])\n",
    "        print(duplicates[1][key])"
   ]
  },
  {
   "cell_type": "markdown",
   "metadata": {},
   "source": [
    "We have done the internal linking that we can - now we need to link the biosphere flows. This looks complicated, but is just a fancy way of linking the biosphere flows by their names, units, and categories."
   ]
  },
  {
   "cell_type": "code",
   "execution_count": 8,
   "metadata": {
    "collapsed": false
   },
   "outputs": [
    {
     "name": "stdout",
     "output_type": "stream",
     "text": [
      "Applying strategy: link_iterable_by_fields\n"
     ]
    }
   ],
   "source": [
    "import functools\n",
    "f = functools.partial(link_iterable_by_fields,\n",
    "    other=Database(config.biosphere),\n",
    "    kind='biosphere'\n",
    ")\n",
    "sp.apply_strategy(f)"
   ]
  },
  {
   "cell_type": "markdown",
   "metadata": {},
   "source": [
    "Let's see how far we have got:"
   ]
  },
  {
   "cell_type": "code",
   "execution_count": 9,
   "metadata": {
    "collapsed": false
   },
   "outputs": [
    {
     "name": "stdout",
     "output_type": "stream",
     "text": [
      "957 datasets\n",
      "31015 exchanges\n",
      "11151 unlinked exchanges\n",
      "  Type biosphere: 1233 unique unlinked exchanges\n",
      "  Type production: 281 unique unlinked exchanges\n",
      "  Type substitution: 1 unique unlinked exchanges\n",
      "  Type technosphere: 508 unique unlinked exchanges\n"
     ]
    },
    {
     "data": {
      "text/plain": [
       "(957, 31015, 11151)"
      ]
     },
     "execution_count": 9,
     "metadata": {},
     "output_type": "execute_result"
    }
   ],
   "source": [
    "sp.statistics()"
   ]
  },
  {
   "cell_type": "markdown",
   "metadata": {},
   "source": [
    "Not great. Let's export lists of what we have, and what we can link:"
   ]
  },
  {
   "cell_type": "code",
   "execution_count": 11,
   "metadata": {
    "collapsed": false
   },
   "outputs": [
    {
     "name": "stdout",
     "output_type": "stream",
     "text": [
      "Wrote matching file to:\n",
      "/Users/cmutel/Library/Application Support/Brightway3/US-LCI.dc95923157ce5b74345603ecff24cb4d/export/db-matching-US-LCI-unlinked.xlsx\n"
     ]
    }
   ],
   "source": [
    "sp.write_excel(only_unlinked=True)"
   ]
  },
  {
   "cell_type": "code",
   "execution_count": 12,
   "metadata": {
    "collapsed": false
   },
   "outputs": [
    {
     "name": "stdout",
     "output_type": "stream",
     "text": [
      "Wrote matching file to:\n",
      "/Users/cmutel/Library/Application Support/Brightway3/US-LCI.dc95923157ce5b74345603ecff24cb4d/export/db-matching-US-LCI-names.xlsx\n"
     ]
    }
   ],
   "source": [
    "sp.write_excel(only_names=True)"
   ]
  },
  {
   "cell_type": "code",
   "execution_count": 13,
   "metadata": {
    "collapsed": false
   },
   "outputs": [
    {
     "name": "stdout",
     "output_type": "stream",
     "text": [
      "Wrote matching file to:\n",
      "/Users/cmutel/Library/Application Support/Brightway3/US-LCI.dc95923157ce5b74345603ecff24cb4d/export/db-matching-US-LCI.xlsx\n"
     ]
    }
   ],
   "source": [
    "sp.write_excel()"
   ]
  },
  {
   "cell_type": "code",
   "execution_count": null,
   "metadata": {
    "collapsed": true
   },
   "outputs": [],
   "source": []
  }
 ],
 "metadata": {
  "kernelspec": {
   "display_name": "Python 3",
   "language": "python",
   "name": "python3"
  },
  "language_info": {
   "codemirror_mode": {
    "name": "ipython",
    "version": 3
   },
   "file_extension": ".py",
   "mimetype": "text/x-python",
   "name": "python",
   "nbconvert_exporter": "python",
   "pygments_lexer": "ipython3",
   "version": "3.4.3"
  }
 },
 "nbformat": 4,
 "nbformat_minor": 0
}
